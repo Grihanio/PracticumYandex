{
 "cells": [
  {
   "cell_type": "markdown",
   "metadata": {},
   "source": [
    "# Исследование закономерностей, определяющих успешность видеоигры. \n",
    "\n",
    "Определение потенциально популярных продуктов и их характеристик в видеоигровой индустрии для планирования рекламных компаний интернет магазина \"Стримчик\"."
   ]
  },
  {
   "cell_type": "markdown",
   "metadata": {},
   "source": [
    "## Открытие файла с данными и получение первостепенной информации"
   ]
  },
  {
   "cell_type": "markdown",
   "metadata": {},
   "source": [
    "**1.1 Импорт библиотеки, открытие файла**"
   ]
  },
  {
   "cell_type": "code",
   "execution_count": 1,
   "metadata": {},
   "outputs": [],
   "source": [
    "import pandas as pd\n",
    "import seaborn as sns\n",
    "from scipy import stats as st\n",
    "import numpy as np\n",
    "import matplotlib.pyplot as plt"
   ]
  },
  {
   "cell_type": "code",
   "execution_count": 2,
   "metadata": {},
   "outputs": [],
   "source": [
    "try:\n",
    "    data = pd.read_csv('/datasets/games.csv')\n",
    "except:\n",
    "    print('Проверьте путь к файлу')"
   ]
  },
  {
   "cell_type": "markdown",
   "metadata": {},
   "source": [
    "**1.2 Вывод первых пяти строк**"
   ]
  },
  {
   "cell_type": "code",
   "execution_count": 3,
   "metadata": {},
   "outputs": [
    {
     "data": {
      "text/html": [
       "<div>\n",
       "<style scoped>\n",
       "    .dataframe tbody tr th:only-of-type {\n",
       "        vertical-align: middle;\n",
       "    }\n",
       "\n",
       "    .dataframe tbody tr th {\n",
       "        vertical-align: top;\n",
       "    }\n",
       "\n",
       "    .dataframe thead th {\n",
       "        text-align: right;\n",
       "    }\n",
       "</style>\n",
       "<table border=\"1\" class=\"dataframe\">\n",
       "  <thead>\n",
       "    <tr style=\"text-align: right;\">\n",
       "      <th></th>\n",
       "      <th>Name</th>\n",
       "      <th>Platform</th>\n",
       "      <th>Year_of_Release</th>\n",
       "      <th>Genre</th>\n",
       "      <th>NA_sales</th>\n",
       "      <th>EU_sales</th>\n",
       "      <th>JP_sales</th>\n",
       "      <th>Other_sales</th>\n",
       "      <th>Critic_Score</th>\n",
       "      <th>User_Score</th>\n",
       "      <th>Rating</th>\n",
       "    </tr>\n",
       "  </thead>\n",
       "  <tbody>\n",
       "    <tr>\n",
       "      <th>0</th>\n",
       "      <td>Wii Sports</td>\n",
       "      <td>Wii</td>\n",
       "      <td>2006.0</td>\n",
       "      <td>Sports</td>\n",
       "      <td>41.36</td>\n",
       "      <td>28.96</td>\n",
       "      <td>3.77</td>\n",
       "      <td>8.45</td>\n",
       "      <td>76.0</td>\n",
       "      <td>8</td>\n",
       "      <td>E</td>\n",
       "    </tr>\n",
       "    <tr>\n",
       "      <th>1</th>\n",
       "      <td>Super Mario Bros.</td>\n",
       "      <td>NES</td>\n",
       "      <td>1985.0</td>\n",
       "      <td>Platform</td>\n",
       "      <td>29.08</td>\n",
       "      <td>3.58</td>\n",
       "      <td>6.81</td>\n",
       "      <td>0.77</td>\n",
       "      <td>NaN</td>\n",
       "      <td>NaN</td>\n",
       "      <td>NaN</td>\n",
       "    </tr>\n",
       "    <tr>\n",
       "      <th>2</th>\n",
       "      <td>Mario Kart Wii</td>\n",
       "      <td>Wii</td>\n",
       "      <td>2008.0</td>\n",
       "      <td>Racing</td>\n",
       "      <td>15.68</td>\n",
       "      <td>12.76</td>\n",
       "      <td>3.79</td>\n",
       "      <td>3.29</td>\n",
       "      <td>82.0</td>\n",
       "      <td>8.3</td>\n",
       "      <td>E</td>\n",
       "    </tr>\n",
       "    <tr>\n",
       "      <th>3</th>\n",
       "      <td>Wii Sports Resort</td>\n",
       "      <td>Wii</td>\n",
       "      <td>2009.0</td>\n",
       "      <td>Sports</td>\n",
       "      <td>15.61</td>\n",
       "      <td>10.93</td>\n",
       "      <td>3.28</td>\n",
       "      <td>2.95</td>\n",
       "      <td>80.0</td>\n",
       "      <td>8</td>\n",
       "      <td>E</td>\n",
       "    </tr>\n",
       "    <tr>\n",
       "      <th>4</th>\n",
       "      <td>Pokemon Red/Pokemon Blue</td>\n",
       "      <td>GB</td>\n",
       "      <td>1996.0</td>\n",
       "      <td>Role-Playing</td>\n",
       "      <td>11.27</td>\n",
       "      <td>8.89</td>\n",
       "      <td>10.22</td>\n",
       "      <td>1.00</td>\n",
       "      <td>NaN</td>\n",
       "      <td>NaN</td>\n",
       "      <td>NaN</td>\n",
       "    </tr>\n",
       "  </tbody>\n",
       "</table>\n",
       "</div>"
      ],
      "text/plain": [
       "                       Name Platform  Year_of_Release         Genre  NA_sales  \\\n",
       "0                Wii Sports      Wii           2006.0        Sports     41.36   \n",
       "1         Super Mario Bros.      NES           1985.0      Platform     29.08   \n",
       "2            Mario Kart Wii      Wii           2008.0        Racing     15.68   \n",
       "3         Wii Sports Resort      Wii           2009.0        Sports     15.61   \n",
       "4  Pokemon Red/Pokemon Blue       GB           1996.0  Role-Playing     11.27   \n",
       "\n",
       "   EU_sales  JP_sales  Other_sales  Critic_Score User_Score Rating  \n",
       "0     28.96      3.77         8.45          76.0          8      E  \n",
       "1      3.58      6.81         0.77           NaN        NaN    NaN  \n",
       "2     12.76      3.79         3.29          82.0        8.3      E  \n",
       "3     10.93      3.28         2.95          80.0          8      E  \n",
       "4      8.89     10.22         1.00           NaN        NaN    NaN  "
      ]
     },
     "execution_count": 3,
     "metadata": {},
     "output_type": "execute_result"
    }
   ],
   "source": [
    "data.head()"
   ]
  },
  {
   "cell_type": "markdown",
   "metadata": {},
   "source": [
    "**1.3 Вывод общей информации о DataFrame**"
   ]
  },
  {
   "cell_type": "code",
   "execution_count": 4,
   "metadata": {},
   "outputs": [
    {
     "name": "stdout",
     "output_type": "stream",
     "text": [
      "<class 'pandas.core.frame.DataFrame'>\n",
      "RangeIndex: 16715 entries, 0 to 16714\n",
      "Data columns (total 11 columns):\n",
      " #   Column           Non-Null Count  Dtype  \n",
      "---  ------           --------------  -----  \n",
      " 0   Name             16713 non-null  object \n",
      " 1   Platform         16715 non-null  object \n",
      " 2   Year_of_Release  16446 non-null  float64\n",
      " 3   Genre            16713 non-null  object \n",
      " 4   NA_sales         16715 non-null  float64\n",
      " 5   EU_sales         16715 non-null  float64\n",
      " 6   JP_sales         16715 non-null  float64\n",
      " 7   Other_sales      16715 non-null  float64\n",
      " 8   Critic_Score     8137 non-null   float64\n",
      " 9   User_Score       10014 non-null  object \n",
      " 10  Rating           9949 non-null   object \n",
      "dtypes: float64(6), object(5)\n",
      "memory usage: 1.4+ MB\n"
     ]
    }
   ],
   "source": [
    "data.info()"
   ]
  },
  {
   "cell_type": "markdown",
   "metadata": {},
   "source": [
    "**1.4 Проверка на дубликаты**"
   ]
  },
  {
   "cell_type": "code",
   "execution_count": 5,
   "metadata": {},
   "outputs": [
    {
     "data": {
      "text/plain": [
       "0"
      ]
     },
     "execution_count": 5,
     "metadata": {},
     "output_type": "execute_result"
    }
   ],
   "source": [
    "data.duplicated().sum()"
   ]
  },
  {
   "cell_type": "markdown",
   "metadata": {},
   "source": [
    "Полных дубликатов не обнаружено."
   ]
  },
  {
   "cell_type": "code",
   "execution_count": 6,
   "metadata": {},
   "outputs": [
    {
     "name": "stdout",
     "output_type": "stream",
     "text": [
      "True\n"
     ]
    }
   ],
   "source": [
    "try:\n",
    "    print(len(data['Name'].unique()) == len(data.Name.str.lower().unique()))\n",
    "except:\n",
    "    print(len(data['name'].unique()) == len(data.name.str.lower().unique()))"
   ]
  },
  {
   "cell_type": "markdown",
   "metadata": {},
   "source": [
    "Это говорит об отсутствии одинаковых названий с различным регистром."
   ]
  },
  {
   "cell_type": "markdown",
   "metadata": {},
   "source": [
    "## Предобработка данных"
   ]
  },
  {
   "cell_type": "markdown",
   "metadata": {},
   "source": [
    "**2.1 Замена названий столбцов**"
   ]
  },
  {
   "cell_type": "code",
   "execution_count": 7,
   "metadata": {},
   "outputs": [],
   "source": [
    "data.columns = [x.lower() for x in data.columns]\n",
    "#привели названия к нижнеиу регистру"
   ]
  },
  {
   "cell_type": "markdown",
   "metadata": {},
   "source": [
    "**2.2 Изменение типов данных столбцов** <br>\n",
    "\n",
    "Столбцы с типом данных, не соответсвующие содержащимся в них данных: <br>\n",
    "- **year_of_release** имеет формат float64 при целочисленных значениях лет\n",
    "- **critic_score** имеет формат float64 при целочисленных значениях оценок критиков\n",
    "- **user_score** имеет формат object при действительных значениях оценок игроков\n",
    "\n",
    "Исправить типы данных первых двух столбцов неовзможно из-за большого количества пропусков Nan, которые имеют тип float64. Что касается столбца **user_score**, в нём помимо чисел содержится значение tbd (будет определено позже), имеющее тип object. Так как это значение неизвестно, его можно заменить на Nan и сменить тип данных столбца на float64."
   ]
  },
  {
   "cell_type": "code",
   "execution_count": 8,
   "metadata": {},
   "outputs": [],
   "source": [
    "data.loc[data['user_score'] == 'tbd', 'user_score'] = float('nan')"
   ]
  },
  {
   "cell_type": "code",
   "execution_count": 9,
   "metadata": {},
   "outputs": [
    {
     "data": {
      "text/plain": [
       "array(['8', nan, '8.3', '8.5', '6.6', '8.4', '8.6', '7.7', '6.3', '7.4',\n",
       "       '8.2', '9', '7.9', '8.1', '8.7', '7.1', '3.4', '5.3', '4.8', '3.2',\n",
       "       '8.9', '6.4', '7.8', '7.5', '2.6', '7.2', '9.2', '7', '7.3', '4.3',\n",
       "       '7.6', '5.7', '5', '9.1', '6.5', '8.8', '6.9', '9.4', '6.8', '6.1',\n",
       "       '6.7', '5.4', '4', '4.9', '4.5', '9.3', '6.2', '4.2', '6', '3.7',\n",
       "       '4.1', '5.8', '5.6', '5.5', '4.4', '4.6', '5.9', '3.9', '3.1',\n",
       "       '2.9', '5.2', '3.3', '4.7', '5.1', '3.5', '2.5', '1.9', '3', '2.7',\n",
       "       '2.2', '2', '9.5', '2.1', '3.6', '2.8', '1.8', '3.8', '0', '1.6',\n",
       "       '9.6', '2.4', '1.7', '1.1', '0.3', '1.5', '0.7', '1.2', '2.3',\n",
       "       '0.5', '1.3', '0.2', '0.6', '1.4', '0.9', '1', '9.7'], dtype=object)"
      ]
     },
     "execution_count": 9,
     "metadata": {},
     "output_type": "execute_result"
    }
   ],
   "source": [
    "data['user_score'].unique()"
   ]
  },
  {
   "cell_type": "code",
   "execution_count": 10,
   "metadata": {},
   "outputs": [],
   "source": [
    "data['user_score'] = data['user_score'].astype(float)"
   ]
  },
  {
   "cell_type": "markdown",
   "metadata": {},
   "source": [
    "**2.3 Добавление столбца с числом общих продаж**"
   ]
  },
  {
   "cell_type": "code",
   "execution_count": 11,
   "metadata": {},
   "outputs": [],
   "source": [
    "data['all_sales']=data[['na_sales','eu_sales','jp_sales', 'other_sales']].sum(axis = 1)"
   ]
  },
  {
   "cell_type": "markdown",
   "metadata": {},
   "source": [
    "**2.4 Обработка пропусков**"
   ]
  },
  {
   "cell_type": "code",
   "execution_count": 12,
   "metadata": {},
   "outputs": [
    {
     "data": {
      "text/plain": [
       "name                  2\n",
       "platform              0\n",
       "year_of_release     269\n",
       "genre                 2\n",
       "na_sales              0\n",
       "eu_sales              0\n",
       "jp_sales              0\n",
       "other_sales           0\n",
       "critic_score       8578\n",
       "user_score         9125\n",
       "rating             6766\n",
       "all_sales             0\n",
       "dtype: int64"
      ]
     },
     "execution_count": 12,
     "metadata": {},
     "output_type": "execute_result"
    }
   ],
   "source": [
    "data.isna().sum()"
   ]
  },
  {
   "cell_type": "markdown",
   "metadata": {},
   "source": [
    "Пропуски в данных могут возникать в следствии ошибок кодировки файла; отсутствия данных как таковых на данный момент времени; человеческий фактор. <br>\n",
    "\n",
    "Заполнить данные в столбцах **name**, **rating** не представляется возможным; <br>\n",
    "Оценки критиков и игроков хоть и не возможно предугадать для определённого продукта, так как она зависит от качества самого продукта и временной период выпуска в мир. Так же невозможно оценить их исходя из количества продаж по всему миру, так как оценки качества игры и количество продаж не зависят друг от друга, а сами продажи зависят от множества других факторов.\n"
   ]
  },
  {
   "cell_type": "code",
   "execution_count": 13,
   "metadata": {},
   "outputs": [
    {
     "data": {
      "text/plain": [
       "name                  0\n",
       "platform              0\n",
       "year_of_release       0\n",
       "genre                 0\n",
       "na_sales              0\n",
       "eu_sales              0\n",
       "jp_sales              0\n",
       "other_sales           0\n",
       "critic_score       8461\n",
       "user_score         8981\n",
       "rating             6676\n",
       "all_sales             0\n",
       "dtype: int64"
      ]
     },
     "execution_count": 13,
     "metadata": {},
     "output_type": "execute_result"
    }
   ],
   "source": [
    "data = data.loc[~data['year_of_release'].isna()]\n",
    "data = data.loc[~data['genre'].isna()]\n",
    "data = data.loc[~data['name'].isna()]\n",
    "data.isna().sum()"
   ]
  },
  {
   "cell_type": "code",
   "execution_count": 14,
   "metadata": {},
   "outputs": [],
   "source": [
    "data['year_of_release'] = data['year_of_release'].astype(int)"
   ]
  },
  {
   "cell_type": "markdown",
   "metadata": {},
   "source": [
    "Выясним количество различных рейтингов игр и очистим данные от пренебрежимо малых значений."
   ]
  },
  {
   "cell_type": "code",
   "execution_count": 15,
   "metadata": {},
   "outputs": [
    {
     "data": {
      "text/plain": [
       "rating\n",
       "AO         1\n",
       "E       3921\n",
       "E10+    1393\n",
       "EC         8\n",
       "K-A        3\n",
       "M       1536\n",
       "RP         1\n",
       "T       2905\n",
       "Name: name, dtype: int64"
      ]
     },
     "execution_count": 15,
     "metadata": {},
     "output_type": "execute_result"
    }
   ],
   "source": [
    "data.groupby('rating')['name'].count()"
   ]
  },
  {
   "cell_type": "code",
   "execution_count": 16,
   "metadata": {},
   "outputs": [
    {
     "data": {
      "text/plain": [
       "rating\n",
       "E       3921\n",
       "E10+    1393\n",
       "M       1536\n",
       "T       2905\n",
       "Name: name, dtype: int64"
      ]
     },
     "execution_count": 16,
     "metadata": {},
     "output_type": "execute_result"
    }
   ],
   "source": [
    "data = data.query('rating != (\"AO\", \"EC\", \"K-A\", \"RP\")')\n",
    "data.groupby('rating')['name'].count()"
   ]
  },
  {
   "cell_type": "markdown",
   "metadata": {},
   "source": [
    "Выясним зависимость продаж от оценки игроков и критиков.\n"
   ]
  },
  {
   "cell_type": "code",
   "execution_count": 17,
   "metadata": {},
   "outputs": [
    {
     "data": {
      "text/plain": [
       "Text(0, 0.5, 'Продажи млн. копий')"
      ]
     },
     "execution_count": 17,
     "metadata": {},
     "output_type": "execute_result"
    },
    {
     "data": {
      "image/png": "[encoded data removed]",
      "text/plain": [
       "<Figure size 432x288 with 1 Axes>"
      ]
     },
     "metadata": {
      "needs_background": "light"
     },
     "output_type": "display_data"
    },
    {
     "data": {
      "image/png": "[encoded data removed]",
      "text/plain": [
       "<Figure size 432x288 with 1 Axes>"
      ]
     },
     "metadata": {
      "needs_background": "light"
     },
     "output_type": "display_data"
    }
   ],
   "source": [
    "data.plot(kind='scatter', x='user_score', y='all_sales', grid=True, alpha=0.3).set_title('Корреляция оценки и продаж');\n",
    "plt.xlabel('Оценка пользователей')\n",
    "plt.ylabel('Продажи млн. копий')\n",
    "data.plot(kind='scatter', x='critic_score', y='all_sales', grid=True, alpha=0.3).set_title('Корреляция оценки и продаж');\n",
    "plt.xlabel('Оценка критиков')\n",
    "plt.ylabel('Продажи млн. копий')"
   ]
  },
  {
   "cell_type": "markdown",
   "metadata": {},
   "source": [
    "По графику видно, что хоть с увеличением оценки количество продаж может расти, но плотность количества оценок на низком уровне продаж так же высока, как и на больших продажах, что говорит об очень малой корреляции."
   ]
  },
  {
   "cell_type": "code",
   "execution_count": 18,
   "metadata": {},
   "outputs": [
    {
     "name": "stdout",
     "output_type": "stream",
     "text": [
      "Уровень корреляции - 0.08778623289601402\n"
     ]
    }
   ],
   "source": [
    "print('Уровень корреляции -', data['user_score'].corr(data['all_sales']))"
   ]
  },
  {
   "cell_type": "markdown",
   "metadata": {},
   "source": [
    "***Что и требовалось доказать***"
   ]
  },
  {
   "cell_type": "markdown",
   "metadata": {},
   "source": [
    "## Исследовательский анализ данных"
   ]
  },
  {
   "cell_type": "markdown",
   "metadata": {},
   "source": [
    "**3.1 Подсчёт выпуска игр в разные годы**"
   ]
  },
  {
   "cell_type": "code",
   "execution_count": 19,
   "metadata": {},
   "outputs": [
    {
     "data": {
      "image/png": "[encoded data removed]",
      "text/plain": [
       "<Figure size 432x288 with 1 Axes>"
      ]
     },
     "metadata": {
      "needs_background": "light"
     },
     "output_type": "display_data"
    }
   ],
   "source": [
    "data.pivot_table(index='year_of_release', values='name', aggfunc='count').plot(kind='bar').set_title('Количество игр в год');\n",
    "plt.xlabel('Год выпуска');\n",
    "plt.ylabel('Количество игр');"
   ]
  },
  {
   "cell_type": "code",
   "execution_count": 20,
   "metadata": {},
   "outputs": [],
   "source": [
    "data = data.query('year_of_release > 1994')"
   ]
  },
  {
   "cell_type": "markdown",
   "metadata": {},
   "source": [
    "**3.2 Наибольшие продажи по платформам**"
   ]
  },
  {
   "cell_type": "code",
   "execution_count": 21,
   "metadata": {},
   "outputs": [
    {
     "data": {
      "text/plain": [
       "platform\n",
       "PS2     1233.32\n",
       "X360     961.24\n",
       "PS3      931.34\n",
       "Wii      890.52\n",
       "DS       802.11\n",
       "PS       719.64\n",
       "PS4      314.14\n",
       "GBA      312.88\n",
       "PSP      289.53\n",
       "3DS      257.81\n",
       "Name: all_sales, dtype: float64"
      ]
     },
     "execution_count": 21,
     "metadata": {},
     "output_type": "execute_result"
    }
   ],
   "source": [
    "data.groupby('platform')['all_sales'].sum().sort_values(ascending=False).head(10)"
   ]
  },
  {
   "cell_type": "markdown",
   "metadata": {},
   "source": [
    "Построим распределение по годам среди платформ с самыми большими продажами."
   ]
  },
  {
   "cell_type": "code",
   "execution_count": 22,
   "metadata": {},
   "outputs": [
    {
     "data": {
      "image/png": "[encoded data removed]",
      "text/plain": [
       "<Figure size 432x288 with 1 Axes>"
      ]
     },
     "metadata": {
      "needs_background": "light"
     },
     "output_type": "display_data"
    },
    {
     "data": {
      "image/png": "[encoded data removed]",
      "text/plain": [
       "<Figure size 432x288 with 1 Axes>"
      ]
     },
     "metadata": {
      "needs_background": "light"
     },
     "output_type": "display_data"
    },
    {
     "data": {
      "image/png": "[encoded data removed]",
      "text/plain": [
       "<Figure size 432x288 with 1 Axes>"
      ]
     },
     "metadata": {
      "needs_background": "light"
     },
     "output_type": "display_data"
    },
    {
     "data": {
      "image/png": "[encoded data removed]",
      "text/plain": [
       "<Figure size 432x288 with 1 Axes>"
      ]
     },
     "metadata": {
      "needs_background": "light"
     },
     "output_type": "display_data"
    },
    {
     "data": {
      "image/png": "[encoded data removed]",
      "text/plain": [
       "<Figure size 432x288 with 1 Axes>"
      ]
     },
     "metadata": {
      "needs_background": "light"
     },
     "output_type": "display_data"
    },
    {
     "data": {
      "image/png": "[encoded data removed]",
      "text/plain": [
       "<Figure size 432x288 with 1 Axes>"
      ]
     },
     "metadata": {
      "needs_background": "light"
     },
     "output_type": "display_data"
    },
    {
     "data": {
      "image/png": "[encoded data removed]",
      "text/plain": [
       "<Figure size 432x288 with 1 Axes>"
      ]
     },
     "metadata": {
      "needs_background": "light"
     },
     "output_type": "display_data"
    },
    {
     "data": {
      "image/png": "[encoded data removed]",
      "text/plain": [
       "<Figure size 432x288 with 1 Axes>"
      ]
     },
     "metadata": {
      "needs_background": "light"
     },
     "output_type": "display_data"
    },
    {
     "data": {
      "image/png": "[encoded data removed]",
      "text/plain": [
       "<Figure size 432x288 with 1 Axes>"
      ]
     },
     "metadata": {
      "needs_background": "light"
     },
     "output_type": "display_data"
    },
    {
     "data": {
      "image/png": "[encoded data removed]",
      "text/plain": [
       "<Figure size 432x288 with 1 Axes>"
      ]
     },
     "metadata": {
      "needs_background": "light"
     },
     "output_type": "display_data"
    }
   ],
   "source": [
    "platform = ['PS2', 'X360', 'PS3', 'Wii', 'DS', 'PS', 'PS4', 'GBA', 'PSP', '3DS']\n",
    "for i in platform:\n",
    "    data[data['platform'] == i].pivot_table(index='year_of_release', values='all_sales', aggfunc='sum').plot(kind='bar', title=i)\n",
    "    plt.xlabel('Годы')\n",
    "    plt.ylabel('Количество продаж млн.')"
   ]
  },
  {
   "cell_type": "markdown",
   "metadata": {},
   "source": [
    "Как видно из графиков, среднее время жизни платформы около десяти лет, а зарождение нового поколения консоли происходит за пару лет до смерти предыдущего."
   ]
  },
  {
   "cell_type": "markdown",
   "metadata": {},
   "source": [
    "**3.3 Возьмём данные за актуальный период времени**"
   ]
  },
  {
   "cell_type": "code",
   "execution_count": 23,
   "metadata": {},
   "outputs": [],
   "source": [
    "data = data.query('year_of_release > 2012')"
   ]
  },
  {
   "cell_type": "markdown",
   "metadata": {},
   "source": [
    "**3.4 Определим прибыльность, рост и падение платформ**"
   ]
  },
  {
   "cell_type": "code",
   "execution_count": 24,
   "metadata": {},
   "outputs": [
    {
     "data": {
      "text/html": [
       "<div>\n",
       "<style scoped>\n",
       "    .dataframe tbody tr th:only-of-type {\n",
       "        vertical-align: middle;\n",
       "    }\n",
       "\n",
       "    .dataframe tbody tr th {\n",
       "        vertical-align: top;\n",
       "    }\n",
       "\n",
       "    .dataframe thead th {\n",
       "        text-align: right;\n",
       "    }\n",
       "</style>\n",
       "<table border=\"1\" class=\"dataframe\">\n",
       "  <thead>\n",
       "    <tr style=\"text-align: right;\">\n",
       "      <th></th>\n",
       "      <th>all_sales</th>\n",
       "    </tr>\n",
       "    <tr>\n",
       "      <th>platform</th>\n",
       "      <th></th>\n",
       "    </tr>\n",
       "  </thead>\n",
       "  <tbody>\n",
       "    <tr>\n",
       "      <th>PS4</th>\n",
       "      <td>314.14</td>\n",
       "    </tr>\n",
       "    <tr>\n",
       "      <th>PS3</th>\n",
       "      <td>181.43</td>\n",
       "    </tr>\n",
       "    <tr>\n",
       "      <th>XOne</th>\n",
       "      <td>159.32</td>\n",
       "    </tr>\n",
       "    <tr>\n",
       "      <th>3DS</th>\n",
       "      <td>143.25</td>\n",
       "    </tr>\n",
       "    <tr>\n",
       "      <th>X360</th>\n",
       "      <td>136.80</td>\n",
       "    </tr>\n",
       "    <tr>\n",
       "      <th>WiiU</th>\n",
       "      <td>64.63</td>\n",
       "    </tr>\n",
       "    <tr>\n",
       "      <th>PC</th>\n",
       "      <td>39.43</td>\n",
       "    </tr>\n",
       "    <tr>\n",
       "      <th>PSV</th>\n",
       "      <td>32.99</td>\n",
       "    </tr>\n",
       "    <tr>\n",
       "      <th>Wii</th>\n",
       "      <td>13.66</td>\n",
       "    </tr>\n",
       "    <tr>\n",
       "      <th>PSP</th>\n",
       "      <td>3.50</td>\n",
       "    </tr>\n",
       "    <tr>\n",
       "      <th>DS</th>\n",
       "      <td>1.54</td>\n",
       "    </tr>\n",
       "  </tbody>\n",
       "</table>\n",
       "</div>"
      ],
      "text/plain": [
       "          all_sales\n",
       "platform           \n",
       "PS4          314.14\n",
       "PS3          181.43\n",
       "XOne         159.32\n",
       "3DS          143.25\n",
       "X360         136.80\n",
       "WiiU          64.63\n",
       "PC            39.43\n",
       "PSV           32.99\n",
       "Wii           13.66\n",
       "PSP            3.50\n",
       "DS             1.54"
      ]
     },
     "execution_count": 24,
     "metadata": {},
     "output_type": "execute_result"
    }
   ],
   "source": [
    "data.groupby('platform')['all_sales'].sum().sort_values(ascending=False).to_frame()"
   ]
  },
  {
   "cell_type": "markdown",
   "metadata": {},
   "source": [
    "Самые большие продажи приходятся на консоли нового поколения, которые на момент сбора данных уже начали опережать предыдущие поколения (за исключением PS3, которая всё ещё востребована). <br>\n",
    "Исходя из графиков предыдущего пункта можно определить, что такие платформы, как: PS2, Wii, DS, GBA, PSP, XB на момент сбора информации практически умерли и уже не получают крупные прибыли. А из тех, кто попал по прибыльности в топ десять платформ, это: PS4, PS3, XOne - что говорит об их перспективности. <br>\n",
    "Для большей точности узнаем, на каких платформах и сколько выходит игр в год."
   ]
  },
  {
   "cell_type": "code",
   "execution_count": 25,
   "metadata": {},
   "outputs": [
    {
     "data": {
      "image/png": "[encoded data removed]",
      "text/plain": [
       "<Figure size 432x288 with 1 Axes>"
      ]
     },
     "metadata": {
      "needs_background": "light"
     },
     "output_type": "display_data"
    },
    {
     "data": {
      "image/png": "[encoded data removed]",
      "text/plain": [
       "<Figure size 432x288 with 1 Axes>"
      ]
     },
     "metadata": {
      "needs_background": "light"
     },
     "output_type": "display_data"
    },
    {
     "data": {
      "image/png": "[encoded data removed]",
      "text/plain": [
       "<Figure size 432x288 with 1 Axes>"
      ]
     },
     "metadata": {
      "needs_background": "light"
     },
     "output_type": "display_data"
    },
    {
     "data": {
      "image/png": "[encoded data removed]",
      "text/plain": [
       "<Figure size 432x288 with 1 Axes>"
      ]
     },
     "metadata": {
      "needs_background": "light"
     },
     "output_type": "display_data"
    },
    {
     "data": {
      "image/png": "[encoded data removed]",
      "text/plain": [
       "<Figure size 432x288 with 1 Axes>"
      ]
     },
     "metadata": {
      "needs_background": "light"
     },
     "output_type": "display_data"
    },
    {
     "data": {
      "image/png": "[encoded data removed]",
      "text/plain": [
       "<Figure size 432x288 with 1 Axes>"
      ]
     },
     "metadata": {
      "needs_background": "light"
     },
     "output_type": "display_data"
    },
    {
     "data": {
      "image/png": "[encoded data removed]",
      "text/plain": [
       "<Figure size 432x288 with 1 Axes>"
      ]
     },
     "metadata": {
      "needs_background": "light"
     },
     "output_type": "display_data"
    },
    {
     "data": {
      "image/png": "[encoded data removed]",
      "text/plain": [
       "<Figure size 432x288 with 1 Axes>"
      ]
     },
     "metadata": {
      "needs_background": "light"
     },
     "output_type": "display_data"
    },
    {
     "data": {
      "image/png": "[encoded data removed]",
      "text/plain": [
       "<Figure size 432x288 with 1 Axes>"
      ]
     },
     "metadata": {
      "needs_background": "light"
     },
     "output_type": "display_data"
    },
    {
     "data": {
      "image/png": "[encoded data removed]",
      "text/plain": [
       "<Figure size 432x288 with 1 Axes>"
      ]
     },
     "metadata": {
      "needs_background": "light"
     },
     "output_type": "display_data"
    },
    {
     "data": {
      "image/png": "[encoded data removed]",
      "text/plain": [
       "<Figure size 432x288 with 1 Axes>"
      ]
     },
     "metadata": {
      "needs_background": "light"
     },
     "output_type": "display_data"
    }
   ],
   "source": [
    "for i in data['platform'].unique():\n",
    "    data[data['platform'] == i].pivot_table(index='year_of_release', values='name', aggfunc='count').plot(kind='bar', title=i)\n",
    "    plt.xlabel('Годы')\n",
    "    plt.ylabel('Количество выпущенных игр')"
   ]
  },
  {
   "cell_type": "markdown",
   "metadata": {},
   "source": [
    "**Возрастающий тренд виден у PS4, PC, XOne, PSV. Умеренно спадающий у 3DS и WiiU. Это говорит о большой перспективности таких платформ как PS4, PC и XOne и умеренной перспективности 3DS.**"
   ]
  },
  {
   "cell_type": "markdown",
   "metadata": {},
   "source": [
    "**3.5 Построение графика \"ящик с усами\" по глобальным продажам игр в разбивке по платформам**"
   ]
  },
  {
   "cell_type": "code",
   "execution_count": 26,
   "metadata": {},
   "outputs": [
    {
     "data": {
      "image/png": "[encoded data removed]",
      "text/plain": [
       "<Figure size 432x288 with 1 Axes>"
      ]
     },
     "metadata": {
      "needs_background": "light"
     },
     "output_type": "display_data"
    },
    {
     "data": {
      "text/plain": [
       "<Figure size 1080x1080 with 0 Axes>"
      ]
     },
     "metadata": {},
     "output_type": "display_data"
    }
   ],
   "source": [
    "plt.figure(figsize=(15,15))\n",
    "sns.boxplot(x='platform', y='all_sales', data=data).set_ylim(0,3)\n",
    "plt.title('Продажа игр по платформам')\n",
    "plt.xlabel('Платформы')\n",
    "plt.ylabel('Продажи');"
   ]
  },
  {
   "cell_type": "code",
   "execution_count": 46,
   "metadata": {},
   "outputs": [
    {
     "data": {
      "image/png": "[encoded data removed]",
      "text/plain": [
       "<Figure size 1080x1080 with 1 Axes>"
      ]
     },
     "metadata": {
      "needs_background": "light"
     },
     "output_type": "display_data"
    }
   ],
   "source": [
    "plt.figure(figsize=(15,15))\n",
    "sns.boxplot(x='platform', y='all_sales', data=data).set_ylim(0,3)\n",
    "plt.title('Продажа игр по платформам')\n",
    "plt.xlabel('Платформы')\n",
    "plt.ylabel('Продажи');"
   ]
  },
  {
   "cell_type": "markdown",
   "metadata": {},
   "source": [
    "Можно заметить, что наибольшие продажи по медиане имеют таки платформы, как X360, XOne и WiiU. Очень много продаж между медианой и третьем квартилем у X360, XOne, Wiiu, Wii, PS4, что говорить об неравномености распределения между низкими продажами и высокими у этих платформ. По второму графику можно видеть, что наибольшее количество выбросов, то есть игр с продажами сильно выше обычного есть у платформ предыдущего поколения PS3, X360, 3DS, а так же нового PS4, что может говорить об большом асортименте выпускаемых игр по сравнению с другими, что увеличивает шанст, что одна из них может выстрелить сильнее всех остальных."
   ]
  },
  {
   "cell_type": "markdown",
   "metadata": {},
   "source": [
    "**3.6 Корреляция между отзывами и продажами**"
   ]
  },
  {
   "cell_type": "markdown",
   "metadata": {},
   "source": [
    "Возьмём для примера одну из популярных платформ - PS4. "
   ]
  },
  {
   "cell_type": "code",
   "execution_count": 28,
   "metadata": {},
   "outputs": [
    {
     "name": "stdout",
     "output_type": "stream",
     "text": [
      "Уровень корреляции с оценкой игроков - -0.031957110204556376\n",
      "Уровень корреляции с оценкой критиков - 0.40656790206178095\n"
     ]
    },
    {
     "data": {
      "image/png": "[encoded data removed]",
      "text/plain": [
       "<Figure size 432x288 with 1 Axes>"
      ]
     },
     "metadata": {
      "needs_background": "light"
     },
     "output_type": "display_data"
    },
    {
     "data": {
      "image/png": "[encoded data removed]",
      "text/plain": [
       "<Figure size 432x288 with 1 Axes>"
      ]
     },
     "metadata": {
      "needs_background": "light"
     },
     "output_type": "display_data"
    }
   ],
   "source": [
    "data.loc[data['platform'] == 'PS4'].plot(kind='scatter', x='user_score', y='all_sales', grid=True, alpha=0.3);\n",
    "plt.title('Корреляция оценки и продаж');\n",
    "plt.xlabel('Оценка пользователей')\n",
    "plt.ylabel('Продажи копий млн.')\n",
    "data.loc[data['platform'] == 'PS4'].plot(kind='scatter', x='critic_score', y='all_sales', grid=True, alpha=0.3);\n",
    "plt.title('Корреляция оценки и продаж');\n",
    "plt.xlabel('Оценка критиков')\n",
    "plt.ylabel('Продажи копий млн.')\n",
    "print('Уровень корреляции с оценкой игроков -', data.loc[data['platform'] == 'PS4']['user_score'].corr(data['all_sales']))\n",
    "print('Уровень корреляции с оценкой критиков -', data.loc[data['platform'] == 'PS4']['critic_score'].corr(data['all_sales']))"
   ]
  },
  {
   "cell_type": "markdown",
   "metadata": {},
   "source": [
    "Можно сделать вывод, что хоть зависимосимость есть, но она слишком маленькая, чтобы по оценкам из выборки игроков или критиков можно было бы сделать предсказание о количестве проданных копий игры в будущем. Вывод из пункта 2.4 по всей выборке в целом подтвердился в частности для конкретной платформы."
   ]
  },
  {
   "cell_type": "markdown",
   "metadata": {},
   "source": [
    "**3.7 Сравним с графиками рассеивания других платформ**"
   ]
  },
  {
   "cell_type": "markdown",
   "metadata": {},
   "source": [
    "Возьмём PC, 3DS, XOne, X360"
   ]
  },
  {
   "cell_type": "code",
   "execution_count": 29,
   "metadata": {},
   "outputs": [
    {
     "name": "stdout",
     "output_type": "stream",
     "text": [
      "Уровень корреляции с оценкой игроков - -0.0938418695247674\n",
      "Уровень корреляции с оценкой критиков - 0.19603028294369382\n"
     ]
    },
    {
     "data": {
      "image/png": "[encoded data removed]",
      "text/plain": [
       "<Figure size 432x288 with 1 Axes>"
      ]
     },
     "metadata": {
      "needs_background": "light"
     },
     "output_type": "display_data"
    },
    {
     "data": {
      "image/png": "[encoded data removed]",
      "text/plain": [
       "<Figure size 432x288 with 1 Axes>"
      ]
     },
     "metadata": {
      "needs_background": "light"
     },
     "output_type": "display_data"
    }
   ],
   "source": [
    "data.loc[data['platform'] == 'PC'].plot(kind='scatter', x='user_score', y='all_sales', grid=True, alpha=0.3);\n",
    "plt.title('Корреляция оценки и продаж');\n",
    "plt.xlabel('Оценка пользователей')\n",
    "plt.ylabel('Продажи копий млн.')\n",
    "data.loc[data['platform'] == 'PC'].plot(kind='scatter', x='critic_score', y='all_sales', grid=True, alpha=0.3);\n",
    "plt.title('Корреляция оценки и продаж');\n",
    "plt.xlabel('Оценка критиков')\n",
    "plt.ylabel('Продажи копий млн.')\n",
    "print('Уровень корреляции с оценкой игроков -', data.loc[data['platform'] == 'PC']['user_score'].corr(data['all_sales']))\n",
    "print('Уровень корреляции с оценкой критиков -', data.loc[data['platform'] == 'PC']['critic_score'].corr(data['all_sales']))"
   ]
  },
  {
   "cell_type": "code",
   "execution_count": 30,
   "metadata": {},
   "outputs": [
    {
     "name": "stdout",
     "output_type": "stream",
     "text": [
      "Уровень корреляции с оценкой игроков - 0.24150411773563016\n",
      "Уровень корреляции с оценкой критиков - 0.3570566142288103\n"
     ]
    },
    {
     "data": {
      "image/png": "[encoded data removed]",
      "text/plain": [
       "<Figure size 432x288 with 1 Axes>"
      ]
     },
     "metadata": {
      "needs_background": "light"
     },
     "output_type": "display_data"
    },
    {
     "data": {
      "image/png": "[encoded data removed]",
      "text/plain": [
       "<Figure size 432x288 with 1 Axes>"
      ]
     },
     "metadata": {
      "needs_background": "light"
     },
     "output_type": "display_data"
    }
   ],
   "source": [
    "data.loc[data['platform'] == '3DS'].plot(kind='scatter', x='user_score', y='all_sales', grid=True, alpha=0.3);\n",
    "plt.title('Корреляция оценки и продаж');\n",
    "plt.xlabel('Оценка пользователей')\n",
    "plt.ylabel('Продажи копий млн.')\n",
    "data.loc[data['platform'] == '3DS'].plot(kind='scatter', x='critic_score', y='all_sales', grid=True, alpha=0.3);\n",
    "plt.title('Корреляция оценки и продаж');\n",
    "plt.xlabel('Оценка критиков')\n",
    "plt.ylabel('Продажи копий млн.')\n",
    "print('Уровень корреляции с оценкой игроков -', data.loc[data['platform'] == '3DS']['user_score'].corr(data['all_sales']))\n",
    "print('Уровень корреляции с оценкой критиков -', data.loc[data['platform'] == '3DS']['critic_score'].corr(data['all_sales']))"
   ]
  },
  {
   "cell_type": "code",
   "execution_count": 31,
   "metadata": {},
   "outputs": [
    {
     "name": "stdout",
     "output_type": "stream",
     "text": [
      "Уровень корреляции с оценкой игроков - -0.06892505328279414\n",
      "Уровень корреляции с оценкой критиков - 0.4169983280084017\n"
     ]
    },
    {
     "data": {
      "image/png": "[encoded data removed]",
      "text/plain": [
       "<Figure size 432x288 with 1 Axes>"
      ]
     },
     "metadata": {
      "needs_background": "light"
     },
     "output_type": "display_data"
    },
    {
     "data": {
      "image/png": "[encoded data removed]",
      "text/plain": [
       "<Figure size 432x288 with 1 Axes>"
      ]
     },
     "metadata": {
      "needs_background": "light"
     },
     "output_type": "display_data"
    }
   ],
   "source": [
    "data.loc[data['platform'] == 'XOne'].plot(kind='scatter', x='user_score', y='all_sales', grid=True, alpha=0.3);\n",
    "plt.title('Корреляция оценки и продаж');\n",
    "plt.xlabel('Оценка пользователей')\n",
    "plt.ylabel('Продажи копий млн.')\n",
    "data.loc[data['platform'] == 'XOne'].plot(kind='scatter', x='critic_score', y='all_sales', grid=True, alpha=0.3);\n",
    "plt.title('Корреляция оценки и продаж');\n",
    "plt.xlabel('Оценка критиков')\n",
    "plt.ylabel('Продажи копий млн.')\n",
    "print('Уровень корреляции с оценкой игроков -', data.loc[data['platform'] == 'XOne']['user_score'].corr(data['all_sales']))\n",
    "print('Уровень корреляции с оценкой критиков -', data.loc[data['platform'] == 'XOne']['critic_score'].corr(data['all_sales']))"
   ]
  },
  {
   "cell_type": "code",
   "execution_count": 32,
   "metadata": {},
   "outputs": [
    {
     "name": "stdout",
     "output_type": "stream",
     "text": [
      "Уровень корреляции с оценкой игроков - -0.011742185147181342\n",
      "Уровень корреляции с оценкой критиков - 0.3503445460228664\n"
     ]
    },
    {
     "data": {
      "image/png": "[encoded data removed]",
      "text/plain": [
       "<Figure size 432x288 with 1 Axes>"
      ]
     },
     "metadata": {
      "needs_background": "light"
     },
     "output_type": "display_data"
    },
    {
     "data": {
      "image/png": "[encoded data removed]",
      "text/plain": [
       "<Figure size 432x288 with 1 Axes>"
      ]
     },
     "metadata": {
      "needs_background": "light"
     },
     "output_type": "display_data"
    }
   ],
   "source": [
    "data.loc[data['platform'] == 'X360'].plot(kind='scatter', x='user_score', y='all_sales', grid=True, alpha=0.3);\n",
    "plt.title('Корреляция оценки и продаж');\n",
    "plt.xlabel('Оценка пользователей')\n",
    "plt.ylabel('Продажи копий млн.')\n",
    "data.loc[data['platform'] == 'X360'].plot(kind='scatter', x='critic_score', y='all_sales', grid=True, alpha=0.3);\n",
    "plt.title('Корреляция оценки и продаж');\n",
    "plt.xlabel('Оценка критиков')\n",
    "plt.ylabel('Продажи копий млн.')\n",
    "print('Уровень корреляции с оценкой игроков -', data.loc[data['platform'] == 'X360']['user_score'].corr(data['all_sales']))\n",
    "print('Уровень корреляции с оценкой критиков -', data.loc[data['platform'] == 'X360']['critic_score'].corr(data['all_sales']))"
   ]
  },
  {
   "cell_type": "markdown",
   "metadata": {},
   "source": [
    "Координально отличий в коррелчции и графиках нет, но прослеживается тенденция, что оценка критиков более коррелируют с количеством продаж, чем оценка игроков, которая зачастую очень слабая, или даже отрицательная, но корреляция между продажами и оценками критиков - слабая."
   ]
  },
  {
   "cell_type": "markdown",
   "metadata": {},
   "source": [
    "**3.8 Распределение игр по жанрам**"
   ]
  },
  {
   "cell_type": "code",
   "execution_count": 33,
   "metadata": {},
   "outputs": [
    {
     "data": {
      "text/html": [
       "<div>\n",
       "<style scoped>\n",
       "    .dataframe tbody tr th:only-of-type {\n",
       "        vertical-align: middle;\n",
       "    }\n",
       "\n",
       "    .dataframe tbody tr th {\n",
       "        vertical-align: top;\n",
       "    }\n",
       "\n",
       "    .dataframe thead tr th {\n",
       "        text-align: left;\n",
       "    }\n",
       "\n",
       "    .dataframe thead tr:last-of-type th {\n",
       "        text-align: right;\n",
       "    }\n",
       "</style>\n",
       "<table border=\"1\" class=\"dataframe\">\n",
       "  <thead>\n",
       "    <tr>\n",
       "      <th></th>\n",
       "      <th>count</th>\n",
       "      <th>median</th>\n",
       "      <th>mean</th>\n",
       "    </tr>\n",
       "    <tr>\n",
       "      <th></th>\n",
       "      <th>all_sales</th>\n",
       "      <th>all_sales</th>\n",
       "      <th>all_sales</th>\n",
       "    </tr>\n",
       "    <tr>\n",
       "      <th>genre</th>\n",
       "      <th></th>\n",
       "      <th></th>\n",
       "      <th></th>\n",
       "    </tr>\n",
       "  </thead>\n",
       "  <tbody>\n",
       "    <tr>\n",
       "      <th>Shooter</th>\n",
       "      <td>187</td>\n",
       "      <td>0.450</td>\n",
       "      <td>1.245882</td>\n",
       "    </tr>\n",
       "    <tr>\n",
       "      <th>Sports</th>\n",
       "      <td>214</td>\n",
       "      <td>0.240</td>\n",
       "      <td>0.703972</td>\n",
       "    </tr>\n",
       "    <tr>\n",
       "      <th>Platform</th>\n",
       "      <td>74</td>\n",
       "      <td>0.225</td>\n",
       "      <td>0.576081</td>\n",
       "    </tr>\n",
       "    <tr>\n",
       "      <th>Role-Playing</th>\n",
       "      <td>292</td>\n",
       "      <td>0.125</td>\n",
       "      <td>0.499623</td>\n",
       "    </tr>\n",
       "    <tr>\n",
       "      <th>Fighting</th>\n",
       "      <td>80</td>\n",
       "      <td>0.125</td>\n",
       "      <td>0.441375</td>\n",
       "    </tr>\n",
       "    <tr>\n",
       "      <th>Racing</th>\n",
       "      <td>85</td>\n",
       "      <td>0.120</td>\n",
       "      <td>0.469294</td>\n",
       "    </tr>\n",
       "    <tr>\n",
       "      <th>Action</th>\n",
       "      <td>766</td>\n",
       "      <td>0.110</td>\n",
       "      <td>0.420196</td>\n",
       "    </tr>\n",
       "    <tr>\n",
       "      <th>Simulation</th>\n",
       "      <td>62</td>\n",
       "      <td>0.100</td>\n",
       "      <td>0.350968</td>\n",
       "    </tr>\n",
       "    <tr>\n",
       "      <th>Misc</th>\n",
       "      <td>155</td>\n",
       "      <td>0.100</td>\n",
       "      <td>0.405290</td>\n",
       "    </tr>\n",
       "    <tr>\n",
       "      <th>Strategy</th>\n",
       "      <td>56</td>\n",
       "      <td>0.080</td>\n",
       "      <td>0.180000</td>\n",
       "    </tr>\n",
       "    <tr>\n",
       "      <th>Puzzle</th>\n",
       "      <td>17</td>\n",
       "      <td>0.060</td>\n",
       "      <td>0.186471</td>\n",
       "    </tr>\n",
       "    <tr>\n",
       "      <th>Adventure</th>\n",
       "      <td>245</td>\n",
       "      <td>0.030</td>\n",
       "      <td>0.096490</td>\n",
       "    </tr>\n",
       "  </tbody>\n",
       "</table>\n",
       "</div>"
      ],
      "text/plain": [
       "                 count    median      mean\n",
       "             all_sales all_sales all_sales\n",
       "genre                                     \n",
       "Shooter            187     0.450  1.245882\n",
       "Sports             214     0.240  0.703972\n",
       "Platform            74     0.225  0.576081\n",
       "Role-Playing       292     0.125  0.499623\n",
       "Fighting            80     0.125  0.441375\n",
       "Racing              85     0.120  0.469294\n",
       "Action             766     0.110  0.420196\n",
       "Simulation          62     0.100  0.350968\n",
       "Misc               155     0.100  0.405290\n",
       "Strategy            56     0.080  0.180000\n",
       "Puzzle              17     0.060  0.186471\n",
       "Adventure          245     0.030  0.096490"
      ]
     },
     "execution_count": 33,
     "metadata": {},
     "output_type": "execute_result"
    }
   ],
   "source": [
    "data.pivot_table(index='genre', values='all_sales', aggfunc=['count', 'median', 'mean']).sort_values(by=('median', 'all_sales'), ascending=False)"
   ]
  },
  {
   "cell_type": "markdown",
   "metadata": {},
   "source": [
    "Лидиром среди жанров в последние года стали шутеры, платформеры и спортсимы. их средняя и медиана по продажам больше всех остальных. Самыми выпускаемыми играми являются игры жанра экшн, но их медиана продаваемости не велика. <BR>\n",
    "    \n",
    "Среди жанров аутсайдеров такие как стратегии и пазлы как в ценовом, так и в количественном отношении.\n",
    "    "
   ]
  },
  {
   "cell_type": "markdown",
   "metadata": {},
   "source": [
    "## Составление портрета пользователя"
   ]
  },
  {
   "cell_type": "markdown",
   "metadata": {},
   "source": [
    "**4.1 Определение популярности платформ**"
   ]
  },
  {
   "cell_type": "markdown",
   "metadata": {},
   "source": [
    "Выясним суммарные продажи по каждой платформе для каждого региона и оставим топ-5 платформ."
   ]
  },
  {
   "cell_type": "code",
   "execution_count": 34,
   "metadata": {},
   "outputs": [
    {
     "data": {
      "text/html": [
       "<div>\n",
       "<style scoped>\n",
       "    .dataframe tbody tr th:only-of-type {\n",
       "        vertical-align: middle;\n",
       "    }\n",
       "\n",
       "    .dataframe tbody tr th {\n",
       "        vertical-align: top;\n",
       "    }\n",
       "\n",
       "    .dataframe thead th {\n",
       "        text-align: right;\n",
       "    }\n",
       "</style>\n",
       "<table border=\"1\" class=\"dataframe\">\n",
       "  <thead>\n",
       "    <tr style=\"text-align: right;\">\n",
       "      <th></th>\n",
       "      <th>na_sales</th>\n",
       "    </tr>\n",
       "    <tr>\n",
       "      <th>platform</th>\n",
       "      <th></th>\n",
       "    </tr>\n",
       "  </thead>\n",
       "  <tbody>\n",
       "    <tr>\n",
       "      <th>PS4</th>\n",
       "      <td>108.74</td>\n",
       "    </tr>\n",
       "    <tr>\n",
       "      <th>XOne</th>\n",
       "      <td>93.12</td>\n",
       "    </tr>\n",
       "    <tr>\n",
       "      <th>X360</th>\n",
       "      <td>81.66</td>\n",
       "    </tr>\n",
       "    <tr>\n",
       "      <th>PS3</th>\n",
       "      <td>63.50</td>\n",
       "    </tr>\n",
       "    <tr>\n",
       "      <th>3DS</th>\n",
       "      <td>38.20</td>\n",
       "    </tr>\n",
       "  </tbody>\n",
       "</table>\n",
       "</div>"
      ],
      "text/plain": [
       "          na_sales\n",
       "platform          \n",
       "PS4         108.74\n",
       "XOne         93.12\n",
       "X360         81.66\n",
       "PS3          63.50\n",
       "3DS          38.20"
      ]
     },
     "metadata": {},
     "output_type": "display_data"
    },
    {
     "data": {
      "text/html": [
       "<div>\n",
       "<style scoped>\n",
       "    .dataframe tbody tr th:only-of-type {\n",
       "        vertical-align: middle;\n",
       "    }\n",
       "\n",
       "    .dataframe tbody tr th {\n",
       "        vertical-align: top;\n",
       "    }\n",
       "\n",
       "    .dataframe thead th {\n",
       "        text-align: right;\n",
       "    }\n",
       "</style>\n",
       "<table border=\"1\" class=\"dataframe\">\n",
       "  <thead>\n",
       "    <tr style=\"text-align: right;\">\n",
       "      <th></th>\n",
       "      <th>eu_sales</th>\n",
       "    </tr>\n",
       "    <tr>\n",
       "      <th>platform</th>\n",
       "      <th></th>\n",
       "    </tr>\n",
       "  </thead>\n",
       "  <tbody>\n",
       "    <tr>\n",
       "      <th>PS4</th>\n",
       "      <td>141.09</td>\n",
       "    </tr>\n",
       "    <tr>\n",
       "      <th>PS3</th>\n",
       "      <td>67.81</td>\n",
       "    </tr>\n",
       "    <tr>\n",
       "      <th>XOne</th>\n",
       "      <td>51.59</td>\n",
       "    </tr>\n",
       "    <tr>\n",
       "      <th>X360</th>\n",
       "      <td>42.52</td>\n",
       "    </tr>\n",
       "    <tr>\n",
       "      <th>3DS</th>\n",
       "      <td>30.96</td>\n",
       "    </tr>\n",
       "  </tbody>\n",
       "</table>\n",
       "</div>"
      ],
      "text/plain": [
       "          eu_sales\n",
       "platform          \n",
       "PS4         141.09\n",
       "PS3          67.81\n",
       "XOne         51.59\n",
       "X360         42.52\n",
       "3DS          30.96"
      ]
     },
     "metadata": {},
     "output_type": "display_data"
    },
    {
     "data": {
      "text/html": [
       "<div>\n",
       "<style scoped>\n",
       "    .dataframe tbody tr th:only-of-type {\n",
       "        vertical-align: middle;\n",
       "    }\n",
       "\n",
       "    .dataframe tbody tr th {\n",
       "        vertical-align: top;\n",
       "    }\n",
       "\n",
       "    .dataframe thead th {\n",
       "        text-align: right;\n",
       "    }\n",
       "</style>\n",
       "<table border=\"1\" class=\"dataframe\">\n",
       "  <thead>\n",
       "    <tr style=\"text-align: right;\">\n",
       "      <th></th>\n",
       "      <th>jp_sales</th>\n",
       "    </tr>\n",
       "    <tr>\n",
       "      <th>platform</th>\n",
       "      <th></th>\n",
       "    </tr>\n",
       "  </thead>\n",
       "  <tbody>\n",
       "    <tr>\n",
       "      <th>3DS</th>\n",
       "      <td>67.81</td>\n",
       "    </tr>\n",
       "    <tr>\n",
       "      <th>PS3</th>\n",
       "      <td>23.35</td>\n",
       "    </tr>\n",
       "    <tr>\n",
       "      <th>PSV</th>\n",
       "      <td>18.59</td>\n",
       "    </tr>\n",
       "    <tr>\n",
       "      <th>PS4</th>\n",
       "      <td>15.96</td>\n",
       "    </tr>\n",
       "    <tr>\n",
       "      <th>WiiU</th>\n",
       "      <td>10.88</td>\n",
       "    </tr>\n",
       "  </tbody>\n",
       "</table>\n",
       "</div>"
      ],
      "text/plain": [
       "          jp_sales\n",
       "platform          \n",
       "3DS          67.81\n",
       "PS3          23.35\n",
       "PSV          18.59\n",
       "PS4          15.96\n",
       "WiiU         10.88"
      ]
     },
     "metadata": {},
     "output_type": "display_data"
    }
   ],
   "source": [
    "display(data.pivot_table(index='platform', values=['na_sales'], aggfunc='sum')\n",
    "        .sort_values(by='na_sales', ascending=False).head(5))\n",
    "display(data.pivot_table(index='platform', values=['eu_sales'], aggfunc='sum')\n",
    "        .sort_values(by='eu_sales', ascending=False).head(5))\n",
    "display(data.pivot_table(index='platform', values=['jp_sales'], aggfunc='sum')\n",
    "        .sort_values(by='jp_sales', ascending=False).head(5))\n",
    "\n",
    "#подскажите, как можно вывести талбицы не друг под другом, а в ряд."
   ]
  },
  {
   "cell_type": "markdown",
   "metadata": {},
   "source": [
    "Самые большие продажи приходятся на Северную Америку. Самые популярные платформы: PS4, XOne и X360. В сумме около трёхсот тысяч продаж. <br>\n",
    "В Европе пальму первенства удерживают платформы PS4 и PS3, X360 занимает лишь четвёртое место. <br>\n",
    "В Японии первое место по проданным на эту платформу игр занимает 3DS, что занимала последние места в топе как в Европе, так и в Америке. Суммарное количество продаж в Японии ниже чем на остальных рынках и больше отличается от них, чем они друг от друга, однако и здесь платформы PS4 и PS3 вошли в топ-5 игровых платформ."
   ]
  },
  {
   "cell_type": "markdown",
   "metadata": {},
   "source": [
    "**4.2 Определение популярности жанров**"
   ]
  },
  {
   "cell_type": "markdown",
   "metadata": {},
   "source": [
    "Выясним суммарные продажи по каждому жанру для каждого региона и оставим топ-5 жанров видеоигр."
   ]
  },
  {
   "cell_type": "code",
   "execution_count": 35,
   "metadata": {},
   "outputs": [
    {
     "data": {
      "text/html": [
       "<div>\n",
       "<style scoped>\n",
       "    .dataframe tbody tr th:only-of-type {\n",
       "        vertical-align: middle;\n",
       "    }\n",
       "\n",
       "    .dataframe tbody tr th {\n",
       "        vertical-align: top;\n",
       "    }\n",
       "\n",
       "    .dataframe thead th {\n",
       "        text-align: right;\n",
       "    }\n",
       "</style>\n",
       "<table border=\"1\" class=\"dataframe\">\n",
       "  <thead>\n",
       "    <tr style=\"text-align: right;\">\n",
       "      <th></th>\n",
       "      <th>na_sales</th>\n",
       "    </tr>\n",
       "    <tr>\n",
       "      <th>genre</th>\n",
       "      <th></th>\n",
       "    </tr>\n",
       "  </thead>\n",
       "  <tbody>\n",
       "    <tr>\n",
       "      <th>Action</th>\n",
       "      <td>126.05</td>\n",
       "    </tr>\n",
       "    <tr>\n",
       "      <th>Shooter</th>\n",
       "      <td>109.74</td>\n",
       "    </tr>\n",
       "    <tr>\n",
       "      <th>Sports</th>\n",
       "      <td>65.27</td>\n",
       "    </tr>\n",
       "    <tr>\n",
       "      <th>Role-Playing</th>\n",
       "      <td>46.40</td>\n",
       "    </tr>\n",
       "    <tr>\n",
       "      <th>Misc</th>\n",
       "      <td>27.49</td>\n",
       "    </tr>\n",
       "  </tbody>\n",
       "</table>\n",
       "</div>"
      ],
      "text/plain": [
       "              na_sales\n",
       "genre                 \n",
       "Action          126.05\n",
       "Shooter         109.74\n",
       "Sports           65.27\n",
       "Role-Playing     46.40\n",
       "Misc             27.49"
      ]
     },
     "metadata": {},
     "output_type": "display_data"
    },
    {
     "data": {
      "text/html": [
       "<div>\n",
       "<style scoped>\n",
       "    .dataframe tbody tr th:only-of-type {\n",
       "        vertical-align: middle;\n",
       "    }\n",
       "\n",
       "    .dataframe tbody tr th {\n",
       "        vertical-align: top;\n",
       "    }\n",
       "\n",
       "    .dataframe thead th {\n",
       "        text-align: right;\n",
       "    }\n",
       "</style>\n",
       "<table border=\"1\" class=\"dataframe\">\n",
       "  <thead>\n",
       "    <tr style=\"text-align: right;\">\n",
       "      <th></th>\n",
       "      <th>eu_sales</th>\n",
       "    </tr>\n",
       "    <tr>\n",
       "      <th>genre</th>\n",
       "      <th></th>\n",
       "    </tr>\n",
       "  </thead>\n",
       "  <tbody>\n",
       "    <tr>\n",
       "      <th>Action</th>\n",
       "      <td>118.13</td>\n",
       "    </tr>\n",
       "    <tr>\n",
       "      <th>Shooter</th>\n",
       "      <td>87.86</td>\n",
       "    </tr>\n",
       "    <tr>\n",
       "      <th>Sports</th>\n",
       "      <td>60.52</td>\n",
       "    </tr>\n",
       "    <tr>\n",
       "      <th>Role-Playing</th>\n",
       "      <td>36.97</td>\n",
       "    </tr>\n",
       "    <tr>\n",
       "      <th>Racing</th>\n",
       "      <td>20.19</td>\n",
       "    </tr>\n",
       "  </tbody>\n",
       "</table>\n",
       "</div>"
      ],
      "text/plain": [
       "              eu_sales\n",
       "genre                 \n",
       "Action          118.13\n",
       "Shooter          87.86\n",
       "Sports           60.52\n",
       "Role-Playing     36.97\n",
       "Racing           20.19"
      ]
     },
     "metadata": {},
     "output_type": "display_data"
    },
    {
     "data": {
      "text/html": [
       "<div>\n",
       "<style scoped>\n",
       "    .dataframe tbody tr th:only-of-type {\n",
       "        vertical-align: middle;\n",
       "    }\n",
       "\n",
       "    .dataframe tbody tr th {\n",
       "        vertical-align: top;\n",
       "    }\n",
       "\n",
       "    .dataframe thead th {\n",
       "        text-align: right;\n",
       "    }\n",
       "</style>\n",
       "<table border=\"1\" class=\"dataframe\">\n",
       "  <thead>\n",
       "    <tr style=\"text-align: right;\">\n",
       "      <th></th>\n",
       "      <th>jp_sales</th>\n",
       "    </tr>\n",
       "    <tr>\n",
       "      <th>genre</th>\n",
       "      <th></th>\n",
       "    </tr>\n",
       "  </thead>\n",
       "  <tbody>\n",
       "    <tr>\n",
       "      <th>Role-Playing</th>\n",
       "      <td>51.04</td>\n",
       "    </tr>\n",
       "    <tr>\n",
       "      <th>Action</th>\n",
       "      <td>40.49</td>\n",
       "    </tr>\n",
       "    <tr>\n",
       "      <th>Misc</th>\n",
       "      <td>9.20</td>\n",
       "    </tr>\n",
       "    <tr>\n",
       "      <th>Fighting</th>\n",
       "      <td>7.65</td>\n",
       "    </tr>\n",
       "    <tr>\n",
       "      <th>Shooter</th>\n",
       "      <td>6.61</td>\n",
       "    </tr>\n",
       "  </tbody>\n",
       "</table>\n",
       "</div>"
      ],
      "text/plain": [
       "              jp_sales\n",
       "genre                 \n",
       "Role-Playing     51.04\n",
       "Action           40.49\n",
       "Misc              9.20\n",
       "Fighting          7.65\n",
       "Shooter           6.61"
      ]
     },
     "metadata": {},
     "output_type": "display_data"
    }
   ],
   "source": [
    "display(data.pivot_table(index='genre', values=['na_sales'], aggfunc='sum')\n",
    "        .sort_values(by='na_sales', ascending=False).head(5))\n",
    "display(data.pivot_table(index='genre', values=['eu_sales'], aggfunc='sum')\n",
    "        .sort_values(by='eu_sales', ascending=False).head(5))\n",
    "display(data.pivot_table(index='genre', values=['jp_sales'], aggfunc='sum')\n",
    "        .sort_values(by='jp_sales', ascending=False).head(5))"
   ]
  },
  {
   "cell_type": "markdown",
   "metadata": {},
   "source": [
    "Здесь как и с платформами так же заметно, что Американский рынок занимает первое место по продажам, затем идёт Европа и только потом Япония. Так же снова видно, что Японский рынок отличается от Европейского и Американского рынков. <br>\n",
    "Самыми популярными жанрами Европы и Америки являются экшн, спортивные симуляторы и шутеры. Хоть в Японии так же популярны экшн, однако он расположен лишь на втором месте. Первое место занимает Role-Playing, который в Америке и Европе занимает четвёртое место."
   ]
  },
  {
   "cell_type": "markdown",
   "metadata": {},
   "source": [
    "**4.3 Влияние возрастного рейтинга на продажи в регионе**"
   ]
  },
  {
   "cell_type": "code",
   "execution_count": 36,
   "metadata": {},
   "outputs": [],
   "source": [
    "data.loc[data['rating'].isna(), 'rating'] = 'Not'\n",
    "#заменили пропуски в категориях играх "
   ]
  },
  {
   "cell_type": "code",
   "execution_count": 37,
   "metadata": {},
   "outputs": [
    {
     "data": {
      "text/html": [
       "<div>\n",
       "<style scoped>\n",
       "    .dataframe tbody tr th:only-of-type {\n",
       "        vertical-align: middle;\n",
       "    }\n",
       "\n",
       "    .dataframe tbody tr th {\n",
       "        vertical-align: top;\n",
       "    }\n",
       "\n",
       "    .dataframe thead th {\n",
       "        text-align: right;\n",
       "    }\n",
       "</style>\n",
       "<table border=\"1\" class=\"dataframe\">\n",
       "  <thead>\n",
       "    <tr style=\"text-align: right;\">\n",
       "      <th></th>\n",
       "      <th>na_sales</th>\n",
       "    </tr>\n",
       "    <tr>\n",
       "      <th>rating</th>\n",
       "      <th></th>\n",
       "    </tr>\n",
       "  </thead>\n",
       "  <tbody>\n",
       "    <tr>\n",
       "      <th>M</th>\n",
       "      <td>165.21</td>\n",
       "    </tr>\n",
       "    <tr>\n",
       "      <th>Not</th>\n",
       "      <td>89.42</td>\n",
       "    </tr>\n",
       "    <tr>\n",
       "      <th>E</th>\n",
       "      <td>79.05</td>\n",
       "    </tr>\n",
       "    <tr>\n",
       "      <th>E10+</th>\n",
       "      <td>54.24</td>\n",
       "    </tr>\n",
       "    <tr>\n",
       "      <th>T</th>\n",
       "      <td>49.79</td>\n",
       "    </tr>\n",
       "  </tbody>\n",
       "</table>\n",
       "</div>"
      ],
      "text/plain": [
       "        na_sales\n",
       "rating          \n",
       "M         165.21\n",
       "Not        89.42\n",
       "E          79.05\n",
       "E10+       54.24\n",
       "T          49.79"
      ]
     },
     "metadata": {},
     "output_type": "display_data"
    },
    {
     "data": {
      "text/html": [
       "<div>\n",
       "<style scoped>\n",
       "    .dataframe tbody tr th:only-of-type {\n",
       "        vertical-align: middle;\n",
       "    }\n",
       "\n",
       "    .dataframe tbody tr th {\n",
       "        vertical-align: top;\n",
       "    }\n",
       "\n",
       "    .dataframe thead th {\n",
       "        text-align: right;\n",
       "    }\n",
       "</style>\n",
       "<table border=\"1\" class=\"dataframe\">\n",
       "  <thead>\n",
       "    <tr style=\"text-align: right;\">\n",
       "      <th></th>\n",
       "      <th>eu_sales</th>\n",
       "    </tr>\n",
       "    <tr>\n",
       "      <th>rating</th>\n",
       "      <th></th>\n",
       "    </tr>\n",
       "  </thead>\n",
       "  <tbody>\n",
       "    <tr>\n",
       "      <th>M</th>\n",
       "      <td>145.32</td>\n",
       "    </tr>\n",
       "    <tr>\n",
       "      <th>E</th>\n",
       "      <td>83.36</td>\n",
       "    </tr>\n",
       "    <tr>\n",
       "      <th>Not</th>\n",
       "      <td>78.91</td>\n",
       "    </tr>\n",
       "    <tr>\n",
       "      <th>E10+</th>\n",
       "      <td>42.69</td>\n",
       "    </tr>\n",
       "    <tr>\n",
       "      <th>T</th>\n",
       "      <td>41.95</td>\n",
       "    </tr>\n",
       "  </tbody>\n",
       "</table>\n",
       "</div>"
      ],
      "text/plain": [
       "        eu_sales\n",
       "rating          \n",
       "M         145.32\n",
       "E          83.36\n",
       "Not        78.91\n",
       "E10+       42.69\n",
       "T          41.95"
      ]
     },
     "metadata": {},
     "output_type": "display_data"
    },
    {
     "data": {
      "text/html": [
       "<div>\n",
       "<style scoped>\n",
       "    .dataframe tbody tr th:only-of-type {\n",
       "        vertical-align: middle;\n",
       "    }\n",
       "\n",
       "    .dataframe tbody tr th {\n",
       "        vertical-align: top;\n",
       "    }\n",
       "\n",
       "    .dataframe thead th {\n",
       "        text-align: right;\n",
       "    }\n",
       "</style>\n",
       "<table border=\"1\" class=\"dataframe\">\n",
       "  <thead>\n",
       "    <tr style=\"text-align: right;\">\n",
       "      <th></th>\n",
       "      <th>jp_sales</th>\n",
       "    </tr>\n",
       "    <tr>\n",
       "      <th>rating</th>\n",
       "      <th></th>\n",
       "    </tr>\n",
       "  </thead>\n",
       "  <tbody>\n",
       "    <tr>\n",
       "      <th>Not</th>\n",
       "      <td>85.05</td>\n",
       "    </tr>\n",
       "    <tr>\n",
       "      <th>T</th>\n",
       "      <td>20.59</td>\n",
       "    </tr>\n",
       "    <tr>\n",
       "      <th>E</th>\n",
       "      <td>15.14</td>\n",
       "    </tr>\n",
       "    <tr>\n",
       "      <th>M</th>\n",
       "      <td>14.11</td>\n",
       "    </tr>\n",
       "    <tr>\n",
       "      <th>E10+</th>\n",
       "      <td>5.89</td>\n",
       "    </tr>\n",
       "  </tbody>\n",
       "</table>\n",
       "</div>"
      ],
      "text/plain": [
       "        jp_sales\n",
       "rating          \n",
       "Not        85.05\n",
       "T          20.59\n",
       "E          15.14\n",
       "M          14.11\n",
       "E10+        5.89"
      ]
     },
     "metadata": {},
     "output_type": "display_data"
    }
   ],
   "source": [
    "display(data.pivot_table(index='rating', values=['na_sales'], aggfunc='sum')\n",
    "        .sort_values(by='na_sales', ascending=False))\n",
    "display(data.pivot_table(index='rating', values=['eu_sales'], aggfunc='sum')\n",
    "        .sort_values(by='eu_sales', ascending=False))\n",
    "display(data.pivot_table(index='rating', values=['jp_sales'], aggfunc='sum')\n",
    "        .sort_values(by='jp_sales', ascending=False))"
   ]
  },
  {
   "cell_type": "markdown",
   "metadata": {},
   "source": [
    "Можно заметить сильную схожесть между количеством проданных копий игр определённого рейтинга во всех регионах. Так рейтинг М возглвляет таблицу по продажам во всех регионах кроме Японии. <br>\n",
    "Так же можно заметить, что в Японском сегменте игры рейтинга M (17+) покупаются менее охотно, чем на западе.\n",
    "Однако игры без категории так же очень распространены в западном полушарии, а в Японии занимают первое место с отрывом в 4 раза, что говорит о сильной распространённости таких игр."
   ]
  },
  {
   "cell_type": "markdown",
   "metadata": {},
   "source": [
    "## Проверка гипотез"
   ]
  },
  {
   "cell_type": "markdown",
   "metadata": {},
   "source": [
    "**5.1 Средние пользовательские рейтинги платформ Xbox One и PC одинаковые**\n"
   ]
  },
  {
   "cell_type": "markdown",
   "metadata": {},
   "source": [
    "Сформулируем две гипотезы. Нулевая гипотеза: средняя оценка пользователей игр на Xbox One равна PC. Альтернативная: средняя оценка пользователей игр на Xbox One не равна PC."
   ]
  },
  {
   "cell_type": "code",
   "execution_count": 38,
   "metadata": {},
   "outputs": [
    {
     "name": "stdout",
     "output_type": "stream",
     "text": [
      "p-значение: 0.14012658403611647\n",
      "Не получилось отвергнуть нулевую гипотезу\n"
     ]
    }
   ],
   "source": [
    "table_pc = list(data.loc[data['platform'] == 'PC']['user_score'].dropna())\n",
    "table_xone = list(data.loc[data['platform'] == 'XOne']['user_score'].dropna())\n",
    "\n",
    "alpha = .01\n",
    "\n",
    "results = st.ttest_ind(\n",
    "    table_pc, \n",
    "    table_xone)\n",
    "\n",
    "print('p-значение:', results.pvalue)\n",
    "\n",
    "if results.pvalue < alpha:\n",
    "    print(\"Отвергаем нулевую гипотезу\")\n",
    "else:\n",
    "    print(\"Не получилось отвергнуть нулевую гипотезу\") "
   ]
  },
  {
   "cell_type": "markdown",
   "metadata": {},
   "source": [
    "Проведя T-test, мы пришли к выводу о том, что среднее двух выборок равны. Мы задали пороговое значение в 1%."
   ]
  },
  {
   "cell_type": "code",
   "execution_count": 39,
   "metadata": {},
   "outputs": [
    {
     "name": "stdout",
     "output_type": "stream",
     "text": [
      "Средний рейтинг PC: 6.27\n",
      "Средний рейтинг XOne: 6.52\n"
     ]
    }
   ],
   "source": [
    "print('Средний рейтинг PC:', round(data.loc[data['platform'] == 'PC']['user_score'].mean(), 2))\n",
    "print('Средний рейтинг XOne:', round(data.loc[data['platform'] == 'XOne']['user_score'].mean(), 2))"
   ]
  },
  {
   "cell_type": "markdown",
   "metadata": {},
   "source": [
    "**5.2 Средние пользовательские рейтинги жанров Action и Sports разные**"
   ]
  },
  {
   "cell_type": "markdown",
   "metadata": {},
   "source": [
    "Сформулируем две гипотезы. Нулевая гипотеза: средняя оценка пользователей игр жанра Action равна Sports. Альтернативная: средняя оценка пользователей игр жанра Action не равна Sports."
   ]
  },
  {
   "cell_type": "code",
   "execution_count": 40,
   "metadata": {},
   "outputs": [
    {
     "name": "stdout",
     "output_type": "stream",
     "text": [
      "p-значение: 1.0517832389140023e-27\n",
      "Отвергаем нулевую гипотезу\n"
     ]
    }
   ],
   "source": [
    "table_action = list(data.loc[data['genre'] == 'Action']['user_score'].dropna())\n",
    "table_sports = list(data.loc[data['genre'] == 'Sports']['user_score'].dropna())\n",
    "\n",
    "alpha = .01\n",
    "\n",
    "results = st.ttest_ind(\n",
    "    table_action, \n",
    "    table_sports)\n",
    "\n",
    "print('p-значение:', results.pvalue)\n",
    "\n",
    "if results.pvalue < alpha:\n",
    "    print(\"Отвергаем нулевую гипотезу\")\n",
    "else:\n",
    "    print(\"Не получилось отвергнуть нулевую гипотезу\") "
   ]
  },
  {
   "cell_type": "markdown",
   "metadata": {},
   "source": [
    "Можно сделать вывод о неправильности нашей гипотезы, так как критический уровень статистической значимости больше, чем полученное значение, следовательно средние рейтинги этих жанров не равены друг другу."
   ]
  },
  {
   "cell_type": "code",
   "execution_count": 41,
   "metadata": {},
   "outputs": [
    {
     "name": "stdout",
     "output_type": "stream",
     "text": [
      "Средний рейтинг Action: 6.84\n",
      "Средний рейтинг Sports: 5.24\n"
     ]
    }
   ],
   "source": [
    "print('Средний рейтинг Action:', round(data.loc[data['genre'] == 'Action']['user_score'].mean(), 2))\n",
    "print('Средний рейтинг Sports:', round(data.loc[data['genre'] == 'Sports']['user_score'].mean(), 2))"
   ]
  },
  {
   "cell_type": "markdown",
   "metadata": {},
   "source": [
    "## Общий вывод"
   ]
  },
  {
   "cell_type": "markdown",
   "metadata": {},
   "source": [
    "**Было проведено исследование для выявления определяющих успешность игры закономерностей. Входные данные - исторические данные о продаже игр из открытых источников.**\n",
    "\n",
    "**Перед началом исследования были поставлены задачи:**\n",
    "- Выявить факторы, влияющие успешность игры;\n",
    "- Нарисовать портрет игрока из различных регионов мира;\n",
    "- Проверить две гипотезы о равенстве оценко игроков двух платформ и двух игровых жанров.\n",
    "\n",
    "\n",
    "**В результате проведённого исследования были выявлены следующие закономерности:**\n",
    "\n",
    "1) По оценке игроков и экспертов нельзя предсказать успешность того или иного продукта <br/>\n",
    "2) Среднее время жизни платформы около десяти лет, а зарождение нового поколения консоли происходит за пару лет до смерти предыдущего. <br/>\n",
    "3) Возрастающий тренд выпуска игр и продаж виден у таких платформ, как: PS4, PC, XOne, PSV. Умеренно спадающий у 3DS и WiiU. Это говорит о большой перспективности таких платформ как PS4, PC и XOne и умеренной перспективности 3DS <br/>\n",
    "4) В разных частях света интерес к игровым платформам и игровым жанрам несколько разнится. Это необходимо учитывать при планировании рекламной компании той или иной игры. <br/>\n",
    "\n",
    "\n",
    "**Проверка двух гипотез показала, что:**\n",
    "\n",
    "- Средние пользовательские рейтинги двух игровых платформ Xbox one и PC одинаковы: <br> \n",
    "    Средний рейтинг PC и Xbox one около 6.4 <br>\n",
    "- Средние пользовательские рейтинги жанров Action и Sports не одинаковы: <br>\n",
    "    Средний рейтинг Action: 6.84 <br>\n",
    "    Средний рейтинг Sports: 5.24 <br>\n",
    "    \n",
    "\n",
    "**Планирование рекламной компании должно опираться на:**\n",
    "\n",
    "1) Любимые жанры американцев и европейцев - Action, Sports, Shooter. Японцев - Action и Role-Playing <br/>\n",
    "2) Любимые платформы западного полушария - PS3, PS4, XOne . На Японском рынке лидирует платформа 3DS <br/>\n",
    "3) При выходе на Японском рынке игры с более низким возростным рейтингом продаются лучше, чем с высоким. На западе ровно наоборот. Но особенно хорошо продаются игры без рейтинга, что тоже нельзя не учитывать.<br/>\n",
    "\n",
    "**Общие рекомендации:**\n",
    "При оценке успешности игры и запуске рекламной компании необходимо операться на вышеописанную характеристику регионального геймера и больше продвигать игры на соответствующих популярных в регионе платформах, соответствующего региону жанра и соответсвтующего региону возрастного ограничения."
   ]
  }
 ],
 "metadata": {
  "ExecuteTimeLog": [
   {
    "duration": 404,
    "start_time": "2022-09-19T09:54:48.404Z"
   },
   {
    "duration": 202,
    "start_time": "2022-09-19T09:54:49.941Z"
   },
   {
    "duration": 20,
    "start_time": "2022-09-19T09:59:27.154Z"
   },
   {
    "duration": 13,
    "start_time": "2022-09-19T09:59:32.861Z"
   },
   {
    "duration": 12,
    "start_time": "2022-09-19T09:59:36.230Z"
   },
   {
    "duration": 15,
    "start_time": "2022-09-19T10:01:49.869Z"
   },
   {
    "duration": 3,
    "start_time": "2022-09-19T10:04:48.038Z"
   },
   {
    "duration": 4,
    "start_time": "2022-09-19T10:15:30.717Z"
   },
   {
    "duration": 22,
    "start_time": "2022-09-19T10:15:38.958Z"
   },
   {
    "duration": 64,
    "start_time": "2022-09-19T10:18:12.508Z"
   },
   {
    "duration": 15,
    "start_time": "2022-09-19T10:18:20.023Z"
   },
   {
    "duration": 25,
    "start_time": "2022-09-19T10:57:41.433Z"
   },
   {
    "duration": 16,
    "start_time": "2022-09-19T10:57:49.650Z"
   },
   {
    "duration": 3,
    "start_time": "2022-09-19T11:03:02.617Z"
   },
   {
    "duration": 3,
    "start_time": "2022-09-19T11:03:05.853Z"
   },
   {
    "duration": 12,
    "start_time": "2022-09-19T11:03:25.122Z"
   },
   {
    "duration": 5,
    "start_time": "2022-09-19T11:04:03.412Z"
   },
   {
    "duration": 9,
    "start_time": "2022-09-19T11:07:53.361Z"
   },
   {
    "duration": 11,
    "start_time": "2022-09-19T11:07:58.081Z"
   },
   {
    "duration": 9,
    "start_time": "2022-09-19T11:08:06.121Z"
   },
   {
    "duration": 10,
    "start_time": "2022-09-19T11:08:19.521Z"
   },
   {
    "duration": 8,
    "start_time": "2022-09-19T11:08:36.881Z"
   },
   {
    "duration": 48,
    "start_time": "2022-09-19T11:08:53.953Z"
   },
   {
    "duration": 11,
    "start_time": "2022-09-19T11:09:06.761Z"
   },
   {
    "duration": 10,
    "start_time": "2022-09-19T11:09:20.513Z"
   },
   {
    "duration": 14,
    "start_time": "2022-09-19T11:09:26.392Z"
   },
   {
    "duration": 12,
    "start_time": "2022-09-19T11:18:55.244Z"
   },
   {
    "duration": 11,
    "start_time": "2022-09-19T11:19:02.433Z"
   },
   {
    "duration": 11,
    "start_time": "2022-09-19T11:19:08.080Z"
   },
   {
    "duration": 20,
    "start_time": "2022-09-19T11:35:28.948Z"
   },
   {
    "duration": 3,
    "start_time": "2022-09-19T11:42:24.587Z"
   },
   {
    "duration": 22,
    "start_time": "2022-09-19T11:42:28.433Z"
   },
   {
    "duration": 4,
    "start_time": "2022-09-19T11:42:47.639Z"
   },
   {
    "duration": 24,
    "start_time": "2022-09-19T11:42:50.851Z"
   },
   {
    "duration": 2108,
    "start_time": "2022-09-19T11:43:19.235Z"
   },
   {
    "duration": 5,
    "start_time": "2022-09-19T11:43:26.421Z"
   },
   {
    "duration": 22,
    "start_time": "2022-09-19T11:43:28.739Z"
   },
   {
    "duration": 27,
    "start_time": "2022-09-19T12:01:59.239Z"
   },
   {
    "duration": 49,
    "start_time": "2022-09-20T07:46:35.200Z"
   },
   {
    "duration": 348,
    "start_time": "2022-09-20T07:46:47.039Z"
   },
   {
    "duration": 93,
    "start_time": "2022-09-20T07:46:47.389Z"
   },
   {
    "duration": 19,
    "start_time": "2022-09-20T07:46:47.484Z"
   },
   {
    "duration": 16,
    "start_time": "2022-09-20T07:46:47.504Z"
   },
   {
    "duration": 3,
    "start_time": "2022-09-20T07:46:47.522Z"
   },
   {
    "duration": 58,
    "start_time": "2022-09-20T07:46:47.526Z"
   },
   {
    "duration": 0,
    "start_time": "2022-09-20T07:46:47.585Z"
   },
   {
    "duration": 0,
    "start_time": "2022-09-20T07:46:47.586Z"
   },
   {
    "duration": 0,
    "start_time": "2022-09-20T07:46:47.587Z"
   },
   {
    "duration": 5,
    "start_time": "2022-09-20T07:47:10.356Z"
   },
   {
    "duration": 382,
    "start_time": "2022-09-20T07:47:17.807Z"
   },
   {
    "duration": 50,
    "start_time": "2022-09-20T07:47:18.191Z"
   },
   {
    "duration": 22,
    "start_time": "2022-09-20T07:47:18.243Z"
   },
   {
    "duration": 16,
    "start_time": "2022-09-20T07:47:18.266Z"
   },
   {
    "duration": 4,
    "start_time": "2022-09-20T07:47:18.285Z"
   },
   {
    "duration": 13,
    "start_time": "2022-09-20T07:47:18.291Z"
   },
   {
    "duration": 13,
    "start_time": "2022-09-20T07:47:18.305Z"
   },
   {
    "duration": 6,
    "start_time": "2022-09-20T07:47:18.319Z"
   },
   {
    "duration": 25,
    "start_time": "2022-09-20T07:47:18.327Z"
   },
   {
    "duration": 67,
    "start_time": "2022-09-20T07:48:47.436Z"
   },
   {
    "duration": 4,
    "start_time": "2022-09-20T07:49:10.402Z"
   },
   {
    "duration": 4,
    "start_time": "2022-09-20T07:49:12.820Z"
   },
   {
    "duration": 11,
    "start_time": "2022-09-20T07:49:19.214Z"
   },
   {
    "duration": 5,
    "start_time": "2022-09-20T07:49:35.793Z"
   },
   {
    "duration": 225,
    "start_time": "2022-09-20T07:50:02.479Z"
   },
   {
    "duration": 261,
    "start_time": "2022-09-20T07:50:10.855Z"
   },
   {
    "duration": 586,
    "start_time": "2022-09-20T07:50:26.914Z"
   },
   {
    "duration": 510,
    "start_time": "2022-09-20T07:50:28.742Z"
   },
   {
    "duration": 436,
    "start_time": "2022-09-20T07:50:36.193Z"
   },
   {
    "duration": 6,
    "start_time": "2022-09-20T07:51:00.767Z"
   },
   {
    "duration": 249,
    "start_time": "2022-09-20T07:51:52.016Z"
   },
   {
    "duration": 14,
    "start_time": "2022-09-20T07:55:33.591Z"
   },
   {
    "duration": 5,
    "start_time": "2022-09-20T07:55:35.824Z"
   },
   {
    "duration": 14,
    "start_time": "2022-09-20T07:55:43.166Z"
   },
   {
    "duration": 5,
    "start_time": "2022-09-20T07:55:45.027Z"
   },
   {
    "duration": 392,
    "start_time": "2022-09-20T07:55:55.098Z"
   },
   {
    "duration": 47,
    "start_time": "2022-09-20T07:55:55.492Z"
   },
   {
    "duration": 20,
    "start_time": "2022-09-20T07:55:55.541Z"
   },
   {
    "duration": 14,
    "start_time": "2022-09-20T07:55:55.562Z"
   },
   {
    "duration": 3,
    "start_time": "2022-09-20T07:55:55.578Z"
   },
   {
    "duration": 19,
    "start_time": "2022-09-20T07:55:55.582Z"
   },
   {
    "duration": 5,
    "start_time": "2022-09-20T07:55:55.603Z"
   },
   {
    "duration": 5,
    "start_time": "2022-09-20T07:55:55.610Z"
   },
   {
    "duration": 12,
    "start_time": "2022-09-20T07:55:55.616Z"
   },
   {
    "duration": 9,
    "start_time": "2022-09-20T07:55:55.630Z"
   },
   {
    "duration": 17,
    "start_time": "2022-09-20T07:55:55.640Z"
   },
   {
    "duration": 18,
    "start_time": "2022-09-20T07:56:22.938Z"
   },
   {
    "duration": 341,
    "start_time": "2022-09-20T07:58:32.635Z"
   },
   {
    "duration": 47,
    "start_time": "2022-09-20T07:58:32.978Z"
   },
   {
    "duration": 20,
    "start_time": "2022-09-20T07:58:33.026Z"
   },
   {
    "duration": 12,
    "start_time": "2022-09-20T07:58:33.047Z"
   },
   {
    "duration": 4,
    "start_time": "2022-09-20T07:58:33.061Z"
   },
   {
    "duration": 8,
    "start_time": "2022-09-20T07:58:33.066Z"
   },
   {
    "duration": 13,
    "start_time": "2022-09-20T07:58:33.075Z"
   },
   {
    "duration": 15,
    "start_time": "2022-09-20T07:58:33.089Z"
   },
   {
    "duration": 10,
    "start_time": "2022-09-20T07:58:33.106Z"
   },
   {
    "duration": 14,
    "start_time": "2022-09-20T07:58:33.117Z"
   },
   {
    "duration": 14,
    "start_time": "2022-09-20T07:58:33.133Z"
   },
   {
    "duration": 14,
    "start_time": "2022-09-20T08:00:27.550Z"
   },
   {
    "duration": 33,
    "start_time": "2022-09-20T08:00:34.262Z"
   },
   {
    "duration": 427,
    "start_time": "2022-09-20T08:01:38.966Z"
   },
   {
    "duration": 52,
    "start_time": "2022-09-20T08:01:39.395Z"
   },
   {
    "duration": 20,
    "start_time": "2022-09-20T08:01:39.449Z"
   },
   {
    "duration": 14,
    "start_time": "2022-09-20T08:01:39.471Z"
   },
   {
    "duration": 2,
    "start_time": "2022-09-20T08:01:39.487Z"
   },
   {
    "duration": 11,
    "start_time": "2022-09-20T08:01:39.499Z"
   },
   {
    "duration": 10,
    "start_time": "2022-09-20T08:01:39.512Z"
   },
   {
    "duration": 12,
    "start_time": "2022-09-20T08:01:39.523Z"
   },
   {
    "duration": 14,
    "start_time": "2022-09-20T08:01:39.537Z"
   },
   {
    "duration": 9,
    "start_time": "2022-09-20T08:01:39.553Z"
   },
   {
    "duration": 50,
    "start_time": "2022-09-20T08:01:39.563Z"
   },
   {
    "duration": 592,
    "start_time": "2022-09-20T08:19:39.759Z"
   },
   {
    "duration": 127,
    "start_time": "2022-09-20T08:21:57.615Z"
   },
   {
    "duration": 136,
    "start_time": "2022-09-20T08:25:41.039Z"
   },
   {
    "duration": 141,
    "start_time": "2022-09-20T08:25:47.372Z"
   },
   {
    "duration": 178,
    "start_time": "2022-09-20T08:25:57.471Z"
   },
   {
    "duration": 5,
    "start_time": "2022-09-20T08:30:41.392Z"
   },
   {
    "duration": 4,
    "start_time": "2022-09-20T08:31:30.870Z"
   },
   {
    "duration": 5,
    "start_time": "2022-09-20T08:31:37.157Z"
   },
   {
    "duration": 95,
    "start_time": "2022-09-20T08:33:24.046Z"
   },
   {
    "duration": 5,
    "start_time": "2022-09-20T08:33:45.011Z"
   },
   {
    "duration": 66,
    "start_time": "2022-09-20T08:36:02.326Z"
   },
   {
    "duration": 8,
    "start_time": "2022-09-20T08:37:40.729Z"
   },
   {
    "duration": 347,
    "start_time": "2022-09-20T08:37:52.571Z"
   },
   {
    "duration": 10,
    "start_time": "2022-09-20T08:38:13.518Z"
   },
   {
    "duration": 9,
    "start_time": "2022-09-20T08:39:15.149Z"
   },
   {
    "duration": 14,
    "start_time": "2022-09-20T08:40:10.816Z"
   },
   {
    "duration": 50,
    "start_time": "2022-09-20T09:12:00.892Z"
   },
   {
    "duration": 77,
    "start_time": "2022-09-20T09:12:29.154Z"
   },
   {
    "duration": 119,
    "start_time": "2022-09-20T09:15:36.274Z"
   },
   {
    "duration": 6,
    "start_time": "2022-09-20T09:16:07.472Z"
   },
   {
    "duration": 229,
    "start_time": "2022-09-20T09:20:13.635Z"
   },
   {
    "duration": 6,
    "start_time": "2022-09-20T10:38:08.470Z"
   },
   {
    "duration": 164,
    "start_time": "2022-09-20T10:38:10.101Z"
   },
   {
    "duration": 7,
    "start_time": "2022-09-20T10:41:28.350Z"
   },
   {
    "duration": 9,
    "start_time": "2022-09-20T10:41:43.789Z"
   },
   {
    "duration": 9,
    "start_time": "2022-09-20T10:41:55.329Z"
   },
   {
    "duration": 7,
    "start_time": "2022-09-20T10:42:50.869Z"
   },
   {
    "duration": 8,
    "start_time": "2022-09-20T10:43:42.195Z"
   },
   {
    "duration": 7,
    "start_time": "2022-09-20T10:43:52.599Z"
   },
   {
    "duration": 7,
    "start_time": "2022-09-20T10:43:57.919Z"
   },
   {
    "duration": 7,
    "start_time": "2022-09-20T10:44:30.613Z"
   },
   {
    "duration": 8,
    "start_time": "2022-09-20T10:47:51.597Z"
   },
   {
    "duration": 8,
    "start_time": "2022-09-20T10:47:59.888Z"
   },
   {
    "duration": 393,
    "start_time": "2022-09-20T10:48:30.625Z"
   },
   {
    "duration": 53,
    "start_time": "2022-09-20T10:48:31.020Z"
   },
   {
    "duration": 18,
    "start_time": "2022-09-20T10:48:31.075Z"
   },
   {
    "duration": 11,
    "start_time": "2022-09-20T10:48:31.095Z"
   },
   {
    "duration": 2,
    "start_time": "2022-09-20T10:48:31.108Z"
   },
   {
    "duration": 10,
    "start_time": "2022-09-20T10:48:31.112Z"
   },
   {
    "duration": 6,
    "start_time": "2022-09-20T10:48:31.123Z"
   },
   {
    "duration": 6,
    "start_time": "2022-09-20T10:48:31.130Z"
   },
   {
    "duration": 8,
    "start_time": "2022-09-20T10:48:31.137Z"
   },
   {
    "duration": 8,
    "start_time": "2022-09-20T10:48:31.146Z"
   },
   {
    "duration": 446,
    "start_time": "2022-09-20T10:48:31.156Z"
   },
   {
    "duration": 5,
    "start_time": "2022-09-20T10:48:31.604Z"
   },
   {
    "duration": 15,
    "start_time": "2022-09-20T10:48:31.610Z"
   },
   {
    "duration": 7,
    "start_time": "2022-09-20T10:48:31.628Z"
   },
   {
    "duration": 9,
    "start_time": "2022-09-20T10:48:31.637Z"
   },
   {
    "duration": 92,
    "start_time": "2022-09-20T10:48:31.648Z"
   },
   {
    "duration": 8,
    "start_time": "2022-09-20T10:56:15.959Z"
   },
   {
    "duration": 26,
    "start_time": "2022-09-20T10:56:26.621Z"
   },
   {
    "duration": 12,
    "start_time": "2022-09-20T10:56:40.229Z"
   },
   {
    "duration": 28,
    "start_time": "2022-09-20T10:56:56.156Z"
   },
   {
    "duration": 9,
    "start_time": "2022-09-20T10:57:47.131Z"
   },
   {
    "duration": 387,
    "start_time": "2022-09-20T11:07:16.008Z"
   },
   {
    "duration": 51,
    "start_time": "2022-09-20T11:07:16.396Z"
   },
   {
    "duration": 19,
    "start_time": "2022-09-20T11:07:16.449Z"
   },
   {
    "duration": 14,
    "start_time": "2022-09-20T11:07:16.469Z"
   },
   {
    "duration": 2,
    "start_time": "2022-09-20T11:07:16.485Z"
   },
   {
    "duration": 11,
    "start_time": "2022-09-20T11:07:16.489Z"
   },
   {
    "duration": 4,
    "start_time": "2022-09-20T11:07:16.502Z"
   },
   {
    "duration": 8,
    "start_time": "2022-09-20T11:07:16.508Z"
   },
   {
    "duration": 9,
    "start_time": "2022-09-20T11:07:16.518Z"
   },
   {
    "duration": 9,
    "start_time": "2022-09-20T11:07:16.529Z"
   },
   {
    "duration": 406,
    "start_time": "2022-09-20T11:07:16.539Z"
   },
   {
    "duration": 5,
    "start_time": "2022-09-20T11:07:16.946Z"
   },
   {
    "duration": 15,
    "start_time": "2022-09-20T11:07:16.952Z"
   },
   {
    "duration": 9,
    "start_time": "2022-09-20T11:07:16.969Z"
   },
   {
    "duration": 24,
    "start_time": "2022-09-20T11:07:16.980Z"
   },
   {
    "duration": 94,
    "start_time": "2022-09-20T11:07:17.007Z"
   },
   {
    "duration": 0,
    "start_time": "2022-09-20T11:07:17.103Z"
   },
   {
    "duration": 15,
    "start_time": "2022-09-20T11:08:28.336Z"
   },
   {
    "duration": 10,
    "start_time": "2022-09-20T11:09:47.124Z"
   },
   {
    "duration": 373,
    "start_time": "2022-09-20T11:11:11.913Z"
   },
   {
    "duration": 49,
    "start_time": "2022-09-20T11:11:12.287Z"
   },
   {
    "duration": 19,
    "start_time": "2022-09-20T11:11:12.337Z"
   },
   {
    "duration": 12,
    "start_time": "2022-09-20T11:11:12.357Z"
   },
   {
    "duration": 29,
    "start_time": "2022-09-20T11:11:12.372Z"
   },
   {
    "duration": 24,
    "start_time": "2022-09-20T11:11:12.403Z"
   },
   {
    "duration": 20,
    "start_time": "2022-09-20T11:11:12.429Z"
   },
   {
    "duration": 23,
    "start_time": "2022-09-20T11:11:12.450Z"
   },
   {
    "duration": 15,
    "start_time": "2022-09-20T11:11:12.475Z"
   },
   {
    "duration": 12,
    "start_time": "2022-09-20T11:11:12.491Z"
   },
   {
    "duration": 385,
    "start_time": "2022-09-20T11:11:12.504Z"
   },
   {
    "duration": 9,
    "start_time": "2022-09-20T11:11:12.891Z"
   },
   {
    "duration": 22,
    "start_time": "2022-09-20T11:11:12.902Z"
   },
   {
    "duration": 8,
    "start_time": "2022-09-20T11:11:12.927Z"
   },
   {
    "duration": 24,
    "start_time": "2022-09-20T11:11:12.936Z"
   },
   {
    "duration": 88,
    "start_time": "2022-09-20T11:11:12.962Z"
   },
   {
    "duration": 0,
    "start_time": "2022-09-20T11:11:13.051Z"
   },
   {
    "duration": 19,
    "start_time": "2022-09-20T11:12:06.525Z"
   },
   {
    "duration": 21,
    "start_time": "2022-09-20T11:12:23.045Z"
   },
   {
    "duration": 53,
    "start_time": "2022-09-20T11:13:08.744Z"
   },
   {
    "duration": 59,
    "start_time": "2022-09-20T11:13:20.362Z"
   },
   {
    "duration": 12,
    "start_time": "2022-09-20T11:13:58.511Z"
   },
   {
    "duration": 7,
    "start_time": "2022-09-20T11:14:59.110Z"
   },
   {
    "duration": 7,
    "start_time": "2022-09-20T11:15:12.506Z"
   },
   {
    "duration": 11,
    "start_time": "2022-09-20T11:15:22.320Z"
   },
   {
    "duration": 10,
    "start_time": "2022-09-20T11:16:24.748Z"
   },
   {
    "duration": 167,
    "start_time": "2022-09-20T11:20:19.179Z"
   },
   {
    "duration": 1706,
    "start_time": "2022-09-20T11:20:38.498Z"
   },
   {
    "duration": 1691,
    "start_time": "2022-09-20T11:29:09.242Z"
   },
   {
    "duration": 1668,
    "start_time": "2022-09-20T11:29:22.050Z"
   },
   {
    "duration": 95,
    "start_time": "2022-09-20T11:33:01.295Z"
   },
   {
    "duration": 5,
    "start_time": "2022-09-20T11:34:27.797Z"
   },
   {
    "duration": 346,
    "start_time": "2022-09-21T05:45:04.558Z"
   },
   {
    "duration": 94,
    "start_time": "2022-09-21T05:45:04.908Z"
   },
   {
    "duration": 19,
    "start_time": "2022-09-21T05:45:05.004Z"
   },
   {
    "duration": 13,
    "start_time": "2022-09-21T05:45:05.025Z"
   },
   {
    "duration": 13,
    "start_time": "2022-09-21T05:45:05.040Z"
   },
   {
    "duration": 19,
    "start_time": "2022-09-21T05:45:05.055Z"
   },
   {
    "duration": 10,
    "start_time": "2022-09-21T05:45:05.076Z"
   },
   {
    "duration": 12,
    "start_time": "2022-09-21T05:45:05.087Z"
   },
   {
    "duration": 6,
    "start_time": "2022-09-21T05:45:05.101Z"
   },
   {
    "duration": 9,
    "start_time": "2022-09-21T05:45:05.108Z"
   },
   {
    "duration": 516,
    "start_time": "2022-09-21T05:45:05.118Z"
   },
   {
    "duration": 5,
    "start_time": "2022-09-21T05:45:05.635Z"
   },
   {
    "duration": 18,
    "start_time": "2022-09-21T05:45:05.641Z"
   },
   {
    "duration": 7,
    "start_time": "2022-09-21T05:45:05.662Z"
   },
   {
    "duration": 11,
    "start_time": "2022-09-21T05:45:05.670Z"
   },
   {
    "duration": 1635,
    "start_time": "2022-09-21T05:45:05.683Z"
   },
   {
    "duration": 6,
    "start_time": "2022-09-21T05:45:07.321Z"
   },
   {
    "duration": 95,
    "start_time": "2022-09-21T05:45:07.328Z"
   },
   {
    "duration": 5,
    "start_time": "2022-09-21T05:45:15.649Z"
   },
   {
    "duration": 9,
    "start_time": "2022-09-21T05:45:25.550Z"
   },
   {
    "duration": 8,
    "start_time": "2022-09-21T05:46:18.388Z"
   },
   {
    "duration": 7,
    "start_time": "2022-09-21T05:46:34.128Z"
   },
   {
    "duration": 355,
    "start_time": "2022-09-21T07:29:32.057Z"
   },
   {
    "duration": 103,
    "start_time": "2022-09-21T07:29:32.414Z"
   },
   {
    "duration": 26,
    "start_time": "2022-09-21T07:29:32.519Z"
   },
   {
    "duration": 15,
    "start_time": "2022-09-21T07:29:32.549Z"
   },
   {
    "duration": 6,
    "start_time": "2022-09-21T07:29:32.566Z"
   },
   {
    "duration": 9,
    "start_time": "2022-09-21T07:29:32.574Z"
   },
   {
    "duration": 8,
    "start_time": "2022-09-21T07:29:32.585Z"
   },
   {
    "duration": 5,
    "start_time": "2022-09-21T07:29:32.609Z"
   },
   {
    "duration": 10,
    "start_time": "2022-09-21T07:29:32.616Z"
   },
   {
    "duration": 19,
    "start_time": "2022-09-21T07:29:32.629Z"
   },
   {
    "duration": 631,
    "start_time": "2022-09-21T07:29:32.651Z"
   },
   {
    "duration": 4,
    "start_time": "2022-09-21T07:29:33.284Z"
   },
   {
    "duration": 22,
    "start_time": "2022-09-21T07:29:33.289Z"
   },
   {
    "duration": 7,
    "start_time": "2022-09-21T07:29:33.312Z"
   },
   {
    "duration": 11,
    "start_time": "2022-09-21T07:29:33.320Z"
   },
   {
    "duration": 1683,
    "start_time": "2022-09-21T07:29:33.332Z"
   },
   {
    "duration": 7,
    "start_time": "2022-09-21T07:29:35.016Z"
   },
   {
    "duration": 11,
    "start_time": "2022-09-21T07:29:35.024Z"
   },
   {
    "duration": 480,
    "start_time": "2022-09-21T07:29:35.036Z"
   },
   {
    "duration": 7,
    "start_time": "2022-09-21T07:31:08.296Z"
   },
   {
    "duration": 7,
    "start_time": "2022-09-21T07:31:11.769Z"
   },
   {
    "duration": 8,
    "start_time": "2022-09-21T07:31:24.946Z"
   },
   {
    "duration": 1560,
    "start_time": "2022-09-21T07:32:14.824Z"
   },
   {
    "duration": 47,
    "start_time": "2022-09-21T07:45:24.802Z"
   },
   {
    "duration": 3001,
    "start_time": "2022-09-21T07:45:30.482Z"
   },
   {
    "duration": 10,
    "start_time": "2022-09-21T07:46:07.911Z"
   },
   {
    "duration": 1533,
    "start_time": "2022-09-21T07:46:23.459Z"
   },
   {
    "duration": 381,
    "start_time": "2022-09-21T07:48:04.571Z"
   },
   {
    "duration": 53,
    "start_time": "2022-09-21T07:48:04.954Z"
   },
   {
    "duration": 20,
    "start_time": "2022-09-21T07:48:05.008Z"
   },
   {
    "duration": 13,
    "start_time": "2022-09-21T07:48:05.030Z"
   },
   {
    "duration": 3,
    "start_time": "2022-09-21T07:48:05.044Z"
   },
   {
    "duration": 9,
    "start_time": "2022-09-21T07:48:05.048Z"
   },
   {
    "duration": 6,
    "start_time": "2022-09-21T07:48:05.058Z"
   },
   {
    "duration": 6,
    "start_time": "2022-09-21T07:48:05.066Z"
   },
   {
    "duration": 8,
    "start_time": "2022-09-21T07:48:05.073Z"
   },
   {
    "duration": 9,
    "start_time": "2022-09-21T07:48:05.108Z"
   },
   {
    "duration": 385,
    "start_time": "2022-09-21T07:48:05.119Z"
   },
   {
    "duration": 5,
    "start_time": "2022-09-21T07:48:05.505Z"
   },
   {
    "duration": 12,
    "start_time": "2022-09-21T07:48:05.512Z"
   },
   {
    "duration": 7,
    "start_time": "2022-09-21T07:48:05.525Z"
   },
   {
    "duration": 7,
    "start_time": "2022-09-21T07:48:05.533Z"
   },
   {
    "duration": 1592,
    "start_time": "2022-09-21T07:48:05.541Z"
   },
   {
    "duration": 6,
    "start_time": "2022-09-21T07:48:07.134Z"
   },
   {
    "duration": 15,
    "start_time": "2022-09-21T07:48:07.142Z"
   },
   {
    "duration": 2887,
    "start_time": "2022-09-21T07:48:07.158Z"
   },
   {
    "duration": 2984,
    "start_time": "2022-09-21T07:52:03.472Z"
   },
   {
    "duration": 417,
    "start_time": "2022-09-21T07:54:47.490Z"
   },
   {
    "duration": 52,
    "start_time": "2022-09-21T07:54:47.909Z"
   },
   {
    "duration": 19,
    "start_time": "2022-09-21T07:54:47.963Z"
   },
   {
    "duration": 13,
    "start_time": "2022-09-21T07:54:47.983Z"
   },
   {
    "duration": 3,
    "start_time": "2022-09-21T07:54:47.998Z"
   },
   {
    "duration": 9,
    "start_time": "2022-09-21T07:54:48.002Z"
   },
   {
    "duration": 5,
    "start_time": "2022-09-21T07:54:48.012Z"
   },
   {
    "duration": 6,
    "start_time": "2022-09-21T07:54:48.018Z"
   },
   {
    "duration": 7,
    "start_time": "2022-09-21T07:54:48.025Z"
   },
   {
    "duration": 11,
    "start_time": "2022-09-21T07:54:48.033Z"
   },
   {
    "duration": 362,
    "start_time": "2022-09-21T07:54:48.045Z"
   },
   {
    "duration": 4,
    "start_time": "2022-09-21T07:54:48.409Z"
   },
   {
    "duration": 14,
    "start_time": "2022-09-21T07:54:48.415Z"
   },
   {
    "duration": 7,
    "start_time": "2022-09-21T07:54:48.431Z"
   },
   {
    "duration": 8,
    "start_time": "2022-09-21T07:54:48.439Z"
   },
   {
    "duration": 1569,
    "start_time": "2022-09-21T07:54:48.448Z"
   },
   {
    "duration": 7,
    "start_time": "2022-09-21T07:54:50.018Z"
   },
   {
    "duration": 12,
    "start_time": "2022-09-21T07:54:50.026Z"
   },
   {
    "duration": 106,
    "start_time": "2022-09-21T07:54:50.040Z"
   },
   {
    "duration": 20,
    "start_time": "2022-09-21T07:55:09.665Z"
   },
   {
    "duration": 2930,
    "start_time": "2022-09-21T07:59:53.592Z"
   },
   {
    "duration": 466,
    "start_time": "2022-09-21T08:32:04.466Z"
   },
   {
    "duration": 426,
    "start_time": "2022-09-21T08:33:19.774Z"
   },
   {
    "duration": 151,
    "start_time": "2022-09-21T08:33:36.113Z"
   },
   {
    "duration": 114,
    "start_time": "2022-09-21T08:37:48.769Z"
   },
   {
    "duration": 129,
    "start_time": "2022-09-21T08:38:03.294Z"
   },
   {
    "duration": 111,
    "start_time": "2022-09-21T08:39:05.594Z"
   },
   {
    "duration": 122,
    "start_time": "2022-09-21T08:39:21.049Z"
   },
   {
    "duration": 342,
    "start_time": "2022-09-21T08:39:25.102Z"
   },
   {
    "duration": 117,
    "start_time": "2022-09-21T08:40:24.783Z"
   },
   {
    "duration": 122,
    "start_time": "2022-09-21T08:41:59.791Z"
   },
   {
    "duration": 113,
    "start_time": "2022-09-21T08:42:03.688Z"
   },
   {
    "duration": 121,
    "start_time": "2022-09-21T08:43:30.806Z"
   },
   {
    "duration": 11,
    "start_time": "2022-09-21T08:43:33.759Z"
   },
   {
    "duration": 13,
    "start_time": "2022-09-21T08:43:38.139Z"
   },
   {
    "duration": 11,
    "start_time": "2022-09-21T08:43:40.539Z"
   },
   {
    "duration": 657,
    "start_time": "2022-09-21T08:43:46.690Z"
   },
   {
    "duration": 71,
    "start_time": "2022-09-21T13:14:39.908Z"
   },
   {
    "duration": 41,
    "start_time": "2022-09-21T13:14:52.394Z"
   },
   {
    "duration": 1285,
    "start_time": "2022-09-21T13:15:31.192Z"
   },
   {
    "duration": 94,
    "start_time": "2022-09-21T13:15:32.479Z"
   },
   {
    "duration": 24,
    "start_time": "2022-09-21T13:15:32.575Z"
   },
   {
    "duration": 16,
    "start_time": "2022-09-21T13:15:32.601Z"
   },
   {
    "duration": 3,
    "start_time": "2022-09-21T13:15:32.619Z"
   },
   {
    "duration": 8,
    "start_time": "2022-09-21T13:15:32.623Z"
   },
   {
    "duration": 10,
    "start_time": "2022-09-21T13:15:32.632Z"
   },
   {
    "duration": 7,
    "start_time": "2022-09-21T13:15:32.643Z"
   },
   {
    "duration": 16,
    "start_time": "2022-09-21T13:15:32.652Z"
   },
   {
    "duration": 11,
    "start_time": "2022-09-21T13:15:32.670Z"
   },
   {
    "duration": 149,
    "start_time": "2022-09-21T13:15:32.683Z"
   },
   {
    "duration": 4,
    "start_time": "2022-09-21T13:15:32.834Z"
   },
   {
    "duration": 14,
    "start_time": "2022-09-21T13:15:32.839Z"
   },
   {
    "duration": 7,
    "start_time": "2022-09-21T13:15:32.855Z"
   },
   {
    "duration": 8,
    "start_time": "2022-09-21T13:15:32.863Z"
   },
   {
    "duration": 1546,
    "start_time": "2022-09-21T13:15:32.872Z"
   },
   {
    "duration": 7,
    "start_time": "2022-09-21T13:15:34.420Z"
   },
   {
    "duration": 11,
    "start_time": "2022-09-21T13:15:34.428Z"
   },
   {
    "duration": 2899,
    "start_time": "2022-09-21T13:15:34.441Z"
   },
   {
    "duration": 113,
    "start_time": "2022-09-21T13:15:37.341Z"
   },
   {
    "duration": 90,
    "start_time": "2022-09-21T13:17:34.516Z"
   },
   {
    "duration": 180,
    "start_time": "2022-09-21T13:17:46.400Z"
   },
   {
    "duration": 102,
    "start_time": "2022-09-21T13:19:30.037Z"
   },
   {
    "duration": 305,
    "start_time": "2022-09-21T13:19:39.404Z"
   },
   {
    "duration": 104,
    "start_time": "2022-09-21T13:20:12.638Z"
   },
   {
    "duration": 309,
    "start_time": "2022-09-21T13:20:17.885Z"
   },
   {
    "duration": 318,
    "start_time": "2022-09-21T13:21:02.663Z"
   },
   {
    "duration": 394,
    "start_time": "2022-09-21T13:21:54.166Z"
   },
   {
    "duration": 15,
    "start_time": "2022-09-21T13:28:49.536Z"
   },
   {
    "duration": 16,
    "start_time": "2022-09-21T13:29:11.677Z"
   },
   {
    "duration": 16,
    "start_time": "2022-09-21T13:29:21.073Z"
   },
   {
    "duration": 23,
    "start_time": "2022-09-21T13:30:03.089Z"
   },
   {
    "duration": 2162,
    "start_time": "2022-09-21T13:31:24.416Z"
   },
   {
    "duration": 19,
    "start_time": "2022-09-21T13:32:02.898Z"
   },
   {
    "duration": 165,
    "start_time": "2022-09-21T13:32:14.995Z"
   },
   {
    "duration": 19,
    "start_time": "2022-09-21T13:32:37.965Z"
   },
   {
    "duration": 1145,
    "start_time": "2022-09-21T13:32:54.412Z"
   },
   {
    "duration": 1379,
    "start_time": "2022-09-21T13:35:29.961Z"
   },
   {
    "duration": 152,
    "start_time": "2022-09-21T13:37:39.661Z"
   },
   {
    "duration": 140,
    "start_time": "2022-09-21T13:37:54.934Z"
   },
   {
    "duration": 130,
    "start_time": "2022-09-21T13:38:52.745Z"
   },
   {
    "duration": 259,
    "start_time": "2022-09-21T13:39:19.807Z"
   },
   {
    "duration": 284,
    "start_time": "2022-09-21T13:40:17.277Z"
   },
   {
    "duration": 360,
    "start_time": "2022-09-21T13:41:02.497Z"
   },
   {
    "duration": 288,
    "start_time": "2022-09-21T13:42:07.181Z"
   },
   {
    "duration": 43,
    "start_time": "2022-09-21T13:42:37.849Z"
   },
   {
    "duration": 308,
    "start_time": "2022-09-21T13:55:30.761Z"
   },
   {
    "duration": 254,
    "start_time": "2022-09-21T13:56:44.397Z"
   },
   {
    "duration": 263,
    "start_time": "2022-09-21T13:57:19.153Z"
   },
   {
    "duration": 67,
    "start_time": "2022-09-21T13:59:16.076Z"
   },
   {
    "duration": 241,
    "start_time": "2022-09-21T13:59:54.533Z"
   },
   {
    "duration": 4,
    "start_time": "2022-09-21T14:04:24.808Z"
   },
   {
    "duration": 7,
    "start_time": "2022-09-21T14:04:32.177Z"
   },
   {
    "duration": 11,
    "start_time": "2022-09-21T14:04:41.586Z"
   },
   {
    "duration": 12,
    "start_time": "2022-09-21T14:04:45.707Z"
   },
   {
    "duration": 11,
    "start_time": "2022-09-21T14:04:48.881Z"
   },
   {
    "duration": 16,
    "start_time": "2022-09-21T14:06:04.957Z"
   },
   {
    "duration": 868,
    "start_time": "2022-09-21T14:06:09.793Z"
   },
   {
    "duration": 24,
    "start_time": "2022-09-21T14:06:20.945Z"
   },
   {
    "duration": 28,
    "start_time": "2022-09-21T14:06:59.457Z"
   },
   {
    "duration": 27,
    "start_time": "2022-09-21T14:07:51.509Z"
   },
   {
    "duration": 28,
    "start_time": "2022-09-21T14:08:02.170Z"
   },
   {
    "duration": 25,
    "start_time": "2022-09-21T14:08:25.997Z"
   },
   {
    "duration": 22,
    "start_time": "2022-09-21T14:08:43.279Z"
   },
   {
    "duration": 23,
    "start_time": "2022-09-21T14:09:01.657Z"
   },
   {
    "duration": 23,
    "start_time": "2022-09-21T14:09:23.357Z"
   },
   {
    "duration": 575,
    "start_time": "2022-09-21T14:09:39.711Z"
   },
   {
    "duration": 20,
    "start_time": "2022-09-21T14:09:46.369Z"
   },
   {
    "duration": 20,
    "start_time": "2022-09-21T14:10:10.865Z"
   },
   {
    "duration": 71,
    "start_time": "2022-09-22T09:53:56.286Z"
   },
   {
    "duration": 1297,
    "start_time": "2022-09-22T09:54:01.782Z"
   },
   {
    "duration": 98,
    "start_time": "2022-09-22T09:54:03.081Z"
   },
   {
    "duration": 17,
    "start_time": "2022-09-22T09:54:03.180Z"
   },
   {
    "duration": 22,
    "start_time": "2022-09-22T09:54:03.199Z"
   },
   {
    "duration": 3,
    "start_time": "2022-09-22T09:54:03.223Z"
   },
   {
    "duration": 7,
    "start_time": "2022-09-22T09:54:03.228Z"
   },
   {
    "duration": 5,
    "start_time": "2022-09-22T09:54:03.237Z"
   },
   {
    "duration": 8,
    "start_time": "2022-09-22T09:54:03.244Z"
   },
   {
    "duration": 8,
    "start_time": "2022-09-22T09:54:03.253Z"
   },
   {
    "duration": 13,
    "start_time": "2022-09-22T09:54:03.263Z"
   },
   {
    "duration": 292,
    "start_time": "2022-09-22T09:54:03.278Z"
   },
   {
    "duration": 5,
    "start_time": "2022-09-22T09:54:03.571Z"
   },
   {
    "duration": 13,
    "start_time": "2022-09-22T09:54:03.577Z"
   },
   {
    "duration": 31,
    "start_time": "2022-09-22T09:54:03.592Z"
   },
   {
    "duration": 7,
    "start_time": "2022-09-22T09:54:03.625Z"
   },
   {
    "duration": 1516,
    "start_time": "2022-09-22T09:54:03.633Z"
   },
   {
    "duration": 6,
    "start_time": "2022-09-22T09:54:05.151Z"
   },
   {
    "duration": 14,
    "start_time": "2022-09-22T09:54:05.158Z"
   },
   {
    "duration": 2810,
    "start_time": "2022-09-22T09:54:05.173Z"
   },
   {
    "duration": 353,
    "start_time": "2022-09-22T09:54:07.984Z"
   },
   {
    "duration": 2,
    "start_time": "2022-09-22T09:54:08.339Z"
   },
   {
    "duration": 351,
    "start_time": "2022-09-22T09:54:08.343Z"
   },
   {
    "duration": 287,
    "start_time": "2022-09-22T09:54:08.696Z"
   },
   {
    "duration": 257,
    "start_time": "2022-09-22T09:54:08.984Z"
   },
   {
    "duration": 21,
    "start_time": "2022-09-22T09:54:09.242Z"
   },
   {
    "duration": 130,
    "start_time": "2022-09-22T09:54:09.264Z"
   },
   {
    "duration": 14,
    "start_time": "2022-09-22T09:54:17.838Z"
   },
   {
    "duration": 18,
    "start_time": "2022-09-22T09:54:37.122Z"
   },
   {
    "duration": 20,
    "start_time": "2022-09-22T09:54:49.709Z"
   },
   {
    "duration": 15,
    "start_time": "2022-09-22T09:56:38.893Z"
   },
   {
    "duration": 12,
    "start_time": "2022-09-22T09:56:53.875Z"
   },
   {
    "duration": 15,
    "start_time": "2022-09-22T09:57:04.429Z"
   },
   {
    "duration": 22,
    "start_time": "2022-09-22T09:57:13.697Z"
   },
   {
    "duration": 26,
    "start_time": "2022-09-22T09:57:56.381Z"
   },
   {
    "duration": 25,
    "start_time": "2022-09-22T09:58:16.021Z"
   },
   {
    "duration": 16,
    "start_time": "2022-09-22T09:58:32.579Z"
   },
   {
    "duration": 23,
    "start_time": "2022-09-22T09:58:43.121Z"
   },
   {
    "duration": 19,
    "start_time": "2022-09-22T09:58:54.930Z"
   },
   {
    "duration": 38,
    "start_time": "2022-09-22T09:59:13.191Z"
   },
   {
    "duration": 31,
    "start_time": "2022-09-22T09:59:31.877Z"
   },
   {
    "duration": 46,
    "start_time": "2022-09-22T09:59:50.333Z"
   },
   {
    "duration": 46,
    "start_time": "2022-09-22T10:08:42.603Z"
   },
   {
    "duration": 58,
    "start_time": "2022-09-22T11:06:12.583Z"
   },
   {
    "duration": 59,
    "start_time": "2022-09-22T11:06:24.507Z"
   },
   {
    "duration": 35,
    "start_time": "2022-09-22T11:06:35.736Z"
   },
   {
    "duration": 30,
    "start_time": "2022-09-22T11:06:49.349Z"
   },
   {
    "duration": 7,
    "start_time": "2022-09-22T12:16:39.473Z"
   },
   {
    "duration": 6,
    "start_time": "2022-09-22T12:16:52.249Z"
   },
   {
    "duration": 5,
    "start_time": "2022-09-22T12:16:55.493Z"
   },
   {
    "duration": 12,
    "start_time": "2022-09-22T12:17:21.033Z"
   },
   {
    "duration": 9,
    "start_time": "2022-09-22T12:23:30.431Z"
   },
   {
    "duration": 3,
    "start_time": "2022-09-22T12:23:38.474Z"
   },
   {
    "duration": 4,
    "start_time": "2022-09-22T12:25:11.339Z"
   },
   {
    "duration": 5,
    "start_time": "2022-09-22T12:25:26.037Z"
   },
   {
    "duration": 1119,
    "start_time": "2022-09-22T12:26:45.738Z"
   },
   {
    "duration": 80,
    "start_time": "2022-09-22T12:26:46.859Z"
   },
   {
    "duration": 15,
    "start_time": "2022-09-22T12:26:46.941Z"
   },
   {
    "duration": 13,
    "start_time": "2022-09-22T12:26:46.958Z"
   },
   {
    "duration": 3,
    "start_time": "2022-09-22T12:26:46.973Z"
   },
   {
    "duration": 7,
    "start_time": "2022-09-22T12:26:46.978Z"
   },
   {
    "duration": 6,
    "start_time": "2022-09-22T12:26:46.986Z"
   },
   {
    "duration": 40,
    "start_time": "2022-09-22T12:26:46.993Z"
   },
   {
    "duration": 7,
    "start_time": "2022-09-22T12:26:47.034Z"
   },
   {
    "duration": 10,
    "start_time": "2022-09-22T12:26:47.042Z"
   },
   {
    "duration": 295,
    "start_time": "2022-09-22T12:26:47.054Z"
   },
   {
    "duration": 4,
    "start_time": "2022-09-22T12:26:47.351Z"
   },
   {
    "duration": 15,
    "start_time": "2022-09-22T12:26:47.356Z"
   },
   {
    "duration": 10,
    "start_time": "2022-09-22T12:26:47.374Z"
   },
   {
    "duration": 28,
    "start_time": "2022-09-22T12:26:47.386Z"
   },
   {
    "duration": 1566,
    "start_time": "2022-09-22T12:26:47.416Z"
   },
   {
    "duration": 6,
    "start_time": "2022-09-22T12:26:48.983Z"
   },
   {
    "duration": 49,
    "start_time": "2022-09-22T12:26:48.990Z"
   },
   {
    "duration": 2934,
    "start_time": "2022-09-22T12:26:49.041Z"
   },
   {
    "duration": 375,
    "start_time": "2022-09-22T12:26:51.976Z"
   },
   {
    "duration": 2,
    "start_time": "2022-09-22T12:26:52.353Z"
   },
   {
    "duration": 370,
    "start_time": "2022-09-22T12:26:52.357Z"
   },
   {
    "duration": 270,
    "start_time": "2022-09-22T12:26:52.732Z"
   },
   {
    "duration": 279,
    "start_time": "2022-09-22T12:26:53.003Z"
   },
   {
    "duration": 35,
    "start_time": "2022-09-22T12:26:53.284Z"
   },
   {
    "duration": 44,
    "start_time": "2022-09-22T12:26:53.323Z"
   },
   {
    "duration": 33,
    "start_time": "2022-09-22T12:26:53.368Z"
   },
   {
    "duration": 49,
    "start_time": "2022-09-22T12:26:53.402Z"
   },
   {
    "duration": 8,
    "start_time": "2022-09-22T12:26:53.453Z"
   },
   {
    "duration": 7,
    "start_time": "2022-09-22T12:27:16.661Z"
   },
   {
    "duration": 11,
    "start_time": "2022-09-22T12:27:25.391Z"
   },
   {
    "duration": 9,
    "start_time": "2022-09-22T12:27:38.163Z"
   },
   {
    "duration": 11,
    "start_time": "2022-09-22T12:27:40.194Z"
   },
   {
    "duration": 21,
    "start_time": "2022-09-22T12:29:28.004Z"
   },
   {
    "duration": 13,
    "start_time": "2022-09-22T12:29:36.125Z"
   },
   {
    "duration": 11,
    "start_time": "2022-09-22T12:29:45.137Z"
   },
   {
    "duration": 1149,
    "start_time": "2022-09-22T12:29:59.326Z"
   },
   {
    "duration": 58,
    "start_time": "2022-09-22T12:30:00.477Z"
   },
   {
    "duration": 17,
    "start_time": "2022-09-22T12:30:00.536Z"
   },
   {
    "duration": 17,
    "start_time": "2022-09-22T12:30:00.556Z"
   },
   {
    "duration": 11,
    "start_time": "2022-09-22T12:30:00.575Z"
   },
   {
    "duration": 19,
    "start_time": "2022-09-22T12:30:00.588Z"
   },
   {
    "duration": 29,
    "start_time": "2022-09-22T12:30:00.608Z"
   },
   {
    "duration": 24,
    "start_time": "2022-09-22T12:30:00.638Z"
   },
   {
    "duration": 29,
    "start_time": "2022-09-22T12:30:00.663Z"
   },
   {
    "duration": 37,
    "start_time": "2022-09-22T12:30:00.694Z"
   },
   {
    "duration": 300,
    "start_time": "2022-09-22T12:30:00.733Z"
   },
   {
    "duration": 5,
    "start_time": "2022-09-22T12:30:01.035Z"
   },
   {
    "duration": 27,
    "start_time": "2022-09-22T12:30:01.042Z"
   },
   {
    "duration": 36,
    "start_time": "2022-09-22T12:30:01.070Z"
   },
   {
    "duration": 32,
    "start_time": "2022-09-22T12:30:01.108Z"
   },
   {
    "duration": 1547,
    "start_time": "2022-09-22T12:30:01.142Z"
   },
   {
    "duration": 7,
    "start_time": "2022-09-22T12:30:02.691Z"
   },
   {
    "duration": 12,
    "start_time": "2022-09-22T12:30:02.714Z"
   },
   {
    "duration": 2947,
    "start_time": "2022-09-22T12:30:02.728Z"
   },
   {
    "duration": 323,
    "start_time": "2022-09-22T12:30:05.676Z"
   },
   {
    "duration": 14,
    "start_time": "2022-09-22T12:30:06.001Z"
   },
   {
    "duration": 425,
    "start_time": "2022-09-22T12:30:06.016Z"
   },
   {
    "duration": 306,
    "start_time": "2022-09-22T12:30:06.443Z"
   },
   {
    "duration": 279,
    "start_time": "2022-09-22T12:30:06.751Z"
   },
   {
    "duration": 27,
    "start_time": "2022-09-22T12:30:07.032Z"
   },
   {
    "duration": 61,
    "start_time": "2022-09-22T12:30:07.062Z"
   },
   {
    "duration": 37,
    "start_time": "2022-09-22T12:30:07.124Z"
   },
   {
    "duration": 59,
    "start_time": "2022-09-22T12:30:07.164Z"
   },
   {
    "duration": 11,
    "start_time": "2022-09-22T12:30:07.228Z"
   },
   {
    "duration": 23,
    "start_time": "2022-09-22T12:30:07.241Z"
   },
   {
    "duration": 14,
    "start_time": "2022-09-22T12:48:14.538Z"
   },
   {
    "duration": 9,
    "start_time": "2022-09-22T12:48:17.293Z"
   },
   {
    "duration": 1076,
    "start_time": "2022-09-22T12:48:23.086Z"
   },
   {
    "duration": 65,
    "start_time": "2022-09-22T12:48:24.164Z"
   },
   {
    "duration": 19,
    "start_time": "2022-09-22T12:48:24.244Z"
   },
   {
    "duration": 13,
    "start_time": "2022-09-22T12:48:24.265Z"
   },
   {
    "duration": 3,
    "start_time": "2022-09-22T12:48:24.279Z"
   },
   {
    "duration": 8,
    "start_time": "2022-09-22T12:48:24.283Z"
   },
   {
    "duration": 61,
    "start_time": "2022-09-22T12:48:24.292Z"
   },
   {
    "duration": 15,
    "start_time": "2022-09-22T12:48:24.355Z"
   },
   {
    "duration": 16,
    "start_time": "2022-09-22T12:48:24.372Z"
   },
   {
    "duration": 7,
    "start_time": "2022-09-22T12:48:24.390Z"
   },
   {
    "duration": 373,
    "start_time": "2022-09-22T12:48:24.399Z"
   },
   {
    "duration": 5,
    "start_time": "2022-09-22T12:48:24.774Z"
   },
   {
    "duration": 58,
    "start_time": "2022-09-22T12:48:24.781Z"
   },
   {
    "duration": 17,
    "start_time": "2022-09-22T12:48:24.847Z"
   },
   {
    "duration": 42,
    "start_time": "2022-09-22T12:48:24.865Z"
   },
   {
    "duration": 1668,
    "start_time": "2022-09-22T12:48:24.909Z"
   },
   {
    "duration": 7,
    "start_time": "2022-09-22T12:48:26.579Z"
   },
   {
    "duration": 56,
    "start_time": "2022-09-22T12:48:26.587Z"
   },
   {
    "duration": 3027,
    "start_time": "2022-09-22T12:48:26.646Z"
   },
   {
    "duration": 369,
    "start_time": "2022-09-22T12:48:29.674Z"
   },
   {
    "duration": 3,
    "start_time": "2022-09-22T12:48:30.045Z"
   },
   {
    "duration": 377,
    "start_time": "2022-09-22T12:48:30.050Z"
   },
   {
    "duration": 291,
    "start_time": "2022-09-22T12:48:30.428Z"
   },
   {
    "duration": 268,
    "start_time": "2022-09-22T12:48:30.721Z"
   },
   {
    "duration": 49,
    "start_time": "2022-09-22T12:48:30.990Z"
   },
   {
    "duration": 34,
    "start_time": "2022-09-22T12:48:31.044Z"
   },
   {
    "duration": 60,
    "start_time": "2022-09-22T12:48:31.079Z"
   },
   {
    "duration": 31,
    "start_time": "2022-09-22T12:48:31.152Z"
   },
   {
    "duration": 9,
    "start_time": "2022-09-22T12:48:31.185Z"
   },
   {
    "duration": 13,
    "start_time": "2022-09-22T12:48:31.196Z"
   },
   {
    "duration": 10,
    "start_time": "2022-09-22T12:50:49.348Z"
   },
   {
    "duration": 10,
    "start_time": "2022-09-22T12:50:52.628Z"
   },
   {
    "duration": 9,
    "start_time": "2022-09-22T12:51:07.851Z"
   },
   {
    "duration": 11,
    "start_time": "2022-09-22T12:51:22.737Z"
   },
   {
    "duration": 11,
    "start_time": "2022-09-22T12:51:24.641Z"
   },
   {
    "duration": 1155,
    "start_time": "2022-09-22T12:52:53.734Z"
   },
   {
    "duration": 68,
    "start_time": "2022-09-22T12:52:54.891Z"
   },
   {
    "duration": 16,
    "start_time": "2022-09-22T12:52:54.961Z"
   },
   {
    "duration": 15,
    "start_time": "2022-09-22T12:52:54.978Z"
   },
   {
    "duration": 2,
    "start_time": "2022-09-22T12:52:54.995Z"
   },
   {
    "duration": 8,
    "start_time": "2022-09-22T12:52:54.998Z"
   },
   {
    "duration": 27,
    "start_time": "2022-09-22T12:52:55.008Z"
   },
   {
    "duration": 8,
    "start_time": "2022-09-22T12:52:55.037Z"
   },
   {
    "duration": 9,
    "start_time": "2022-09-22T12:52:55.046Z"
   },
   {
    "duration": 12,
    "start_time": "2022-09-22T12:52:55.057Z"
   },
   {
    "duration": 345,
    "start_time": "2022-09-22T12:52:55.070Z"
   },
   {
    "duration": 11,
    "start_time": "2022-09-22T12:52:55.416Z"
   },
   {
    "duration": 13,
    "start_time": "2022-09-22T12:52:55.428Z"
   },
   {
    "duration": 8,
    "start_time": "2022-09-22T12:52:55.443Z"
   },
   {
    "duration": 7,
    "start_time": "2022-09-22T12:52:55.452Z"
   },
   {
    "duration": 1571,
    "start_time": "2022-09-22T12:52:55.460Z"
   },
   {
    "duration": 7,
    "start_time": "2022-09-22T12:52:57.032Z"
   },
   {
    "duration": 13,
    "start_time": "2022-09-22T12:52:57.041Z"
   },
   {
    "duration": 2879,
    "start_time": "2022-09-22T12:52:57.056Z"
   },
   {
    "duration": 335,
    "start_time": "2022-09-22T12:52:59.936Z"
   },
   {
    "duration": 2,
    "start_time": "2022-09-22T12:53:00.272Z"
   },
   {
    "duration": 374,
    "start_time": "2022-09-22T12:53:00.275Z"
   },
   {
    "duration": 287,
    "start_time": "2022-09-22T12:53:00.651Z"
   },
   {
    "duration": 255,
    "start_time": "2022-09-22T12:53:00.940Z"
   },
   {
    "duration": 26,
    "start_time": "2022-09-22T12:53:01.197Z"
   },
   {
    "duration": 49,
    "start_time": "2022-09-22T12:53:01.227Z"
   },
   {
    "duration": 54,
    "start_time": "2022-09-22T12:53:01.278Z"
   },
   {
    "duration": 31,
    "start_time": "2022-09-22T12:53:01.334Z"
   },
   {
    "duration": 90,
    "start_time": "2022-09-22T12:53:01.367Z"
   },
   {
    "duration": 0,
    "start_time": "2022-09-22T12:53:01.459Z"
   },
   {
    "duration": 76,
    "start_time": "2022-09-22T12:53:15.605Z"
   },
   {
    "duration": 44,
    "start_time": "2022-09-22T12:53:22.260Z"
   },
   {
    "duration": 55,
    "start_time": "2022-09-22T12:53:32.536Z"
   },
   {
    "duration": 50,
    "start_time": "2022-09-22T12:53:53.822Z"
   },
   {
    "duration": 97,
    "start_time": "2022-09-22T12:54:00.633Z"
   },
   {
    "duration": 9,
    "start_time": "2022-09-22T12:55:56.791Z"
   },
   {
    "duration": 13,
    "start_time": "2022-09-22T12:56:36.533Z"
   },
   {
    "duration": 10,
    "start_time": "2022-09-22T12:57:02.054Z"
   },
   {
    "duration": 8,
    "start_time": "2022-09-22T12:57:17.957Z"
   },
   {
    "duration": 16,
    "start_time": "2022-09-22T12:57:45.639Z"
   },
   {
    "duration": 10,
    "start_time": "2022-09-22T13:01:17.170Z"
   },
   {
    "duration": 12,
    "start_time": "2022-09-22T13:06:06.457Z"
   },
   {
    "duration": 26,
    "start_time": "2022-09-22T13:06:25.029Z"
   },
   {
    "duration": 12,
    "start_time": "2022-09-22T13:06:43.051Z"
   },
   {
    "duration": 22,
    "start_time": "2022-09-22T13:06:46.213Z"
   },
   {
    "duration": 2,
    "start_time": "2022-09-22T13:14:07.986Z"
   },
   {
    "duration": 2,
    "start_time": "2022-09-22T13:26:08.093Z"
   },
   {
    "duration": 2,
    "start_time": "2022-09-22T13:26:24.298Z"
   },
   {
    "duration": 358,
    "start_time": "2022-09-22T13:26:47.272Z"
   },
   {
    "duration": 24,
    "start_time": "2022-09-22T13:32:09.336Z"
   },
   {
    "duration": 8,
    "start_time": "2022-09-22T13:32:25.171Z"
   },
   {
    "duration": 14,
    "start_time": "2022-09-22T13:33:00.951Z"
   },
   {
    "duration": 10,
    "start_time": "2022-09-22T13:33:32.473Z"
   },
   {
    "duration": 7,
    "start_time": "2022-09-22T13:33:50.591Z"
   },
   {
    "duration": 8,
    "start_time": "2022-09-22T13:33:59.568Z"
   },
   {
    "duration": 46,
    "start_time": "2022-09-22T13:36:15.605Z"
   },
   {
    "duration": 1218,
    "start_time": "2022-09-22T13:43:22.441Z"
   },
   {
    "duration": 66,
    "start_time": "2022-09-22T13:43:23.661Z"
   },
   {
    "duration": 23,
    "start_time": "2022-09-22T13:43:23.729Z"
   },
   {
    "duration": 28,
    "start_time": "2022-09-22T13:43:23.763Z"
   },
   {
    "duration": 3,
    "start_time": "2022-09-22T13:43:23.793Z"
   },
   {
    "duration": 30,
    "start_time": "2022-09-22T13:43:23.797Z"
   },
   {
    "duration": 35,
    "start_time": "2022-09-22T13:43:23.835Z"
   },
   {
    "duration": 10,
    "start_time": "2022-09-22T13:43:23.872Z"
   },
   {
    "duration": 6,
    "start_time": "2022-09-22T13:43:23.884Z"
   },
   {
    "duration": 12,
    "start_time": "2022-09-22T13:43:23.892Z"
   },
   {
    "duration": 376,
    "start_time": "2022-09-22T13:43:23.905Z"
   },
   {
    "duration": 5,
    "start_time": "2022-09-22T13:43:24.282Z"
   },
   {
    "duration": 15,
    "start_time": "2022-09-22T13:43:24.288Z"
   },
   {
    "duration": 34,
    "start_time": "2022-09-22T13:43:24.305Z"
   },
   {
    "duration": 23,
    "start_time": "2022-09-22T13:43:24.356Z"
   },
   {
    "duration": 1844,
    "start_time": "2022-09-22T13:43:24.381Z"
   },
   {
    "duration": 13,
    "start_time": "2022-09-22T13:43:26.230Z"
   },
   {
    "duration": 40,
    "start_time": "2022-09-22T13:43:26.247Z"
   },
   {
    "duration": 2845,
    "start_time": "2022-09-22T13:43:26.289Z"
   },
   {
    "duration": 325,
    "start_time": "2022-09-22T13:43:29.139Z"
   },
   {
    "duration": 3,
    "start_time": "2022-09-22T13:43:29.466Z"
   },
   {
    "duration": 308,
    "start_time": "2022-09-22T13:43:29.471Z"
   },
   {
    "duration": 319,
    "start_time": "2022-09-22T13:43:29.780Z"
   },
   {
    "duration": 400,
    "start_time": "2022-09-22T13:43:30.101Z"
   },
   {
    "duration": 34,
    "start_time": "2022-09-22T13:43:30.503Z"
   },
   {
    "duration": 64,
    "start_time": "2022-09-22T13:43:30.539Z"
   },
   {
    "duration": 57,
    "start_time": "2022-09-22T13:43:30.604Z"
   },
   {
    "duration": 40,
    "start_time": "2022-09-22T13:43:30.663Z"
   },
   {
    "duration": 25,
    "start_time": "2022-09-22T13:43:30.704Z"
   },
   {
    "duration": 29,
    "start_time": "2022-09-22T13:43:30.736Z"
   },
   {
    "duration": 15,
    "start_time": "2022-09-22T13:43:30.767Z"
   },
   {
    "duration": 43,
    "start_time": "2022-09-22T13:43:30.784Z"
   },
   {
    "duration": 19,
    "start_time": "2022-09-22T13:43:30.839Z"
   },
   {
    "duration": 1142,
    "start_time": "2022-09-22T13:45:39.593Z"
   },
   {
    "duration": 61,
    "start_time": "2022-09-22T13:45:40.736Z"
   },
   {
    "duration": 24,
    "start_time": "2022-09-22T13:45:40.798Z"
   },
   {
    "duration": 58,
    "start_time": "2022-09-22T13:45:40.825Z"
   },
   {
    "duration": 14,
    "start_time": "2022-09-22T13:45:40.885Z"
   },
   {
    "duration": 59,
    "start_time": "2022-09-22T13:45:40.900Z"
   },
   {
    "duration": 18,
    "start_time": "2022-09-22T13:45:40.961Z"
   },
   {
    "duration": 17,
    "start_time": "2022-09-22T13:45:40.980Z"
   },
   {
    "duration": 69,
    "start_time": "2022-09-22T13:45:40.998Z"
   },
   {
    "duration": 19,
    "start_time": "2022-09-22T13:45:41.070Z"
   },
   {
    "duration": 307,
    "start_time": "2022-09-22T13:45:41.090Z"
   },
   {
    "duration": 17,
    "start_time": "2022-09-22T13:45:41.399Z"
   },
   {
    "duration": 55,
    "start_time": "2022-09-22T13:45:41.417Z"
   },
   {
    "duration": 18,
    "start_time": "2022-09-22T13:45:41.473Z"
   },
   {
    "duration": 80,
    "start_time": "2022-09-22T13:45:41.493Z"
   },
   {
    "duration": 1696,
    "start_time": "2022-09-22T13:45:41.575Z"
   },
   {
    "duration": 9,
    "start_time": "2022-09-22T13:45:43.272Z"
   },
   {
    "duration": 10,
    "start_time": "2022-09-22T13:45:43.283Z"
   },
   {
    "duration": 3218,
    "start_time": "2022-09-22T13:45:43.294Z"
   },
   {
    "duration": 373,
    "start_time": "2022-09-22T13:45:46.513Z"
   },
   {
    "duration": 2,
    "start_time": "2022-09-22T13:45:46.888Z"
   },
   {
    "duration": 406,
    "start_time": "2022-09-22T13:45:46.891Z"
   },
   {
    "duration": 307,
    "start_time": "2022-09-22T13:45:47.299Z"
   },
   {
    "duration": 314,
    "start_time": "2022-09-22T13:45:47.608Z"
   },
   {
    "duration": 26,
    "start_time": "2022-09-22T13:45:47.927Z"
   },
   {
    "duration": 44,
    "start_time": "2022-09-22T13:45:47.957Z"
   },
   {
    "duration": 78,
    "start_time": "2022-09-22T13:45:48.003Z"
   },
   {
    "duration": 50,
    "start_time": "2022-09-22T13:45:48.085Z"
   },
   {
    "duration": 40,
    "start_time": "2022-09-22T13:45:48.138Z"
   },
   {
    "duration": 71,
    "start_time": "2022-09-22T13:45:48.180Z"
   },
   {
    "duration": 39,
    "start_time": "2022-09-22T13:45:48.253Z"
   },
   {
    "duration": 72,
    "start_time": "2022-09-22T13:45:48.293Z"
   },
   {
    "duration": 13,
    "start_time": "2022-09-22T13:45:48.366Z"
   },
   {
    "duration": 1066,
    "start_time": "2022-09-22T13:56:29.191Z"
   },
   {
    "duration": 64,
    "start_time": "2022-09-22T13:56:30.259Z"
   },
   {
    "duration": 20,
    "start_time": "2022-09-22T13:56:30.324Z"
   },
   {
    "duration": 19,
    "start_time": "2022-09-22T13:56:30.348Z"
   },
   {
    "duration": 17,
    "start_time": "2022-09-22T13:56:30.369Z"
   },
   {
    "duration": 19,
    "start_time": "2022-09-22T13:56:30.388Z"
   },
   {
    "duration": 24,
    "start_time": "2022-09-22T13:56:30.411Z"
   },
   {
    "duration": 24,
    "start_time": "2022-09-22T13:56:30.436Z"
   },
   {
    "duration": 10,
    "start_time": "2022-09-22T13:56:30.461Z"
   },
   {
    "duration": 16,
    "start_time": "2022-09-22T13:56:30.473Z"
   },
   {
    "duration": 313,
    "start_time": "2022-09-22T13:56:30.490Z"
   },
   {
    "duration": 8,
    "start_time": "2022-09-22T13:56:30.815Z"
   },
   {
    "duration": 38,
    "start_time": "2022-09-22T13:56:30.825Z"
   },
   {
    "duration": 10,
    "start_time": "2022-09-22T13:56:30.864Z"
   },
   {
    "duration": 11,
    "start_time": "2022-09-22T13:56:30.876Z"
   },
   {
    "duration": 1627,
    "start_time": "2022-09-22T13:56:30.888Z"
   },
   {
    "duration": 16,
    "start_time": "2022-09-22T13:56:32.516Z"
   },
   {
    "duration": 10,
    "start_time": "2022-09-22T13:56:32.534Z"
   },
   {
    "duration": 1612,
    "start_time": "2022-09-22T13:56:32.545Z"
   },
   {
    "duration": 240,
    "start_time": "2022-09-22T13:56:34.158Z"
   },
   {
    "duration": 27,
    "start_time": "2022-09-22T13:56:34.400Z"
   },
   {
    "duration": 324,
    "start_time": "2022-09-22T13:56:34.439Z"
   },
   {
    "duration": 327,
    "start_time": "2022-09-22T13:56:34.765Z"
   },
   {
    "duration": 276,
    "start_time": "2022-09-22T13:56:35.094Z"
   },
   {
    "duration": 18,
    "start_time": "2022-09-22T13:56:35.372Z"
   },
   {
    "duration": 70,
    "start_time": "2022-09-22T13:56:35.392Z"
   },
   {
    "duration": 29,
    "start_time": "2022-09-22T13:56:35.463Z"
   },
   {
    "duration": 52,
    "start_time": "2022-09-22T13:56:35.495Z"
   },
   {
    "duration": 8,
    "start_time": "2022-09-22T13:56:35.549Z"
   },
   {
    "duration": 7,
    "start_time": "2022-09-22T13:56:35.559Z"
   },
   {
    "duration": 10,
    "start_time": "2022-09-22T13:56:35.567Z"
   },
   {
    "duration": 11,
    "start_time": "2022-09-22T13:56:35.578Z"
   },
   {
    "duration": 5,
    "start_time": "2022-09-22T13:56:35.590Z"
   },
   {
    "duration": 331,
    "start_time": "2022-09-22T13:58:58.000Z"
   },
   {
    "duration": 1588,
    "start_time": "2022-09-22T14:15:51.636Z"
   },
   {
    "duration": 72,
    "start_time": "2022-09-22T14:15:53.225Z"
   },
   {
    "duration": 28,
    "start_time": "2022-09-22T14:15:53.298Z"
   },
   {
    "duration": 47,
    "start_time": "2022-09-22T14:15:53.329Z"
   },
   {
    "duration": 3,
    "start_time": "2022-09-22T14:15:53.380Z"
   },
   {
    "duration": 12,
    "start_time": "2022-09-22T14:15:53.384Z"
   },
   {
    "duration": 71,
    "start_time": "2022-09-22T14:15:53.397Z"
   },
   {
    "duration": 6,
    "start_time": "2022-09-22T14:15:53.469Z"
   },
   {
    "duration": 7,
    "start_time": "2022-09-22T14:15:53.476Z"
   },
   {
    "duration": 8,
    "start_time": "2022-09-22T14:15:53.484Z"
   },
   {
    "duration": 407,
    "start_time": "2022-09-22T14:15:53.493Z"
   },
   {
    "duration": 6,
    "start_time": "2022-09-22T14:15:53.901Z"
   },
   {
    "duration": 68,
    "start_time": "2022-09-22T14:15:53.911Z"
   },
   {
    "duration": 8,
    "start_time": "2022-09-22T14:15:53.981Z"
   },
   {
    "duration": 10,
    "start_time": "2022-09-22T14:15:53.990Z"
   },
   {
    "duration": 1968,
    "start_time": "2022-09-22T14:15:54.002Z"
   },
   {
    "duration": 7,
    "start_time": "2022-09-22T14:15:55.971Z"
   },
   {
    "duration": 11,
    "start_time": "2022-09-22T14:15:55.979Z"
   },
   {
    "duration": 1874,
    "start_time": "2022-09-22T14:15:55.992Z"
   },
   {
    "duration": 264,
    "start_time": "2022-09-22T14:15:57.867Z"
   },
   {
    "duration": 3,
    "start_time": "2022-09-22T14:15:58.133Z"
   },
   {
    "duration": 330,
    "start_time": "2022-09-22T14:15:58.137Z"
   },
   {
    "duration": 310,
    "start_time": "2022-09-22T14:15:58.469Z"
   },
   {
    "duration": 326,
    "start_time": "2022-09-22T14:15:58.781Z"
   },
   {
    "duration": 32,
    "start_time": "2022-09-22T14:15:59.108Z"
   },
   {
    "duration": 49,
    "start_time": "2022-09-22T14:15:59.141Z"
   },
   {
    "duration": 42,
    "start_time": "2022-09-22T14:15:59.192Z"
   },
   {
    "duration": 51,
    "start_time": "2022-09-22T14:15:59.235Z"
   },
   {
    "duration": 12,
    "start_time": "2022-09-22T14:15:59.288Z"
   },
   {
    "duration": 54,
    "start_time": "2022-09-22T14:15:59.302Z"
   },
   {
    "duration": 18,
    "start_time": "2022-09-22T14:15:59.357Z"
   },
   {
    "duration": 8,
    "start_time": "2022-09-22T14:15:59.376Z"
   },
   {
    "duration": 52,
    "start_time": "2022-09-22T14:54:07.669Z"
   },
   {
    "duration": 1493,
    "start_time": "2022-09-22T14:54:14.237Z"
   },
   {
    "duration": 98,
    "start_time": "2022-09-22T14:54:15.733Z"
   },
   {
    "duration": 28,
    "start_time": "2022-09-22T14:54:15.833Z"
   },
   {
    "duration": 30,
    "start_time": "2022-09-22T14:54:15.864Z"
   },
   {
    "duration": 4,
    "start_time": "2022-09-22T14:54:15.898Z"
   },
   {
    "duration": 14,
    "start_time": "2022-09-22T14:54:15.904Z"
   },
   {
    "duration": 14,
    "start_time": "2022-09-22T14:54:15.920Z"
   },
   {
    "duration": 7,
    "start_time": "2022-09-22T14:54:15.955Z"
   },
   {
    "duration": 17,
    "start_time": "2022-09-22T14:54:15.965Z"
   },
   {
    "duration": 10,
    "start_time": "2022-09-22T14:54:15.985Z"
   },
   {
    "duration": 11,
    "start_time": "2022-09-22T14:54:15.997Z"
   },
   {
    "duration": 357,
    "start_time": "2022-09-22T14:54:16.009Z"
   },
   {
    "duration": 7,
    "start_time": "2022-09-22T14:54:16.369Z"
   },
   {
    "duration": 29,
    "start_time": "2022-09-22T14:54:16.379Z"
   },
   {
    "duration": 16,
    "start_time": "2022-09-22T14:54:16.410Z"
   },
   {
    "duration": 13,
    "start_time": "2022-09-22T14:54:16.428Z"
   },
   {
    "duration": 1870,
    "start_time": "2022-09-22T14:54:16.454Z"
   },
   {
    "duration": 10,
    "start_time": "2022-09-22T14:54:18.327Z"
   },
   {
    "duration": 29,
    "start_time": "2022-09-22T14:54:18.339Z"
   },
   {
    "duration": 1913,
    "start_time": "2022-09-22T14:54:18.370Z"
   },
   {
    "duration": 271,
    "start_time": "2022-09-22T14:54:20.285Z"
   },
   {
    "duration": 3,
    "start_time": "2022-09-22T14:54:20.558Z"
   },
   {
    "duration": 344,
    "start_time": "2022-09-22T14:54:20.563Z"
   },
   {
    "duration": 336,
    "start_time": "2022-09-22T14:54:20.909Z"
   },
   {
    "duration": 404,
    "start_time": "2022-09-22T14:54:21.247Z"
   },
   {
    "duration": 30,
    "start_time": "2022-09-22T14:54:21.655Z"
   },
   {
    "duration": 80,
    "start_time": "2022-09-22T14:54:21.688Z"
   },
   {
    "duration": 37,
    "start_time": "2022-09-22T14:54:21.770Z"
   },
   {
    "duration": 61,
    "start_time": "2022-09-22T14:54:21.809Z"
   },
   {
    "duration": 11,
    "start_time": "2022-09-22T14:54:21.872Z"
   },
   {
    "duration": 14,
    "start_time": "2022-09-22T14:54:21.885Z"
   },
   {
    "duration": 14,
    "start_time": "2022-09-22T14:54:21.901Z"
   },
   {
    "duration": 42,
    "start_time": "2022-09-22T14:54:21.917Z"
   },
   {
    "duration": 107,
    "start_time": "2022-09-22T14:54:38.929Z"
   },
   {
    "duration": 8,
    "start_time": "2022-09-22T14:54:43.450Z"
   },
   {
    "duration": 1251,
    "start_time": "2022-09-22T14:55:00.783Z"
   },
   {
    "duration": 55,
    "start_time": "2022-09-22T14:55:02.036Z"
   },
   {
    "duration": 26,
    "start_time": "2022-09-22T14:55:02.092Z"
   },
   {
    "duration": 17,
    "start_time": "2022-09-22T14:55:02.120Z"
   },
   {
    "duration": 16,
    "start_time": "2022-09-22T14:55:02.139Z"
   },
   {
    "duration": 129,
    "start_time": "2022-09-22T14:55:02.157Z"
   },
   {
    "duration": 0,
    "start_time": "2022-09-22T14:55:02.288Z"
   },
   {
    "duration": 0,
    "start_time": "2022-09-22T14:55:02.289Z"
   },
   {
    "duration": 0,
    "start_time": "2022-09-22T14:55:02.291Z"
   },
   {
    "duration": 0,
    "start_time": "2022-09-22T14:55:02.292Z"
   },
   {
    "duration": 0,
    "start_time": "2022-09-22T14:55:02.293Z"
   },
   {
    "duration": 0,
    "start_time": "2022-09-22T14:55:02.294Z"
   },
   {
    "duration": 0,
    "start_time": "2022-09-22T14:55:02.295Z"
   },
   {
    "duration": 0,
    "start_time": "2022-09-22T14:55:02.296Z"
   },
   {
    "duration": 0,
    "start_time": "2022-09-22T14:55:02.297Z"
   },
   {
    "duration": 0,
    "start_time": "2022-09-22T14:55:02.298Z"
   },
   {
    "duration": 0,
    "start_time": "2022-09-22T14:55:02.299Z"
   },
   {
    "duration": 0,
    "start_time": "2022-09-22T14:55:02.300Z"
   },
   {
    "duration": 0,
    "start_time": "2022-09-22T14:55:02.301Z"
   },
   {
    "duration": 0,
    "start_time": "2022-09-22T14:55:02.302Z"
   },
   {
    "duration": 0,
    "start_time": "2022-09-22T14:55:02.303Z"
   },
   {
    "duration": 0,
    "start_time": "2022-09-22T14:55:02.305Z"
   },
   {
    "duration": 0,
    "start_time": "2022-09-22T14:55:02.306Z"
   },
   {
    "duration": 0,
    "start_time": "2022-09-22T14:55:02.308Z"
   },
   {
    "duration": 0,
    "start_time": "2022-09-22T14:55:02.309Z"
   },
   {
    "duration": 0,
    "start_time": "2022-09-22T14:55:02.310Z"
   },
   {
    "duration": 0,
    "start_time": "2022-09-22T14:55:02.311Z"
   },
   {
    "duration": 0,
    "start_time": "2022-09-22T14:55:02.312Z"
   },
   {
    "duration": 0,
    "start_time": "2022-09-22T14:55:02.313Z"
   },
   {
    "duration": 0,
    "start_time": "2022-09-22T14:55:02.354Z"
   },
   {
    "duration": 0,
    "start_time": "2022-09-22T14:55:02.355Z"
   },
   {
    "duration": 0,
    "start_time": "2022-09-22T14:55:02.357Z"
   },
   {
    "duration": 0,
    "start_time": "2022-09-22T14:55:02.358Z"
   },
   {
    "duration": 9,
    "start_time": "2022-09-22T14:55:11.507Z"
   },
   {
    "duration": 1296,
    "start_time": "2022-09-22T14:57:08.247Z"
   },
   {
    "duration": 54,
    "start_time": "2022-09-22T14:57:09.545Z"
   },
   {
    "duration": 26,
    "start_time": "2022-09-22T14:57:09.602Z"
   },
   {
    "duration": 24,
    "start_time": "2022-09-22T14:57:09.630Z"
   },
   {
    "duration": 4,
    "start_time": "2022-09-22T14:57:09.657Z"
   },
   {
    "duration": 24,
    "start_time": "2022-09-22T14:57:09.663Z"
   },
   {
    "duration": 19,
    "start_time": "2022-09-22T14:57:09.689Z"
   },
   {
    "duration": 21,
    "start_time": "2022-09-22T14:57:09.710Z"
   },
   {
    "duration": 30,
    "start_time": "2022-09-22T14:57:09.734Z"
   },
   {
    "duration": 20,
    "start_time": "2022-09-22T14:57:09.766Z"
   },
   {
    "duration": 337,
    "start_time": "2022-09-22T14:57:09.788Z"
   },
   {
    "duration": 6,
    "start_time": "2022-09-22T14:57:10.127Z"
   },
   {
    "duration": 29,
    "start_time": "2022-09-22T14:57:10.135Z"
   },
   {
    "duration": 19,
    "start_time": "2022-09-22T14:57:10.168Z"
   },
   {
    "duration": 24,
    "start_time": "2022-09-22T14:57:10.189Z"
   },
   {
    "duration": 1925,
    "start_time": "2022-09-22T14:57:10.215Z"
   },
   {
    "duration": 15,
    "start_time": "2022-09-22T14:57:12.143Z"
   },
   {
    "duration": 12,
    "start_time": "2022-09-22T14:57:12.161Z"
   },
   {
    "duration": 2088,
    "start_time": "2022-09-22T14:57:12.176Z"
   },
   {
    "duration": 300,
    "start_time": "2022-09-22T14:57:14.267Z"
   },
   {
    "duration": 3,
    "start_time": "2022-09-22T14:57:14.569Z"
   },
   {
    "duration": 331,
    "start_time": "2022-09-22T14:57:14.573Z"
   },
   {
    "duration": 360,
    "start_time": "2022-09-22T14:57:14.906Z"
   },
   {
    "duration": 342,
    "start_time": "2022-09-22T14:57:15.268Z"
   },
   {
    "duration": 43,
    "start_time": "2022-09-22T14:57:15.613Z"
   },
   {
    "duration": 42,
    "start_time": "2022-09-22T14:57:15.659Z"
   },
   {
    "duration": 67,
    "start_time": "2022-09-22T14:57:15.703Z"
   },
   {
    "duration": 40,
    "start_time": "2022-09-22T14:57:15.772Z"
   },
   {
    "duration": 44,
    "start_time": "2022-09-22T14:57:15.814Z"
   },
   {
    "duration": 19,
    "start_time": "2022-09-22T14:57:15.860Z"
   },
   {
    "duration": 16,
    "start_time": "2022-09-22T14:57:15.881Z"
   },
   {
    "duration": 35,
    "start_time": "2022-09-22T14:57:15.899Z"
   },
   {
    "duration": 404,
    "start_time": "2022-09-22T16:17:08.900Z"
   },
   {
    "duration": 3,
    "start_time": "2022-09-22T16:17:33.347Z"
   },
   {
    "duration": 480,
    "start_time": "2022-09-22T16:17:35.202Z"
   },
   {
    "duration": 4,
    "start_time": "2022-09-22T16:18:01.442Z"
   },
   {
    "duration": 277,
    "start_time": "2022-09-22T16:18:03.337Z"
   },
   {
    "duration": 276,
    "start_time": "2022-09-22T16:18:15.081Z"
   },
   {
    "duration": 298,
    "start_time": "2022-09-22T16:18:25.794Z"
   },
   {
    "duration": 236,
    "start_time": "2022-09-22T16:18:33.642Z"
   },
   {
    "duration": 594,
    "start_time": "2022-09-22T16:18:41.362Z"
   },
   {
    "duration": 9,
    "start_time": "2022-09-22T16:42:23.291Z"
   },
   {
    "duration": 1329,
    "start_time": "2022-09-22T16:42:29.339Z"
   },
   {
    "duration": 58,
    "start_time": "2022-09-22T16:42:30.671Z"
   },
   {
    "duration": 19,
    "start_time": "2022-09-22T16:42:30.730Z"
   },
   {
    "duration": 56,
    "start_time": "2022-09-22T16:42:30.751Z"
   },
   {
    "duration": 31,
    "start_time": "2022-09-22T16:42:30.810Z"
   },
   {
    "duration": 59,
    "start_time": "2022-09-22T16:42:30.842Z"
   },
   {
    "duration": 60,
    "start_time": "2022-09-22T16:42:30.904Z"
   },
   {
    "duration": 45,
    "start_time": "2022-09-22T16:42:30.966Z"
   },
   {
    "duration": 53,
    "start_time": "2022-09-22T16:42:31.013Z"
   },
   {
    "duration": 72,
    "start_time": "2022-09-22T16:42:31.068Z"
   },
   {
    "duration": 447,
    "start_time": "2022-09-22T16:42:31.142Z"
   },
   {
    "duration": 9,
    "start_time": "2022-09-22T16:42:31.592Z"
   },
   {
    "duration": 52,
    "start_time": "2022-09-22T16:42:31.604Z"
   },
   {
    "duration": 56,
    "start_time": "2022-09-22T16:42:31.661Z"
   },
   {
    "duration": 23,
    "start_time": "2022-09-22T16:42:31.719Z"
   },
   {
    "duration": 2034,
    "start_time": "2022-09-22T16:42:31.744Z"
   },
   {
    "duration": 13,
    "start_time": "2022-09-22T16:42:33.781Z"
   },
   {
    "duration": 21,
    "start_time": "2022-09-22T16:42:33.796Z"
   },
   {
    "duration": 2113,
    "start_time": "2022-09-22T16:42:33.819Z"
   },
   {
    "duration": 311,
    "start_time": "2022-09-22T16:42:35.934Z"
   },
   {
    "duration": 342,
    "start_time": "2022-09-22T16:42:36.248Z"
   },
   {
    "duration": 351,
    "start_time": "2022-09-22T16:42:36.592Z"
   },
   {
    "duration": 367,
    "start_time": "2022-09-22T16:42:36.945Z"
   },
   {
    "duration": 28,
    "start_time": "2022-09-22T16:42:37.316Z"
   },
   {
    "duration": 52,
    "start_time": "2022-09-22T16:42:37.355Z"
   },
   {
    "duration": 71,
    "start_time": "2022-09-22T16:42:37.409Z"
   },
   {
    "duration": 35,
    "start_time": "2022-09-22T16:42:37.482Z"
   },
   {
    "duration": 5,
    "start_time": "2022-09-22T16:42:37.519Z"
   },
   {
    "duration": 34,
    "start_time": "2022-09-22T16:42:37.526Z"
   },
   {
    "duration": 21,
    "start_time": "2022-09-22T16:42:37.562Z"
   },
   {
    "duration": 11,
    "start_time": "2022-09-22T16:42:37.585Z"
   },
   {
    "duration": 15,
    "start_time": "2022-09-22T16:42:37.598Z"
   },
   {
    "duration": 50,
    "start_time": "2022-09-22T16:42:46.518Z"
   },
   {
    "duration": 6,
    "start_time": "2022-09-22T16:43:51.221Z"
   },
   {
    "duration": 7,
    "start_time": "2022-09-22T16:43:56.931Z"
   },
   {
    "duration": 7,
    "start_time": "2022-09-22T16:44:01.820Z"
   },
   {
    "duration": 6,
    "start_time": "2022-09-22T16:44:13.413Z"
   },
   {
    "duration": 7,
    "start_time": "2022-09-22T16:44:18.548Z"
   },
   {
    "duration": 9,
    "start_time": "2022-09-22T16:44:22.845Z"
   },
   {
    "duration": 7,
    "start_time": "2022-09-22T16:45:05.501Z"
   },
   {
    "duration": 12,
    "start_time": "2022-09-22T16:45:07.516Z"
   },
   {
    "duration": 8,
    "start_time": "2022-09-22T16:45:36.205Z"
   },
   {
    "duration": 6,
    "start_time": "2022-09-22T16:45:38.343Z"
   },
   {
    "duration": 6,
    "start_time": "2022-09-22T16:49:38.602Z"
   },
   {
    "duration": 6,
    "start_time": "2022-09-22T16:49:41.243Z"
   },
   {
    "duration": 13,
    "start_time": "2022-09-22T16:49:44.866Z"
   },
   {
    "duration": 15,
    "start_time": "2022-09-22T16:49:48.050Z"
   },
   {
    "duration": 1271,
    "start_time": "2022-09-22T16:53:06.837Z"
   },
   {
    "duration": 56,
    "start_time": "2022-09-22T16:53:08.110Z"
   },
   {
    "duration": 24,
    "start_time": "2022-09-22T16:53:08.171Z"
   },
   {
    "duration": 36,
    "start_time": "2022-09-22T16:53:08.198Z"
   },
   {
    "duration": 17,
    "start_time": "2022-09-22T16:53:08.237Z"
   },
   {
    "duration": 52,
    "start_time": "2022-09-22T16:53:08.257Z"
   },
   {
    "duration": 0,
    "start_time": "2022-09-22T16:53:08.312Z"
   },
   {
    "duration": 0,
    "start_time": "2022-09-22T16:53:08.313Z"
   },
   {
    "duration": 0,
    "start_time": "2022-09-22T16:53:08.314Z"
   },
   {
    "duration": 0,
    "start_time": "2022-09-22T16:53:08.316Z"
   },
   {
    "duration": 0,
    "start_time": "2022-09-22T16:53:08.317Z"
   },
   {
    "duration": 0,
    "start_time": "2022-09-22T16:53:08.319Z"
   },
   {
    "duration": 0,
    "start_time": "2022-09-22T16:53:08.320Z"
   },
   {
    "duration": 0,
    "start_time": "2022-09-22T16:53:08.321Z"
   },
   {
    "duration": 0,
    "start_time": "2022-09-22T16:53:08.323Z"
   },
   {
    "duration": 0,
    "start_time": "2022-09-22T16:53:08.325Z"
   },
   {
    "duration": 0,
    "start_time": "2022-09-22T16:53:08.327Z"
   },
   {
    "duration": 0,
    "start_time": "2022-09-22T16:53:08.328Z"
   },
   {
    "duration": 1,
    "start_time": "2022-09-22T16:53:08.329Z"
   },
   {
    "duration": 0,
    "start_time": "2022-09-22T16:53:08.331Z"
   },
   {
    "duration": 1,
    "start_time": "2022-09-22T16:53:08.332Z"
   },
   {
    "duration": 0,
    "start_time": "2022-09-22T16:53:08.334Z"
   },
   {
    "duration": 0,
    "start_time": "2022-09-22T16:53:08.336Z"
   },
   {
    "duration": 0,
    "start_time": "2022-09-22T16:53:08.337Z"
   },
   {
    "duration": 1,
    "start_time": "2022-09-22T16:53:08.338Z"
   },
   {
    "duration": 0,
    "start_time": "2022-09-22T16:53:08.354Z"
   },
   {
    "duration": 0,
    "start_time": "2022-09-22T16:53:08.356Z"
   },
   {
    "duration": 0,
    "start_time": "2022-09-22T16:53:08.358Z"
   },
   {
    "duration": 0,
    "start_time": "2022-09-22T16:53:08.360Z"
   },
   {
    "duration": 0,
    "start_time": "2022-09-22T16:53:08.361Z"
   },
   {
    "duration": 0,
    "start_time": "2022-09-22T16:53:08.362Z"
   },
   {
    "duration": 8,
    "start_time": "2022-09-22T16:53:34.315Z"
   },
   {
    "duration": 1417,
    "start_time": "2022-09-22T16:54:01.237Z"
   },
   {
    "duration": 55,
    "start_time": "2022-09-22T16:54:02.656Z"
   },
   {
    "duration": 20,
    "start_time": "2022-09-22T16:54:02.713Z"
   },
   {
    "duration": 17,
    "start_time": "2022-09-22T16:54:02.734Z"
   },
   {
    "duration": 3,
    "start_time": "2022-09-22T16:54:02.756Z"
   },
   {
    "duration": 112,
    "start_time": "2022-09-22T16:54:02.761Z"
   },
   {
    "duration": 0,
    "start_time": "2022-09-22T16:54:02.875Z"
   },
   {
    "duration": 0,
    "start_time": "2022-09-22T16:54:02.876Z"
   },
   {
    "duration": 0,
    "start_time": "2022-09-22T16:54:02.877Z"
   },
   {
    "duration": 0,
    "start_time": "2022-09-22T16:54:02.878Z"
   },
   {
    "duration": 0,
    "start_time": "2022-09-22T16:54:02.879Z"
   },
   {
    "duration": 0,
    "start_time": "2022-09-22T16:54:02.882Z"
   },
   {
    "duration": 0,
    "start_time": "2022-09-22T16:54:02.883Z"
   },
   {
    "duration": 0,
    "start_time": "2022-09-22T16:54:02.884Z"
   },
   {
    "duration": 0,
    "start_time": "2022-09-22T16:54:02.885Z"
   },
   {
    "duration": 0,
    "start_time": "2022-09-22T16:54:02.886Z"
   },
   {
    "duration": 0,
    "start_time": "2022-09-22T16:54:02.887Z"
   },
   {
    "duration": 0,
    "start_time": "2022-09-22T16:54:02.888Z"
   },
   {
    "duration": 0,
    "start_time": "2022-09-22T16:54:02.889Z"
   },
   {
    "duration": 0,
    "start_time": "2022-09-22T16:54:02.890Z"
   },
   {
    "duration": 0,
    "start_time": "2022-09-22T16:54:02.892Z"
   },
   {
    "duration": 0,
    "start_time": "2022-09-22T16:54:02.892Z"
   },
   {
    "duration": 0,
    "start_time": "2022-09-22T16:54:02.894Z"
   },
   {
    "duration": 0,
    "start_time": "2022-09-22T16:54:02.895Z"
   },
   {
    "duration": 0,
    "start_time": "2022-09-22T16:54:02.896Z"
   },
   {
    "duration": 0,
    "start_time": "2022-09-22T16:54:02.897Z"
   },
   {
    "duration": 0,
    "start_time": "2022-09-22T16:54:02.898Z"
   },
   {
    "duration": 0,
    "start_time": "2022-09-22T16:54:02.899Z"
   },
   {
    "duration": 0,
    "start_time": "2022-09-22T16:54:02.900Z"
   },
   {
    "duration": 0,
    "start_time": "2022-09-22T16:54:02.901Z"
   },
   {
    "duration": 0,
    "start_time": "2022-09-22T16:54:02.902Z"
   },
   {
    "duration": 0,
    "start_time": "2022-09-22T16:54:02.903Z"
   },
   {
    "duration": 0,
    "start_time": "2022-09-22T16:54:02.955Z"
   },
   {
    "duration": 13,
    "start_time": "2022-09-22T16:54:22.942Z"
   },
   {
    "duration": 6,
    "start_time": "2022-09-22T16:54:29.982Z"
   },
   {
    "duration": 1285,
    "start_time": "2022-09-22T16:55:59.944Z"
   },
   {
    "duration": 64,
    "start_time": "2022-09-22T16:56:01.232Z"
   },
   {
    "duration": 20,
    "start_time": "2022-09-22T16:56:01.298Z"
   },
   {
    "duration": 29,
    "start_time": "2022-09-22T16:56:01.321Z"
   },
   {
    "duration": 47,
    "start_time": "2022-09-22T16:56:01.353Z"
   },
   {
    "duration": 20,
    "start_time": "2022-09-22T16:56:01.402Z"
   },
   {
    "duration": 66,
    "start_time": "2022-09-22T16:56:01.424Z"
   },
   {
    "duration": 0,
    "start_time": "2022-09-22T16:56:01.494Z"
   },
   {
    "duration": 0,
    "start_time": "2022-09-22T16:56:01.496Z"
   },
   {
    "duration": 0,
    "start_time": "2022-09-22T16:56:01.498Z"
   },
   {
    "duration": 0,
    "start_time": "2022-09-22T16:56:01.500Z"
   },
   {
    "duration": 0,
    "start_time": "2022-09-22T16:56:01.501Z"
   },
   {
    "duration": 0,
    "start_time": "2022-09-22T16:56:01.502Z"
   },
   {
    "duration": 0,
    "start_time": "2022-09-22T16:56:01.503Z"
   },
   {
    "duration": 0,
    "start_time": "2022-09-22T16:56:01.504Z"
   },
   {
    "duration": 0,
    "start_time": "2022-09-22T16:56:01.505Z"
   },
   {
    "duration": 0,
    "start_time": "2022-09-22T16:56:01.506Z"
   },
   {
    "duration": 0,
    "start_time": "2022-09-22T16:56:01.508Z"
   },
   {
    "duration": 0,
    "start_time": "2022-09-22T16:56:01.510Z"
   },
   {
    "duration": 0,
    "start_time": "2022-09-22T16:56:01.511Z"
   },
   {
    "duration": 0,
    "start_time": "2022-09-22T16:56:01.512Z"
   },
   {
    "duration": 0,
    "start_time": "2022-09-22T16:56:01.514Z"
   },
   {
    "duration": 0,
    "start_time": "2022-09-22T16:56:01.515Z"
   },
   {
    "duration": 0,
    "start_time": "2022-09-22T16:56:01.521Z"
   },
   {
    "duration": 0,
    "start_time": "2022-09-22T16:56:01.523Z"
   },
   {
    "duration": 1,
    "start_time": "2022-09-22T16:56:01.524Z"
   },
   {
    "duration": 0,
    "start_time": "2022-09-22T16:56:01.526Z"
   },
   {
    "duration": 0,
    "start_time": "2022-09-22T16:56:01.528Z"
   },
   {
    "duration": 0,
    "start_time": "2022-09-22T16:56:01.530Z"
   },
   {
    "duration": 0,
    "start_time": "2022-09-22T16:56:01.532Z"
   },
   {
    "duration": 0,
    "start_time": "2022-09-22T16:56:01.533Z"
   },
   {
    "duration": 0,
    "start_time": "2022-09-22T16:56:01.534Z"
   },
   {
    "duration": 0,
    "start_time": "2022-09-22T16:56:01.555Z"
   },
   {
    "duration": 1275,
    "start_time": "2022-09-22T16:56:56.564Z"
   },
   {
    "duration": 70,
    "start_time": "2022-09-22T16:56:57.842Z"
   },
   {
    "duration": 19,
    "start_time": "2022-09-22T16:56:57.914Z"
   },
   {
    "duration": 18,
    "start_time": "2022-09-22T16:56:57.935Z"
   },
   {
    "duration": 5,
    "start_time": "2022-09-22T16:56:57.956Z"
   },
   {
    "duration": 11,
    "start_time": "2022-09-22T16:56:57.963Z"
   },
   {
    "duration": 7,
    "start_time": "2022-09-22T16:56:57.976Z"
   },
   {
    "duration": 9,
    "start_time": "2022-09-22T16:56:57.985Z"
   },
   {
    "duration": 13,
    "start_time": "2022-09-22T16:56:57.996Z"
   },
   {
    "duration": 10,
    "start_time": "2022-09-22T16:56:58.012Z"
   },
   {
    "duration": 375,
    "start_time": "2022-09-22T16:56:58.054Z"
   },
   {
    "duration": 7,
    "start_time": "2022-09-22T16:56:58.431Z"
   },
   {
    "duration": 40,
    "start_time": "2022-09-22T16:56:58.439Z"
   },
   {
    "duration": 12,
    "start_time": "2022-09-22T16:56:58.482Z"
   },
   {
    "duration": 24,
    "start_time": "2022-09-22T16:56:58.496Z"
   },
   {
    "duration": 2045,
    "start_time": "2022-09-22T16:56:58.522Z"
   },
   {
    "duration": 9,
    "start_time": "2022-09-22T16:57:00.569Z"
   },
   {
    "duration": 62,
    "start_time": "2022-09-22T16:57:00.580Z"
   },
   {
    "duration": 2481,
    "start_time": "2022-09-22T16:57:00.644Z"
   },
   {
    "duration": 324,
    "start_time": "2022-09-22T16:57:03.128Z"
   },
   {
    "duration": 400,
    "start_time": "2022-09-22T16:57:03.455Z"
   },
   {
    "duration": 379,
    "start_time": "2022-09-22T16:57:03.857Z"
   },
   {
    "duration": 381,
    "start_time": "2022-09-22T16:57:04.239Z"
   },
   {
    "duration": 38,
    "start_time": "2022-09-22T16:57:04.622Z"
   },
   {
    "duration": 48,
    "start_time": "2022-09-22T16:57:04.662Z"
   },
   {
    "duration": 67,
    "start_time": "2022-09-22T16:57:04.712Z"
   },
   {
    "duration": 77,
    "start_time": "2022-09-22T16:57:04.781Z"
   },
   {
    "duration": 13,
    "start_time": "2022-09-22T16:57:04.863Z"
   },
   {
    "duration": 21,
    "start_time": "2022-09-22T16:57:04.879Z"
   },
   {
    "duration": 12,
    "start_time": "2022-09-22T16:57:04.903Z"
   },
   {
    "duration": 12,
    "start_time": "2022-09-22T16:57:04.917Z"
   },
   {
    "duration": 8,
    "start_time": "2022-09-23T09:45:56.417Z"
   },
   {
    "duration": 1311,
    "start_time": "2022-09-23T09:45:59.521Z"
   },
   {
    "duration": 99,
    "start_time": "2022-09-23T09:46:03.318Z"
   },
   {
    "duration": 110,
    "start_time": "2022-09-23T10:25:45.219Z"
   },
   {
    "duration": 20,
    "start_time": "2022-09-23T10:26:09.899Z"
   },
   {
    "duration": 18,
    "start_time": "2022-09-23T10:26:17.051Z"
   },
   {
    "duration": 14,
    "start_time": "2022-09-23T10:26:22.243Z"
   },
   {
    "duration": 835,
    "start_time": "2022-09-23T10:28:13.435Z"
   },
   {
    "duration": 8,
    "start_time": "2022-09-23T10:28:27.027Z"
   },
   {
    "duration": 10,
    "start_time": "2022-09-23T10:28:36.994Z"
   },
   {
    "duration": 5,
    "start_time": "2022-09-23T10:28:51.868Z"
   },
   {
    "duration": 9,
    "start_time": "2022-09-23T10:29:58.898Z"
   },
   {
    "duration": 22,
    "start_time": "2022-09-23T10:30:11.579Z"
   },
   {
    "duration": 40,
    "start_time": "2022-09-23T10:30:21.547Z"
   },
   {
    "duration": 12,
    "start_time": "2022-09-23T10:30:54.467Z"
   },
   {
    "duration": 1125,
    "start_time": "2022-09-23T10:31:10.875Z"
   },
   {
    "duration": 55,
    "start_time": "2022-09-23T10:31:12.003Z"
   },
   {
    "duration": 19,
    "start_time": "2022-09-23T10:31:12.059Z"
   },
   {
    "duration": 16,
    "start_time": "2022-09-23T10:31:12.079Z"
   },
   {
    "duration": 41,
    "start_time": "2022-09-23T10:31:12.097Z"
   },
   {
    "duration": 12,
    "start_time": "2022-09-23T10:31:12.140Z"
   },
   {
    "duration": 5,
    "start_time": "2022-09-23T10:31:12.153Z"
   },
   {
    "duration": 10,
    "start_time": "2022-09-23T10:31:12.159Z"
   },
   {
    "duration": 5,
    "start_time": "2022-09-23T10:31:12.171Z"
   },
   {
    "duration": 8,
    "start_time": "2022-09-23T10:31:12.178Z"
   },
   {
    "duration": 7,
    "start_time": "2022-09-23T10:31:12.187Z"
   },
   {
    "duration": 14,
    "start_time": "2022-09-23T10:31:12.195Z"
   },
   {
    "duration": 280,
    "start_time": "2022-09-23T10:31:12.211Z"
   },
   {
    "duration": 5,
    "start_time": "2022-09-23T10:31:12.494Z"
   },
   {
    "duration": 31,
    "start_time": "2022-09-23T10:31:12.509Z"
   },
   {
    "duration": 11,
    "start_time": "2022-09-23T10:31:12.542Z"
   },
   {
    "duration": 12,
    "start_time": "2022-09-23T10:31:12.555Z"
   },
   {
    "duration": 1593,
    "start_time": "2022-09-23T10:31:12.569Z"
   },
   {
    "duration": 7,
    "start_time": "2022-09-23T10:31:14.164Z"
   },
   {
    "duration": 32,
    "start_time": "2022-09-23T10:31:14.172Z"
   },
   {
    "duration": 1584,
    "start_time": "2022-09-23T10:31:14.206Z"
   },
   {
    "duration": 244,
    "start_time": "2022-09-23T10:31:15.792Z"
   },
   {
    "duration": 288,
    "start_time": "2022-09-23T10:31:16.037Z"
   },
   {
    "duration": 288,
    "start_time": "2022-09-23T10:31:16.326Z"
   },
   {
    "duration": 282,
    "start_time": "2022-09-23T10:31:16.615Z"
   },
   {
    "duration": 27,
    "start_time": "2022-09-23T10:31:16.899Z"
   },
   {
    "duration": 33,
    "start_time": "2022-09-23T10:31:16.928Z"
   },
   {
    "duration": 50,
    "start_time": "2022-09-23T10:31:16.962Z"
   },
   {
    "duration": 30,
    "start_time": "2022-09-23T10:31:17.013Z"
   },
   {
    "duration": 8,
    "start_time": "2022-09-23T10:31:17.045Z"
   },
   {
    "duration": 8,
    "start_time": "2022-09-23T10:31:17.055Z"
   },
   {
    "duration": 11,
    "start_time": "2022-09-23T10:31:17.064Z"
   },
   {
    "duration": 41,
    "start_time": "2022-09-23T10:31:17.076Z"
   },
   {
    "duration": 110,
    "start_time": "2022-09-23T10:35:29.829Z"
   },
   {
    "duration": 1232,
    "start_time": "2022-09-23T10:35:43.302Z"
   },
   {
    "duration": 54,
    "start_time": "2022-09-23T10:35:44.536Z"
   },
   {
    "duration": 16,
    "start_time": "2022-09-23T10:35:44.592Z"
   },
   {
    "duration": 27,
    "start_time": "2022-09-23T10:35:44.611Z"
   },
   {
    "duration": 34,
    "start_time": "2022-09-23T10:35:44.639Z"
   },
   {
    "duration": 28,
    "start_time": "2022-09-23T10:35:44.674Z"
   },
   {
    "duration": 30,
    "start_time": "2022-09-23T10:35:44.703Z"
   },
   {
    "duration": 33,
    "start_time": "2022-09-23T10:35:44.734Z"
   },
   {
    "duration": 31,
    "start_time": "2022-09-23T10:35:44.769Z"
   },
   {
    "duration": 31,
    "start_time": "2022-09-23T10:35:44.803Z"
   },
   {
    "duration": 43,
    "start_time": "2022-09-23T10:35:44.836Z"
   },
   {
    "duration": 45,
    "start_time": "2022-09-23T10:35:44.881Z"
   },
   {
    "duration": 303,
    "start_time": "2022-09-23T10:35:44.927Z"
   },
   {
    "duration": 4,
    "start_time": "2022-09-23T10:35:45.231Z"
   },
   {
    "duration": 41,
    "start_time": "2022-09-23T10:35:45.236Z"
   },
   {
    "duration": 35,
    "start_time": "2022-09-23T10:35:45.279Z"
   },
   {
    "duration": 39,
    "start_time": "2022-09-23T10:35:45.315Z"
   },
   {
    "duration": 1524,
    "start_time": "2022-09-23T10:35:45.356Z"
   },
   {
    "duration": 6,
    "start_time": "2022-09-23T10:35:46.881Z"
   },
   {
    "duration": 29,
    "start_time": "2022-09-23T10:35:46.888Z"
   },
   {
    "duration": 1582,
    "start_time": "2022-09-23T10:35:46.919Z"
   },
   {
    "duration": 224,
    "start_time": "2022-09-23T10:35:48.502Z"
   },
   {
    "duration": 282,
    "start_time": "2022-09-23T10:35:48.727Z"
   },
   {
    "duration": 276,
    "start_time": "2022-09-23T10:35:49.011Z"
   },
   {
    "duration": 266,
    "start_time": "2022-09-23T10:35:49.288Z"
   },
   {
    "duration": 18,
    "start_time": "2022-09-23T10:35:49.556Z"
   },
   {
    "duration": 43,
    "start_time": "2022-09-23T10:35:49.575Z"
   },
   {
    "duration": 30,
    "start_time": "2022-09-23T10:35:49.621Z"
   },
   {
    "duration": 36,
    "start_time": "2022-09-23T10:35:49.652Z"
   },
   {
    "duration": 26,
    "start_time": "2022-09-23T10:35:49.690Z"
   },
   {
    "duration": 33,
    "start_time": "2022-09-23T10:35:49.718Z"
   },
   {
    "duration": 33,
    "start_time": "2022-09-23T10:35:49.753Z"
   },
   {
    "duration": 11,
    "start_time": "2022-09-23T10:35:49.787Z"
   },
   {
    "duration": 1173,
    "start_time": "2022-09-23T10:38:02.352Z"
   },
   {
    "duration": 60,
    "start_time": "2022-09-23T10:38:03.527Z"
   },
   {
    "duration": 17,
    "start_time": "2022-09-23T10:38:03.589Z"
   },
   {
    "duration": 14,
    "start_time": "2022-09-23T10:38:03.608Z"
   },
   {
    "duration": 14,
    "start_time": "2022-09-23T10:38:03.625Z"
   },
   {
    "duration": 50,
    "start_time": "2022-09-23T10:38:03.641Z"
   },
   {
    "duration": 0,
    "start_time": "2022-09-23T10:38:03.694Z"
   },
   {
    "duration": 0,
    "start_time": "2022-09-23T10:38:03.695Z"
   },
   {
    "duration": 0,
    "start_time": "2022-09-23T10:38:03.697Z"
   },
   {
    "duration": 0,
    "start_time": "2022-09-23T10:38:03.698Z"
   },
   {
    "duration": 0,
    "start_time": "2022-09-23T10:38:03.699Z"
   },
   {
    "duration": 0,
    "start_time": "2022-09-23T10:38:03.700Z"
   },
   {
    "duration": 0,
    "start_time": "2022-09-23T10:38:03.701Z"
   },
   {
    "duration": 0,
    "start_time": "2022-09-23T10:38:03.702Z"
   },
   {
    "duration": 0,
    "start_time": "2022-09-23T10:38:03.703Z"
   },
   {
    "duration": 0,
    "start_time": "2022-09-23T10:38:03.704Z"
   },
   {
    "duration": 0,
    "start_time": "2022-09-23T10:38:03.705Z"
   },
   {
    "duration": 0,
    "start_time": "2022-09-23T10:38:03.705Z"
   },
   {
    "duration": 0,
    "start_time": "2022-09-23T10:38:03.707Z"
   },
   {
    "duration": 0,
    "start_time": "2022-09-23T10:38:03.707Z"
   },
   {
    "duration": 0,
    "start_time": "2022-09-23T10:38:03.708Z"
   },
   {
    "duration": 0,
    "start_time": "2022-09-23T10:38:03.709Z"
   },
   {
    "duration": 0,
    "start_time": "2022-09-23T10:38:03.710Z"
   },
   {
    "duration": 0,
    "start_time": "2022-09-23T10:38:03.711Z"
   },
   {
    "duration": 0,
    "start_time": "2022-09-23T10:38:03.712Z"
   },
   {
    "duration": 0,
    "start_time": "2022-09-23T10:38:03.713Z"
   },
   {
    "duration": 0,
    "start_time": "2022-09-23T10:38:03.714Z"
   },
   {
    "duration": 0,
    "start_time": "2022-09-23T10:38:03.715Z"
   },
   {
    "duration": 1,
    "start_time": "2022-09-23T10:38:03.715Z"
   },
   {
    "duration": 0,
    "start_time": "2022-09-23T10:38:03.716Z"
   },
   {
    "duration": 0,
    "start_time": "2022-09-23T10:38:03.718Z"
   },
   {
    "duration": 0,
    "start_time": "2022-09-23T10:38:03.718Z"
   },
   {
    "duration": 0,
    "start_time": "2022-09-23T10:38:03.719Z"
   },
   {
    "duration": 1137,
    "start_time": "2022-09-23T10:38:25.912Z"
   },
   {
    "duration": 54,
    "start_time": "2022-09-23T10:38:27.051Z"
   },
   {
    "duration": 17,
    "start_time": "2022-09-23T10:38:27.106Z"
   },
   {
    "duration": 33,
    "start_time": "2022-09-23T10:38:27.125Z"
   },
   {
    "duration": 23,
    "start_time": "2022-09-23T10:38:27.159Z"
   },
   {
    "duration": 22,
    "start_time": "2022-09-23T10:38:27.184Z"
   },
   {
    "duration": 30,
    "start_time": "2022-09-23T10:38:27.208Z"
   },
   {
    "duration": 18,
    "start_time": "2022-09-23T10:38:27.239Z"
   },
   {
    "duration": 28,
    "start_time": "2022-09-23T10:38:27.258Z"
   },
   {
    "duration": 21,
    "start_time": "2022-09-23T10:38:27.287Z"
   },
   {
    "duration": 31,
    "start_time": "2022-09-23T10:38:27.309Z"
   },
   {
    "duration": 36,
    "start_time": "2022-09-23T10:38:27.341Z"
   },
   {
    "duration": 295,
    "start_time": "2022-09-23T10:38:27.378Z"
   },
   {
    "duration": 5,
    "start_time": "2022-09-23T10:38:27.676Z"
   },
   {
    "duration": 36,
    "start_time": "2022-09-23T10:38:27.683Z"
   },
   {
    "duration": 15,
    "start_time": "2022-09-23T10:38:27.721Z"
   },
   {
    "duration": 48,
    "start_time": "2022-09-23T10:38:27.737Z"
   },
   {
    "duration": 1520,
    "start_time": "2022-09-23T10:38:27.786Z"
   },
   {
    "duration": 5,
    "start_time": "2022-09-23T10:38:29.308Z"
   },
   {
    "duration": 20,
    "start_time": "2022-09-23T10:38:29.315Z"
   },
   {
    "duration": 1551,
    "start_time": "2022-09-23T10:38:29.337Z"
   },
   {
    "duration": 225,
    "start_time": "2022-09-23T10:38:30.890Z"
   },
   {
    "duration": 276,
    "start_time": "2022-09-23T10:38:31.117Z"
   },
   {
    "duration": 276,
    "start_time": "2022-09-23T10:38:31.394Z"
   },
   {
    "duration": 268,
    "start_time": "2022-09-23T10:38:31.672Z"
   },
   {
    "duration": 19,
    "start_time": "2022-09-23T10:38:31.942Z"
   },
   {
    "duration": 65,
    "start_time": "2022-09-23T10:38:31.963Z"
   },
   {
    "duration": 28,
    "start_time": "2022-09-23T10:38:32.030Z"
   },
   {
    "duration": 71,
    "start_time": "2022-09-23T10:38:32.060Z"
   },
   {
    "duration": 8,
    "start_time": "2022-09-23T10:38:32.133Z"
   },
   {
    "duration": 18,
    "start_time": "2022-09-23T10:38:32.142Z"
   },
   {
    "duration": 9,
    "start_time": "2022-09-23T10:38:32.161Z"
   },
   {
    "duration": 9,
    "start_time": "2022-09-23T10:38:32.172Z"
   },
   {
    "duration": 985,
    "start_time": "2022-09-23T10:38:45.741Z"
   },
   {
    "duration": 1495,
    "start_time": "2022-09-23T10:44:35.216Z"
   },
   {
    "duration": 7,
    "start_time": "2022-09-23T10:44:48.423Z"
   },
   {
    "duration": 7,
    "start_time": "2022-09-23T10:44:52.543Z"
   },
   {
    "duration": 6,
    "start_time": "2022-09-23T10:45:06.911Z"
   },
   {
    "duration": 444,
    "start_time": "2022-09-23T10:46:36.104Z"
   },
   {
    "duration": 4,
    "start_time": "2022-09-23T10:46:40.107Z"
   },
   {
    "duration": 4,
    "start_time": "2022-09-23T10:46:43.535Z"
   },
   {
    "duration": 5,
    "start_time": "2022-09-23T10:48:51.865Z"
   },
   {
    "duration": 2,
    "start_time": "2022-09-23T10:53:09.737Z"
   },
   {
    "duration": 9,
    "start_time": "2022-09-23T10:53:37.868Z"
   },
   {
    "duration": 31,
    "start_time": "2022-09-23T10:53:43.664Z"
   },
   {
    "duration": 6,
    "start_time": "2022-09-23T10:53:56.576Z"
   },
   {
    "duration": 8,
    "start_time": "2022-09-23T10:54:24.530Z"
   },
   {
    "duration": 12,
    "start_time": "2022-09-23T10:54:35.340Z"
   },
   {
    "duration": 1166,
    "start_time": "2022-09-23T11:04:56.874Z"
   },
   {
    "duration": 55,
    "start_time": "2022-09-23T11:04:58.043Z"
   },
   {
    "duration": 20,
    "start_time": "2022-09-23T11:04:58.099Z"
   },
   {
    "duration": 23,
    "start_time": "2022-09-23T11:04:58.121Z"
   },
   {
    "duration": 33,
    "start_time": "2022-09-23T11:04:58.146Z"
   },
   {
    "duration": 13,
    "start_time": "2022-09-23T11:04:58.181Z"
   },
   {
    "duration": 13,
    "start_time": "2022-09-23T11:04:58.196Z"
   },
   {
    "duration": 17,
    "start_time": "2022-09-23T11:04:58.210Z"
   },
   {
    "duration": 15,
    "start_time": "2022-09-23T11:04:58.228Z"
   },
   {
    "duration": 13,
    "start_time": "2022-09-23T11:04:58.247Z"
   },
   {
    "duration": 22,
    "start_time": "2022-09-23T11:04:58.261Z"
   },
   {
    "duration": 10,
    "start_time": "2022-09-23T11:04:58.285Z"
   },
   {
    "duration": 19,
    "start_time": "2022-09-23T11:04:58.297Z"
   },
   {
    "duration": 116,
    "start_time": "2022-09-23T11:04:58.318Z"
   },
   {
    "duration": 0,
    "start_time": "2022-09-23T11:04:58.437Z"
   },
   {
    "duration": 0,
    "start_time": "2022-09-23T11:04:58.438Z"
   },
   {
    "duration": 0,
    "start_time": "2022-09-23T11:04:58.439Z"
   },
   {
    "duration": 0,
    "start_time": "2022-09-23T11:04:58.441Z"
   },
   {
    "duration": 0,
    "start_time": "2022-09-23T11:04:58.442Z"
   },
   {
    "duration": 0,
    "start_time": "2022-09-23T11:04:58.443Z"
   },
   {
    "duration": 0,
    "start_time": "2022-09-23T11:04:58.445Z"
   },
   {
    "duration": 0,
    "start_time": "2022-09-23T11:04:58.446Z"
   },
   {
    "duration": 0,
    "start_time": "2022-09-23T11:04:58.448Z"
   },
   {
    "duration": 0,
    "start_time": "2022-09-23T11:04:58.449Z"
   },
   {
    "duration": 0,
    "start_time": "2022-09-23T11:04:58.450Z"
   },
   {
    "duration": 0,
    "start_time": "2022-09-23T11:04:58.451Z"
   },
   {
    "duration": 0,
    "start_time": "2022-09-23T11:04:58.453Z"
   },
   {
    "duration": 0,
    "start_time": "2022-09-23T11:04:58.454Z"
   },
   {
    "duration": 0,
    "start_time": "2022-09-23T11:04:58.456Z"
   },
   {
    "duration": 0,
    "start_time": "2022-09-23T11:04:58.458Z"
   },
   {
    "duration": 0,
    "start_time": "2022-09-23T11:04:58.459Z"
   },
   {
    "duration": 0,
    "start_time": "2022-09-23T11:04:58.460Z"
   },
   {
    "duration": 0,
    "start_time": "2022-09-23T11:04:58.462Z"
   },
   {
    "duration": 0,
    "start_time": "2022-09-23T11:04:58.464Z"
   },
   {
    "duration": 0,
    "start_time": "2022-09-23T11:04:58.508Z"
   },
   {
    "duration": 18,
    "start_time": "2022-09-23T11:06:18.756Z"
   },
   {
    "duration": 16,
    "start_time": "2022-09-23T11:06:33.276Z"
   },
   {
    "duration": 17,
    "start_time": "2022-09-23T11:06:37.956Z"
   },
   {
    "duration": 12,
    "start_time": "2022-09-23T11:07:15.433Z"
   },
   {
    "duration": 4,
    "start_time": "2022-09-23T11:07:19.117Z"
   },
   {
    "duration": 1100,
    "start_time": "2022-09-23T11:07:26.645Z"
   },
   {
    "duration": 55,
    "start_time": "2022-09-23T11:07:27.747Z"
   },
   {
    "duration": 17,
    "start_time": "2022-09-23T11:07:27.803Z"
   },
   {
    "duration": 13,
    "start_time": "2022-09-23T11:07:27.822Z"
   },
   {
    "duration": 16,
    "start_time": "2022-09-23T11:07:27.837Z"
   },
   {
    "duration": 13,
    "start_time": "2022-09-23T11:07:27.854Z"
   },
   {
    "duration": 40,
    "start_time": "2022-09-23T11:07:27.869Z"
   },
   {
    "duration": 5,
    "start_time": "2022-09-23T11:07:27.911Z"
   },
   {
    "duration": 8,
    "start_time": "2022-09-23T11:07:27.917Z"
   },
   {
    "duration": 7,
    "start_time": "2022-09-23T11:07:27.927Z"
   },
   {
    "duration": 11,
    "start_time": "2022-09-23T11:07:27.936Z"
   },
   {
    "duration": 15,
    "start_time": "2022-09-23T11:07:27.948Z"
   },
   {
    "duration": 20,
    "start_time": "2022-09-23T11:07:27.964Z"
   },
   {
    "duration": 4,
    "start_time": "2022-09-23T11:07:28.011Z"
   },
   {
    "duration": 1384,
    "start_time": "2022-09-23T11:07:28.016Z"
   },
   {
    "duration": 0,
    "start_time": "2022-09-23T11:07:29.402Z"
   },
   {
    "duration": 0,
    "start_time": "2022-09-23T11:07:29.403Z"
   },
   {
    "duration": 0,
    "start_time": "2022-09-23T11:07:29.404Z"
   },
   {
    "duration": 0,
    "start_time": "2022-09-23T11:07:29.405Z"
   },
   {
    "duration": 0,
    "start_time": "2022-09-23T11:07:29.405Z"
   },
   {
    "duration": 0,
    "start_time": "2022-09-23T11:07:29.406Z"
   },
   {
    "duration": 0,
    "start_time": "2022-09-23T11:07:29.407Z"
   },
   {
    "duration": 0,
    "start_time": "2022-09-23T11:07:29.408Z"
   },
   {
    "duration": 0,
    "start_time": "2022-09-23T11:07:29.409Z"
   },
   {
    "duration": 0,
    "start_time": "2022-09-23T11:07:29.410Z"
   },
   {
    "duration": 0,
    "start_time": "2022-09-23T11:07:29.410Z"
   },
   {
    "duration": 0,
    "start_time": "2022-09-23T11:07:29.411Z"
   },
   {
    "duration": 0,
    "start_time": "2022-09-23T11:07:29.412Z"
   },
   {
    "duration": 0,
    "start_time": "2022-09-23T11:07:29.413Z"
   },
   {
    "duration": 0,
    "start_time": "2022-09-23T11:07:29.414Z"
   },
   {
    "duration": 0,
    "start_time": "2022-09-23T11:07:29.415Z"
   },
   {
    "duration": 0,
    "start_time": "2022-09-23T11:07:29.416Z"
   },
   {
    "duration": 0,
    "start_time": "2022-09-23T11:07:29.417Z"
   },
   {
    "duration": 0,
    "start_time": "2022-09-23T11:07:29.418Z"
   },
   {
    "duration": 1,
    "start_time": "2022-09-23T11:07:29.418Z"
   },
   {
    "duration": 1107,
    "start_time": "2022-09-23T11:09:57.358Z"
   },
   {
    "duration": 59,
    "start_time": "2022-09-23T11:09:58.467Z"
   },
   {
    "duration": 17,
    "start_time": "2022-09-23T11:09:58.528Z"
   },
   {
    "duration": 13,
    "start_time": "2022-09-23T11:09:58.546Z"
   },
   {
    "duration": 14,
    "start_time": "2022-09-23T11:09:58.561Z"
   },
   {
    "duration": 32,
    "start_time": "2022-09-23T11:09:58.577Z"
   },
   {
    "duration": 3,
    "start_time": "2022-09-23T11:09:58.611Z"
   },
   {
    "duration": 17,
    "start_time": "2022-09-23T11:09:58.616Z"
   },
   {
    "duration": 10,
    "start_time": "2022-09-23T11:09:58.634Z"
   },
   {
    "duration": 15,
    "start_time": "2022-09-23T11:09:58.645Z"
   },
   {
    "duration": 14,
    "start_time": "2022-09-23T11:09:58.661Z"
   },
   {
    "duration": 17,
    "start_time": "2022-09-23T11:09:58.677Z"
   },
   {
    "duration": 40,
    "start_time": "2022-09-23T11:09:58.696Z"
   },
   {
    "duration": 4,
    "start_time": "2022-09-23T11:09:58.738Z"
   },
   {
    "duration": 298,
    "start_time": "2022-09-23T11:09:58.744Z"
   },
   {
    "duration": 5,
    "start_time": "2022-09-23T11:09:59.044Z"
   },
   {
    "duration": 14,
    "start_time": "2022-09-23T11:09:59.050Z"
   },
   {
    "duration": 11,
    "start_time": "2022-09-23T11:09:59.065Z"
   },
   {
    "duration": 9,
    "start_time": "2022-09-23T11:09:59.078Z"
   },
   {
    "duration": 1600,
    "start_time": "2022-09-23T11:09:59.088Z"
   },
   {
    "duration": 6,
    "start_time": "2022-09-23T11:10:00.690Z"
   },
   {
    "duration": 31,
    "start_time": "2022-09-23T11:10:00.710Z"
   },
   {
    "duration": 1689,
    "start_time": "2022-09-23T11:10:00.742Z"
   },
   {
    "duration": 259,
    "start_time": "2022-09-23T11:10:02.433Z"
   },
   {
    "duration": 331,
    "start_time": "2022-09-23T11:10:02.695Z"
   },
   {
    "duration": 296,
    "start_time": "2022-09-23T11:10:03.027Z"
   },
   {
    "duration": 280,
    "start_time": "2022-09-23T11:10:03.324Z"
   },
   {
    "duration": 22,
    "start_time": "2022-09-23T11:10:03.608Z"
   },
   {
    "duration": 28,
    "start_time": "2022-09-23T11:10:03.631Z"
   },
   {
    "duration": 52,
    "start_time": "2022-09-23T11:10:03.661Z"
   },
   {
    "duration": 33,
    "start_time": "2022-09-23T11:10:03.714Z"
   },
   {
    "duration": 9,
    "start_time": "2022-09-23T11:10:03.748Z"
   },
   {
    "duration": 21,
    "start_time": "2022-09-23T11:10:03.758Z"
   },
   {
    "duration": 15,
    "start_time": "2022-09-23T11:10:03.781Z"
   },
   {
    "duration": 61,
    "start_time": "2022-09-23T11:10:03.797Z"
   },
   {
    "duration": 11,
    "start_time": "2022-09-23T11:10:48.544Z"
   },
   {
    "duration": 1159,
    "start_time": "2022-09-23T11:16:03.025Z"
   },
   {
    "duration": 56,
    "start_time": "2022-09-23T11:16:04.187Z"
   },
   {
    "duration": 17,
    "start_time": "2022-09-23T11:16:04.245Z"
   },
   {
    "duration": 26,
    "start_time": "2022-09-23T11:16:04.264Z"
   },
   {
    "duration": 37,
    "start_time": "2022-09-23T11:16:04.293Z"
   },
   {
    "duration": 30,
    "start_time": "2022-09-23T11:16:04.332Z"
   },
   {
    "duration": 23,
    "start_time": "2022-09-23T11:16:04.363Z"
   },
   {
    "duration": 14,
    "start_time": "2022-09-23T11:16:04.388Z"
   },
   {
    "duration": 32,
    "start_time": "2022-09-23T11:16:04.404Z"
   },
   {
    "duration": 31,
    "start_time": "2022-09-23T11:16:04.438Z"
   },
   {
    "duration": 21,
    "start_time": "2022-09-23T11:16:04.471Z"
   },
   {
    "duration": 36,
    "start_time": "2022-09-23T11:16:04.494Z"
   },
   {
    "duration": 45,
    "start_time": "2022-09-23T11:16:04.532Z"
   },
   {
    "duration": 25,
    "start_time": "2022-09-23T11:16:04.579Z"
   },
   {
    "duration": 23,
    "start_time": "2022-09-23T11:16:04.606Z"
   },
   {
    "duration": 287,
    "start_time": "2022-09-23T11:16:04.631Z"
   },
   {
    "duration": 5,
    "start_time": "2022-09-23T11:16:04.920Z"
   },
   {
    "duration": 22,
    "start_time": "2022-09-23T11:16:04.926Z"
   },
   {
    "duration": 20,
    "start_time": "2022-09-23T11:16:04.950Z"
   },
   {
    "duration": 7,
    "start_time": "2022-09-23T11:16:04.972Z"
   },
   {
    "duration": 1553,
    "start_time": "2022-09-23T11:16:04.981Z"
   },
   {
    "duration": 6,
    "start_time": "2022-09-23T11:16:06.535Z"
   },
   {
    "duration": 20,
    "start_time": "2022-09-23T11:16:06.542Z"
   },
   {
    "duration": 1591,
    "start_time": "2022-09-23T11:16:06.563Z"
   },
   {
    "duration": 228,
    "start_time": "2022-09-23T11:16:08.155Z"
   },
   {
    "duration": 284,
    "start_time": "2022-09-23T11:16:08.385Z"
   },
   {
    "duration": 299,
    "start_time": "2022-09-23T11:16:08.670Z"
   },
   {
    "duration": 285,
    "start_time": "2022-09-23T11:16:08.971Z"
   },
   {
    "duration": 27,
    "start_time": "2022-09-23T11:16:09.258Z"
   },
   {
    "duration": 53,
    "start_time": "2022-09-23T11:16:09.287Z"
   },
   {
    "duration": 31,
    "start_time": "2022-09-23T11:16:09.341Z"
   },
   {
    "duration": 60,
    "start_time": "2022-09-23T11:16:09.374Z"
   },
   {
    "duration": 9,
    "start_time": "2022-09-23T11:16:09.435Z"
   },
   {
    "duration": 12,
    "start_time": "2022-09-23T11:16:09.446Z"
   },
   {
    "duration": 19,
    "start_time": "2022-09-23T11:16:09.460Z"
   },
   {
    "duration": 31,
    "start_time": "2022-09-23T11:16:09.481Z"
   },
   {
    "duration": 12,
    "start_time": "2022-09-23T11:17:22.540Z"
   },
   {
    "duration": 6,
    "start_time": "2022-09-23T11:17:34.019Z"
   },
   {
    "duration": 1150,
    "start_time": "2022-09-23T11:17:45.784Z"
   },
   {
    "duration": 69,
    "start_time": "2022-09-23T11:17:46.936Z"
   },
   {
    "duration": 16,
    "start_time": "2022-09-23T11:17:47.007Z"
   },
   {
    "duration": 17,
    "start_time": "2022-09-23T11:17:47.024Z"
   },
   {
    "duration": 14,
    "start_time": "2022-09-23T11:17:47.043Z"
   },
   {
    "duration": 12,
    "start_time": "2022-09-23T11:17:47.059Z"
   },
   {
    "duration": 6,
    "start_time": "2022-09-23T11:17:47.072Z"
   },
   {
    "duration": 5,
    "start_time": "2022-09-23T11:17:47.109Z"
   },
   {
    "duration": 10,
    "start_time": "2022-09-23T11:17:47.116Z"
   },
   {
    "duration": 10,
    "start_time": "2022-09-23T11:17:47.127Z"
   },
   {
    "duration": 10,
    "start_time": "2022-09-23T11:17:47.139Z"
   },
   {
    "duration": 15,
    "start_time": "2022-09-23T11:17:47.150Z"
   },
   {
    "duration": 46,
    "start_time": "2022-09-23T11:17:47.167Z"
   },
   {
    "duration": 5,
    "start_time": "2022-09-23T11:17:47.218Z"
   },
   {
    "duration": 49,
    "start_time": "2022-09-23T11:17:47.224Z"
   },
   {
    "duration": 303,
    "start_time": "2022-09-23T11:17:47.275Z"
   },
   {
    "duration": 4,
    "start_time": "2022-09-23T11:17:47.580Z"
   },
   {
    "duration": 27,
    "start_time": "2022-09-23T11:17:47.586Z"
   },
   {
    "duration": 7,
    "start_time": "2022-09-23T11:17:47.615Z"
   },
   {
    "duration": 7,
    "start_time": "2022-09-23T11:17:47.624Z"
   },
   {
    "duration": 1527,
    "start_time": "2022-09-23T11:17:47.632Z"
   },
   {
    "duration": 6,
    "start_time": "2022-09-23T11:17:49.160Z"
   },
   {
    "duration": 18,
    "start_time": "2022-09-23T11:17:49.167Z"
   },
   {
    "duration": 1561,
    "start_time": "2022-09-23T11:17:49.186Z"
   },
   {
    "duration": 237,
    "start_time": "2022-09-23T11:17:50.749Z"
   },
   {
    "duration": 281,
    "start_time": "2022-09-23T11:17:50.988Z"
   },
   {
    "duration": 289,
    "start_time": "2022-09-23T11:17:51.271Z"
   },
   {
    "duration": 287,
    "start_time": "2022-09-23T11:17:51.562Z"
   },
   {
    "duration": 21,
    "start_time": "2022-09-23T11:17:51.851Z"
   },
   {
    "duration": 39,
    "start_time": "2022-09-23T11:17:51.873Z"
   },
   {
    "duration": 29,
    "start_time": "2022-09-23T11:17:51.914Z"
   },
   {
    "duration": 30,
    "start_time": "2022-09-23T11:17:51.945Z"
   },
   {
    "duration": 38,
    "start_time": "2022-09-23T11:17:51.977Z"
   },
   {
    "duration": 6,
    "start_time": "2022-09-23T11:17:52.017Z"
   },
   {
    "duration": 11,
    "start_time": "2022-09-23T11:17:52.025Z"
   },
   {
    "duration": 14,
    "start_time": "2022-09-23T11:17:52.038Z"
   },
   {
    "duration": 6,
    "start_time": "2022-09-23T11:19:02.382Z"
   },
   {
    "duration": 14,
    "start_time": "2022-09-23T11:19:13.263Z"
   },
   {
    "duration": 8,
    "start_time": "2022-09-23T11:19:16.902Z"
   },
   {
    "duration": 1178,
    "start_time": "2022-09-23T11:19:27.187Z"
   },
   {
    "duration": 62,
    "start_time": "2022-09-23T11:19:28.367Z"
   },
   {
    "duration": 19,
    "start_time": "2022-09-23T11:19:28.431Z"
   },
   {
    "duration": 14,
    "start_time": "2022-09-23T11:19:28.451Z"
   },
   {
    "duration": 15,
    "start_time": "2022-09-23T11:19:28.467Z"
   },
   {
    "duration": 39,
    "start_time": "2022-09-23T11:19:28.483Z"
   },
   {
    "duration": 5,
    "start_time": "2022-09-23T11:19:28.524Z"
   },
   {
    "duration": 8,
    "start_time": "2022-09-23T11:19:28.531Z"
   },
   {
    "duration": 7,
    "start_time": "2022-09-23T11:19:28.540Z"
   },
   {
    "duration": 10,
    "start_time": "2022-09-23T11:19:28.548Z"
   },
   {
    "duration": 9,
    "start_time": "2022-09-23T11:19:28.559Z"
   },
   {
    "duration": 10,
    "start_time": "2022-09-23T11:19:28.569Z"
   },
   {
    "duration": 42,
    "start_time": "2022-09-23T11:19:28.581Z"
   },
   {
    "duration": 4,
    "start_time": "2022-09-23T11:19:28.626Z"
   },
   {
    "duration": 9,
    "start_time": "2022-09-23T11:19:28.632Z"
   },
   {
    "duration": 12,
    "start_time": "2022-09-23T11:19:28.642Z"
   },
   {
    "duration": 305,
    "start_time": "2022-09-23T11:19:28.656Z"
   },
   {
    "duration": 5,
    "start_time": "2022-09-23T11:19:28.963Z"
   },
   {
    "duration": 11,
    "start_time": "2022-09-23T11:19:28.969Z"
   },
   {
    "duration": 6,
    "start_time": "2022-09-23T11:19:28.982Z"
   },
   {
    "duration": 33,
    "start_time": "2022-09-23T11:19:28.989Z"
   },
   {
    "duration": 1549,
    "start_time": "2022-09-23T11:19:29.024Z"
   },
   {
    "duration": 6,
    "start_time": "2022-09-23T11:19:30.574Z"
   },
   {
    "duration": 63,
    "start_time": "2022-09-23T11:19:30.581Z"
   },
   {
    "duration": 1675,
    "start_time": "2022-09-23T11:19:30.645Z"
   },
   {
    "duration": 264,
    "start_time": "2022-09-23T11:19:32.324Z"
   },
   {
    "duration": 381,
    "start_time": "2022-09-23T11:19:32.590Z"
   },
   {
    "duration": 306,
    "start_time": "2022-09-23T11:19:32.974Z"
   },
   {
    "duration": 278,
    "start_time": "2022-09-23T11:19:33.281Z"
   },
   {
    "duration": 18,
    "start_time": "2022-09-23T11:19:33.561Z"
   },
   {
    "duration": 47,
    "start_time": "2022-09-23T11:19:33.581Z"
   },
   {
    "duration": 30,
    "start_time": "2022-09-23T11:19:33.630Z"
   },
   {
    "duration": 59,
    "start_time": "2022-09-23T11:19:33.661Z"
   },
   {
    "duration": 10,
    "start_time": "2022-09-23T11:19:33.722Z"
   },
   {
    "duration": 25,
    "start_time": "2022-09-23T11:19:33.733Z"
   },
   {
    "duration": 21,
    "start_time": "2022-09-23T11:19:33.760Z"
   },
   {
    "duration": 12,
    "start_time": "2022-09-23T11:19:33.783Z"
   },
   {
    "duration": 3,
    "start_time": "2022-09-23T11:23:36.468Z"
   },
   {
    "duration": 324,
    "start_time": "2022-09-23T11:24:02.631Z"
   },
   {
    "duration": 338,
    "start_time": "2022-09-23T11:24:21.630Z"
   },
   {
    "duration": 252,
    "start_time": "2022-09-23T11:29:30.489Z"
   },
   {
    "duration": 275,
    "start_time": "2022-09-23T11:30:11.567Z"
   },
   {
    "duration": 116,
    "start_time": "2022-09-23T11:36:13.743Z"
   },
   {
    "duration": 155,
    "start_time": "2022-09-23T11:36:18.942Z"
   },
   {
    "duration": 743,
    "start_time": "2022-09-23T11:36:49.416Z"
   },
   {
    "duration": 15,
    "start_time": "2022-09-23T11:37:06.315Z"
   },
   {
    "duration": 926,
    "start_time": "2022-09-23T11:37:13.023Z"
   },
   {
    "duration": 139,
    "start_time": "2022-09-23T11:37:44.988Z"
   },
   {
    "duration": 126,
    "start_time": "2022-09-23T11:37:59.574Z"
   },
   {
    "duration": 52,
    "start_time": "2022-09-23T11:38:56.823Z"
   },
   {
    "duration": 155,
    "start_time": "2022-09-23T11:39:01.056Z"
   },
   {
    "duration": 152,
    "start_time": "2022-09-23T11:39:16.783Z"
   },
   {
    "duration": 1104,
    "start_time": "2022-09-23T11:39:26.157Z"
   },
   {
    "duration": 54,
    "start_time": "2022-09-23T11:39:27.263Z"
   },
   {
    "duration": 16,
    "start_time": "2022-09-23T11:39:27.319Z"
   },
   {
    "duration": 13,
    "start_time": "2022-09-23T11:39:27.337Z"
   },
   {
    "duration": 15,
    "start_time": "2022-09-23T11:39:27.353Z"
   },
   {
    "duration": 13,
    "start_time": "2022-09-23T11:39:27.370Z"
   },
   {
    "duration": 3,
    "start_time": "2022-09-23T11:39:27.409Z"
   },
   {
    "duration": 8,
    "start_time": "2022-09-23T11:39:27.414Z"
   },
   {
    "duration": 7,
    "start_time": "2022-09-23T11:39:27.423Z"
   },
   {
    "duration": 7,
    "start_time": "2022-09-23T11:39:27.432Z"
   },
   {
    "duration": 7,
    "start_time": "2022-09-23T11:39:27.440Z"
   },
   {
    "duration": 12,
    "start_time": "2022-09-23T11:39:27.449Z"
   },
   {
    "duration": 18,
    "start_time": "2022-09-23T11:39:27.463Z"
   },
   {
    "duration": 25,
    "start_time": "2022-09-23T11:39:27.484Z"
   },
   {
    "duration": 7,
    "start_time": "2022-09-23T11:39:27.511Z"
   },
   {
    "duration": 13,
    "start_time": "2022-09-23T11:39:27.520Z"
   },
   {
    "duration": 325,
    "start_time": "2022-09-23T11:39:27.534Z"
   },
   {
    "duration": 6,
    "start_time": "2022-09-23T11:39:27.861Z"
   },
   {
    "duration": 326,
    "start_time": "2022-09-23T11:39:27.868Z"
   },
   {
    "duration": 14,
    "start_time": "2022-09-23T11:39:28.195Z"
   },
   {
    "duration": 9,
    "start_time": "2022-09-23T11:39:28.210Z"
   },
   {
    "duration": 1578,
    "start_time": "2022-09-23T11:39:28.221Z"
   },
   {
    "duration": 11,
    "start_time": "2022-09-23T11:39:29.800Z"
   },
   {
    "duration": 16,
    "start_time": "2022-09-23T11:39:29.813Z"
   },
   {
    "duration": 1526,
    "start_time": "2022-09-23T11:39:29.831Z"
   },
   {
    "duration": 236,
    "start_time": "2022-09-23T11:39:31.359Z"
   },
   {
    "duration": 303,
    "start_time": "2022-09-23T11:39:31.597Z"
   },
   {
    "duration": 319,
    "start_time": "2022-09-23T11:39:31.901Z"
   },
   {
    "duration": 444,
    "start_time": "2022-09-23T11:39:32.222Z"
   },
   {
    "duration": 26,
    "start_time": "2022-09-23T11:39:32.669Z"
   },
   {
    "duration": 43,
    "start_time": "2022-09-23T11:39:32.708Z"
   },
   {
    "duration": 64,
    "start_time": "2022-09-23T11:39:32.753Z"
   },
   {
    "duration": 38,
    "start_time": "2022-09-23T11:39:32.819Z"
   },
   {
    "duration": 9,
    "start_time": "2022-09-23T11:39:32.858Z"
   },
   {
    "duration": 43,
    "start_time": "2022-09-23T11:39:32.869Z"
   },
   {
    "duration": 11,
    "start_time": "2022-09-23T11:39:32.914Z"
   },
   {
    "duration": 25,
    "start_time": "2022-09-23T11:39:32.926Z"
   },
   {
    "duration": 1168,
    "start_time": "2022-09-23T11:42:44.922Z"
   },
   {
    "duration": 53,
    "start_time": "2022-09-23T11:42:46.092Z"
   },
   {
    "duration": 16,
    "start_time": "2022-09-23T11:42:46.147Z"
   },
   {
    "duration": 14,
    "start_time": "2022-09-23T11:42:46.165Z"
   },
   {
    "duration": 17,
    "start_time": "2022-09-23T11:42:46.181Z"
   },
   {
    "duration": 14,
    "start_time": "2022-09-23T11:42:46.208Z"
   },
   {
    "duration": 21,
    "start_time": "2022-09-23T11:42:46.223Z"
   },
   {
    "duration": 8,
    "start_time": "2022-09-23T11:42:46.246Z"
   },
   {
    "duration": 9,
    "start_time": "2022-09-23T11:42:46.255Z"
   },
   {
    "duration": 7,
    "start_time": "2022-09-23T11:42:46.265Z"
   },
   {
    "duration": 9,
    "start_time": "2022-09-23T11:42:46.273Z"
   },
   {
    "duration": 8,
    "start_time": "2022-09-23T11:42:46.283Z"
   },
   {
    "duration": 30,
    "start_time": "2022-09-23T11:42:46.292Z"
   },
   {
    "duration": 4,
    "start_time": "2022-09-23T11:42:46.326Z"
   },
   {
    "duration": 13,
    "start_time": "2022-09-23T11:42:46.331Z"
   },
   {
    "duration": 17,
    "start_time": "2022-09-23T11:42:46.346Z"
   },
   {
    "duration": 328,
    "start_time": "2022-09-23T11:42:46.365Z"
   },
   {
    "duration": 15,
    "start_time": "2022-09-23T11:42:46.695Z"
   },
   {
    "duration": 304,
    "start_time": "2022-09-23T11:42:46.711Z"
   },
   {
    "duration": 6,
    "start_time": "2022-09-23T11:42:47.016Z"
   },
   {
    "duration": 9,
    "start_time": "2022-09-23T11:42:47.023Z"
   },
   {
    "duration": 131,
    "start_time": "2022-09-23T11:42:47.034Z"
   },
   {
    "duration": 0,
    "start_time": "2022-09-23T11:42:47.167Z"
   },
   {
    "duration": 0,
    "start_time": "2022-09-23T11:42:47.168Z"
   },
   {
    "duration": 0,
    "start_time": "2022-09-23T11:42:47.170Z"
   },
   {
    "duration": 0,
    "start_time": "2022-09-23T11:42:47.171Z"
   },
   {
    "duration": 0,
    "start_time": "2022-09-23T11:42:47.172Z"
   },
   {
    "duration": 0,
    "start_time": "2022-09-23T11:42:47.173Z"
   },
   {
    "duration": 0,
    "start_time": "2022-09-23T11:42:47.174Z"
   },
   {
    "duration": 0,
    "start_time": "2022-09-23T11:42:47.175Z"
   },
   {
    "duration": 0,
    "start_time": "2022-09-23T11:42:47.176Z"
   },
   {
    "duration": 0,
    "start_time": "2022-09-23T11:42:47.177Z"
   },
   {
    "duration": 0,
    "start_time": "2022-09-23T11:42:47.178Z"
   },
   {
    "duration": 0,
    "start_time": "2022-09-23T11:42:47.179Z"
   },
   {
    "duration": 0,
    "start_time": "2022-09-23T11:42:47.181Z"
   },
   {
    "duration": 0,
    "start_time": "2022-09-23T11:42:47.182Z"
   },
   {
    "duration": 0,
    "start_time": "2022-09-23T11:42:47.183Z"
   },
   {
    "duration": 1095,
    "start_time": "2022-09-23T11:45:09.352Z"
   },
   {
    "duration": 54,
    "start_time": "2022-09-23T11:45:10.449Z"
   },
   {
    "duration": 19,
    "start_time": "2022-09-23T11:45:10.505Z"
   },
   {
    "duration": 16,
    "start_time": "2022-09-23T11:45:10.526Z"
   },
   {
    "duration": 15,
    "start_time": "2022-09-23T11:45:10.544Z"
   },
   {
    "duration": 19,
    "start_time": "2022-09-23T11:45:10.560Z"
   },
   {
    "duration": 27,
    "start_time": "2022-09-23T11:45:10.581Z"
   },
   {
    "duration": 6,
    "start_time": "2022-09-23T11:45:10.610Z"
   },
   {
    "duration": 13,
    "start_time": "2022-09-23T11:45:10.617Z"
   },
   {
    "duration": 6,
    "start_time": "2022-09-23T11:45:10.633Z"
   },
   {
    "duration": 12,
    "start_time": "2022-09-23T11:45:10.640Z"
   },
   {
    "duration": 9,
    "start_time": "2022-09-23T11:45:10.653Z"
   },
   {
    "duration": 53,
    "start_time": "2022-09-23T11:45:10.665Z"
   },
   {
    "duration": 4,
    "start_time": "2022-09-23T11:45:10.720Z"
   },
   {
    "duration": 9,
    "start_time": "2022-09-23T11:45:10.725Z"
   },
   {
    "duration": 12,
    "start_time": "2022-09-23T11:45:10.736Z"
   },
   {
    "duration": 341,
    "start_time": "2022-09-23T11:45:10.750Z"
   },
   {
    "duration": 5,
    "start_time": "2022-09-23T11:45:11.093Z"
   },
   {
    "duration": 299,
    "start_time": "2022-09-23T11:45:11.100Z"
   },
   {
    "duration": 13,
    "start_time": "2022-09-23T11:45:11.401Z"
   },
   {
    "duration": 10,
    "start_time": "2022-09-23T11:45:11.415Z"
   },
   {
    "duration": 1251,
    "start_time": "2022-09-23T11:45:11.427Z"
   },
   {
    "duration": 7,
    "start_time": "2022-09-23T11:45:12.680Z"
   },
   {
    "duration": 24,
    "start_time": "2022-09-23T11:45:12.689Z"
   },
   {
    "duration": 1411,
    "start_time": "2022-09-23T11:45:12.716Z"
   },
   {
    "duration": 230,
    "start_time": "2022-09-23T11:45:14.129Z"
   },
   {
    "duration": 307,
    "start_time": "2022-09-23T11:45:14.361Z"
   },
   {
    "duration": 288,
    "start_time": "2022-09-23T11:45:14.671Z"
   },
   {
    "duration": 258,
    "start_time": "2022-09-23T11:45:14.961Z"
   },
   {
    "duration": 21,
    "start_time": "2022-09-23T11:45:15.221Z"
   },
   {
    "duration": 30,
    "start_time": "2022-09-23T11:45:15.244Z"
   },
   {
    "duration": 57,
    "start_time": "2022-09-23T11:45:15.276Z"
   },
   {
    "duration": 127,
    "start_time": "2022-09-23T11:45:15.334Z"
   },
   {
    "duration": 8,
    "start_time": "2022-09-23T11:45:15.462Z"
   },
   {
    "duration": 12,
    "start_time": "2022-09-23T11:45:15.472Z"
   },
   {
    "duration": 32,
    "start_time": "2022-09-23T11:45:15.486Z"
   },
   {
    "duration": 17,
    "start_time": "2022-09-23T11:45:15.520Z"
   },
   {
    "duration": 8,
    "start_time": "2022-09-23T11:47:43.927Z"
   },
   {
    "duration": 6,
    "start_time": "2022-09-23T11:47:47.864Z"
   },
   {
    "duration": 7,
    "start_time": "2022-09-23T11:47:49.567Z"
   },
   {
    "duration": 1222,
    "start_time": "2022-09-23T11:48:12.327Z"
   },
   {
    "duration": 55,
    "start_time": "2022-09-23T11:48:13.551Z"
   },
   {
    "duration": 15,
    "start_time": "2022-09-23T11:48:13.608Z"
   },
   {
    "duration": 15,
    "start_time": "2022-09-23T11:48:13.625Z"
   },
   {
    "duration": 15,
    "start_time": "2022-09-23T11:48:13.642Z"
   },
   {
    "duration": 12,
    "start_time": "2022-09-23T11:48:13.658Z"
   },
   {
    "duration": 6,
    "start_time": "2022-09-23T11:48:13.671Z"
   },
   {
    "duration": 32,
    "start_time": "2022-09-23T11:48:13.678Z"
   },
   {
    "duration": 5,
    "start_time": "2022-09-23T11:48:13.712Z"
   },
   {
    "duration": 10,
    "start_time": "2022-09-23T11:48:13.719Z"
   },
   {
    "duration": 8,
    "start_time": "2022-09-23T11:48:13.731Z"
   },
   {
    "duration": 14,
    "start_time": "2022-09-23T11:48:13.741Z"
   },
   {
    "duration": 21,
    "start_time": "2022-09-23T11:48:13.757Z"
   },
   {
    "duration": 5,
    "start_time": "2022-09-23T11:48:13.782Z"
   },
   {
    "duration": 8,
    "start_time": "2022-09-23T11:48:13.809Z"
   },
   {
    "duration": 21,
    "start_time": "2022-09-23T11:48:13.819Z"
   },
   {
    "duration": 343,
    "start_time": "2022-09-23T11:48:13.841Z"
   },
   {
    "duration": 6,
    "start_time": "2022-09-23T11:48:14.186Z"
   },
   {
    "duration": 317,
    "start_time": "2022-09-23T11:48:14.193Z"
   },
   {
    "duration": 7,
    "start_time": "2022-09-23T11:48:14.511Z"
   },
   {
    "duration": 8,
    "start_time": "2022-09-23T11:48:14.520Z"
   },
   {
    "duration": 135,
    "start_time": "2022-09-23T11:48:14.530Z"
   },
   {
    "duration": 0,
    "start_time": "2022-09-23T11:48:14.666Z"
   },
   {
    "duration": 0,
    "start_time": "2022-09-23T11:48:14.667Z"
   },
   {
    "duration": 0,
    "start_time": "2022-09-23T11:48:14.669Z"
   },
   {
    "duration": 0,
    "start_time": "2022-09-23T11:48:14.670Z"
   },
   {
    "duration": 0,
    "start_time": "2022-09-23T11:48:14.671Z"
   },
   {
    "duration": 0,
    "start_time": "2022-09-23T11:48:14.672Z"
   },
   {
    "duration": 0,
    "start_time": "2022-09-23T11:48:14.673Z"
   },
   {
    "duration": 0,
    "start_time": "2022-09-23T11:48:14.674Z"
   },
   {
    "duration": 0,
    "start_time": "2022-09-23T11:48:14.675Z"
   },
   {
    "duration": 1,
    "start_time": "2022-09-23T11:48:14.675Z"
   },
   {
    "duration": 0,
    "start_time": "2022-09-23T11:48:14.677Z"
   },
   {
    "duration": 0,
    "start_time": "2022-09-23T11:48:14.677Z"
   },
   {
    "duration": 0,
    "start_time": "2022-09-23T11:48:14.678Z"
   },
   {
    "duration": 0,
    "start_time": "2022-09-23T11:48:14.679Z"
   },
   {
    "duration": 0,
    "start_time": "2022-09-23T11:48:14.680Z"
   },
   {
    "duration": 1126,
    "start_time": "2022-09-23T11:50:14.529Z"
   },
   {
    "duration": 58,
    "start_time": "2022-09-23T11:50:15.657Z"
   },
   {
    "duration": 17,
    "start_time": "2022-09-23T11:50:15.716Z"
   },
   {
    "duration": 14,
    "start_time": "2022-09-23T11:50:15.735Z"
   },
   {
    "duration": 13,
    "start_time": "2022-09-23T11:50:15.752Z"
   },
   {
    "duration": 13,
    "start_time": "2022-09-23T11:50:15.767Z"
   },
   {
    "duration": 3,
    "start_time": "2022-09-23T11:50:15.808Z"
   },
   {
    "duration": 7,
    "start_time": "2022-09-23T11:50:15.813Z"
   },
   {
    "duration": 11,
    "start_time": "2022-09-23T11:50:15.821Z"
   },
   {
    "duration": 5,
    "start_time": "2022-09-23T11:50:15.833Z"
   },
   {
    "duration": 6,
    "start_time": "2022-09-23T11:50:15.840Z"
   },
   {
    "duration": 8,
    "start_time": "2022-09-23T11:50:15.847Z"
   },
   {
    "duration": 18,
    "start_time": "2022-09-23T11:50:15.857Z"
   },
   {
    "duration": 34,
    "start_time": "2022-09-23T11:50:15.877Z"
   },
   {
    "duration": 11,
    "start_time": "2022-09-23T11:50:15.912Z"
   },
   {
    "duration": 14,
    "start_time": "2022-09-23T11:50:15.925Z"
   },
   {
    "duration": 323,
    "start_time": "2022-09-23T11:50:15.941Z"
   },
   {
    "duration": 5,
    "start_time": "2022-09-23T11:50:16.265Z"
   },
   {
    "duration": 330,
    "start_time": "2022-09-23T11:50:16.272Z"
   },
   {
    "duration": 7,
    "start_time": "2022-09-23T11:50:16.608Z"
   },
   {
    "duration": 14,
    "start_time": "2022-09-23T11:50:16.616Z"
   },
   {
    "duration": 1621,
    "start_time": "2022-09-23T11:50:16.631Z"
   },
   {
    "duration": 7,
    "start_time": "2022-09-23T11:50:18.253Z"
   },
   {
    "duration": 26,
    "start_time": "2022-09-23T11:50:18.261Z"
   },
   {
    "duration": 1556,
    "start_time": "2022-09-23T11:50:18.289Z"
   },
   {
    "duration": 246,
    "start_time": "2022-09-23T11:50:19.846Z"
   },
   {
    "duration": 298,
    "start_time": "2022-09-23T11:50:20.093Z"
   },
   {
    "duration": 295,
    "start_time": "2022-09-23T11:50:20.393Z"
   },
   {
    "duration": 378,
    "start_time": "2022-09-23T11:50:20.690Z"
   },
   {
    "duration": 20,
    "start_time": "2022-09-23T11:50:21.070Z"
   },
   {
    "duration": 45,
    "start_time": "2022-09-23T11:50:21.091Z"
   },
   {
    "duration": 30,
    "start_time": "2022-09-23T11:50:21.137Z"
   },
   {
    "duration": 61,
    "start_time": "2022-09-23T11:50:21.169Z"
   },
   {
    "duration": 10,
    "start_time": "2022-09-23T11:50:21.232Z"
   },
   {
    "duration": 39,
    "start_time": "2022-09-23T11:50:21.244Z"
   },
   {
    "duration": 28,
    "start_time": "2022-09-23T11:50:21.285Z"
   },
   {
    "duration": 27,
    "start_time": "2022-09-23T11:50:21.315Z"
   },
   {
    "duration": 730,
    "start_time": "2022-09-23T11:52:02.837Z"
   },
   {
    "duration": 645,
    "start_time": "2022-09-23T11:52:15.127Z"
   },
   {
    "duration": 1132,
    "start_time": "2022-09-23T11:52:29.524Z"
   },
   {
    "duration": 55,
    "start_time": "2022-09-23T11:52:30.658Z"
   },
   {
    "duration": 18,
    "start_time": "2022-09-23T11:52:30.714Z"
   },
   {
    "duration": 25,
    "start_time": "2022-09-23T11:52:30.733Z"
   },
   {
    "duration": 24,
    "start_time": "2022-09-23T11:52:30.761Z"
   },
   {
    "duration": 35,
    "start_time": "2022-09-23T11:52:30.786Z"
   },
   {
    "duration": 49,
    "start_time": "2022-09-23T11:52:30.823Z"
   },
   {
    "duration": 32,
    "start_time": "2022-09-23T11:52:30.874Z"
   },
   {
    "duration": 15,
    "start_time": "2022-09-23T11:52:30.908Z"
   },
   {
    "duration": 8,
    "start_time": "2022-09-23T11:52:30.924Z"
   },
   {
    "duration": 22,
    "start_time": "2022-09-23T11:52:30.934Z"
   },
   {
    "duration": 41,
    "start_time": "2022-09-23T11:52:30.957Z"
   },
   {
    "duration": 56,
    "start_time": "2022-09-23T11:52:31.000Z"
   },
   {
    "duration": 14,
    "start_time": "2022-09-23T11:52:31.059Z"
   },
   {
    "duration": 44,
    "start_time": "2022-09-23T11:52:31.074Z"
   },
   {
    "duration": 46,
    "start_time": "2022-09-23T11:52:31.120Z"
   },
   {
    "duration": 327,
    "start_time": "2022-09-23T11:52:31.168Z"
   },
   {
    "duration": 13,
    "start_time": "2022-09-23T11:52:31.496Z"
   },
   {
    "duration": 297,
    "start_time": "2022-09-23T11:52:31.511Z"
   },
   {
    "duration": 7,
    "start_time": "2022-09-23T11:52:31.810Z"
   },
   {
    "duration": 18,
    "start_time": "2022-09-23T11:52:31.818Z"
   },
   {
    "duration": 1686,
    "start_time": "2022-09-23T11:52:31.838Z"
   },
   {
    "duration": 6,
    "start_time": "2022-09-23T11:52:33.526Z"
   },
   {
    "duration": 15,
    "start_time": "2022-09-23T11:52:33.534Z"
   },
   {
    "duration": 1378,
    "start_time": "2022-09-23T11:52:33.550Z"
   },
   {
    "duration": 228,
    "start_time": "2022-09-23T11:52:34.930Z"
   },
   {
    "duration": 283,
    "start_time": "2022-09-23T11:52:35.159Z"
   },
   {
    "duration": 290,
    "start_time": "2022-09-23T11:52:35.443Z"
   },
   {
    "duration": 343,
    "start_time": "2022-09-23T11:52:35.735Z"
   },
   {
    "duration": 31,
    "start_time": "2022-09-23T11:52:36.079Z"
   },
   {
    "duration": 31,
    "start_time": "2022-09-23T11:52:36.112Z"
   },
   {
    "duration": 32,
    "start_time": "2022-09-23T11:52:36.145Z"
   },
   {
    "duration": 56,
    "start_time": "2022-09-23T11:52:36.178Z"
   },
   {
    "duration": 7,
    "start_time": "2022-09-23T11:52:36.236Z"
   },
   {
    "duration": 9,
    "start_time": "2022-09-23T11:52:36.245Z"
   },
   {
    "duration": 11,
    "start_time": "2022-09-23T11:52:36.255Z"
   },
   {
    "duration": 41,
    "start_time": "2022-09-23T11:52:36.267Z"
   },
   {
    "duration": 1394,
    "start_time": "2022-09-23T11:53:36.315Z"
   },
   {
    "duration": 67,
    "start_time": "2022-09-23T14:32:57.306Z"
   },
   {
    "duration": 44,
    "start_time": "2022-09-23T14:33:39.457Z"
   },
   {
    "duration": 6,
    "start_time": "2022-09-23T14:34:16.253Z"
   },
   {
    "duration": 6,
    "start_time": "2022-09-23T14:34:19.859Z"
   },
   {
    "duration": 6,
    "start_time": "2022-09-23T14:35:07.833Z"
   },
   {
    "duration": 6,
    "start_time": "2022-09-23T14:35:09.812Z"
   },
   {
    "duration": 1269,
    "start_time": "2022-09-23T14:35:19.370Z"
   },
   {
    "duration": 92,
    "start_time": "2022-09-23T14:35:20.641Z"
   },
   {
    "duration": 16,
    "start_time": "2022-09-23T14:35:20.734Z"
   },
   {
    "duration": 15,
    "start_time": "2022-09-23T14:35:20.752Z"
   },
   {
    "duration": 14,
    "start_time": "2022-09-23T14:35:20.768Z"
   },
   {
    "duration": 25,
    "start_time": "2022-09-23T14:35:20.783Z"
   },
   {
    "duration": 7,
    "start_time": "2022-09-23T14:35:20.809Z"
   },
   {
    "duration": 7,
    "start_time": "2022-09-23T14:35:20.818Z"
   },
   {
    "duration": 7,
    "start_time": "2022-09-23T14:35:20.826Z"
   },
   {
    "duration": 7,
    "start_time": "2022-09-23T14:35:20.835Z"
   },
   {
    "duration": 6,
    "start_time": "2022-09-23T14:35:20.844Z"
   },
   {
    "duration": 9,
    "start_time": "2022-09-23T14:35:20.851Z"
   },
   {
    "duration": 39,
    "start_time": "2022-09-23T14:35:20.862Z"
   },
   {
    "duration": 4,
    "start_time": "2022-09-23T14:35:20.903Z"
   },
   {
    "duration": 13,
    "start_time": "2022-09-23T14:35:20.909Z"
   },
   {
    "duration": 11,
    "start_time": "2022-09-23T14:35:20.924Z"
   },
   {
    "duration": 304,
    "start_time": "2022-09-23T14:35:20.937Z"
   },
   {
    "duration": 5,
    "start_time": "2022-09-23T14:35:21.243Z"
   },
   {
    "duration": 322,
    "start_time": "2022-09-23T14:35:21.250Z"
   },
   {
    "duration": 8,
    "start_time": "2022-09-23T14:35:21.574Z"
   },
   {
    "duration": 21,
    "start_time": "2022-09-23T14:35:21.584Z"
   },
   {
    "duration": 1667,
    "start_time": "2022-09-23T14:35:21.607Z"
   },
   {
    "duration": 5,
    "start_time": "2022-09-23T14:35:23.276Z"
   },
   {
    "duration": 18,
    "start_time": "2022-09-23T14:35:23.283Z"
   },
   {
    "duration": 1381,
    "start_time": "2022-09-23T14:35:23.302Z"
   },
   {
    "duration": 230,
    "start_time": "2022-09-23T14:35:24.685Z"
   },
   {
    "duration": 263,
    "start_time": "2022-09-23T14:35:24.917Z"
   },
   {
    "duration": 269,
    "start_time": "2022-09-23T14:35:25.182Z"
   },
   {
    "duration": 339,
    "start_time": "2022-09-23T14:35:25.452Z"
   },
   {
    "duration": 25,
    "start_time": "2022-09-23T14:35:25.792Z"
   },
   {
    "duration": 28,
    "start_time": "2022-09-23T14:35:25.818Z"
   },
   {
    "duration": 55,
    "start_time": "2022-09-23T14:35:25.847Z"
   },
   {
    "duration": 29,
    "start_time": "2022-09-23T14:35:25.903Z"
   },
   {
    "duration": 7,
    "start_time": "2022-09-23T14:35:25.934Z"
   },
   {
    "duration": 15,
    "start_time": "2022-09-23T14:35:25.943Z"
   },
   {
    "duration": 8,
    "start_time": "2022-09-23T14:35:25.960Z"
   },
   {
    "duration": 36,
    "start_time": "2022-09-23T14:35:25.969Z"
   },
   {
    "duration": 211,
    "start_time": "2022-09-23T14:35:52.932Z"
   },
   {
    "duration": 212,
    "start_time": "2022-09-23T14:36:14.795Z"
   },
   {
    "duration": 208,
    "start_time": "2022-09-23T14:36:48.540Z"
   },
   {
    "duration": 174,
    "start_time": "2022-09-23T14:37:17.030Z"
   },
   {
    "duration": 212,
    "start_time": "2022-09-23T14:37:50.926Z"
   },
   {
    "duration": 293,
    "start_time": "2022-09-23T14:38:10.566Z"
   },
   {
    "duration": 259,
    "start_time": "2022-09-23T14:38:14.262Z"
   },
   {
    "duration": 220,
    "start_time": "2022-09-23T14:38:23.850Z"
   },
   {
    "duration": 223,
    "start_time": "2022-09-23T14:38:47.646Z"
   },
   {
    "duration": 212,
    "start_time": "2022-09-23T14:39:06.142Z"
   },
   {
    "duration": 212,
    "start_time": "2022-09-23T14:39:15.054Z"
   },
   {
    "duration": 282,
    "start_time": "2022-09-23T14:39:26.543Z"
   },
   {
    "duration": 276,
    "start_time": "2022-09-23T14:51:17.299Z"
   },
   {
    "duration": 242,
    "start_time": "2022-09-23T14:51:49.522Z"
   },
   {
    "duration": 280,
    "start_time": "2022-09-23T14:52:29.930Z"
   },
   {
    "duration": 279,
    "start_time": "2022-09-23T14:56:24.698Z"
   },
   {
    "duration": 270,
    "start_time": "2022-09-23T14:56:45.800Z"
   },
   {
    "duration": 244,
    "start_time": "2022-09-23T14:56:59.092Z"
   },
   {
    "duration": 252,
    "start_time": "2022-09-23T14:57:19.978Z"
   },
   {
    "duration": 309,
    "start_time": "2022-09-23T14:57:31.297Z"
   },
   {
    "duration": 18,
    "start_time": "2022-09-23T14:58:25.665Z"
   },
   {
    "duration": 1157,
    "start_time": "2022-09-23T14:58:33.098Z"
   },
   {
    "duration": 50,
    "start_time": "2022-09-23T14:58:34.257Z"
   },
   {
    "duration": 17,
    "start_time": "2022-09-23T14:58:34.308Z"
   },
   {
    "duration": 12,
    "start_time": "2022-09-23T14:58:34.327Z"
   },
   {
    "duration": 15,
    "start_time": "2022-09-23T14:58:34.341Z"
   },
   {
    "duration": 13,
    "start_time": "2022-09-23T14:58:34.358Z"
   },
   {
    "duration": 38,
    "start_time": "2022-09-23T14:58:34.373Z"
   },
   {
    "duration": 12,
    "start_time": "2022-09-23T14:58:34.413Z"
   },
   {
    "duration": 15,
    "start_time": "2022-09-23T14:58:34.427Z"
   },
   {
    "duration": 10,
    "start_time": "2022-09-23T14:58:34.446Z"
   },
   {
    "duration": 16,
    "start_time": "2022-09-23T14:58:34.458Z"
   },
   {
    "duration": 14,
    "start_time": "2022-09-23T14:58:34.476Z"
   },
   {
    "duration": 28,
    "start_time": "2022-09-23T14:58:34.492Z"
   },
   {
    "duration": 17,
    "start_time": "2022-09-23T14:58:34.521Z"
   },
   {
    "duration": 25,
    "start_time": "2022-09-23T14:58:34.540Z"
   },
   {
    "duration": 28,
    "start_time": "2022-09-23T14:58:34.567Z"
   },
   {
    "duration": 322,
    "start_time": "2022-09-23T14:58:34.597Z"
   },
   {
    "duration": 5,
    "start_time": "2022-09-23T14:58:34.921Z"
   },
   {
    "duration": 299,
    "start_time": "2022-09-23T14:58:34.927Z"
   },
   {
    "duration": 7,
    "start_time": "2022-09-23T14:58:35.228Z"
   },
   {
    "duration": 12,
    "start_time": "2022-09-23T14:58:35.237Z"
   },
   {
    "duration": 1620,
    "start_time": "2022-09-23T14:58:35.251Z"
   },
   {
    "duration": 5,
    "start_time": "2022-09-23T14:58:36.873Z"
   },
   {
    "duration": 10,
    "start_time": "2022-09-23T14:58:36.880Z"
   },
   {
    "duration": 1338,
    "start_time": "2022-09-23T14:58:36.892Z"
   },
   {
    "duration": 227,
    "start_time": "2022-09-23T14:58:38.232Z"
   },
   {
    "duration": 215,
    "start_time": "2022-09-23T14:58:38.461Z"
   },
   {
    "duration": 398,
    "start_time": "2022-09-23T14:58:38.679Z"
   },
   {
    "duration": 282,
    "start_time": "2022-09-23T14:58:39.079Z"
   },
   {
    "duration": 288,
    "start_time": "2022-09-23T14:58:39.362Z"
   },
   {
    "duration": 291,
    "start_time": "2022-09-23T14:58:39.651Z"
   },
   {
    "duration": 309,
    "start_time": "2022-09-23T14:58:39.943Z"
   },
   {
    "duration": 20,
    "start_time": "2022-09-23T14:58:40.254Z"
   },
   {
    "duration": 47,
    "start_time": "2022-09-23T14:58:40.276Z"
   },
   {
    "duration": 32,
    "start_time": "2022-09-23T14:58:40.325Z"
   },
   {
    "duration": 57,
    "start_time": "2022-09-23T14:58:40.359Z"
   },
   {
    "duration": 8,
    "start_time": "2022-09-23T14:58:40.418Z"
   },
   {
    "duration": 8,
    "start_time": "2022-09-23T14:58:40.427Z"
   },
   {
    "duration": 12,
    "start_time": "2022-09-23T14:58:40.436Z"
   },
   {
    "duration": 12,
    "start_time": "2022-09-23T14:58:40.450Z"
   },
   {
    "duration": 24,
    "start_time": "2022-09-23T14:59:06.655Z"
   },
   {
    "duration": 25,
    "start_time": "2022-09-23T15:00:17.313Z"
   },
   {
    "duration": 31,
    "start_time": "2022-09-23T15:09:41.613Z"
   },
   {
    "duration": 36,
    "start_time": "2022-09-23T15:09:44.131Z"
   },
   {
    "duration": 29,
    "start_time": "2022-09-23T15:12:10.468Z"
   },
   {
    "duration": 100,
    "start_time": "2022-09-23T15:14:42.318Z"
   },
   {
    "duration": 31,
    "start_time": "2022-09-23T15:14:57.383Z"
   },
   {
    "duration": 12,
    "start_time": "2022-09-23T15:14:58.948Z"
   },
   {
    "duration": 10,
    "start_time": "2022-09-23T15:15:10.266Z"
   },
   {
    "duration": 24,
    "start_time": "2022-09-23T15:15:15.304Z"
   },
   {
    "duration": 17,
    "start_time": "2022-09-23T15:15:31.865Z"
   },
   {
    "duration": 1113,
    "start_time": "2022-09-23T15:17:54.683Z"
   },
   {
    "duration": 50,
    "start_time": "2022-09-23T15:17:55.797Z"
   },
   {
    "duration": 17,
    "start_time": "2022-09-23T15:17:55.848Z"
   },
   {
    "duration": 12,
    "start_time": "2022-09-23T15:17:55.866Z"
   },
   {
    "duration": 13,
    "start_time": "2022-09-23T15:17:55.879Z"
   },
   {
    "duration": 14,
    "start_time": "2022-09-23T15:17:55.893Z"
   },
   {
    "duration": 5,
    "start_time": "2022-09-23T15:17:55.908Z"
   },
   {
    "duration": 7,
    "start_time": "2022-09-23T15:17:55.914Z"
   },
   {
    "duration": 6,
    "start_time": "2022-09-23T15:17:55.922Z"
   },
   {
    "duration": 4,
    "start_time": "2022-09-23T15:17:55.930Z"
   },
   {
    "duration": 6,
    "start_time": "2022-09-23T15:17:55.935Z"
   },
   {
    "duration": 7,
    "start_time": "2022-09-23T15:17:55.943Z"
   },
   {
    "duration": 14,
    "start_time": "2022-09-23T15:17:55.951Z"
   },
   {
    "duration": 3,
    "start_time": "2022-09-23T15:17:55.967Z"
   },
   {
    "duration": 7,
    "start_time": "2022-09-23T15:17:56.001Z"
   },
   {
    "duration": 11,
    "start_time": "2022-09-23T15:17:56.009Z"
   },
   {
    "duration": 285,
    "start_time": "2022-09-23T15:17:56.022Z"
   },
   {
    "duration": 5,
    "start_time": "2022-09-23T15:17:56.308Z"
   },
   {
    "duration": 296,
    "start_time": "2022-09-23T15:17:56.314Z"
   },
   {
    "duration": 7,
    "start_time": "2022-09-23T15:17:56.611Z"
   },
   {
    "duration": 8,
    "start_time": "2022-09-23T15:17:56.619Z"
   },
   {
    "duration": 1580,
    "start_time": "2022-09-23T15:17:56.629Z"
   },
   {
    "duration": 5,
    "start_time": "2022-09-23T15:17:58.211Z"
   },
   {
    "duration": 11,
    "start_time": "2022-09-23T15:17:58.218Z"
   },
   {
    "duration": 1297,
    "start_time": "2022-09-23T15:17:58.230Z"
   },
   {
    "duration": 216,
    "start_time": "2022-09-23T15:17:59.529Z"
   },
   {
    "duration": 212,
    "start_time": "2022-09-23T15:17:59.747Z"
   },
   {
    "duration": 442,
    "start_time": "2022-09-23T15:17:59.963Z"
   },
   {
    "duration": 299,
    "start_time": "2022-09-23T15:18:00.406Z"
   },
   {
    "duration": 251,
    "start_time": "2022-09-23T15:18:00.706Z"
   },
   {
    "duration": 266,
    "start_time": "2022-09-23T15:18:00.958Z"
   },
   {
    "duration": 299,
    "start_time": "2022-09-23T15:18:01.226Z"
   },
   {
    "duration": 23,
    "start_time": "2022-09-23T15:18:01.526Z"
   },
   {
    "duration": 26,
    "start_time": "2022-09-23T15:18:01.550Z"
   },
   {
    "duration": 48,
    "start_time": "2022-09-23T15:18:01.577Z"
   },
   {
    "duration": 44,
    "start_time": "2022-09-23T15:18:01.626Z"
   },
   {
    "duration": 30,
    "start_time": "2022-09-23T15:18:01.672Z"
   },
   {
    "duration": 8,
    "start_time": "2022-09-23T15:18:01.703Z"
   },
   {
    "duration": 6,
    "start_time": "2022-09-23T15:18:01.712Z"
   },
   {
    "duration": 10,
    "start_time": "2022-09-23T15:18:01.720Z"
   },
   {
    "duration": 17,
    "start_time": "2022-09-23T15:18:01.732Z"
   },
   {
    "duration": 4,
    "start_time": "2022-09-23T15:18:52.855Z"
   },
   {
    "duration": 7,
    "start_time": "2022-09-23T15:46:41.428Z"
   },
   {
    "duration": 8,
    "start_time": "2022-09-23T15:47:07.121Z"
   },
   {
    "duration": 8,
    "start_time": "2022-09-23T15:48:03.868Z"
   },
   {
    "duration": 6,
    "start_time": "2022-09-23T15:48:11.944Z"
   },
   {
    "duration": 1198,
    "start_time": "2022-09-23T16:21:20.137Z"
   },
   {
    "duration": 89,
    "start_time": "2022-09-23T16:21:21.337Z"
   },
   {
    "duration": 18,
    "start_time": "2022-09-23T16:21:21.427Z"
   },
   {
    "duration": 13,
    "start_time": "2022-09-23T16:21:21.447Z"
   },
   {
    "duration": 14,
    "start_time": "2022-09-23T16:21:21.462Z"
   },
   {
    "duration": 13,
    "start_time": "2022-09-23T16:21:21.478Z"
   },
   {
    "duration": 2,
    "start_time": "2022-09-23T16:21:21.500Z"
   },
   {
    "duration": 6,
    "start_time": "2022-09-23T16:21:21.504Z"
   },
   {
    "duration": 9,
    "start_time": "2022-09-23T16:21:21.512Z"
   },
   {
    "duration": 4,
    "start_time": "2022-09-23T16:21:21.524Z"
   },
   {
    "duration": 6,
    "start_time": "2022-09-23T16:21:21.530Z"
   },
   {
    "duration": 7,
    "start_time": "2022-09-23T16:21:21.538Z"
   },
   {
    "duration": 19,
    "start_time": "2022-09-23T16:21:21.547Z"
   },
   {
    "duration": 3,
    "start_time": "2022-09-23T16:21:21.568Z"
   },
   {
    "duration": 7,
    "start_time": "2022-09-23T16:21:21.601Z"
   },
   {
    "duration": 11,
    "start_time": "2022-09-23T16:21:21.610Z"
   },
   {
    "duration": 318,
    "start_time": "2022-09-23T16:21:21.623Z"
   },
   {
    "duration": 4,
    "start_time": "2022-09-23T16:21:21.943Z"
   },
   {
    "duration": 326,
    "start_time": "2022-09-23T16:21:21.948Z"
   },
   {
    "duration": 12,
    "start_time": "2022-09-23T16:21:22.276Z"
   },
   {
    "duration": 18,
    "start_time": "2022-09-23T16:21:22.290Z"
   },
   {
    "duration": 1631,
    "start_time": "2022-09-23T16:21:22.309Z"
   },
   {
    "duration": 6,
    "start_time": "2022-09-23T16:21:23.941Z"
   },
   {
    "duration": 14,
    "start_time": "2022-09-23T16:21:23.948Z"
   },
   {
    "duration": 1567,
    "start_time": "2022-09-23T16:21:23.963Z"
   },
   {
    "duration": 266,
    "start_time": "2022-09-23T16:21:25.532Z"
   },
   {
    "duration": 233,
    "start_time": "2022-09-23T16:21:25.801Z"
   },
   {
    "duration": 438,
    "start_time": "2022-09-23T16:21:26.037Z"
   },
   {
    "duration": 326,
    "start_time": "2022-09-23T16:21:26.478Z"
   },
   {
    "duration": 276,
    "start_time": "2022-09-23T16:21:26.805Z"
   },
   {
    "duration": 311,
    "start_time": "2022-09-23T16:21:27.083Z"
   },
   {
    "duration": 349,
    "start_time": "2022-09-23T16:21:27.396Z"
   },
   {
    "duration": 26,
    "start_time": "2022-09-23T16:21:27.746Z"
   },
   {
    "duration": 47,
    "start_time": "2022-09-23T16:21:27.774Z"
   },
   {
    "duration": 28,
    "start_time": "2022-09-23T16:21:27.822Z"
   },
   {
    "duration": 3,
    "start_time": "2022-09-23T16:21:27.852Z"
   },
   {
    "duration": 50,
    "start_time": "2022-09-23T16:21:27.856Z"
   },
   {
    "duration": 8,
    "start_time": "2022-09-23T16:21:27.908Z"
   },
   {
    "duration": 8,
    "start_time": "2022-09-23T16:21:27.917Z"
   },
   {
    "duration": 6,
    "start_time": "2022-09-23T16:21:27.926Z"
   },
   {
    "duration": 8,
    "start_time": "2022-09-23T16:21:27.933Z"
   },
   {
    "duration": 200,
    "start_time": "2022-09-23T16:21:51.922Z"
   },
   {
    "duration": 278,
    "start_time": "2022-09-23T16:22:00.115Z"
   },
   {
    "duration": 349,
    "start_time": "2022-09-23T16:22:27.002Z"
   },
   {
    "duration": 282,
    "start_time": "2022-09-23T16:22:33.858Z"
   },
   {
    "duration": 304,
    "start_time": "2022-09-23T16:22:52.547Z"
   }
  ],
  "kernelspec": {
   "display_name": "Python 3 (ipykernel)",
   "language": "python",
   "name": "python3"
  },
  "language_info": {
   "codemirror_mode": {
    "name": "ipython",
    "version": 3
   },
   "file_extension": ".py",
   "mimetype": "text/x-python",
   "name": "python",
   "nbconvert_exporter": "python",
   "pygments_lexer": "ipython3",
   "version": "3.9.12"
  },
  "toc": {
   "base_numbering": 1,
   "nav_menu": {},
   "number_sections": true,
   "sideBar": true,
   "skip_h1_title": true,
   "title_cell": "Table of Contents",
   "title_sidebar": "Contents",
   "toc_cell": false,
   "toc_position": {},
   "toc_section_display": true,
   "toc_window_display": true
  }
 },
 "nbformat": 4,
 "nbformat_minor": 2
}
