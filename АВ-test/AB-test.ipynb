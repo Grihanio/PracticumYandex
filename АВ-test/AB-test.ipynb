{
 "cells": [
  {
   "cell_type": "markdown",
   "metadata": {},
   "source": [
    "# Описание проекта\n",
    "**Приоритезация маркетинговых гипотез, запуск А/В-теста и анализ результатов** <br>\n",
    "Вы — аналитик крупного интернет-магазина. Вместе с отделом маркетинга вы подготовили список гипотез для увеличения выручки.<br>\n",
    "Приоритизируйте гипотезы, запустите A/B-тест и проанализируйте результаты. <br>\n",
    "\n",
    "**Цель проекта** — приоритезировать гипотезы и провести проверку самой востребованной из них. <br>\n",
    "\n",
    "**Ход исследования:** <br>\n",
    "- приоритезация гипотез;\n",
    "- Анализ A/B-теста."
   ]
  },
  {
   "cell_type": "markdown",
   "metadata": {},
   "source": [
    "## Загрузка данных и подготовка их к анализу"
   ]
  },
  {
   "cell_type": "markdown",
   "metadata": {},
   "source": [
    "### Первичная обработка датасетов"
   ]
  },
  {
   "cell_type": "markdown",
   "metadata": {},
   "source": [
    "**Импортирование библиотек и выгрузка датасетов**"
   ]
  },
  {
   "cell_type": "code",
   "execution_count": 1,
   "metadata": {},
   "outputs": [],
   "source": [
    "import pandas as pd\n",
    "import matplotlib.pyplot as plt\n",
    "import numpy as np\n",
    "import scipy.stats as stats"
   ]
  },
  {
   "cell_type": "code",
   "execution_count": 2,
   "metadata": {},
   "outputs": [],
   "source": [
    "try:\n",
    "    hypothesis = pd.read_csv('/datasets/hypothesis.csv')\n",
    "    orders = pd.read_csv('/datasets/orders.csv')\n",
    "    visitors = pd.read_csv('/datasets/visitors.csv')\n",
    "except:\n",
    "    print('Проверьте пути к файлам')"
   ]
  },
  {
   "cell_type": "markdown",
   "metadata": {},
   "source": [
    "**Осмотр датасетов, вывод таблиц и информации о них**"
   ]
  },
  {
   "cell_type": "code",
   "execution_count": 3,
   "metadata": {},
   "outputs": [
    {
     "data": {
      "text/html": [
       "<div>\n",
       "<style scoped>\n",
       "    .dataframe tbody tr th:only-of-type {\n",
       "        vertical-align: middle;\n",
       "    }\n",
       "\n",
       "    .dataframe tbody tr th {\n",
       "        vertical-align: top;\n",
       "    }\n",
       "\n",
       "    .dataframe thead th {\n",
       "        text-align: right;\n",
       "    }\n",
       "</style>\n",
       "<table border=\"1\" class=\"dataframe\">\n",
       "  <thead>\n",
       "    <tr style=\"text-align: right;\">\n",
       "      <th></th>\n",
       "      <th>Hypothesis</th>\n",
       "      <th>Reach</th>\n",
       "      <th>Impact</th>\n",
       "      <th>Confidence</th>\n",
       "      <th>Efforts</th>\n",
       "    </tr>\n",
       "  </thead>\n",
       "  <tbody>\n",
       "    <tr>\n",
       "      <th>0</th>\n",
       "      <td>Добавить два новых канала привлечения трафика,...</td>\n",
       "      <td>3</td>\n",
       "      <td>10</td>\n",
       "      <td>8</td>\n",
       "      <td>6</td>\n",
       "    </tr>\n",
       "    <tr>\n",
       "      <th>1</th>\n",
       "      <td>Запустить собственную службу доставки, что сок...</td>\n",
       "      <td>2</td>\n",
       "      <td>5</td>\n",
       "      <td>4</td>\n",
       "      <td>10</td>\n",
       "    </tr>\n",
       "    <tr>\n",
       "      <th>2</th>\n",
       "      <td>Добавить блоки рекомендаций товаров на сайт ин...</td>\n",
       "      <td>8</td>\n",
       "      <td>3</td>\n",
       "      <td>7</td>\n",
       "      <td>3</td>\n",
       "    </tr>\n",
       "    <tr>\n",
       "      <th>3</th>\n",
       "      <td>Изменить структура категорий, что увеличит кон...</td>\n",
       "      <td>8</td>\n",
       "      <td>3</td>\n",
       "      <td>3</td>\n",
       "      <td>8</td>\n",
       "    </tr>\n",
       "    <tr>\n",
       "      <th>4</th>\n",
       "      <td>Изменить цвет фона главной страницы, чтобы уве...</td>\n",
       "      <td>3</td>\n",
       "      <td>1</td>\n",
       "      <td>1</td>\n",
       "      <td>1</td>\n",
       "    </tr>\n",
       "    <tr>\n",
       "      <th>5</th>\n",
       "      <td>Добавить страницу отзывов клиентов о магазине,...</td>\n",
       "      <td>3</td>\n",
       "      <td>2</td>\n",
       "      <td>2</td>\n",
       "      <td>3</td>\n",
       "    </tr>\n",
       "    <tr>\n",
       "      <th>6</th>\n",
       "      <td>Показать на главной странице баннеры с актуаль...</td>\n",
       "      <td>5</td>\n",
       "      <td>3</td>\n",
       "      <td>8</td>\n",
       "      <td>3</td>\n",
       "    </tr>\n",
       "    <tr>\n",
       "      <th>7</th>\n",
       "      <td>Добавить форму подписки на все основные страни...</td>\n",
       "      <td>10</td>\n",
       "      <td>7</td>\n",
       "      <td>8</td>\n",
       "      <td>5</td>\n",
       "    </tr>\n",
       "    <tr>\n",
       "      <th>8</th>\n",
       "      <td>Запустить акцию, дающую скидку на товар в день...</td>\n",
       "      <td>1</td>\n",
       "      <td>9</td>\n",
       "      <td>9</td>\n",
       "      <td>5</td>\n",
       "    </tr>\n",
       "  </tbody>\n",
       "</table>\n",
       "</div>"
      ],
      "text/plain": [
       "                                          Hypothesis  Reach  Impact  \\\n",
       "0  Добавить два новых канала привлечения трафика,...      3      10   \n",
       "1  Запустить собственную службу доставки, что сок...      2       5   \n",
       "2  Добавить блоки рекомендаций товаров на сайт ин...      8       3   \n",
       "3  Изменить структура категорий, что увеличит кон...      8       3   \n",
       "4  Изменить цвет фона главной страницы, чтобы уве...      3       1   \n",
       "5  Добавить страницу отзывов клиентов о магазине,...      3       2   \n",
       "6  Показать на главной странице баннеры с актуаль...      5       3   \n",
       "7  Добавить форму подписки на все основные страни...     10       7   \n",
       "8  Запустить акцию, дающую скидку на товар в день...      1       9   \n",
       "\n",
       "   Confidence  Efforts  \n",
       "0           8        6  \n",
       "1           4       10  \n",
       "2           7        3  \n",
       "3           3        8  \n",
       "4           1        1  \n",
       "5           2        3  \n",
       "6           8        3  \n",
       "7           8        5  \n",
       "8           9        5  "
      ]
     },
     "execution_count": 3,
     "metadata": {},
     "output_type": "execute_result"
    }
   ],
   "source": [
    "hypothesis"
   ]
  },
  {
   "cell_type": "code",
   "execution_count": 4,
   "metadata": {},
   "outputs": [
    {
     "name": "stdout",
     "output_type": "stream",
     "text": [
      "<class 'pandas.core.frame.DataFrame'>\n",
      "RangeIndex: 9 entries, 0 to 8\n",
      "Data columns (total 5 columns):\n",
      " #   Column      Non-Null Count  Dtype \n",
      "---  ------      --------------  ----- \n",
      " 0   Hypothesis  9 non-null      object\n",
      " 1   Reach       9 non-null      int64 \n",
      " 2   Impact      9 non-null      int64 \n",
      " 3   Confidence  9 non-null      int64 \n",
      " 4   Efforts     9 non-null      int64 \n",
      "dtypes: int64(4), object(1)\n",
      "memory usage: 488.0+ bytes\n"
     ]
    }
   ],
   "source": [
    "hypothesis.info();"
   ]
  },
  {
   "cell_type": "code",
   "execution_count": 5,
   "metadata": {},
   "outputs": [
    {
     "data": {
      "text/html": [
       "<div>\n",
       "<style scoped>\n",
       "    .dataframe tbody tr th:only-of-type {\n",
       "        vertical-align: middle;\n",
       "    }\n",
       "\n",
       "    .dataframe tbody tr th {\n",
       "        vertical-align: top;\n",
       "    }\n",
       "\n",
       "    .dataframe thead th {\n",
       "        text-align: right;\n",
       "    }\n",
       "</style>\n",
       "<table border=\"1\" class=\"dataframe\">\n",
       "  <thead>\n",
       "    <tr style=\"text-align: right;\">\n",
       "      <th></th>\n",
       "      <th>transactionId</th>\n",
       "      <th>visitorId</th>\n",
       "      <th>date</th>\n",
       "      <th>revenue</th>\n",
       "      <th>group</th>\n",
       "    </tr>\n",
       "  </thead>\n",
       "  <tbody>\n",
       "    <tr>\n",
       "      <th>0</th>\n",
       "      <td>3667963787</td>\n",
       "      <td>3312258926</td>\n",
       "      <td>2019-08-15</td>\n",
       "      <td>1650</td>\n",
       "      <td>B</td>\n",
       "    </tr>\n",
       "    <tr>\n",
       "      <th>1</th>\n",
       "      <td>2804400009</td>\n",
       "      <td>3642806036</td>\n",
       "      <td>2019-08-15</td>\n",
       "      <td>730</td>\n",
       "      <td>B</td>\n",
       "    </tr>\n",
       "    <tr>\n",
       "      <th>2</th>\n",
       "      <td>2961555356</td>\n",
       "      <td>4069496402</td>\n",
       "      <td>2019-08-15</td>\n",
       "      <td>400</td>\n",
       "      <td>A</td>\n",
       "    </tr>\n",
       "    <tr>\n",
       "      <th>3</th>\n",
       "      <td>3797467345</td>\n",
       "      <td>1196621759</td>\n",
       "      <td>2019-08-15</td>\n",
       "      <td>9759</td>\n",
       "      <td>B</td>\n",
       "    </tr>\n",
       "    <tr>\n",
       "      <th>4</th>\n",
       "      <td>2282983706</td>\n",
       "      <td>2322279887</td>\n",
       "      <td>2019-08-15</td>\n",
       "      <td>2308</td>\n",
       "      <td>B</td>\n",
       "    </tr>\n",
       "  </tbody>\n",
       "</table>\n",
       "</div>"
      ],
      "text/plain": [
       "   transactionId   visitorId        date  revenue group\n",
       "0     3667963787  3312258926  2019-08-15     1650     B\n",
       "1     2804400009  3642806036  2019-08-15      730     B\n",
       "2     2961555356  4069496402  2019-08-15      400     A\n",
       "3     3797467345  1196621759  2019-08-15     9759     B\n",
       "4     2282983706  2322279887  2019-08-15     2308     B"
      ]
     },
     "execution_count": 5,
     "metadata": {},
     "output_type": "execute_result"
    }
   ],
   "source": [
    "orders.head(5)"
   ]
  },
  {
   "cell_type": "code",
   "execution_count": 6,
   "metadata": {},
   "outputs": [
    {
     "name": "stdout",
     "output_type": "stream",
     "text": [
      "<class 'pandas.core.frame.DataFrame'>\n",
      "RangeIndex: 1197 entries, 0 to 1196\n",
      "Data columns (total 5 columns):\n",
      " #   Column         Non-Null Count  Dtype \n",
      "---  ------         --------------  ----- \n",
      " 0   transactionId  1197 non-null   int64 \n",
      " 1   visitorId      1197 non-null   int64 \n",
      " 2   date           1197 non-null   object\n",
      " 3   revenue        1197 non-null   int64 \n",
      " 4   group          1197 non-null   object\n",
      "dtypes: int64(3), object(2)\n",
      "memory usage: 46.9+ KB\n"
     ]
    }
   ],
   "source": [
    "orders.info();"
   ]
  },
  {
   "cell_type": "code",
   "execution_count": 7,
   "metadata": {},
   "outputs": [
    {
     "data": {
      "text/html": [
       "<div>\n",
       "<style scoped>\n",
       "    .dataframe tbody tr th:only-of-type {\n",
       "        vertical-align: middle;\n",
       "    }\n",
       "\n",
       "    .dataframe tbody tr th {\n",
       "        vertical-align: top;\n",
       "    }\n",
       "\n",
       "    .dataframe thead th {\n",
       "        text-align: right;\n",
       "    }\n",
       "</style>\n",
       "<table border=\"1\" class=\"dataframe\">\n",
       "  <thead>\n",
       "    <tr style=\"text-align: right;\">\n",
       "      <th></th>\n",
       "      <th>date</th>\n",
       "      <th>group</th>\n",
       "      <th>visitors</th>\n",
       "    </tr>\n",
       "  </thead>\n",
       "  <tbody>\n",
       "    <tr>\n",
       "      <th>0</th>\n",
       "      <td>2019-08-01</td>\n",
       "      <td>A</td>\n",
       "      <td>719</td>\n",
       "    </tr>\n",
       "    <tr>\n",
       "      <th>1</th>\n",
       "      <td>2019-08-02</td>\n",
       "      <td>A</td>\n",
       "      <td>619</td>\n",
       "    </tr>\n",
       "    <tr>\n",
       "      <th>2</th>\n",
       "      <td>2019-08-03</td>\n",
       "      <td>A</td>\n",
       "      <td>507</td>\n",
       "    </tr>\n",
       "    <tr>\n",
       "      <th>3</th>\n",
       "      <td>2019-08-04</td>\n",
       "      <td>A</td>\n",
       "      <td>717</td>\n",
       "    </tr>\n",
       "    <tr>\n",
       "      <th>4</th>\n",
       "      <td>2019-08-05</td>\n",
       "      <td>A</td>\n",
       "      <td>756</td>\n",
       "    </tr>\n",
       "  </tbody>\n",
       "</table>\n",
       "</div>"
      ],
      "text/plain": [
       "         date group  visitors\n",
       "0  2019-08-01     A       719\n",
       "1  2019-08-02     A       619\n",
       "2  2019-08-03     A       507\n",
       "3  2019-08-04     A       717\n",
       "4  2019-08-05     A       756"
      ]
     },
     "execution_count": 7,
     "metadata": {},
     "output_type": "execute_result"
    }
   ],
   "source": [
    "visitors.head(5)"
   ]
  },
  {
   "cell_type": "code",
   "execution_count": 8,
   "metadata": {},
   "outputs": [
    {
     "name": "stdout",
     "output_type": "stream",
     "text": [
      "<class 'pandas.core.frame.DataFrame'>\n",
      "RangeIndex: 62 entries, 0 to 61\n",
      "Data columns (total 3 columns):\n",
      " #   Column    Non-Null Count  Dtype \n",
      "---  ------    --------------  ----- \n",
      " 0   date      62 non-null     object\n",
      " 1   group     62 non-null     object\n",
      " 2   visitors  62 non-null     int64 \n",
      "dtypes: int64(1), object(2)\n",
      "memory usage: 1.6+ KB\n"
     ]
    }
   ],
   "source": [
    "visitors.info();"
   ]
  },
  {
   "cell_type": "markdown",
   "metadata": {},
   "source": [
    "**Обработка названий столбцов, дубликатов и пропусков**"
   ]
  },
  {
   "cell_type": "markdown",
   "metadata": {},
   "source": [
    "Переименование столбцов для избежания пробелов и заглавных букв в названии"
   ]
  },
  {
   "cell_type": "code",
   "execution_count": 9,
   "metadata": {},
   "outputs": [],
   "source": [
    "hypothesis.columns = hypothesis.columns.str.lower().str.replace(' ', '_')\n",
    "orders.columns = orders.columns.str.lower().str.replace(' ', '_')\n",
    "visitors.columns = visitors.columns.str.lower().str.replace(' ', '_')"
   ]
  },
  {
   "cell_type": "markdown",
   "metadata": {},
   "source": [
    "Проверка на дубликаты"
   ]
  },
  {
   "cell_type": "code",
   "execution_count": 10,
   "metadata": {},
   "outputs": [
    {
     "name": "stdout",
     "output_type": "stream",
     "text": [
      "0\n",
      "0\n",
      "0\n"
     ]
    }
   ],
   "source": [
    "print(hypothesis.duplicated().sum())\n",
    "print(orders.duplicated().sum())\n",
    "print(visitors.duplicated().sum())"
   ]
  },
  {
   "cell_type": "markdown",
   "metadata": {},
   "source": [
    "Проверка на пропуски"
   ]
  },
  {
   "cell_type": "code",
   "execution_count": 11,
   "metadata": {},
   "outputs": [
    {
     "name": "stdout",
     "output_type": "stream",
     "text": [
      "hypothesis    0\n",
      "reach         0\n",
      "impact        0\n",
      "confidence    0\n",
      "efforts       0\n",
      "dtype: int64\n",
      "transactionid    0\n",
      "visitorid        0\n",
      "date             0\n",
      "revenue          0\n",
      "group            0\n",
      "dtype: int64\n",
      "date        0\n",
      "group       0\n",
      "visitors    0\n",
      "dtype: int64\n"
     ]
    }
   ],
   "source": [
    "print(hypothesis.isna().sum())\n",
    "print(orders.isna().sum())\n",
    "print(visitors.isna().sum())"
   ]
  },
  {
   "cell_type": "markdown",
   "metadata": {},
   "source": [
    "**Изменение типа столбцов**"
   ]
  },
  {
   "cell_type": "code",
   "execution_count": 12,
   "metadata": {},
   "outputs": [],
   "source": [
    "orders.date = pd.to_datetime(orders.date)\n",
    "visitors.date = pd.to_datetime(visitors.date)"
   ]
  },
  {
   "cell_type": "markdown",
   "metadata": {},
   "source": [
    "**Проверка данных на дефекты**"
   ]
  },
  {
   "cell_type": "markdown",
   "metadata": {},
   "source": [
    "Датасет orders"
   ]
  },
  {
   "cell_type": "code",
   "execution_count": 13,
   "metadata": {},
   "outputs": [
    {
     "name": "stdout",
     "output_type": "stream",
     "text": [
      "id транзакций\n",
      "4293855558\n",
      "1062393\n",
      "\n",
      "id визитов\n",
      "4283872382\n",
      "5114589\n",
      "\n",
      "время заказов\n",
      "2019-08-31 00:00:00\n",
      "2019-08-01 00:00:00\n",
      "\n",
      "revenue\n",
      "1294500\n",
      "50\n",
      "\n",
      "группы\n",
      "['B' 'A']\n"
     ]
    }
   ],
   "source": [
    "orders.transactionid = abs(orders.transactionid)\n",
    "orders.visitorid = abs(orders.visitorid)\n",
    "\n",
    "print('id транзакций')\n",
    "print(orders.transactionid.max())\n",
    "print(orders.transactionid.min())\n",
    "print()\n",
    "print('id визитов')\n",
    "print(orders.visitorid.max())\n",
    "print(orders.visitorid.min())\n",
    "print()\n",
    "print('время заказов')\n",
    "print(orders.date.max())\n",
    "print(orders.date.min())\n",
    "print()\n",
    "print('revenue')\n",
    "print(orders.revenue.max())\n",
    "print(orders.revenue.min())\n",
    "print()\n",
    "print('группы')\n",
    "print(orders.group.unique())"
   ]
  },
  {
   "cell_type": "markdown",
   "metadata": {},
   "source": [
    "Датасет visitors"
   ]
  },
  {
   "cell_type": "code",
   "execution_count": 14,
   "metadata": {},
   "outputs": [
    {
     "name": "stdout",
     "output_type": "stream",
     "text": [
      "время посещений\n",
      "2019-08-31 00:00:00\n",
      "2019-08-01 00:00:00\n",
      "\n",
      "группы\n",
      "['A' 'B']\n",
      "\n",
      "посещения\n",
      "770\n",
      "361\n"
     ]
    }
   ],
   "source": [
    "visitors.visitors = abs(visitors.visitors)\n",
    "\n",
    "print('время посещений')\n",
    "print(visitors.date.max())\n",
    "print(visitors.date.min())\n",
    "print()\n",
    "print('группы')\n",
    "print(visitors.group.unique())\n",
    "print()\n",
    "print('посещения')\n",
    "print(visitors.visitors.max())\n",
    "print(visitors.visitors.min())"
   ]
  },
  {
   "cell_type": "markdown",
   "metadata": {},
   "source": [
    "Проверим таблицу orders на пользователей, оказавшихся в двух группах одновременно"
   ]
  },
  {
   "cell_type": "code",
   "execution_count": 15,
   "metadata": {
    "scrolled": true
   },
   "outputs": [
    {
     "name": "stdout",
     "output_type": "stream",
     "text": [
      "1031\n",
      "group\n",
      "A    503\n",
      "B    586\n",
      "Name: visitorid, dtype: int64\n"
     ]
    }
   ],
   "source": [
    "print(orders['visitorid'].nunique())\n",
    "print(orders.groupby('group')['visitorid'].nunique())"
   ]
  },
  {
   "cell_type": "markdown",
   "metadata": {},
   "source": [
    "Некоторые пользователи состоят в обеих группах одновременно. Исключим их"
   ]
  },
  {
   "cell_type": "code",
   "execution_count": 16,
   "metadata": {},
   "outputs": [
    {
     "name": "stdout",
     "output_type": "stream",
     "text": [
      "Количество пользователей в обеих группах 58\n"
     ]
    }
   ],
   "source": [
    "a_orders = orders[orders['group'] == 'A']\n",
    "b_orders = orders[orders['group'] == 'B']\n",
    "\n",
    "u = []\n",
    "\n",
    "for i in a_orders['visitorid']:\n",
    "    for j in b_orders['visitorid']:\n",
    "        if i == j:\n",
    "            u.append(j)\n",
    "\n",
    "a_orders = a_orders[a_orders.visitorid.isin(u)==False]            \n",
    "b_orders = b_orders[b_orders.visitorid.isin(u)==False]\n",
    "orders = pd.concat([a_orders, b_orders]).reset_index(drop=True)\n",
    "\n",
    "y = pd.DataFrame({'e':u})\n",
    "print('Количество пользователей в обеих группах', len(y.e.unique()))"
   ]
  },
  {
   "cell_type": "code",
   "execution_count": 17,
   "metadata": {
    "scrolled": true
   },
   "outputs": [
    {
     "name": "stdout",
     "output_type": "stream",
     "text": [
      "973\n",
      "group\n",
      "A    445\n",
      "B    528\n",
      "Name: visitorid, dtype: int64\n"
     ]
    }
   ],
   "source": [
    "print(orders['visitorid'].nunique())\n",
    "print(orders.groupby('group')['visitorid'].nunique())"
   ]
  },
  {
   "cell_type": "markdown",
   "metadata": {},
   "source": [
    "Пользователи удалены"
   ]
  },
  {
   "cell_type": "markdown",
   "metadata": {},
   "source": [
    "**Вывод:** данные соответствуют ТЗ и не имеют логических или же математических аномалий."
   ]
  },
  {
   "cell_type": "markdown",
   "metadata": {},
   "source": [
    "### Преоритизация гипотез"
   ]
  },
  {
   "cell_type": "markdown",
   "metadata": {},
   "source": [
    "Приоретизируем гипотезы методами ICE и RICE. Добавим новые столбцы в датафрейм:"
   ]
  },
  {
   "cell_type": "code",
   "execution_count": 18,
   "metadata": {},
   "outputs": [],
   "source": [
    "hypothesis['ice'] = round(hypothesis.impact * hypothesis.confidence / hypothesis.efforts, 2)\n",
    "hypothesis['rice'] = hypothesis.reach * hypothesis.impact * hypothesis.confidence / hypothesis.efforts"
   ]
  },
  {
   "cell_type": "code",
   "execution_count": 19,
   "metadata": {},
   "outputs": [],
   "source": [
    "hypothesis_ice = hypothesis[['hypothesis', 'ice']].sort_values(by='ice', ascending=False)\n",
    "hypothesis_rice = hypothesis[['hypothesis', 'rice']].sort_values(by='rice', ascending=False)"
   ]
  },
  {
   "cell_type": "code",
   "execution_count": 20,
   "metadata": {},
   "outputs": [
    {
     "data": {
      "text/html": [
       "<div>\n",
       "<style scoped>\n",
       "    .dataframe tbody tr th:only-of-type {\n",
       "        vertical-align: middle;\n",
       "    }\n",
       "\n",
       "    .dataframe tbody tr th {\n",
       "        vertical-align: top;\n",
       "    }\n",
       "\n",
       "    .dataframe thead th {\n",
       "        text-align: right;\n",
       "    }\n",
       "</style>\n",
       "<table border=\"1\" class=\"dataframe\">\n",
       "  <thead>\n",
       "    <tr style=\"text-align: right;\">\n",
       "      <th></th>\n",
       "      <th>hypothesis</th>\n",
       "      <th>ice</th>\n",
       "    </tr>\n",
       "  </thead>\n",
       "  <tbody>\n",
       "    <tr>\n",
       "      <th>8</th>\n",
       "      <td>Запустить акцию, дающую скидку на товар в день рождения</td>\n",
       "      <td>16.20</td>\n",
       "    </tr>\n",
       "    <tr>\n",
       "      <th>0</th>\n",
       "      <td>Добавить два новых канала привлечения трафика, что позволит привлекать на 30% больше пользователей</td>\n",
       "      <td>13.33</td>\n",
       "    </tr>\n",
       "    <tr>\n",
       "      <th>7</th>\n",
       "      <td>Добавить форму подписки на все основные страницы, чтобы собрать базу клиентов для email-рассылок</td>\n",
       "      <td>11.20</td>\n",
       "    </tr>\n",
       "    <tr>\n",
       "      <th>6</th>\n",
       "      <td>Показать на главной странице баннеры с актуальными акциями и распродажами, чтобы увеличить конверсию</td>\n",
       "      <td>8.00</td>\n",
       "    </tr>\n",
       "    <tr>\n",
       "      <th>2</th>\n",
       "      <td>Добавить блоки рекомендаций товаров на сайт интернет магазина, чтобы повысить конверсию и средний чек заказа</td>\n",
       "      <td>7.00</td>\n",
       "    </tr>\n",
       "    <tr>\n",
       "      <th>1</th>\n",
       "      <td>Запустить собственную службу доставки, что сократит срок доставки заказов</td>\n",
       "      <td>2.00</td>\n",
       "    </tr>\n",
       "    <tr>\n",
       "      <th>5</th>\n",
       "      <td>Добавить страницу отзывов клиентов о магазине, что позволит увеличить количество заказов</td>\n",
       "      <td>1.33</td>\n",
       "    </tr>\n",
       "    <tr>\n",
       "      <th>3</th>\n",
       "      <td>Изменить структура категорий, что увеличит конверсию, т.к. пользователи быстрее найдут нужный товар</td>\n",
       "      <td>1.12</td>\n",
       "    </tr>\n",
       "    <tr>\n",
       "      <th>4</th>\n",
       "      <td>Изменить цвет фона главной страницы, чтобы увеличить вовлеченность пользователей</td>\n",
       "      <td>1.00</td>\n",
       "    </tr>\n",
       "  </tbody>\n",
       "</table>\n",
       "</div>"
      ],
      "text/plain": [
       "                                                                                                     hypothesis  \\\n",
       "8  Запустить акцию, дающую скидку на товар в день рождения                                                        \n",
       "0  Добавить два новых канала привлечения трафика, что позволит привлекать на 30% больше пользователей             \n",
       "7  Добавить форму подписки на все основные страницы, чтобы собрать базу клиентов для email-рассылок               \n",
       "6  Показать на главной странице баннеры с актуальными акциями и распродажами, чтобы увеличить конверсию           \n",
       "2  Добавить блоки рекомендаций товаров на сайт интернет магазина, чтобы повысить конверсию и средний чек заказа   \n",
       "1  Запустить собственную службу доставки, что сократит срок доставки заказов                                      \n",
       "5  Добавить страницу отзывов клиентов о магазине, что позволит увеличить количество заказов                       \n",
       "3  Изменить структура категорий, что увеличит конверсию, т.к. пользователи быстрее найдут нужный товар            \n",
       "4  Изменить цвет фона главной страницы, чтобы увеличить вовлеченность пользователей                               \n",
       "\n",
       "     ice  \n",
       "8  16.20  \n",
       "0  13.33  \n",
       "7  11.20  \n",
       "6  8.00   \n",
       "2  7.00   \n",
       "1  2.00   \n",
       "5  1.33   \n",
       "3  1.12   \n",
       "4  1.00   "
      ]
     },
     "execution_count": 20,
     "metadata": {},
     "output_type": "execute_result"
    }
   ],
   "source": [
    "pd.options.display.max_colwidth = 1\n",
    "hypothesis_ice"
   ]
  },
  {
   "cell_type": "code",
   "execution_count": 21,
   "metadata": {},
   "outputs": [
    {
     "data": {
      "text/html": [
       "<div>\n",
       "<style scoped>\n",
       "    .dataframe tbody tr th:only-of-type {\n",
       "        vertical-align: middle;\n",
       "    }\n",
       "\n",
       "    .dataframe tbody tr th {\n",
       "        vertical-align: top;\n",
       "    }\n",
       "\n",
       "    .dataframe thead th {\n",
       "        text-align: right;\n",
       "    }\n",
       "</style>\n",
       "<table border=\"1\" class=\"dataframe\">\n",
       "  <thead>\n",
       "    <tr style=\"text-align: right;\">\n",
       "      <th></th>\n",
       "      <th>hypothesis</th>\n",
       "      <th>rice</th>\n",
       "    </tr>\n",
       "  </thead>\n",
       "  <tbody>\n",
       "    <tr>\n",
       "      <th>7</th>\n",
       "      <td>Добавить форму подписки на все основные страницы, чтобы собрать базу клиентов для email-рассылок</td>\n",
       "      <td>112.0</td>\n",
       "    </tr>\n",
       "    <tr>\n",
       "      <th>2</th>\n",
       "      <td>Добавить блоки рекомендаций товаров на сайт интернет магазина, чтобы повысить конверсию и средний чек заказа</td>\n",
       "      <td>56.0</td>\n",
       "    </tr>\n",
       "    <tr>\n",
       "      <th>0</th>\n",
       "      <td>Добавить два новых канала привлечения трафика, что позволит привлекать на 30% больше пользователей</td>\n",
       "      <td>40.0</td>\n",
       "    </tr>\n",
       "    <tr>\n",
       "      <th>6</th>\n",
       "      <td>Показать на главной странице баннеры с актуальными акциями и распродажами, чтобы увеличить конверсию</td>\n",
       "      <td>40.0</td>\n",
       "    </tr>\n",
       "    <tr>\n",
       "      <th>8</th>\n",
       "      <td>Запустить акцию, дающую скидку на товар в день рождения</td>\n",
       "      <td>16.2</td>\n",
       "    </tr>\n",
       "    <tr>\n",
       "      <th>3</th>\n",
       "      <td>Изменить структура категорий, что увеличит конверсию, т.к. пользователи быстрее найдут нужный товар</td>\n",
       "      <td>9.0</td>\n",
       "    </tr>\n",
       "    <tr>\n",
       "      <th>1</th>\n",
       "      <td>Запустить собственную службу доставки, что сократит срок доставки заказов</td>\n",
       "      <td>4.0</td>\n",
       "    </tr>\n",
       "    <tr>\n",
       "      <th>5</th>\n",
       "      <td>Добавить страницу отзывов клиентов о магазине, что позволит увеличить количество заказов</td>\n",
       "      <td>4.0</td>\n",
       "    </tr>\n",
       "    <tr>\n",
       "      <th>4</th>\n",
       "      <td>Изменить цвет фона главной страницы, чтобы увеличить вовлеченность пользователей</td>\n",
       "      <td>3.0</td>\n",
       "    </tr>\n",
       "  </tbody>\n",
       "</table>\n",
       "</div>"
      ],
      "text/plain": [
       "                                                                                                     hypothesis  \\\n",
       "7  Добавить форму подписки на все основные страницы, чтобы собрать базу клиентов для email-рассылок               \n",
       "2  Добавить блоки рекомендаций товаров на сайт интернет магазина, чтобы повысить конверсию и средний чек заказа   \n",
       "0  Добавить два новых канала привлечения трафика, что позволит привлекать на 30% больше пользователей             \n",
       "6  Показать на главной странице баннеры с актуальными акциями и распродажами, чтобы увеличить конверсию           \n",
       "8  Запустить акцию, дающую скидку на товар в день рождения                                                        \n",
       "3  Изменить структура категорий, что увеличит конверсию, т.к. пользователи быстрее найдут нужный товар            \n",
       "1  Запустить собственную службу доставки, что сократит срок доставки заказов                                      \n",
       "5  Добавить страницу отзывов клиентов о магазине, что позволит увеличить количество заказов                       \n",
       "4  Изменить цвет фона главной страницы, чтобы увеличить вовлеченность пользователей                               \n",
       "\n",
       "    rice  \n",
       "7  112.0  \n",
       "2  56.0   \n",
       "0  40.0   \n",
       "6  40.0   \n",
       "8  16.2   \n",
       "3  9.0    \n",
       "1  4.0    \n",
       "5  4.0    \n",
       "4  3.0    "
      ]
     },
     "execution_count": 21,
     "metadata": {},
     "output_type": "execute_result"
    }
   ],
   "source": [
    "hypothesis_rice"
   ]
  },
  {
   "cell_type": "markdown",
   "metadata": {},
   "source": [
    "**Вывод:** при методе RICE оценка приоритезации несколько изменилась за счёт того, что в анализ был включен параметр Reach - количество пользователей, которых затронет изменение. Из-за различия аудитории, на которой будут проверенны те или иные гипотезы, меняется и получающийся эффект, который получается после их проверок. Например гипотеза 7 сперва занимала третье место, но после добавления Reach, вышла на первое из-за большого количества охватываемой аудитории."
   ]
  },
  {
   "cell_type": "markdown",
   "metadata": {},
   "source": [
    "## Анализ А/В-теста"
   ]
  },
  {
   "cell_type": "markdown",
   "metadata": {},
   "source": [
    "### Построим график кумулятивной выручки по группам. Сделаем выводы и предположения\n"
   ]
  },
  {
   "cell_type": "markdown",
   "metadata": {},
   "source": [
    "Создадим таблицу, объединяющую кумулятивные данные по дням по заказам и посещениям"
   ]
  },
  {
   "cell_type": "code",
   "execution_count": 22,
   "metadata": {},
   "outputs": [],
   "source": [
    "# создаем массив уникальных пар значений дат и групп теста\n",
    "datesGroups = orders[['date','group']].drop_duplicates()"
   ]
  },
  {
   "cell_type": "code",
   "execution_count": 23,
   "metadata": {},
   "outputs": [],
   "source": [
    "# получаем агрегированные кумулятивные по дням данные о заказах \n",
    "ordersAggregated = datesGroups.apply(lambda x: orders[np.logical_and(orders['date'] <= x['date'], orders['group'] == x['group'])]\\\n",
    ".agg({'date' : 'max', 'group' : 'max', 'transactionid' : 'nunique', 'visitorid' : 'nunique', 'revenue' : 'sum'}), axis=1)\\\n",
    ".sort_values(by=['date','group'])"
   ]
  },
  {
   "cell_type": "code",
   "execution_count": 24,
   "metadata": {},
   "outputs": [],
   "source": [
    "# получаем агрегированные кумулятивные по дням данные о посетителях интернет-магазина \n",
    "visitorsAggregated = datesGroups.apply(lambda x: visitors[np.logical_and(visitors['date'] <= x['date'], visitors['group'] == x['group'])]\\\n",
    "                                       .agg({'date' : 'max', 'group' : 'max', 'visitors' : 'sum'}), axis=1).sort_values(by=['date','group'])\n"
   ]
  },
  {
   "cell_type": "code",
   "execution_count": 25,
   "metadata": {},
   "outputs": [
    {
     "data": {
      "text/html": [
       "<div>\n",
       "<style scoped>\n",
       "    .dataframe tbody tr th:only-of-type {\n",
       "        vertical-align: middle;\n",
       "    }\n",
       "\n",
       "    .dataframe tbody tr th {\n",
       "        vertical-align: top;\n",
       "    }\n",
       "\n",
       "    .dataframe thead th {\n",
       "        text-align: right;\n",
       "    }\n",
       "</style>\n",
       "<table border=\"1\" class=\"dataframe\">\n",
       "  <thead>\n",
       "    <tr style=\"text-align: right;\">\n",
       "      <th></th>\n",
       "      <th>date</th>\n",
       "      <th>group</th>\n",
       "      <th>orders</th>\n",
       "      <th>buyers</th>\n",
       "      <th>revenue</th>\n",
       "      <th>visitors</th>\n",
       "    </tr>\n",
       "  </thead>\n",
       "  <tbody>\n",
       "    <tr>\n",
       "      <th>0</th>\n",
       "      <td>2019-08-01</td>\n",
       "      <td>A</td>\n",
       "      <td>23</td>\n",
       "      <td>19</td>\n",
       "      <td>142779</td>\n",
       "      <td>719</td>\n",
       "    </tr>\n",
       "    <tr>\n",
       "      <th>1</th>\n",
       "      <td>2019-08-01</td>\n",
       "      <td>B</td>\n",
       "      <td>17</td>\n",
       "      <td>17</td>\n",
       "      <td>59758</td>\n",
       "      <td>713</td>\n",
       "    </tr>\n",
       "    <tr>\n",
       "      <th>2</th>\n",
       "      <td>2019-08-02</td>\n",
       "      <td>A</td>\n",
       "      <td>42</td>\n",
       "      <td>36</td>\n",
       "      <td>234381</td>\n",
       "      <td>1338</td>\n",
       "    </tr>\n",
       "    <tr>\n",
       "      <th>3</th>\n",
       "      <td>2019-08-02</td>\n",
       "      <td>B</td>\n",
       "      <td>40</td>\n",
       "      <td>39</td>\n",
       "      <td>221801</td>\n",
       "      <td>1294</td>\n",
       "    </tr>\n",
       "    <tr>\n",
       "      <th>4</th>\n",
       "      <td>2019-08-03</td>\n",
       "      <td>A</td>\n",
       "      <td>66</td>\n",
       "      <td>60</td>\n",
       "      <td>346854</td>\n",
       "      <td>1845</td>\n",
       "    </tr>\n",
       "  </tbody>\n",
       "</table>\n",
       "</div>"
      ],
      "text/plain": [
       "        date group  orders  buyers  revenue  visitors\n",
       "0 2019-08-01  A     23      19      142779   719     \n",
       "1 2019-08-01  B     17      17      59758    713     \n",
       "2 2019-08-02  A     42      36      234381   1338    \n",
       "3 2019-08-02  B     40      39      221801   1294    \n",
       "4 2019-08-03  A     66      60      346854   1845    "
      ]
     },
     "metadata": {},
     "output_type": "display_data"
    }
   ],
   "source": [
    "# объединяем кумулятивные данные в одной таблице и присваиваем ее столбцам понятные названия\n",
    "cumulativeData = ordersAggregated.merge(visitorsAggregated, left_on=['date', 'group'], right_on=['date', 'group'])\n",
    "cumulativeData.columns = ['date', 'group', 'orders', 'buyers', 'revenue', 'visitors']\n",
    "\n",
    "display(cumulativeData.head(5)) "
   ]
  },
  {
   "cell_type": "markdown",
   "metadata": {},
   "source": [
    "Построим графики кумулятивной выручки по дням и группам A/B-тестирования"
   ]
  },
  {
   "cell_type": "code",
   "execution_count": 26,
   "metadata": {},
   "outputs": [
    {
     "data": {
      "image/png": "[encoded data removed]",
      "text/plain": [
       "<Figure size 864x360 with 1 Axes>"
      ]
     },
     "metadata": {
      "needs_background": "light"
     },
     "output_type": "display_data"
    }
   ],
   "source": [
    "# датафрейм с кумулятивным количеством заказов и кумулятивной выручкой по дням в группе А\n",
    "cumulativeRevenueA = cumulativeData[cumulativeData['group']=='A'][['date','revenue', 'orders', 'visitors']]\n",
    "\n",
    "# датафрейм с кумулятивным количеством заказов и кумулятивной выручкой по дням в группе B\n",
    "cumulativeRevenueB = cumulativeData[cumulativeData['group']=='B'][['date','revenue', 'orders', 'visitors']]\n",
    "\n",
    "plt.figure(figsize=(12,5))\n",
    "\n",
    "# Строим график выручки группы А\n",
    "plt.plot(cumulativeRevenueA['date'], cumulativeRevenueA['revenue'], label='A')\n",
    "\n",
    "# Строим график выручки группы B\n",
    "plt.plot(cumulativeRevenueB['date'], cumulativeRevenueB['revenue'], label='B')\n",
    "\n",
    "plt.title('График кумулятивной выручки по дням групп А и В')\n",
    "plt.xlabel('Даты проведения А/В-теста')\n",
    "plt.ylabel('Кумулятивная выручка')\n",
    "\n",
    "plt.legend()\n",
    "plt.show();"
   ]
  },
  {
   "cell_type": "markdown",
   "metadata": {},
   "source": [
    "**Вывод:** резский всплеск в группе В говорит о наличие выбросов, которые заметно изменяют картину выручки в данной группе. Определённые выводы можно делать лишь после удаления всех выбросов и корректировки данных."
   ]
  },
  {
   "cell_type": "markdown",
   "metadata": {},
   "source": [
    "### Построим график кумулятивного среднего чека по группам. Сделаем выводы и предположения"
   ]
  },
  {
   "cell_type": "markdown",
   "metadata": {},
   "source": [
    "С помощью датафрейма из предыдущего задания строим график кумулятивного среднего чека по группам"
   ]
  },
  {
   "cell_type": "code",
   "execution_count": 27,
   "metadata": {},
   "outputs": [
    {
     "data": {
      "image/png": "[encoded data removed]",
      "text/plain": [
       "<Figure size 864x360 with 1 Axes>"
      ]
     },
     "metadata": {
      "needs_background": "light"
     },
     "output_type": "display_data"
    }
   ],
   "source": [
    "plt.figure(figsize=(12,5))\n",
    "\n",
    "#делим кумулятивную выручку на кумулятивное число заказов\n",
    "plt.plot(cumulativeRevenueA['date'], cumulativeRevenueA['revenue']/cumulativeRevenueA['orders'], label='A')\n",
    "plt.plot(cumulativeRevenueB['date'], cumulativeRevenueB['revenue']/cumulativeRevenueB['orders'], label='B')\n",
    "\n",
    "plt.legend()\n",
    "plt.title('График кумулятивного среднего чека для групп А и В')\n",
    "plt.xlabel('Даты проведения А/В-теста')\n",
    "plt.ylabel('Кумулятивный средний чек')\n",
    "plt.show();"
   ]
  },
  {
   "cell_type": "markdown",
   "metadata": {},
   "source": [
    "**Вывод:** средний чек так же имеет аномалию в группе В и сильно превосходит группу А, что не позволяет делать определённых выводов на данном этапе исследования. Требуется провести очистку датафрейма от выбросов"
   ]
  },
  {
   "cell_type": "markdown",
   "metadata": {},
   "source": [
    "### Построим график относительного изменения кумулятивного среднего чека группы B к группе A. Сделаем выводы и предположения"
   ]
  },
  {
   "cell_type": "markdown",
   "metadata": {},
   "source": [
    "С помощью того же самого датафрейма строим график относительного изменения кумулятивного среднего чека группы В к группе А"
   ]
  },
  {
   "cell_type": "code",
   "execution_count": 28,
   "metadata": {},
   "outputs": [
    {
     "data": {
      "image/png": "[encoded data removed]",
      "text/plain": [
       "<Figure size 864x360 with 1 Axes>"
      ]
     },
     "metadata": {
      "needs_background": "light"
     },
     "output_type": "display_data"
    }
   ],
   "source": [
    "# собираем данные в одном датафрейме\n",
    "mergedCumulativeRevenue = cumulativeRevenueA.merge(cumulativeRevenueB, left_on='date', right_on='date', how='left', suffixes=['A', 'B'])\n",
    "\n",
    "plt.figure(figsize=(12, 5))\n",
    "\n",
    "# cтроим отношение средних чеков\n",
    "plt.plot(mergedCumulativeRevenue['date'], (mergedCumulativeRevenue['revenueB']/mergedCumulativeRevenue['ordersB'])/(mergedCumulativeRevenue['revenueA']/mergedCumulativeRevenue['ordersA'])-1)\n",
    "\n",
    "# добавляем ось X\n",
    "plt.axhline(y=0, color='black', linestyle='--')\n",
    "\n",
    "plt.title('График относительного изменения кумулятивного среднего чека группы В к группе А')\n",
    "plt.xlabel('Даты проведения А/В-теста')\n",
    "plt.ylabel('Отношение');"
   ]
  },
  {
   "cell_type": "markdown",
   "metadata": {},
   "source": [
    "**Вывод:** график всё так же резко скачет в некоторых местах, что подтверждает предыдущие выводы о наличии сильных выбросов в определённых датах"
   ]
  },
  {
   "cell_type": "markdown",
   "metadata": {},
   "source": [
    "### Построим график кумулятивного среднего количества заказов по группам. Сделаем выводы и предположения"
   ]
  },
  {
   "cell_type": "markdown",
   "metadata": {},
   "source": [
    "Построим график кумулятивного среднего количества заказов по группам"
   ]
  },
  {
   "cell_type": "code",
   "execution_count": 29,
   "metadata": {
    "scrolled": true
   },
   "outputs": [
    {
     "data": {
      "image/png": "[encoded data removed]",
      "text/plain": [
       "<Figure size 864x360 with 1 Axes>"
      ]
     },
     "metadata": {
      "needs_background": "light"
     },
     "output_type": "display_data"
    }
   ],
   "source": [
    "plt.figure(figsize=(12,5))\n",
    "\n",
    "plt.plot(cumulativeRevenueA['date'], cumulativeRevenueA['orders']/cumulativeRevenueA['visitors'], label='A')\n",
    "plt.plot(cumulativeRevenueB['date'], cumulativeRevenueB['orders']/cumulativeRevenueB['visitors'], label='B')\n",
    "\n",
    "plt.title('График кумулятивного среднего количества заказов по группам')\n",
    "plt.xlabel('Даты проведения А/В-теста')\n",
    "plt.ylabel('Кумулятивное среднее количества заказов')\n",
    "\n",
    "plt.legend()\n",
    "plt.show();"
   ]
  },
  {
   "cell_type": "markdown",
   "metadata": {},
   "source": [
    "**Вывод:** из графика видно, что среднее количество заказов после пятого августа в группе В превосходит группу А. Так же существуют скачки, как в предыдущих графиках. Следовательно можно предположить, что предыдущие аномалии могут быть связаны как с количеством единовременных заказов, так и с их ценой"
   ]
  },
  {
   "cell_type": "markdown",
   "metadata": {},
   "source": [
    "### Построим график относительного изменения кумулятивного среднего количества заказов группы B к группе A. Сделаем выводы и предположения"
   ]
  },
  {
   "cell_type": "markdown",
   "metadata": {},
   "source": [
    "Строим график относительного изменения кумулятивного среднего количесвто заказов группы В к группе А"
   ]
  },
  {
   "cell_type": "code",
   "execution_count": 30,
   "metadata": {},
   "outputs": [
    {
     "data": {
      "image/png": "[encoded data removed]",
      "text/plain": [
       "<Figure size 864x360 with 1 Axes>"
      ]
     },
     "metadata": {
      "needs_background": "light"
     },
     "output_type": "display_data"
    }
   ],
   "source": [
    "plt.figure(figsize=(12, 5))\n",
    "\n",
    "plt.plot(mergedCumulativeRevenue['date'], (mergedCumulativeRevenue['ordersB']/mergedCumulativeRevenue['visitorsB'])/(mergedCumulativeRevenue['ordersA']/mergedCumulativeRevenue['visitorsA'])-1)\n",
    "\n",
    "# добавляем ось X\n",
    "plt.axhline(y=0, color='black', linestyle='--')\n",
    "\n",
    "plt.title('График относительного изменения кумулятивного среденего количества заказов группы В к группе А')\n",
    "plt.xlabel('Даты проведения А/В-теста')\n",
    "plt.ylabel('Отношение');"
   ]
  },
  {
   "cell_type": "markdown",
   "metadata": {},
   "source": [
    "**Вывод:** после 2019-08-05 отношение кумулятивного среднего количества заказов группы В резко возрастает и вскоре становится больше уровня группы А и в целом не имеет тенденции к снижению"
   ]
  },
  {
   "cell_type": "markdown",
   "metadata": {},
   "source": [
    "### Построим точечный график количества заказов по пользователям. Сделаем выводы и предположения"
   ]
  },
  {
   "cell_type": "markdown",
   "metadata": {},
   "source": [
    "Создадим таблицу с уникальными пользователями и количеством их заказов"
   ]
  },
  {
   "cell_type": "code",
   "execution_count": 31,
   "metadata": {},
   "outputs": [
    {
     "data": {
      "text/html": [
       "<div>\n",
       "<style scoped>\n",
       "    .dataframe tbody tr th:only-of-type {\n",
       "        vertical-align: middle;\n",
       "    }\n",
       "\n",
       "    .dataframe tbody tr th {\n",
       "        vertical-align: top;\n",
       "    }\n",
       "\n",
       "    .dataframe thead th {\n",
       "        text-align: right;\n",
       "    }\n",
       "</style>\n",
       "<table border=\"1\" class=\"dataframe\">\n",
       "  <thead>\n",
       "    <tr style=\"text-align: right;\">\n",
       "      <th></th>\n",
       "      <th>visitorid</th>\n",
       "      <th>orders</th>\n",
       "    </tr>\n",
       "  </thead>\n",
       "  <tbody>\n",
       "    <tr>\n",
       "      <th>908</th>\n",
       "      <td>3967698036</td>\n",
       "      <td>3</td>\n",
       "    </tr>\n",
       "    <tr>\n",
       "      <th>55</th>\n",
       "      <td>249864742</td>\n",
       "      <td>3</td>\n",
       "    </tr>\n",
       "    <tr>\n",
       "      <th>478</th>\n",
       "      <td>2108163459</td>\n",
       "      <td>3</td>\n",
       "    </tr>\n",
       "    <tr>\n",
       "      <th>687</th>\n",
       "      <td>2988190573</td>\n",
       "      <td>3</td>\n",
       "    </tr>\n",
       "    <tr>\n",
       "      <th>890</th>\n",
       "      <td>3908431265</td>\n",
       "      <td>3</td>\n",
       "    </tr>\n",
       "    <tr>\n",
       "      <th>138</th>\n",
       "      <td>611059232</td>\n",
       "      <td>3</td>\n",
       "    </tr>\n",
       "    <tr>\n",
       "      <th>632</th>\n",
       "      <td>2742574263</td>\n",
       "      <td>3</td>\n",
       "    </tr>\n",
       "    <tr>\n",
       "      <th>157</th>\n",
       "      <td>678354126</td>\n",
       "      <td>2</td>\n",
       "    </tr>\n",
       "    <tr>\n",
       "      <th>323</th>\n",
       "      <td>1404560065</td>\n",
       "      <td>2</td>\n",
       "    </tr>\n",
       "    <tr>\n",
       "      <th>452</th>\n",
       "      <td>1985475298</td>\n",
       "      <td>2</td>\n",
       "    </tr>\n",
       "  </tbody>\n",
       "</table>\n",
       "</div>"
      ],
      "text/plain": [
       "      visitorid  orders\n",
       "908  3967698036  3     \n",
       "55   249864742   3     \n",
       "478  2108163459  3     \n",
       "687  2988190573  3     \n",
       "890  3908431265  3     \n",
       "138  611059232   3     \n",
       "632  2742574263  3     \n",
       "157  678354126   2     \n",
       "323  1404560065  2     \n",
       "452  1985475298  2     "
      ]
     },
     "metadata": {},
     "output_type": "display_data"
    }
   ],
   "source": [
    "ordersByUsers = (\n",
    "    orders.groupby('visitorid', as_index=False)\n",
    "    .agg({'transactionid': 'nunique'})\n",
    ")\n",
    "\n",
    "ordersByUsers.columns = ['visitorid', 'orders']\n",
    "\n",
    "display(ordersByUsers.sort_values(by='orders', ascending=False).head(10)) "
   ]
  },
  {
   "cell_type": "markdown",
   "metadata": {},
   "source": [
    "Построим точечный график распределение количества заказов по пользователям"
   ]
  },
  {
   "cell_type": "code",
   "execution_count": 32,
   "metadata": {},
   "outputs": [
    {
     "data": {
      "image/png": "[encoded data removed]",
      "text/plain": [
       "<Figure size 432x288 with 1 Axes>"
      ]
     },
     "metadata": {
      "needs_background": "light"
     },
     "output_type": "display_data"
    }
   ],
   "source": [
    "x_values = pd.Series(range(0,len(ordersByUsers)))\n",
    "\n",
    "plt.scatter(x_values, ordersByUsers['orders'])\n",
    "\n",
    "plt.title('График распределения количества заказов по пользователям')\n",
    "plt.xlabel('Пользователи')\n",
    "plt.ylabel('Количество заказов');"
   ]
  },
  {
   "cell_type": "markdown",
   "metadata": {},
   "source": [
    "**Вывод:** количество пользователей с двумя и тремя заказами значительна, но ещё не известно, на сколько, относительно основной доли покупателей с одним заказом"
   ]
  },
  {
   "cell_type": "markdown",
   "metadata": {},
   "source": [
    "### Посчитаем 95-й и 99-й перцентили количества заказов на пользователя. Выберем границу для определения аномальных пользователей"
   ]
  },
  {
   "cell_type": "markdown",
   "metadata": {},
   "source": [
    "Посчитаем 95-й и 99-й перцентили количества заказов на пользователя"
   ]
  },
  {
   "cell_type": "code",
   "execution_count": 33,
   "metadata": {},
   "outputs": [
    {
     "name": "stdout",
     "output_type": "stream",
     "text": [
      "[1. 2.]\n"
     ]
    }
   ],
   "source": [
    "print(np.percentile(ordersByUsers['orders'], [95, 99])) "
   ]
  },
  {
   "cell_type": "markdown",
   "metadata": {},
   "source": [
    "**Вывод:** лишь 5 процентов пользователей заказывают более одного заказа, и лишь один - более двух. Можно взять за верхнюю границу 2 заказа на одного пользователя"
   ]
  },
  {
   "cell_type": "markdown",
   "metadata": {},
   "source": [
    "### Построим точечный график стоимостей заказов. Сделаем выводы и предположения"
   ]
  },
  {
   "cell_type": "markdown",
   "metadata": {},
   "source": [
    "Построим точечный график стоимостей заказов"
   ]
  },
  {
   "cell_type": "code",
   "execution_count": 34,
   "metadata": {},
   "outputs": [
    {
     "data": {
      "image/png": "[encoded data removed]",
      "text/plain": [
       "<Figure size 432x288 with 1 Axes>"
      ]
     },
     "metadata": {
      "needs_background": "light"
     },
     "output_type": "display_data"
    }
   ],
   "source": [
    "x_values = pd.Series(range(0,len(orders['revenue'])))\n",
    "plt.ylim([0,150000])\n",
    "plt.scatter(x_values, orders['revenue'])\n",
    "\n",
    "plt.title('График стоимости заказов')\n",
    "plt.xlabel('Заказы')\n",
    "plt.ylabel('Стоимость заказов');"
   ]
  },
  {
   "cell_type": "markdown",
   "metadata": {},
   "source": [
    "**Вывод:** как минимум десяток заказов превосходят по стоимости среднюю цену заказа в несколько раз"
   ]
  },
  {
   "cell_type": "markdown",
   "metadata": {},
   "source": [
    "### Посчитаем 95-й и 99-й перцентили стоимости заказов. Выберем границу для определения аномальных заказов"
   ]
  },
  {
   "cell_type": "markdown",
   "metadata": {},
   "source": [
    "Посчитаем 95-й и 99-й перцентили стоимости заказов для определения границы для аномальных заказов"
   ]
  },
  {
   "cell_type": "code",
   "execution_count": 35,
   "metadata": {},
   "outputs": [
    {
     "name": "stdout",
     "output_type": "stream",
     "text": [
      "[26785. 53904.]\n"
     ]
    }
   ],
   "source": [
    "print(np.percentile(orders['revenue'], [95, 99])) "
   ]
  },
  {
   "cell_type": "markdown",
   "metadata": {},
   "source": [
    "**Вывод:** оставим границу на уровне 35 тысяч"
   ]
  },
  {
   "cell_type": "markdown",
   "metadata": {},
   "source": [
    "### Посчитаем статистическую значимость различий в среднем количестве заказов между группами по «сырым» данным. Сделаем выводы и предположения"
   ]
  },
  {
   "cell_type": "markdown",
   "metadata": {},
   "source": [
    "Подготовим данные, создав один большой датафрейм со всеми интересующими нас столбцами"
   ]
  },
  {
   "cell_type": "code",
   "execution_count": 36,
   "metadata": {},
   "outputs": [
    {
     "data": {
      "text/html": [
       "<div>\n",
       "<style scoped>\n",
       "    .dataframe tbody tr th:only-of-type {\n",
       "        vertical-align: middle;\n",
       "    }\n",
       "\n",
       "    .dataframe tbody tr th {\n",
       "        vertical-align: top;\n",
       "    }\n",
       "\n",
       "    .dataframe thead th {\n",
       "        text-align: right;\n",
       "    }\n",
       "</style>\n",
       "<table border=\"1\" class=\"dataframe\">\n",
       "  <thead>\n",
       "    <tr style=\"text-align: right;\">\n",
       "      <th></th>\n",
       "      <th>date</th>\n",
       "      <th>ordersPerDateA</th>\n",
       "      <th>revenuePerDateA</th>\n",
       "      <th>ordersPerDateB</th>\n",
       "      <th>revenuePerDateB</th>\n",
       "      <th>ordersCummulativeA</th>\n",
       "      <th>revenueCummulativeA</th>\n",
       "      <th>ordersCummulativeB</th>\n",
       "      <th>revenueCummulativeB</th>\n",
       "      <th>visitorsPerDateA</th>\n",
       "      <th>visitorsPerDateB</th>\n",
       "      <th>visitorsCummulativeA</th>\n",
       "      <th>visitorsCummulativeB</th>\n",
       "    </tr>\n",
       "  </thead>\n",
       "  <tbody>\n",
       "    <tr>\n",
       "      <th>0</th>\n",
       "      <td>2019-08-01</td>\n",
       "      <td>23</td>\n",
       "      <td>142779</td>\n",
       "      <td>17</td>\n",
       "      <td>59758</td>\n",
       "      <td>23</td>\n",
       "      <td>142779</td>\n",
       "      <td>17</td>\n",
       "      <td>59758</td>\n",
       "      <td>719</td>\n",
       "      <td>713</td>\n",
       "      <td>719</td>\n",
       "      <td>713</td>\n",
       "    </tr>\n",
       "    <tr>\n",
       "      <th>1</th>\n",
       "      <td>2019-08-02</td>\n",
       "      <td>19</td>\n",
       "      <td>91602</td>\n",
       "      <td>23</td>\n",
       "      <td>162043</td>\n",
       "      <td>42</td>\n",
       "      <td>234381</td>\n",
       "      <td>40</td>\n",
       "      <td>221801</td>\n",
       "      <td>619</td>\n",
       "      <td>581</td>\n",
       "      <td>1338</td>\n",
       "      <td>1294</td>\n",
       "    </tr>\n",
       "    <tr>\n",
       "      <th>2</th>\n",
       "      <td>2019-08-03</td>\n",
       "      <td>24</td>\n",
       "      <td>112473</td>\n",
       "      <td>14</td>\n",
       "      <td>67049</td>\n",
       "      <td>66</td>\n",
       "      <td>346854</td>\n",
       "      <td>54</td>\n",
       "      <td>288850</td>\n",
       "      <td>507</td>\n",
       "      <td>509</td>\n",
       "      <td>1845</td>\n",
       "      <td>1803</td>\n",
       "    </tr>\n",
       "    <tr>\n",
       "      <th>3</th>\n",
       "      <td>2019-08-04</td>\n",
       "      <td>11</td>\n",
       "      <td>41176</td>\n",
       "      <td>14</td>\n",
       "      <td>96890</td>\n",
       "      <td>77</td>\n",
       "      <td>388030</td>\n",
       "      <td>68</td>\n",
       "      <td>385740</td>\n",
       "      <td>717</td>\n",
       "      <td>770</td>\n",
       "      <td>2562</td>\n",
       "      <td>2573</td>\n",
       "    </tr>\n",
       "    <tr>\n",
       "      <th>4</th>\n",
       "      <td>2019-08-05</td>\n",
       "      <td>22</td>\n",
       "      <td>86383</td>\n",
       "      <td>21</td>\n",
       "      <td>89908</td>\n",
       "      <td>99</td>\n",
       "      <td>474413</td>\n",
       "      <td>89</td>\n",
       "      <td>475648</td>\n",
       "      <td>756</td>\n",
       "      <td>707</td>\n",
       "      <td>3318</td>\n",
       "      <td>3280</td>\n",
       "    </tr>\n",
       "  </tbody>\n",
       "</table>\n",
       "</div>"
      ],
      "text/plain": [
       "        date  ordersPerDateA  revenuePerDateA  ordersPerDateB  \\\n",
       "0 2019-08-01  23              142779           17               \n",
       "1 2019-08-02  19              91602            23               \n",
       "2 2019-08-03  24              112473           14               \n",
       "3 2019-08-04  11              41176            14               \n",
       "4 2019-08-05  22              86383            21               \n",
       "\n",
       "   revenuePerDateB  ordersCummulativeA  revenueCummulativeA  \\\n",
       "0  59758            23                  142779                \n",
       "1  162043           42                  234381                \n",
       "2  67049            66                  346854                \n",
       "3  96890            77                  388030                \n",
       "4  89908            99                  474413                \n",
       "\n",
       "   ordersCummulativeB  revenueCummulativeB  visitorsPerDateA  \\\n",
       "0  17                  59758                719                \n",
       "1  40                  221801               619                \n",
       "2  54                  288850               507                \n",
       "3  68                  385740               717                \n",
       "4  89                  475648               756                \n",
       "\n",
       "   visitorsPerDateB  visitorsCummulativeA  visitorsCummulativeB  \n",
       "0  713               719                   713                   \n",
       "1  581               1338                  1294                  \n",
       "2  509               1845                  1803                  \n",
       "3  770               2562                  2573                  \n",
       "4  707               3318                  3280                  "
      ]
     },
     "metadata": {},
     "output_type": "display_data"
    }
   ],
   "source": [
    "visitorsADaily = visitors[visitors['group'] == 'A'][['date', 'visitors']]\n",
    "visitorsADaily.columns = ['date', 'visitorsPerDateA']\n",
    "\n",
    "visitorsACummulative = visitorsADaily.apply(\n",
    "    lambda x: visitorsADaily[visitorsADaily['date'] <= x['date']].agg(\n",
    "        {'date': 'max', 'visitorsPerDateA': 'sum'}\n",
    "    ),\n",
    "    axis=1,\n",
    ")\n",
    "visitorsACummulative.columns = ['date', 'visitorsCummulativeA']\n",
    "\n",
    "visitorsBDaily = visitors[visitors['group'] == 'B'][['date', 'visitors']]\n",
    "visitorsBDaily.columns = ['date', 'visitorsPerDateB']\n",
    "\n",
    "visitorsBCummulative = visitorsBDaily.apply(\n",
    "    lambda x: visitorsBDaily[visitorsBDaily['date'] <= x['date']].agg(\n",
    "        {'date': 'max', 'visitorsPerDateB': 'sum'}\n",
    "    ),\n",
    "    axis=1,\n",
    ")\n",
    "visitorsBCummulative.columns = ['date', 'visitorsCummulativeB']\n",
    "\n",
    "ordersADaily = (\n",
    "    orders[orders['group'] == 'A'][['date', 'transactionid', 'visitorid', 'revenue']]\n",
    "    .groupby('date', as_index=False)\n",
    "    .agg({'transactionid': pd.Series.nunique, 'revenue': 'sum'})\n",
    ")\n",
    "ordersADaily.columns = ['date', 'ordersPerDateA', 'revenuePerDateA']\n",
    "\n",
    "ordersACummulative = ordersADaily.apply(\n",
    "    lambda x: ordersADaily[ordersADaily['date'] <= x['date']].agg(\n",
    "        {'date': 'max', 'ordersPerDateA': 'sum', 'revenuePerDateA': 'sum'}\n",
    "    ),\n",
    "    axis=1,\n",
    ").sort_values(by=['date'])\n",
    "ordersACummulative.columns = [\n",
    "    'date',\n",
    "    'ordersCummulativeA',\n",
    "    'revenueCummulativeA',\n",
    "]\n",
    "\n",
    "ordersBDaily = (\n",
    "    orders[orders['group'] == 'B'][['date', 'transactionid', 'visitorid', 'revenue']]\n",
    "    .groupby('date', as_index=False)\n",
    "    .agg({'transactionid': pd.Series.nunique, 'revenue': 'sum'})\n",
    ")\n",
    "ordersBDaily.columns = ['date', 'ordersPerDateB', 'revenuePerDateB']\n",
    "\n",
    "ordersBCummulative = ordersBDaily.apply(\n",
    "    lambda x: ordersBDaily[ordersBDaily['date'] <= x['date']].agg(\n",
    "        {'date': 'max', 'ordersPerDateB': 'sum', 'revenuePerDateB': 'sum'}\n",
    "    ),\n",
    "    axis=1,\n",
    ").sort_values(by=['date'])\n",
    "ordersBCummulative.columns = [\n",
    "    'date',\n",
    "    'ordersCummulativeB',\n",
    "    'revenueCummulativeB',\n",
    "]\n",
    "\n",
    "data = (\n",
    "    ordersADaily.merge(\n",
    "        ordersBDaily, left_on='date', right_on='date', how='left'\n",
    "    )\n",
    "    .merge(ordersACummulative, left_on='date', right_on='date', how='left')\n",
    "    .merge(ordersBCummulative, left_on='date', right_on='date', how='left')\n",
    "    .merge(visitorsADaily, left_on='date', right_on='date', how='left')\n",
    "    .merge(visitorsBDaily, left_on='date', right_on='date', how='left')\n",
    "    .merge(visitorsACummulative, left_on='date', right_on='date', how='left')\n",
    "    .merge(visitorsBCummulative, left_on='date', right_on='date', how='left')\n",
    ")\n",
    "\n",
    "display(data.head(5)) "
   ]
  },
  {
   "cell_type": "markdown",
   "metadata": {},
   "source": [
    "Названия столбцов датафрейма:\n",
    "\n",
    "**date** — дата; <br>\n",
    "**ordersPerDateA** — количество заказов в выбранную дату в группе A; <br>\n",
    "**revenuePerDateA** — суммарная выручка в выбранную дату в группе A; <br>\n",
    "**ordersPerDateB** — количество заказов в выбранную дату в группе B; <br>\n",
    "**revenuePerDateB** — суммарная выручка в выбранную дату в группе B; <br>\n",
    "**ordersCummulativeA** — суммарное число заказов до выбранной даты включительно в группе A; <br>\n",
    "**revenueCummulativeA** — суммарная выручка до выбранной даты включительно в группе A; <br>\n",
    "**ordersCummulativeB** — суммарное количество заказов до выбранной даты включительно в группе B; <br>\n",
    "**revenueCummulativeB** — суммарная выручка до выбранной даты включительно в группе B; <br>\n",
    "**visitorsPerDateA** — количество пользователей в выбранную дату в группе A; <br>\n",
    "**visitorsPerDateB** — количество пользователей в выбранную дату в группе B; <br>\n",
    "**visitorsCummulativeA** — количество пользователей до выбранной даты включительно в группе A; <br>\n",
    "**visitorsCummulativeB** — количество пользователей до выбранной даты включительно в группе B. <br>"
   ]
  },
  {
   "cell_type": "markdown",
   "metadata": {},
   "source": [
    "**Формулируемые гипотезы** - средние количества заказов между группами равны; равенство средних чеков двух групп. <br>\n",
    "**Используемый тест** - Mann-Whitney U test <br>\n",
    "**Уровень статистической значимости** - принимаем равным 0.05 <br>"
   ]
  },
  {
   "cell_type": "markdown",
   "metadata": {},
   "source": [
    "Создадим переменные ordersByUsersA и ordersByUsersB. В них для пользователей, которые заказывали хотя бы 1 раз, укажем число совершённых заказов"
   ]
  },
  {
   "cell_type": "code",
   "execution_count": 37,
   "metadata": {},
   "outputs": [],
   "source": [
    "ordersByUsersA = (\n",
    "    orders[orders['group'] == 'A']\n",
    "    .groupby('visitorid', as_index=False)\n",
    "    .agg({'transactionid': pd.Series.nunique})\n",
    ")\n",
    "ordersByUsersA.columns = ['visitorid', 'orders']\n",
    "\n",
    "ordersByUsersB = (\n",
    "    orders[orders['group'] == 'B']\n",
    "    .groupby('visitorid', as_index=False)\n",
    "    .agg({'transactionid': pd.Series.nunique})\n",
    ")\n",
    "ordersByUsersB.columns = ['visitorid', 'orders'] "
   ]
  },
  {
   "cell_type": "markdown",
   "metadata": {},
   "source": [
    "Объявим переменные sampleA и sampleB, в которых пользователям из разных групп будет соответствовать количество заказов. Тем, кто ничего не заказал, будут соответствовать нули"
   ]
  },
  {
   "cell_type": "code",
   "execution_count": 38,
   "metadata": {},
   "outputs": [],
   "source": [
    "sampleA = pd.concat(\n",
    "    [\n",
    "        ordersByUsersA['orders'],\n",
    "        pd.Series(\n",
    "            0,\n",
    "            index=np.arange(\n",
    "                data['visitorsPerDateA'].sum() - len(ordersByUsersA['orders'])\n",
    "            ),\n",
    "            name='orders',\n",
    "        ),\n",
    "    ],\n",
    "    axis=0,\n",
    ")\n",
    "\n",
    "sampleB = pd.concat(\n",
    "    [\n",
    "        ordersByUsersB['orders'],\n",
    "        pd.Series(\n",
    "            0,\n",
    "            index=np.arange(\n",
    "                data['visitorsPerDateB'].sum() - len(ordersByUsersB['orders'])\n",
    "            ),\n",
    "            name='orders',\n",
    "        ),\n",
    "    ],\n",
    "    axis=0,\n",
    ")"
   ]
  },
  {
   "cell_type": "code",
   "execution_count": 39,
   "metadata": {},
   "outputs": [
    {
     "name": "stdout",
     "output_type": "stream",
     "text": [
      "0.011\n",
      "0.160\n"
     ]
    }
   ],
   "source": [
    "print(\"{0:.3f}\".format(stats.mannwhitneyu(sampleA, sampleB)[1]))\n",
    "print(\"{0:.3f}\".format(sampleB.mean() / sampleA.mean() - 1))"
   ]
  },
  {
   "cell_type": "markdown",
   "metadata": {},
   "source": [
    "**Вывод:** статистическая значимость меньше 0.05, значит нулевая гипотеза о равенстве среднего количества заказов в группах по сырым данным неверна. Относительный прирост группы В над группой А по среднему числу заказов = 0.160"
   ]
  },
  {
   "cell_type": "markdown",
   "metadata": {},
   "source": [
    "### Посчитаем статистическую значимость различий в среднем чеке заказа между группами по «сырым» данным. Сделаем выводы и предположения"
   ]
  },
  {
   "cell_type": "markdown",
   "metadata": {},
   "source": [
    "Посчитаем статистическую значимость различий в среднем чеке заказа между группами по сырым данным"
   ]
  },
  {
   "cell_type": "code",
   "execution_count": 40,
   "metadata": {},
   "outputs": [
    {
     "name": "stdout",
     "output_type": "stream",
     "text": [
      "0.829\n",
      "0.287\n"
     ]
    }
   ],
   "source": [
    "print('{0:.3f}'.format(stats.mannwhitneyu(orders[orders['group']=='A']['revenue'], orders[orders['group']=='B']['revenue'])[1]))\n",
    "print('{0:.3f}'.format(orders[orders['group']=='B']['revenue'].mean()/orders[orders['group']=='A']['revenue'].mean()-1)) "
   ]
  },
  {
   "cell_type": "markdown",
   "metadata": {},
   "source": [
    "**Вывод:** статистическая значимость гораздо больше 0.05, значит по сырым данным отвергать нулевую гипотезу и говорить, что в средних чеках на заказ есть различия, причин нет. Относительный прирост группы В над группой А по среднему чеку по сырым данным = 0.287."
   ]
  },
  {
   "cell_type": "markdown",
   "metadata": {},
   "source": [
    "### Посчитаем статистическую значимость различий в среднем количестве заказов между группами по «очищенным» данным. Сделаем выводы и предположения"
   ]
  },
  {
   "cell_type": "markdown",
   "metadata": {},
   "source": [
    "Вычленим аномальных пользователей по указанным нами выше границам"
   ]
  },
  {
   "cell_type": "code",
   "execution_count": 41,
   "metadata": {},
   "outputs": [
    {
     "name": "stdout",
     "output_type": "stream",
     "text": [
      "431    148427295\n",
      "33     249864742\n",
      "273    358944393\n",
      "262    382846391\n",
      "58     611059232\n",
      "Name: visitorid, dtype: int64\n",
      "37\n"
     ]
    }
   ],
   "source": [
    "usersWithManyOrders = pd.concat(\n",
    "    [\n",
    "        ordersByUsersA[ordersByUsersA['orders'] > 2]['visitorid'],\n",
    "        ordersByUsersB[ordersByUsersB['orders'] > 2]['visitorid'],\n",
    "    ],\n",
    "    axis=0,\n",
    ")\n",
    "usersWithExpensiveOrders = orders[orders['revenue'] > 35000]['visitorid']\n",
    "abnormalUsers = (\n",
    "    pd.concat([usersWithManyOrders, usersWithExpensiveOrders], axis=0)\n",
    "    .drop_duplicates()\n",
    "    .sort_values()\n",
    ")\n",
    "print(abnormalUsers.head(5))\n",
    "print(abnormalUsers.shape[0])"
   ]
  },
  {
   "cell_type": "markdown",
   "metadata": {},
   "source": [
    "Имеем 37 аномальных пользователей. Очистим наши данные от этих пользователей и найдём статистическую значимость различий в среднем количестве заказов между группами по очищенным данным"
   ]
  },
  {
   "cell_type": "code",
   "execution_count": 42,
   "metadata": {},
   "outputs": [],
   "source": [
    "sampleAFiltered = pd.concat(\n",
    "    [\n",
    "        ordersByUsersA[\n",
    "            np.logical_not(ordersByUsersA['visitorid'].isin(abnormalUsers))\n",
    "        ]['orders'],\n",
    "        pd.Series(\n",
    "            0,\n",
    "            index=np.arange(\n",
    "                data['visitorsPerDateA'].sum() - len(ordersByUsersA['orders'])\n",
    "            ),\n",
    "            name='orders',\n",
    "        ),\n",
    "    ],\n",
    "    axis=0,\n",
    ")\n",
    "\n",
    "sampleBFiltered = pd.concat(\n",
    "    [\n",
    "        ordersByUsersB[\n",
    "            np.logical_not(ordersByUsersB['visitorid'].isin(abnormalUsers))\n",
    "        ]['orders'],\n",
    "        pd.Series(\n",
    "            0,\n",
    "            index=np.arange(\n",
    "                data['visitorsPerDateB'].sum() - len(ordersByUsersB['orders'])\n",
    "            ),\n",
    "            name='orders',\n",
    "        ),\n",
    "    ],\n",
    "    axis=0,\n",
    ")"
   ]
  },
  {
   "cell_type": "code",
   "execution_count": 43,
   "metadata": {},
   "outputs": [
    {
     "name": "stdout",
     "output_type": "stream",
     "text": [
      "0.007\n",
      "0.194\n"
     ]
    }
   ],
   "source": [
    "print('{0:.3f}'.format(stats.mannwhitneyu(sampleAFiltered, sampleBFiltered)[1]))\n",
    "print('{0:.3f}'.format(sampleBFiltered.mean()/sampleAFiltered.mean()-1)) "
   ]
  },
  {
   "cell_type": "markdown",
   "metadata": {},
   "source": [
    "**Вывод:** статистическая значимость стала ещё меньше, что говорит о неравенстве среднего количества заказов двух групп. Относительный прирост по среднему количеству заказов группы В выше группы А по сырым данным = 0.194 "
   ]
  },
  {
   "cell_type": "markdown",
   "metadata": {},
   "source": [
    "### Посчитаем статистическую значимость различий в среднем чеке заказа между группами по «очищенным» данным. Сделаем выводы и предположения"
   ]
  },
  {
   "cell_type": "markdown",
   "metadata": {},
   "source": [
    "Считаем статистическую значимость различий в среднем чеке заказа между группами по очищенным данным"
   ]
  },
  {
   "cell_type": "code",
   "execution_count": 44,
   "metadata": {},
   "outputs": [
    {
     "name": "stdout",
     "output_type": "stream",
     "text": [
      "0.869\n"
     ]
    }
   ],
   "source": [
    "print(\n",
    "    '{0:.3f}'.format(\n",
    "        stats.mannwhitneyu(\n",
    "            orders[\n",
    "                np.logical_and(\n",
    "                    orders['group'] == 'A',\n",
    "                    np.logical_not(orders['visitorid'].isin(abnormalUsers)),\n",
    "                )\n",
    "            ]['revenue'],\n",
    "            orders[\n",
    "                np.logical_and(\n",
    "                    orders['group'] == 'B',\n",
    "                    np.logical_not(orders['visitorid'].isin(abnormalUsers)),\n",
    "                )\n",
    "            ]['revenue'],\n",
    "        )[1]\n",
    "    )\n",
    ")"
   ]
  },
  {
   "cell_type": "markdown",
   "metadata": {},
   "source": [
    "**Вывод:** статистическая значимость гораздо больше 0.05, следовательно различий в среднем чеке заказа между группами нет."
   ]
  },
  {
   "cell_type": "markdown",
   "metadata": {},
   "source": [
    "### Примем решение по результатам теста и объясним его. Варианты решений: 1. Остановить тест, зафиксировать победу одной из групп. 2. Остановить тест, зафиксировать отсутствие различий между группами. 3. Продолжить тест."
   ]
  },
  {
   "cell_type": "markdown",
   "metadata": {},
   "source": [
    "Построим графики относительных различий в среднем чеке заказа и в среднем количестве самих заказов между группами для наглядности наших выводов"
   ]
  },
  {
   "cell_type": "code",
   "execution_count": 45,
   "metadata": {},
   "outputs": [
    {
     "data": {
      "image/png": "[encoded data removed]",
      "text/plain": [
       "<Figure size 864x360 with 1 Axes>"
      ]
     },
     "metadata": {
      "needs_background": "light"
     },
     "output_type": "display_data"
    }
   ],
   "source": [
    "# собираем данные в одном датафрейме\n",
    "mergedCumulativeRevenue = cumulativeRevenueA.merge(cumulativeRevenueB, left_on='date', right_on='date', how='left', suffixes=['A', 'B'])\n",
    "\n",
    "plt.figure(figsize=(12, 5))\n",
    "\n",
    "# cтроим отношение средних чеков\n",
    "plt.plot(mergedCumulativeRevenue['date'], (mergedCumulativeRevenue['revenueB']/mergedCumulativeRevenue['ordersB'])/(mergedCumulativeRevenue['revenueA']/mergedCumulativeRevenue['ordersA'])-1)\n",
    "\n",
    "# добавляем ось X\n",
    "plt.axhline(y=0, color='black', linestyle='--')\n",
    "\n",
    "plt.title('График относительного изменения кумулятивного среднего чека группы В к группе А')\n",
    "plt.xlabel('Даты проведения А/В-теста')\n",
    "plt.ylabel('Отношение');"
   ]
  },
  {
   "cell_type": "code",
   "execution_count": 46,
   "metadata": {},
   "outputs": [
    {
     "data": {
      "image/png": "[encoded data removed]",
      "text/plain": [
       "<Figure size 864x360 with 1 Axes>"
      ]
     },
     "metadata": {
      "needs_background": "light"
     },
     "output_type": "display_data"
    }
   ],
   "source": [
    "plt.figure(figsize=(12, 5))\n",
    "\n",
    "plt.plot(mergedCumulativeRevenue['date'], (mergedCumulativeRevenue['ordersB'])/(mergedCumulativeRevenue['ordersA'])-1)\n",
    "\n",
    "# добавляем ось X\n",
    "plt.axhline(y=0, color='black', linestyle='--')\n",
    "\n",
    "plt.title('График относительного изменения кумулятивного среденего количества заказов группы В к группе А')\n",
    "plt.xlabel('Даты проведения А/В-теста')\n",
    "plt.ylabel('Отношение');"
   ]
  },
  {
   "cell_type": "markdown",
   "metadata": {},
   "source": [
    "**Вывод:** после очищения наших данных, статистическая значимость различных показателей почти не изменилась. Исходя из вышепредставленных графиков и p-value, можно признать тест успешным, так как существуют статистически значимые различия между группами В и А по среднему количеству заказов"
   ]
  },
  {
   "cell_type": "markdown",
   "metadata": {},
   "source": [
    "# Общие выводы"
   ]
  },
  {
   "cell_type": "markdown",
   "metadata": {},
   "source": [
    "**Была проведена работа над приоретизициями гипотез, а так же анализ результатов А/В-тестирования**\n",
    "\n",
    "**Перед началом работы поставлены задачи:**\n",
    "- Приоретизировать гипотезы для определения их важности и очерёдности проверки;\n",
    "- Сравнить результаты приоретизации методами \"ICE\" и \"RICE\";\n",
    "- Проанализировать результаты А/В-тестирования гипотезы и сделать вывод о проведённом тесте.\n",
    "\n",
    "\n",
    "**В результате проведённой работы было выявлено следующее:**\n",
    "\n",
    "1) Приоретизация гипотез может координально различаться после добавления кретерия охвата аудитории, которую коснётся то или иное нововведение <br/>\n",
    "2) Существует статистические значимые различия между группами по среднему количеству заказов: группа В превосходит группу А по относительному приросту этого показателя на 19.4% <br/>\n",
    "3) Одновременно с этим не существует статистически значимого различия между группами по среднему чеку заказа <br/>\n",
    "4) Необходимо остановить проведение теста и постановить о его успешности ввиду наличия превосходства группы В над группой А по уровню среднего количества заказов при неизменном уровне среднего чека <br/>\n",
    "    \n",
    "**Общие рекомендации:**\n",
    "Завершение теста и принятия его успешности и внидрении проверенной гипотезы в роботу компании, так как при увеличении числа заказов в группе В средний чек остаётся таким же."
   ]
  }
 ],
 "metadata": {
  "ExecuteTimeLog": [
   {
    "duration": 745,
    "start_time": "2022-11-21T11:37:54.796Z"
   },
   {
    "duration": 207,
    "start_time": "2022-11-21T11:40:50.229Z"
   },
   {
    "duration": 81,
    "start_time": "2022-11-21T11:45:06.202Z"
   },
   {
    "duration": 12,
    "start_time": "2022-11-21T11:45:33.092Z"
   },
   {
    "duration": 7,
    "start_time": "2022-11-21T11:45:45.853Z"
   },
   {
    "duration": 8,
    "start_time": "2022-11-21T11:45:52.884Z"
   },
   {
    "duration": 13,
    "start_time": "2022-11-21T11:46:32.144Z"
   },
   {
    "duration": 9,
    "start_time": "2022-11-21T11:46:38.366Z"
   },
   {
    "duration": 7,
    "start_time": "2022-11-21T11:47:58.746Z"
   },
   {
    "duration": 3,
    "start_time": "2022-11-21T11:48:48.626Z"
   },
   {
    "duration": 2,
    "start_time": "2022-11-21T11:49:01.379Z"
   },
   {
    "duration": 12,
    "start_time": "2022-11-21T11:50:57.987Z"
   },
   {
    "duration": 11,
    "start_time": "2022-11-21T11:53:13.250Z"
   },
   {
    "duration": 6,
    "start_time": "2022-11-21T11:53:32.899Z"
   },
   {
    "duration": 11,
    "start_time": "2022-11-21T11:53:38.891Z"
   },
   {
    "duration": 68,
    "start_time": "2022-11-21T11:58:33.498Z"
   },
   {
    "duration": 10,
    "start_time": "2022-11-21T11:58:50.298Z"
   },
   {
    "duration": 5,
    "start_time": "2022-11-21T11:59:08.617Z"
   },
   {
    "duration": 5,
    "start_time": "2022-11-21T11:59:11.210Z"
   },
   {
    "duration": 9,
    "start_time": "2022-11-21T12:00:51.730Z"
   },
   {
    "duration": 9,
    "start_time": "2022-11-21T12:01:30.458Z"
   },
   {
    "duration": 17,
    "start_time": "2022-11-21T12:05:14.978Z"
   },
   {
    "duration": 5,
    "start_time": "2022-11-21T12:06:00.178Z"
   },
   {
    "duration": 8,
    "start_time": "2022-11-21T12:06:44.293Z"
   },
   {
    "duration": 3,
    "start_time": "2022-11-21T12:09:42.935Z"
   },
   {
    "duration": 4,
    "start_time": "2022-11-21T12:10:11.496Z"
   },
   {
    "duration": 5,
    "start_time": "2022-11-21T12:10:51.886Z"
   },
   {
    "duration": 9,
    "start_time": "2022-11-21T12:11:04.460Z"
   },
   {
    "duration": 8,
    "start_time": "2022-11-21T12:11:38.415Z"
   },
   {
    "duration": 6,
    "start_time": "2022-11-21T12:11:43.206Z"
   },
   {
    "duration": 6,
    "start_time": "2022-11-21T12:12:28.575Z"
   },
   {
    "duration": 7,
    "start_time": "2022-11-21T12:12:39.215Z"
   },
   {
    "duration": 8,
    "start_time": "2022-11-21T12:13:55.374Z"
   },
   {
    "duration": 16,
    "start_time": "2022-11-21T12:14:53.949Z"
   },
   {
    "duration": 9,
    "start_time": "2022-11-21T12:15:03.614Z"
   },
   {
    "duration": 16,
    "start_time": "2022-11-21T12:16:11.654Z"
   },
   {
    "duration": 130,
    "start_time": "2022-11-23T05:47:15.229Z"
   },
   {
    "duration": 45,
    "start_time": "2022-11-23T05:47:20.272Z"
   },
   {
    "duration": 9,
    "start_time": "2022-11-23T05:47:38.631Z"
   },
   {
    "duration": 839,
    "start_time": "2022-11-23T05:48:03.263Z"
   },
   {
    "duration": 206,
    "start_time": "2022-11-23T05:48:04.104Z"
   },
   {
    "duration": 17,
    "start_time": "2022-11-23T05:48:04.311Z"
   },
   {
    "duration": 20,
    "start_time": "2022-11-23T05:48:04.329Z"
   },
   {
    "duration": 17,
    "start_time": "2022-11-23T05:48:04.351Z"
   },
   {
    "duration": 29,
    "start_time": "2022-11-23T05:48:04.369Z"
   },
   {
    "duration": 14,
    "start_time": "2022-11-23T05:48:04.399Z"
   },
   {
    "duration": 25,
    "start_time": "2022-11-23T05:48:04.415Z"
   },
   {
    "duration": 10,
    "start_time": "2022-11-23T05:48:04.442Z"
   },
   {
    "duration": 47,
    "start_time": "2022-11-23T05:48:04.454Z"
   },
   {
    "duration": 24,
    "start_time": "2022-11-23T05:48:04.503Z"
   },
   {
    "duration": 22,
    "start_time": "2022-11-23T05:48:04.529Z"
   },
   {
    "duration": 125,
    "start_time": "2022-11-23T05:48:04.554Z"
   },
   {
    "duration": 15,
    "start_time": "2022-11-23T05:48:14.452Z"
   },
   {
    "duration": 10,
    "start_time": "2022-11-23T05:48:18.852Z"
   },
   {
    "duration": 12,
    "start_time": "2022-11-23T05:48:53.373Z"
   },
   {
    "duration": 16,
    "start_time": "2022-11-23T05:49:04.704Z"
   },
   {
    "duration": 12,
    "start_time": "2022-11-23T05:49:17.300Z"
   },
   {
    "duration": 11,
    "start_time": "2022-11-23T05:49:35.671Z"
   },
   {
    "duration": 12,
    "start_time": "2022-11-23T05:49:40.282Z"
   },
   {
    "duration": 45,
    "start_time": "2022-11-23T05:49:58.161Z"
   },
   {
    "duration": 49,
    "start_time": "2022-11-23T05:50:08.243Z"
   },
   {
    "duration": 15,
    "start_time": "2022-11-23T05:50:20.240Z"
   },
   {
    "duration": 12,
    "start_time": "2022-11-23T05:55:46.439Z"
   },
   {
    "duration": 13,
    "start_time": "2022-11-23T06:10:16.070Z"
   },
   {
    "duration": 8,
    "start_time": "2022-11-23T06:10:36.295Z"
   },
   {
    "duration": 50,
    "start_time": "2022-11-23T10:54:16.337Z"
   },
   {
    "duration": 6,
    "start_time": "2022-11-23T10:54:47.522Z"
   },
   {
    "duration": 770,
    "start_time": "2022-11-23T10:54:59.347Z"
   },
   {
    "duration": 199,
    "start_time": "2022-11-23T10:55:00.119Z"
   },
   {
    "duration": 12,
    "start_time": "2022-11-23T10:55:00.320Z"
   },
   {
    "duration": 26,
    "start_time": "2022-11-23T10:55:00.334Z"
   },
   {
    "duration": 30,
    "start_time": "2022-11-23T10:55:00.362Z"
   },
   {
    "duration": 32,
    "start_time": "2022-11-23T10:55:00.394Z"
   },
   {
    "duration": 22,
    "start_time": "2022-11-23T10:55:00.428Z"
   },
   {
    "duration": 34,
    "start_time": "2022-11-23T10:55:00.451Z"
   },
   {
    "duration": 13,
    "start_time": "2022-11-23T10:55:00.486Z"
   },
   {
    "duration": 16,
    "start_time": "2022-11-23T10:55:00.501Z"
   },
   {
    "duration": 10,
    "start_time": "2022-11-23T10:55:00.518Z"
   },
   {
    "duration": 9,
    "start_time": "2022-11-23T10:55:00.530Z"
   },
   {
    "duration": 19,
    "start_time": "2022-11-23T10:55:00.540Z"
   },
   {
    "duration": 9,
    "start_time": "2022-11-23T10:55:00.561Z"
   },
   {
    "duration": 16,
    "start_time": "2022-11-23T10:55:00.572Z"
   },
   {
    "duration": 9,
    "start_time": "2022-11-23T10:55:10.602Z"
   },
   {
    "duration": 6,
    "start_time": "2022-11-23T10:56:21.620Z"
   },
   {
    "duration": 10,
    "start_time": "2022-11-23T10:56:23.372Z"
   },
   {
    "duration": 5,
    "start_time": "2022-11-23T10:57:10.811Z"
   },
   {
    "duration": 4,
    "start_time": "2022-11-23T10:57:12.362Z"
   },
   {
    "duration": 4,
    "start_time": "2022-11-23T10:57:51.978Z"
   },
   {
    "duration": 8,
    "start_time": "2022-11-23T10:58:30.020Z"
   },
   {
    "duration": 6,
    "start_time": "2022-11-23T10:58:56.946Z"
   },
   {
    "duration": 7,
    "start_time": "2022-11-23T10:58:58.026Z"
   },
   {
    "duration": 7,
    "start_time": "2022-11-23T10:59:05.558Z"
   },
   {
    "duration": 52,
    "start_time": "2022-11-25T07:36:35.824Z"
   },
   {
    "duration": 834,
    "start_time": "2022-11-25T07:36:41.654Z"
   },
   {
    "duration": 206,
    "start_time": "2022-11-25T07:36:42.490Z"
   },
   {
    "duration": 19,
    "start_time": "2022-11-25T07:36:42.698Z"
   },
   {
    "duration": 17,
    "start_time": "2022-11-25T07:36:42.719Z"
   },
   {
    "duration": 20,
    "start_time": "2022-11-25T07:36:42.739Z"
   },
   {
    "duration": 21,
    "start_time": "2022-11-25T07:36:42.761Z"
   },
   {
    "duration": 13,
    "start_time": "2022-11-25T07:36:42.784Z"
   },
   {
    "duration": 20,
    "start_time": "2022-11-25T07:36:42.800Z"
   },
   {
    "duration": 13,
    "start_time": "2022-11-25T07:36:42.822Z"
   },
   {
    "duration": 25,
    "start_time": "2022-11-25T07:36:42.838Z"
   },
   {
    "duration": 14,
    "start_time": "2022-11-25T07:36:42.866Z"
   },
   {
    "duration": 13,
    "start_time": "2022-11-25T07:36:42.882Z"
   },
   {
    "duration": 19,
    "start_time": "2022-11-25T07:36:42.897Z"
   },
   {
    "duration": 10,
    "start_time": "2022-11-25T07:36:42.918Z"
   },
   {
    "duration": 8,
    "start_time": "2022-11-25T07:36:42.956Z"
   },
   {
    "duration": 16,
    "start_time": "2022-11-25T07:36:42.966Z"
   },
   {
    "duration": 20,
    "start_time": "2022-11-25T07:36:42.984Z"
   },
   {
    "duration": 22,
    "start_time": "2022-11-25T07:36:43.006Z"
   },
   {
    "duration": 129,
    "start_time": "2022-11-25T07:36:43.030Z"
   },
   {
    "duration": 13,
    "start_time": "2022-11-25T07:36:52.662Z"
   },
   {
    "duration": 835,
    "start_time": "2022-11-25T07:42:22.094Z"
   },
   {
    "duration": 5,
    "start_time": "2022-11-25T07:42:42.404Z"
   },
   {
    "duration": 8,
    "start_time": "2022-11-25T07:43:18.303Z"
   },
   {
    "duration": 257,
    "start_time": "2022-11-25T07:47:17.780Z"
   },
   {
    "duration": 6,
    "start_time": "2022-11-25T07:56:45.145Z"
   },
   {
    "duration": 29,
    "start_time": "2022-11-25T08:01:34.933Z"
   },
   {
    "duration": 293,
    "start_time": "2022-11-25T08:02:19.186Z"
   },
   {
    "duration": 196,
    "start_time": "2022-11-25T08:04:53.143Z"
   },
   {
    "duration": 133,
    "start_time": "2022-11-25T08:06:32.462Z"
   },
   {
    "duration": 144,
    "start_time": "2022-11-25T08:08:25.922Z"
   },
   {
    "duration": 132,
    "start_time": "2022-11-25T08:08:38.977Z"
   },
   {
    "duration": 21,
    "start_time": "2022-11-25T08:08:42.903Z"
   },
   {
    "duration": 204,
    "start_time": "2022-11-25T08:12:23.076Z"
   },
   {
    "duration": 13,
    "start_time": "2022-11-25T08:17:14.371Z"
   },
   {
    "duration": 314,
    "start_time": "2022-11-25T08:17:20.978Z"
   },
   {
    "duration": 238,
    "start_time": "2022-11-25T08:17:29.564Z"
   },
   {
    "duration": 211,
    "start_time": "2022-11-25T08:17:37.772Z"
   },
   {
    "duration": 298,
    "start_time": "2022-11-25T08:17:44.549Z"
   },
   {
    "duration": 212,
    "start_time": "2022-11-25T08:17:56.568Z"
   },
   {
    "duration": 260,
    "start_time": "2022-11-25T08:18:13.641Z"
   },
   {
    "duration": 206,
    "start_time": "2022-11-25T08:18:23.389Z"
   },
   {
    "duration": 199,
    "start_time": "2022-11-25T08:25:00.009Z"
   },
   {
    "duration": 204,
    "start_time": "2022-11-25T08:25:34.819Z"
   },
   {
    "duration": 188,
    "start_time": "2022-11-25T08:25:44.776Z"
   },
   {
    "duration": 193,
    "start_time": "2022-11-25T08:27:15.790Z"
   },
   {
    "duration": 5,
    "start_time": "2022-11-25T08:28:36.879Z"
   },
   {
    "duration": 19,
    "start_time": "2022-11-25T08:28:42.853Z"
   },
   {
    "duration": 5,
    "start_time": "2022-11-25T08:28:51.021Z"
   },
   {
    "duration": 412,
    "start_time": "2022-11-25T08:34:32.010Z"
   },
   {
    "duration": 289,
    "start_time": "2022-11-25T08:34:38.511Z"
   },
   {
    "duration": 302,
    "start_time": "2022-11-25T08:34:58.071Z"
   },
   {
    "duration": 200,
    "start_time": "2022-11-25T08:40:20.371Z"
   },
   {
    "duration": 772,
    "start_time": "2022-11-25T08:43:10.051Z"
   },
   {
    "duration": 73,
    "start_time": "2022-11-25T08:44:00.019Z"
   },
   {
    "duration": 202,
    "start_time": "2022-11-25T08:44:06.642Z"
   },
   {
    "duration": 331,
    "start_time": "2022-11-25T08:53:49.130Z"
   },
   {
    "duration": 199,
    "start_time": "2022-11-25T08:54:04.140Z"
   },
   {
    "duration": 302,
    "start_time": "2022-11-25T08:55:40.940Z"
   },
   {
    "duration": 15,
    "start_time": "2022-11-25T09:09:49.026Z"
   },
   {
    "duration": 11,
    "start_time": "2022-11-25T09:09:58.546Z"
   },
   {
    "duration": 15,
    "start_time": "2022-11-25T09:10:08.766Z"
   },
   {
    "duration": 16,
    "start_time": "2022-11-25T09:11:20.146Z"
   },
   {
    "duration": 17,
    "start_time": "2022-11-25T09:11:24.347Z"
   },
   {
    "duration": 15,
    "start_time": "2022-11-25T09:11:33.135Z"
   },
   {
    "duration": 121,
    "start_time": "2022-11-25T09:13:15.978Z"
   },
   {
    "duration": 112,
    "start_time": "2022-11-25T09:13:21.886Z"
   },
   {
    "duration": 121,
    "start_time": "2022-11-25T09:15:17.337Z"
   },
   {
    "duration": 5,
    "start_time": "2022-11-25T09:16:04.937Z"
   },
   {
    "duration": 6,
    "start_time": "2022-11-25T09:16:12.656Z"
   },
   {
    "duration": 19,
    "start_time": "2022-11-25T09:20:36.361Z"
   },
   {
    "duration": 12,
    "start_time": "2022-11-25T09:20:41.020Z"
   },
   {
    "duration": 62,
    "start_time": "2022-11-25T09:21:43.307Z"
   },
   {
    "duration": 234,
    "start_time": "2022-11-25T09:23:51.896Z"
   },
   {
    "duration": 162,
    "start_time": "2022-11-25T09:23:57.155Z"
   },
   {
    "duration": 4,
    "start_time": "2022-11-25T09:27:20.645Z"
   },
   {
    "duration": 141,
    "start_time": "2022-11-25T09:27:41.304Z"
   },
   {
    "duration": 9,
    "start_time": "2022-11-25T09:33:17.977Z"
   },
   {
    "duration": 19,
    "start_time": "2022-11-25T09:36:06.895Z"
   },
   {
    "duration": 23,
    "start_time": "2022-11-25T09:36:36.041Z"
   },
   {
    "duration": 10,
    "start_time": "2022-11-25T09:36:40.449Z"
   },
   {
    "duration": 196,
    "start_time": "2022-11-25T09:37:10.107Z"
   },
   {
    "duration": 137,
    "start_time": "2022-11-25T09:37:27.490Z"
   },
   {
    "duration": 19,
    "start_time": "2022-11-25T09:40:33.748Z"
   },
   {
    "duration": 111,
    "start_time": "2022-11-25T09:46:03.469Z"
   },
   {
    "duration": 128,
    "start_time": "2022-11-25T09:47:03.541Z"
   },
   {
    "duration": 190,
    "start_time": "2022-11-25T09:47:49.381Z"
   },
   {
    "duration": 272,
    "start_time": "2022-11-25T09:48:22.400Z"
   },
   {
    "duration": 246,
    "start_time": "2022-11-25T09:48:28.611Z"
   },
   {
    "duration": 14,
    "start_time": "2022-11-25T09:53:44.174Z"
   },
   {
    "duration": 10,
    "start_time": "2022-11-25T09:55:03.608Z"
   },
   {
    "duration": 1327,
    "start_time": "2022-11-25T09:55:44.069Z"
   },
   {
    "duration": 85,
    "start_time": "2022-11-25T09:55:45.399Z"
   },
   {
    "duration": 18,
    "start_time": "2022-11-25T09:55:45.486Z"
   },
   {
    "duration": 18,
    "start_time": "2022-11-25T09:55:45.507Z"
   },
   {
    "duration": 26,
    "start_time": "2022-11-25T09:55:45.529Z"
   },
   {
    "duration": 18,
    "start_time": "2022-11-25T09:55:45.558Z"
   },
   {
    "duration": 19,
    "start_time": "2022-11-25T09:55:45.579Z"
   },
   {
    "duration": 27,
    "start_time": "2022-11-25T09:55:45.600Z"
   },
   {
    "duration": 42,
    "start_time": "2022-11-25T09:55:45.629Z"
   },
   {
    "duration": 26,
    "start_time": "2022-11-25T09:55:45.674Z"
   },
   {
    "duration": 24,
    "start_time": "2022-11-25T09:55:45.702Z"
   },
   {
    "duration": 14,
    "start_time": "2022-11-25T09:55:45.727Z"
   },
   {
    "duration": 22,
    "start_time": "2022-11-25T09:55:45.743Z"
   },
   {
    "duration": 27,
    "start_time": "2022-11-25T09:55:45.769Z"
   },
   {
    "duration": 10,
    "start_time": "2022-11-25T09:55:45.798Z"
   },
   {
    "duration": 10,
    "start_time": "2022-11-25T09:55:45.809Z"
   },
   {
    "duration": 18,
    "start_time": "2022-11-25T09:55:45.821Z"
   },
   {
    "duration": 12,
    "start_time": "2022-11-25T09:55:45.856Z"
   },
   {
    "duration": 22,
    "start_time": "2022-11-25T09:55:45.871Z"
   },
   {
    "duration": 235,
    "start_time": "2022-11-25T09:55:45.896Z"
   },
   {
    "duration": 180,
    "start_time": "2022-11-25T09:55:46.132Z"
   },
   {
    "duration": 14,
    "start_time": "2022-11-25T09:55:46.314Z"
   },
   {
    "duration": 406,
    "start_time": "2022-11-25T09:55:46.331Z"
   },
   {
    "duration": 252,
    "start_time": "2022-11-25T09:55:46.739Z"
   },
   {
    "duration": 343,
    "start_time": "2022-11-25T09:55:46.993Z"
   },
   {
    "duration": 250,
    "start_time": "2022-11-25T09:55:47.337Z"
   },
   {
    "duration": 337,
    "start_time": "2022-11-25T09:55:47.590Z"
   },
   {
    "duration": 27,
    "start_time": "2022-11-25T09:55:47.929Z"
   },
   {
    "duration": 159,
    "start_time": "2022-11-25T09:55:47.958Z"
   },
   {
    "duration": 5,
    "start_time": "2022-11-25T09:55:48.119Z"
   },
   {
    "duration": 184,
    "start_time": "2022-11-25T09:55:48.126Z"
   },
   {
    "duration": 6,
    "start_time": "2022-11-25T09:55:48.312Z"
   },
   {
    "duration": 330,
    "start_time": "2022-11-25T09:55:48.320Z"
   },
   {
    "duration": 11,
    "start_time": "2022-11-25T09:55:48.655Z"
   },
   {
    "duration": 214,
    "start_time": "2022-11-25T09:55:48.668Z"
   },
   {
    "duration": 11,
    "start_time": "2022-11-25T09:55:48.884Z"
   },
   {
    "duration": 31,
    "start_time": "2022-11-25T09:55:48.897Z"
   },
   {
    "duration": 40,
    "start_time": "2022-11-25T10:02:24.758Z"
   },
   {
    "duration": 10,
    "start_time": "2022-11-25T10:04:05.831Z"
   },
   {
    "duration": 885,
    "start_time": "2022-11-25T10:23:34.809Z"
   },
   {
    "duration": 869,
    "start_time": "2022-11-25T10:24:02.709Z"
   },
   {
    "duration": 839,
    "start_time": "2022-11-25T10:25:05.137Z"
   },
   {
    "duration": 1190,
    "start_time": "2022-11-25T10:25:32.841Z"
   },
   {
    "duration": 82,
    "start_time": "2022-11-25T10:25:34.033Z"
   },
   {
    "duration": 14,
    "start_time": "2022-11-25T10:25:34.117Z"
   },
   {
    "duration": 17,
    "start_time": "2022-11-25T10:25:34.133Z"
   },
   {
    "duration": 10,
    "start_time": "2022-11-25T10:25:34.154Z"
   },
   {
    "duration": 17,
    "start_time": "2022-11-25T10:25:34.166Z"
   },
   {
    "duration": 12,
    "start_time": "2022-11-25T10:25:34.185Z"
   },
   {
    "duration": 11,
    "start_time": "2022-11-25T10:25:34.199Z"
   },
   {
    "duration": 7,
    "start_time": "2022-11-25T10:25:34.212Z"
   },
   {
    "duration": 14,
    "start_time": "2022-11-25T10:25:34.220Z"
   },
   {
    "duration": 9,
    "start_time": "2022-11-25T10:25:34.254Z"
   },
   {
    "duration": 8,
    "start_time": "2022-11-25T10:25:34.265Z"
   },
   {
    "duration": 15,
    "start_time": "2022-11-25T10:25:34.274Z"
   },
   {
    "duration": 9,
    "start_time": "2022-11-25T10:25:34.292Z"
   },
   {
    "duration": 9,
    "start_time": "2022-11-25T10:25:34.303Z"
   },
   {
    "duration": 44,
    "start_time": "2022-11-25T10:25:34.314Z"
   },
   {
    "duration": 9,
    "start_time": "2022-11-25T10:25:34.360Z"
   },
   {
    "duration": 11,
    "start_time": "2022-11-25T10:25:34.371Z"
   },
   {
    "duration": 13,
    "start_time": "2022-11-25T10:25:34.384Z"
   },
   {
    "duration": 251,
    "start_time": "2022-11-25T10:25:34.399Z"
   },
   {
    "duration": 137,
    "start_time": "2022-11-25T10:25:34.655Z"
   },
   {
    "duration": 13,
    "start_time": "2022-11-25T10:25:34.794Z"
   },
   {
    "duration": 310,
    "start_time": "2022-11-25T10:25:34.809Z"
   },
   {
    "duration": 202,
    "start_time": "2022-11-25T10:25:35.121Z"
   },
   {
    "duration": 332,
    "start_time": "2022-11-25T10:25:35.325Z"
   },
   {
    "duration": 211,
    "start_time": "2022-11-25T10:25:35.659Z"
   },
   {
    "duration": 296,
    "start_time": "2022-11-25T10:25:35.872Z"
   },
   {
    "duration": 12,
    "start_time": "2022-11-25T10:25:36.169Z"
   },
   {
    "duration": 137,
    "start_time": "2022-11-25T10:25:36.183Z"
   },
   {
    "duration": 5,
    "start_time": "2022-11-25T10:25:36.322Z"
   },
   {
    "duration": 161,
    "start_time": "2022-11-25T10:25:36.329Z"
   },
   {
    "duration": 6,
    "start_time": "2022-11-25T10:25:36.492Z"
   },
   {
    "duration": 271,
    "start_time": "2022-11-25T10:25:36.500Z"
   },
   {
    "duration": 156,
    "start_time": "2022-11-25T10:25:36.773Z"
   },
   {
    "duration": 8,
    "start_time": "2022-11-25T10:25:36.931Z"
   },
   {
    "duration": 42,
    "start_time": "2022-11-25T10:25:36.941Z"
   },
   {
    "duration": 10,
    "start_time": "2022-11-25T10:25:36.985Z"
   },
   {
    "duration": 12,
    "start_time": "2022-11-25T10:25:36.997Z"
   },
   {
    "duration": 13,
    "start_time": "2022-11-25T10:25:45.880Z"
   },
   {
    "duration": 12,
    "start_time": "2022-11-25T10:25:53.490Z"
   },
   {
    "duration": 945,
    "start_time": "2022-11-25T10:26:48.996Z"
   },
   {
    "duration": 11,
    "start_time": "2022-11-25T10:28:06.999Z"
   },
   {
    "duration": 23,
    "start_time": "2022-11-25T10:28:26.091Z"
   },
   {
    "duration": 13,
    "start_time": "2022-11-25T10:31:00.979Z"
   },
   {
    "duration": 333,
    "start_time": "2022-11-25T10:35:32.533Z"
   },
   {
    "duration": 381,
    "start_time": "2022-11-25T10:35:39.338Z"
   },
   {
    "duration": 327,
    "start_time": "2022-11-25T10:36:00.332Z"
   },
   {
    "duration": 5,
    "start_time": "2022-11-25T10:37:51.457Z"
   },
   {
    "duration": 311,
    "start_time": "2022-11-25T10:40:20.848Z"
   },
   {
    "duration": 26,
    "start_time": "2022-11-25T10:46:38.271Z"
   },
   {
    "duration": 13,
    "start_time": "2022-11-25T10:49:48.330Z"
   },
   {
    "duration": 68,
    "start_time": "2022-11-25T10:51:25.767Z"
   },
   {
    "duration": 55,
    "start_time": "2022-11-25T10:51:33.528Z"
   },
   {
    "duration": 9,
    "start_time": "2022-11-25T10:51:52.475Z"
   },
   {
    "duration": 16,
    "start_time": "2022-11-25T10:51:54.584Z"
   },
   {
    "duration": 16,
    "start_time": "2022-11-25T10:52:59.291Z"
   },
   {
    "duration": 14,
    "start_time": "2022-11-25T10:55:02.247Z"
   },
   {
    "duration": 19,
    "start_time": "2022-11-25T10:55:05.958Z"
   },
   {
    "duration": 22,
    "start_time": "2022-11-25T10:56:13.338Z"
   },
   {
    "duration": 17,
    "start_time": "2022-11-25T10:56:45.093Z"
   },
   {
    "duration": 19,
    "start_time": "2022-11-25T10:57:03.541Z"
   },
   {
    "duration": 46,
    "start_time": "2022-11-25T12:55:24.407Z"
   },
   {
    "duration": 1069,
    "start_time": "2022-11-25T12:55:27.882Z"
   },
   {
    "duration": 92,
    "start_time": "2022-11-25T12:55:28.953Z"
   },
   {
    "duration": 11,
    "start_time": "2022-11-25T12:55:29.046Z"
   },
   {
    "duration": 30,
    "start_time": "2022-11-25T12:55:29.059Z"
   },
   {
    "duration": 41,
    "start_time": "2022-11-25T12:55:29.091Z"
   },
   {
    "duration": 32,
    "start_time": "2022-11-25T12:55:29.134Z"
   },
   {
    "duration": 27,
    "start_time": "2022-11-25T12:55:29.168Z"
   },
   {
    "duration": 28,
    "start_time": "2022-11-25T12:55:29.196Z"
   },
   {
    "duration": 37,
    "start_time": "2022-11-25T12:55:29.226Z"
   },
   {
    "duration": 16,
    "start_time": "2022-11-25T12:55:29.264Z"
   },
   {
    "duration": 27,
    "start_time": "2022-11-25T12:55:29.281Z"
   },
   {
    "duration": 30,
    "start_time": "2022-11-25T12:55:29.309Z"
   },
   {
    "duration": 34,
    "start_time": "2022-11-25T12:55:29.341Z"
   },
   {
    "duration": 40,
    "start_time": "2022-11-25T12:55:29.379Z"
   },
   {
    "duration": 17,
    "start_time": "2022-11-25T12:55:29.421Z"
   },
   {
    "duration": 29,
    "start_time": "2022-11-25T12:55:29.440Z"
   },
   {
    "duration": 32,
    "start_time": "2022-11-25T12:55:29.470Z"
   },
   {
    "duration": 55,
    "start_time": "2022-11-25T12:55:29.503Z"
   },
   {
    "duration": 48,
    "start_time": "2022-11-25T12:55:29.559Z"
   },
   {
    "duration": 45,
    "start_time": "2022-11-25T12:55:29.609Z"
   },
   {
    "duration": 171,
    "start_time": "2022-11-25T12:55:29.656Z"
   },
   {
    "duration": 115,
    "start_time": "2022-11-25T12:55:29.828Z"
   },
   {
    "duration": 11,
    "start_time": "2022-11-25T12:55:29.945Z"
   },
   {
    "duration": 269,
    "start_time": "2022-11-25T12:55:29.957Z"
   },
   {
    "duration": 173,
    "start_time": "2022-11-25T12:55:30.227Z"
   },
   {
    "duration": 282,
    "start_time": "2022-11-25T12:55:30.404Z"
   },
   {
    "duration": 182,
    "start_time": "2022-11-25T12:55:30.687Z"
   },
   {
    "duration": 263,
    "start_time": "2022-11-25T12:55:30.871Z"
   },
   {
    "duration": 11,
    "start_time": "2022-11-25T12:55:31.136Z"
   },
   {
    "duration": 139,
    "start_time": "2022-11-25T12:55:31.149Z"
   },
   {
    "duration": 82,
    "start_time": "2022-11-25T12:55:31.289Z"
   },
   {
    "duration": 136,
    "start_time": "2022-11-25T12:55:31.373Z"
   },
   {
    "duration": 4,
    "start_time": "2022-11-25T12:55:31.510Z"
   },
   {
    "duration": 217,
    "start_time": "2022-11-25T12:55:31.516Z"
   },
   {
    "duration": 130,
    "start_time": "2022-11-25T12:55:31.735Z"
   },
   {
    "duration": 6,
    "start_time": "2022-11-25T12:55:31.867Z"
   },
   {
    "duration": 32,
    "start_time": "2022-11-25T12:55:31.874Z"
   },
   {
    "duration": 7,
    "start_time": "2022-11-25T12:55:31.908Z"
   },
   {
    "duration": 24,
    "start_time": "2022-11-25T12:55:31.916Z"
   },
   {
    "duration": 14,
    "start_time": "2022-11-25T12:55:31.941Z"
   },
   {
    "duration": 26,
    "start_time": "2022-11-25T12:55:31.958Z"
   },
   {
    "duration": 9,
    "start_time": "2022-11-25T12:55:31.985Z"
   },
   {
    "duration": 367,
    "start_time": "2022-11-25T12:55:31.995Z"
   },
   {
    "duration": 268,
    "start_time": "2022-11-25T12:55:32.363Z"
   },
   {
    "duration": 1041,
    "start_time": "2022-11-25T13:52:50.238Z"
   },
   {
    "duration": 81,
    "start_time": "2022-11-25T13:52:51.281Z"
   },
   {
    "duration": 12,
    "start_time": "2022-11-25T13:52:51.364Z"
   },
   {
    "duration": 13,
    "start_time": "2022-11-25T13:52:51.378Z"
   },
   {
    "duration": 14,
    "start_time": "2022-11-25T13:52:51.392Z"
   },
   {
    "duration": 11,
    "start_time": "2022-11-25T13:52:51.408Z"
   },
   {
    "duration": 13,
    "start_time": "2022-11-25T13:52:51.421Z"
   },
   {
    "duration": 14,
    "start_time": "2022-11-25T13:52:51.435Z"
   },
   {
    "duration": 8,
    "start_time": "2022-11-25T13:52:51.451Z"
   },
   {
    "duration": 21,
    "start_time": "2022-11-25T13:52:51.462Z"
   },
   {
    "duration": 21,
    "start_time": "2022-11-25T13:52:51.485Z"
   },
   {
    "duration": 7,
    "start_time": "2022-11-25T13:52:51.508Z"
   },
   {
    "duration": 10,
    "start_time": "2022-11-25T13:52:51.517Z"
   },
   {
    "duration": 7,
    "start_time": "2022-11-25T13:52:51.529Z"
   },
   {
    "duration": 11,
    "start_time": "2022-11-25T13:52:51.537Z"
   },
   {
    "duration": 13,
    "start_time": "2022-11-25T13:52:51.550Z"
   },
   {
    "duration": 13,
    "start_time": "2022-11-25T13:52:51.565Z"
   },
   {
    "duration": 25,
    "start_time": "2022-11-25T13:52:51.580Z"
   },
   {
    "duration": 11,
    "start_time": "2022-11-25T13:52:51.607Z"
   },
   {
    "duration": 160,
    "start_time": "2022-11-25T13:52:51.619Z"
   },
   {
    "duration": 123,
    "start_time": "2022-11-25T13:52:51.781Z"
   },
   {
    "duration": 12,
    "start_time": "2022-11-25T13:52:51.906Z"
   },
   {
    "duration": 289,
    "start_time": "2022-11-25T13:52:51.920Z"
   },
   {
    "duration": 190,
    "start_time": "2022-11-25T13:52:52.210Z"
   },
   {
    "duration": 304,
    "start_time": "2022-11-25T13:52:52.404Z"
   },
   {
    "duration": 170,
    "start_time": "2022-11-25T13:52:52.710Z"
   },
   {
    "duration": 285,
    "start_time": "2022-11-25T13:52:52.881Z"
   },
   {
    "duration": 11,
    "start_time": "2022-11-25T13:52:53.169Z"
   },
   {
    "duration": 110,
    "start_time": "2022-11-25T13:52:53.182Z"
   },
   {
    "duration": 12,
    "start_time": "2022-11-25T13:52:53.294Z"
   },
   {
    "duration": 119,
    "start_time": "2022-11-25T13:52:53.308Z"
   },
   {
    "duration": 4,
    "start_time": "2022-11-25T13:52:53.429Z"
   },
   {
    "duration": 220,
    "start_time": "2022-11-25T13:52:53.434Z"
   },
   {
    "duration": 130,
    "start_time": "2022-11-25T13:52:53.656Z"
   },
   {
    "duration": 17,
    "start_time": "2022-11-25T13:52:53.787Z"
   },
   {
    "duration": 21,
    "start_time": "2022-11-25T13:52:53.806Z"
   },
   {
    "duration": 6,
    "start_time": "2022-11-25T13:52:53.829Z"
   },
   {
    "duration": 8,
    "start_time": "2022-11-25T13:52:53.837Z"
   },
   {
    "duration": 9,
    "start_time": "2022-11-25T13:52:53.847Z"
   },
   {
    "duration": 42,
    "start_time": "2022-11-25T13:52:53.857Z"
   },
   {
    "duration": 11,
    "start_time": "2022-11-25T13:52:53.904Z"
   },
   {
    "duration": 273,
    "start_time": "2022-11-25T13:52:53.917Z"
   },
   {
    "duration": 336,
    "start_time": "2022-11-25T13:52:54.192Z"
   },
   {
    "duration": 47,
    "start_time": "2022-11-25T14:10:17.380Z"
   },
   {
    "duration": 1353,
    "start_time": "2022-11-25T14:10:25.730Z"
   },
   {
    "duration": 188,
    "start_time": "2022-11-25T14:10:27.085Z"
   },
   {
    "duration": 19,
    "start_time": "2022-11-25T14:10:27.275Z"
   },
   {
    "duration": 16,
    "start_time": "2022-11-25T14:10:27.297Z"
   },
   {
    "duration": 18,
    "start_time": "2022-11-25T14:10:27.315Z"
   },
   {
    "duration": 15,
    "start_time": "2022-11-25T14:10:27.335Z"
   },
   {
    "duration": 23,
    "start_time": "2022-11-25T14:10:27.352Z"
   },
   {
    "duration": 27,
    "start_time": "2022-11-25T14:10:27.377Z"
   },
   {
    "duration": 9,
    "start_time": "2022-11-25T14:10:27.407Z"
   },
   {
    "duration": 13,
    "start_time": "2022-11-25T14:10:27.420Z"
   },
   {
    "duration": 11,
    "start_time": "2022-11-25T14:10:27.435Z"
   },
   {
    "duration": 8,
    "start_time": "2022-11-25T14:10:27.448Z"
   },
   {
    "duration": 44,
    "start_time": "2022-11-25T14:10:27.457Z"
   },
   {
    "duration": 9,
    "start_time": "2022-11-25T14:10:27.503Z"
   },
   {
    "duration": 10,
    "start_time": "2022-11-25T14:10:27.514Z"
   },
   {
    "duration": 8,
    "start_time": "2022-11-25T14:10:27.526Z"
   },
   {
    "duration": 10,
    "start_time": "2022-11-25T14:10:27.536Z"
   },
   {
    "duration": 10,
    "start_time": "2022-11-25T14:10:27.548Z"
   },
   {
    "duration": 9,
    "start_time": "2022-11-25T14:10:27.560Z"
   },
   {
    "duration": 188,
    "start_time": "2022-11-25T14:10:27.596Z"
   },
   {
    "duration": 163,
    "start_time": "2022-11-25T14:10:27.786Z"
   },
   {
    "duration": 28,
    "start_time": "2022-11-25T14:10:27.951Z"
   },
   {
    "duration": 288,
    "start_time": "2022-11-25T14:10:27.981Z"
   },
   {
    "duration": 211,
    "start_time": "2022-11-25T14:10:28.271Z"
   },
   {
    "duration": 389,
    "start_time": "2022-11-25T14:10:28.483Z"
   },
   {
    "duration": 209,
    "start_time": "2022-11-25T14:10:28.875Z"
   },
   {
    "duration": 314,
    "start_time": "2022-11-25T14:10:29.086Z"
   },
   {
    "duration": 12,
    "start_time": "2022-11-25T14:10:29.403Z"
   },
   {
    "duration": 161,
    "start_time": "2022-11-25T14:10:29.417Z"
   },
   {
    "duration": 4,
    "start_time": "2022-11-25T14:10:29.580Z"
   },
   {
    "duration": 151,
    "start_time": "2022-11-25T14:10:29.586Z"
   },
   {
    "duration": 4,
    "start_time": "2022-11-25T14:10:29.740Z"
   },
   {
    "duration": 256,
    "start_time": "2022-11-25T14:10:29.746Z"
   },
   {
    "duration": 152,
    "start_time": "2022-11-25T14:10:30.004Z"
   },
   {
    "duration": 9,
    "start_time": "2022-11-25T14:10:30.158Z"
   },
   {
    "duration": 60,
    "start_time": "2022-11-25T14:10:30.169Z"
   },
   {
    "duration": 324,
    "start_time": "2022-11-25T14:10:30.231Z"
   },
   {
    "duration": 78,
    "start_time": "2022-11-25T14:10:30.558Z"
   },
   {
    "duration": 22,
    "start_time": "2022-11-25T14:10:30.638Z"
   },
   {
    "duration": 95,
    "start_time": "2022-11-25T14:10:30.662Z"
   },
   {
    "duration": 32,
    "start_time": "2022-11-25T14:10:30.758Z"
   },
   {
    "duration": 305,
    "start_time": "2022-11-25T14:10:30.793Z"
   },
   {
    "duration": 398,
    "start_time": "2022-11-25T14:10:31.100Z"
   },
   {
    "duration": 127,
    "start_time": "2022-11-25T14:12:42.311Z"
   },
   {
    "duration": 1287,
    "start_time": "2022-11-25T22:04:19.702Z"
   },
   {
    "duration": 195,
    "start_time": "2022-11-25T22:04:20.991Z"
   },
   {
    "duration": 11,
    "start_time": "2022-11-25T22:04:21.187Z"
   },
   {
    "duration": 12,
    "start_time": "2022-11-25T22:04:21.200Z"
   },
   {
    "duration": 12,
    "start_time": "2022-11-25T22:04:21.214Z"
   },
   {
    "duration": 15,
    "start_time": "2022-11-25T22:04:21.228Z"
   },
   {
    "duration": 10,
    "start_time": "2022-11-25T22:04:21.244Z"
   },
   {
    "duration": 11,
    "start_time": "2022-11-25T22:04:21.255Z"
   },
   {
    "duration": 6,
    "start_time": "2022-11-25T22:04:21.268Z"
   },
   {
    "duration": 10,
    "start_time": "2022-11-25T22:04:21.275Z"
   },
   {
    "duration": 9,
    "start_time": "2022-11-25T22:04:21.287Z"
   },
   {
    "duration": 6,
    "start_time": "2022-11-25T22:04:21.337Z"
   },
   {
    "duration": 13,
    "start_time": "2022-11-25T22:04:21.344Z"
   },
   {
    "duration": 6,
    "start_time": "2022-11-25T22:04:21.360Z"
   },
   {
    "duration": 116,
    "start_time": "2022-11-25T22:04:21.367Z"
   },
   {
    "duration": 0,
    "start_time": "2022-11-25T22:04:21.484Z"
   },
   {
    "duration": 0,
    "start_time": "2022-11-25T22:04:21.486Z"
   },
   {
    "duration": 0,
    "start_time": "2022-11-25T22:04:21.487Z"
   },
   {
    "duration": 0,
    "start_time": "2022-11-25T22:04:21.488Z"
   },
   {
    "duration": 0,
    "start_time": "2022-11-25T22:04:21.489Z"
   },
   {
    "duration": 0,
    "start_time": "2022-11-25T22:04:21.489Z"
   },
   {
    "duration": 0,
    "start_time": "2022-11-25T22:04:21.493Z"
   },
   {
    "duration": 0,
    "start_time": "2022-11-25T22:04:21.495Z"
   },
   {
    "duration": 0,
    "start_time": "2022-11-25T22:04:21.496Z"
   },
   {
    "duration": 0,
    "start_time": "2022-11-25T22:04:21.498Z"
   },
   {
    "duration": 0,
    "start_time": "2022-11-25T22:04:21.499Z"
   },
   {
    "duration": 0,
    "start_time": "2022-11-25T22:04:21.501Z"
   },
   {
    "duration": 0,
    "start_time": "2022-11-25T22:04:21.502Z"
   },
   {
    "duration": 0,
    "start_time": "2022-11-25T22:04:21.538Z"
   },
   {
    "duration": 0,
    "start_time": "2022-11-25T22:04:21.539Z"
   },
   {
    "duration": 0,
    "start_time": "2022-11-25T22:04:21.541Z"
   },
   {
    "duration": 0,
    "start_time": "2022-11-25T22:04:21.543Z"
   },
   {
    "duration": 0,
    "start_time": "2022-11-25T22:04:21.544Z"
   },
   {
    "duration": 0,
    "start_time": "2022-11-25T22:04:21.546Z"
   },
   {
    "duration": 0,
    "start_time": "2022-11-25T22:04:21.547Z"
   },
   {
    "duration": 0,
    "start_time": "2022-11-25T22:04:21.547Z"
   },
   {
    "duration": 0,
    "start_time": "2022-11-25T22:04:21.548Z"
   },
   {
    "duration": 0,
    "start_time": "2022-11-25T22:04:21.550Z"
   },
   {
    "duration": 0,
    "start_time": "2022-11-25T22:04:21.550Z"
   },
   {
    "duration": 0,
    "start_time": "2022-11-25T22:04:21.551Z"
   },
   {
    "duration": 0,
    "start_time": "2022-11-25T22:04:21.552Z"
   },
   {
    "duration": 0,
    "start_time": "2022-11-25T22:04:21.554Z"
   },
   {
    "duration": 0,
    "start_time": "2022-11-25T22:04:21.554Z"
   },
   {
    "duration": 0,
    "start_time": "2022-11-25T22:04:21.555Z"
   },
   {
    "duration": 11,
    "start_time": "2022-11-25T22:04:53.057Z"
   },
   {
    "duration": 9,
    "start_time": "2022-11-25T22:05:39.937Z"
   },
   {
    "duration": 8,
    "start_time": "2022-11-25T22:05:47.358Z"
   },
   {
    "duration": 8,
    "start_time": "2022-11-25T22:05:51.408Z"
   },
   {
    "duration": 6,
    "start_time": "2022-11-25T22:06:15.368Z"
   },
   {
    "duration": 8,
    "start_time": "2022-11-25T22:06:54.625Z"
   },
   {
    "duration": 8,
    "start_time": "2022-11-25T22:07:30.629Z"
   },
   {
    "duration": 9,
    "start_time": "2022-11-25T22:07:36.557Z"
   },
   {
    "duration": 9,
    "start_time": "2022-11-25T22:07:42.528Z"
   },
   {
    "duration": 8,
    "start_time": "2022-11-25T22:07:48.207Z"
   },
   {
    "duration": 9,
    "start_time": "2022-11-25T22:07:54.219Z"
   },
   {
    "duration": 1111,
    "start_time": "2022-11-25T22:12:30.578Z"
   },
   {
    "duration": 87,
    "start_time": "2022-11-25T22:12:31.691Z"
   },
   {
    "duration": 11,
    "start_time": "2022-11-25T22:12:31.779Z"
   },
   {
    "duration": 26,
    "start_time": "2022-11-25T22:12:31.792Z"
   },
   {
    "duration": 40,
    "start_time": "2022-11-25T22:12:31.819Z"
   },
   {
    "duration": 25,
    "start_time": "2022-11-25T22:12:31.861Z"
   },
   {
    "duration": 23,
    "start_time": "2022-11-25T22:12:31.888Z"
   },
   {
    "duration": 44,
    "start_time": "2022-11-25T22:12:31.913Z"
   },
   {
    "duration": 6,
    "start_time": "2022-11-25T22:12:31.959Z"
   },
   {
    "duration": 32,
    "start_time": "2022-11-25T22:12:31.967Z"
   },
   {
    "duration": 28,
    "start_time": "2022-11-25T22:12:32.001Z"
   },
   {
    "duration": 32,
    "start_time": "2022-11-25T22:12:32.030Z"
   },
   {
    "duration": 33,
    "start_time": "2022-11-25T22:12:32.063Z"
   },
   {
    "duration": 30,
    "start_time": "2022-11-25T22:12:32.097Z"
   },
   {
    "duration": 132,
    "start_time": "2022-11-25T22:12:32.129Z"
   },
   {
    "duration": 0,
    "start_time": "2022-11-25T22:12:32.263Z"
   },
   {
    "duration": 0,
    "start_time": "2022-11-25T22:12:32.265Z"
   },
   {
    "duration": 0,
    "start_time": "2022-11-25T22:12:32.266Z"
   },
   {
    "duration": 0,
    "start_time": "2022-11-25T22:12:32.267Z"
   },
   {
    "duration": 0,
    "start_time": "2022-11-25T22:12:32.268Z"
   },
   {
    "duration": 0,
    "start_time": "2022-11-25T22:12:32.269Z"
   },
   {
    "duration": 0,
    "start_time": "2022-11-25T22:12:32.270Z"
   },
   {
    "duration": 0,
    "start_time": "2022-11-25T22:12:32.271Z"
   },
   {
    "duration": 0,
    "start_time": "2022-11-25T22:12:32.272Z"
   },
   {
    "duration": 0,
    "start_time": "2022-11-25T22:12:32.273Z"
   },
   {
    "duration": 0,
    "start_time": "2022-11-25T22:12:32.274Z"
   },
   {
    "duration": 0,
    "start_time": "2022-11-25T22:12:32.275Z"
   },
   {
    "duration": 0,
    "start_time": "2022-11-25T22:12:32.276Z"
   },
   {
    "duration": 0,
    "start_time": "2022-11-25T22:12:32.277Z"
   },
   {
    "duration": 0,
    "start_time": "2022-11-25T22:12:32.278Z"
   },
   {
    "duration": 0,
    "start_time": "2022-11-25T22:12:32.279Z"
   },
   {
    "duration": 0,
    "start_time": "2022-11-25T22:12:32.280Z"
   },
   {
    "duration": 0,
    "start_time": "2022-11-25T22:12:32.281Z"
   },
   {
    "duration": 0,
    "start_time": "2022-11-25T22:12:32.282Z"
   },
   {
    "duration": 0,
    "start_time": "2022-11-25T22:12:32.283Z"
   },
   {
    "duration": 0,
    "start_time": "2022-11-25T22:12:32.284Z"
   },
   {
    "duration": 0,
    "start_time": "2022-11-25T22:12:32.285Z"
   },
   {
    "duration": 0,
    "start_time": "2022-11-25T22:12:32.286Z"
   },
   {
    "duration": 0,
    "start_time": "2022-11-25T22:12:32.287Z"
   },
   {
    "duration": 1,
    "start_time": "2022-11-25T22:12:32.288Z"
   },
   {
    "duration": 0,
    "start_time": "2022-11-25T22:12:32.290Z"
   },
   {
    "duration": 0,
    "start_time": "2022-11-25T22:12:32.291Z"
   },
   {
    "duration": 0,
    "start_time": "2022-11-25T22:12:32.292Z"
   },
   {
    "duration": 0,
    "start_time": "2022-11-25T22:12:32.337Z"
   },
   {
    "duration": 5,
    "start_time": "2022-11-25T22:12:57.717Z"
   },
   {
    "duration": 4,
    "start_time": "2022-11-25T22:13:22.801Z"
   },
   {
    "duration": 10,
    "start_time": "2022-11-25T22:14:00.259Z"
   },
   {
    "duration": 8,
    "start_time": "2022-11-25T22:14:08.919Z"
   },
   {
    "duration": 9,
    "start_time": "2022-11-25T22:14:39.496Z"
   },
   {
    "duration": 6,
    "start_time": "2022-11-25T22:15:22.510Z"
   },
   {
    "duration": 22,
    "start_time": "2022-11-25T22:24:57.033Z"
   },
   {
    "duration": 12,
    "start_time": "2022-11-25T22:27:16.261Z"
   },
   {
    "duration": 1051,
    "start_time": "2022-11-25T22:28:41.549Z"
   },
   {
    "duration": 78,
    "start_time": "2022-11-25T22:28:42.603Z"
   },
   {
    "duration": 11,
    "start_time": "2022-11-25T22:28:42.683Z"
   },
   {
    "duration": 10,
    "start_time": "2022-11-25T22:28:42.697Z"
   },
   {
    "duration": 10,
    "start_time": "2022-11-25T22:28:42.708Z"
   },
   {
    "duration": 13,
    "start_time": "2022-11-25T22:28:42.719Z"
   },
   {
    "duration": 17,
    "start_time": "2022-11-25T22:28:42.734Z"
   },
   {
    "duration": 9,
    "start_time": "2022-11-25T22:28:42.753Z"
   },
   {
    "duration": 6,
    "start_time": "2022-11-25T22:28:42.763Z"
   },
   {
    "duration": 8,
    "start_time": "2022-11-25T22:28:42.771Z"
   },
   {
    "duration": 8,
    "start_time": "2022-11-25T22:28:42.780Z"
   },
   {
    "duration": 7,
    "start_time": "2022-11-25T22:28:42.789Z"
   },
   {
    "duration": 10,
    "start_time": "2022-11-25T22:28:42.797Z"
   },
   {
    "duration": 11,
    "start_time": "2022-11-25T22:28:42.841Z"
   },
   {
    "duration": 5,
    "start_time": "2022-11-25T22:28:42.854Z"
   },
   {
    "duration": 10,
    "start_time": "2022-11-25T22:28:42.861Z"
   },
   {
    "duration": 8,
    "start_time": "2022-11-25T22:28:42.873Z"
   },
   {
    "duration": 15,
    "start_time": "2022-11-25T22:28:42.883Z"
   },
   {
    "duration": 47,
    "start_time": "2022-11-25T22:28:42.900Z"
   },
   {
    "duration": 8,
    "start_time": "2022-11-25T22:28:42.949Z"
   },
   {
    "duration": 6,
    "start_time": "2022-11-25T22:28:42.959Z"
   },
   {
    "duration": 187,
    "start_time": "2022-11-25T22:28:42.966Z"
   },
   {
    "duration": 124,
    "start_time": "2022-11-25T22:28:43.154Z"
   },
   {
    "duration": 12,
    "start_time": "2022-11-25T22:28:43.280Z"
   },
   {
    "duration": 280,
    "start_time": "2022-11-25T22:28:43.293Z"
   },
   {
    "duration": 220,
    "start_time": "2022-11-25T22:28:43.574Z"
   },
   {
    "duration": 332,
    "start_time": "2022-11-25T22:28:43.796Z"
   },
   {
    "duration": 210,
    "start_time": "2022-11-25T22:28:44.139Z"
   },
   {
    "duration": 278,
    "start_time": "2022-11-25T22:28:44.351Z"
   },
   {
    "duration": 21,
    "start_time": "2022-11-25T22:28:44.631Z"
   },
   {
    "duration": 122,
    "start_time": "2022-11-25T22:28:44.654Z"
   },
   {
    "duration": 5,
    "start_time": "2022-11-25T22:28:44.778Z"
   },
   {
    "duration": 140,
    "start_time": "2022-11-25T22:28:44.784Z"
   },
   {
    "duration": 4,
    "start_time": "2022-11-25T22:28:44.926Z"
   },
   {
    "duration": 244,
    "start_time": "2022-11-25T22:28:44.936Z"
   },
   {
    "duration": 131,
    "start_time": "2022-11-25T22:28:45.182Z"
   },
   {
    "duration": 6,
    "start_time": "2022-11-25T22:28:45.315Z"
   },
   {
    "duration": 43,
    "start_time": "2022-11-25T22:28:45.323Z"
   },
   {
    "duration": 8,
    "start_time": "2022-11-25T22:28:45.367Z"
   },
   {
    "duration": 8,
    "start_time": "2022-11-25T22:28:45.377Z"
   },
   {
    "duration": 7,
    "start_time": "2022-11-25T22:28:45.387Z"
   },
   {
    "duration": 62,
    "start_time": "2022-11-25T22:28:45.396Z"
   },
   {
    "duration": 10,
    "start_time": "2022-11-25T22:28:45.460Z"
   },
   {
    "duration": 279,
    "start_time": "2022-11-25T22:28:45.471Z"
   },
   {
    "duration": 395,
    "start_time": "2022-11-25T22:28:45.751Z"
   },
   {
    "duration": 121,
    "start_time": "2022-11-25T22:31:31.529Z"
   },
   {
    "duration": 22,
    "start_time": "2022-11-25T22:31:35.282Z"
   },
   {
    "duration": 1138,
    "start_time": "2022-11-25T22:33:28.607Z"
   },
   {
    "duration": 79,
    "start_time": "2022-11-25T22:33:29.751Z"
   },
   {
    "duration": 12,
    "start_time": "2022-11-25T22:33:29.832Z"
   },
   {
    "duration": 21,
    "start_time": "2022-11-25T22:33:29.848Z"
   },
   {
    "duration": 10,
    "start_time": "2022-11-25T22:33:29.872Z"
   },
   {
    "duration": 11,
    "start_time": "2022-11-25T22:33:29.885Z"
   },
   {
    "duration": 9,
    "start_time": "2022-11-25T22:33:29.898Z"
   },
   {
    "duration": 16,
    "start_time": "2022-11-25T22:33:29.938Z"
   },
   {
    "duration": 8,
    "start_time": "2022-11-25T22:33:29.955Z"
   },
   {
    "duration": 12,
    "start_time": "2022-11-25T22:33:29.964Z"
   },
   {
    "duration": 7,
    "start_time": "2022-11-25T22:33:29.978Z"
   },
   {
    "duration": 5,
    "start_time": "2022-11-25T22:33:29.987Z"
   },
   {
    "duration": 47,
    "start_time": "2022-11-25T22:33:29.994Z"
   },
   {
    "duration": 8,
    "start_time": "2022-11-25T22:33:30.046Z"
   },
   {
    "duration": 11,
    "start_time": "2022-11-25T22:33:30.058Z"
   },
   {
    "duration": 11,
    "start_time": "2022-11-25T22:33:30.071Z"
   },
   {
    "duration": 0,
    "start_time": "2022-11-25T22:33:30.084Z"
   },
   {
    "duration": 0,
    "start_time": "2022-11-25T22:33:30.085Z"
   },
   {
    "duration": 0,
    "start_time": "2022-11-25T22:33:30.086Z"
   },
   {
    "duration": 0,
    "start_time": "2022-11-25T22:33:30.088Z"
   },
   {
    "duration": 0,
    "start_time": "2022-11-25T22:33:30.090Z"
   },
   {
    "duration": 0,
    "start_time": "2022-11-25T22:33:30.092Z"
   },
   {
    "duration": 0,
    "start_time": "2022-11-25T22:33:30.093Z"
   },
   {
    "duration": 0,
    "start_time": "2022-11-25T22:33:30.094Z"
   },
   {
    "duration": 0,
    "start_time": "2022-11-25T22:33:30.096Z"
   },
   {
    "duration": 0,
    "start_time": "2022-11-25T22:33:30.097Z"
   },
   {
    "duration": 0,
    "start_time": "2022-11-25T22:33:30.099Z"
   },
   {
    "duration": 0,
    "start_time": "2022-11-25T22:33:30.141Z"
   },
   {
    "duration": 0,
    "start_time": "2022-11-25T22:33:30.142Z"
   },
   {
    "duration": 0,
    "start_time": "2022-11-25T22:33:30.143Z"
   },
   {
    "duration": 0,
    "start_time": "2022-11-25T22:33:30.144Z"
   },
   {
    "duration": 0,
    "start_time": "2022-11-25T22:33:30.145Z"
   },
   {
    "duration": 0,
    "start_time": "2022-11-25T22:33:30.146Z"
   },
   {
    "duration": 0,
    "start_time": "2022-11-25T22:33:30.148Z"
   },
   {
    "duration": 0,
    "start_time": "2022-11-25T22:33:30.150Z"
   },
   {
    "duration": 0,
    "start_time": "2022-11-25T22:33:30.151Z"
   },
   {
    "duration": 0,
    "start_time": "2022-11-25T22:33:30.155Z"
   },
   {
    "duration": 0,
    "start_time": "2022-11-25T22:33:30.156Z"
   },
   {
    "duration": 0,
    "start_time": "2022-11-25T22:33:30.157Z"
   },
   {
    "duration": 0,
    "start_time": "2022-11-25T22:33:30.158Z"
   },
   {
    "duration": 0,
    "start_time": "2022-11-25T22:33:30.159Z"
   },
   {
    "duration": 0,
    "start_time": "2022-11-25T22:33:30.160Z"
   },
   {
    "duration": 0,
    "start_time": "2022-11-25T22:33:30.161Z"
   },
   {
    "duration": 0,
    "start_time": "2022-11-25T22:33:30.162Z"
   },
   {
    "duration": 0,
    "start_time": "2022-11-25T22:33:30.163Z"
   },
   {
    "duration": 1115,
    "start_time": "2022-11-25T22:34:19.609Z"
   },
   {
    "duration": 78,
    "start_time": "2022-11-25T22:34:20.726Z"
   },
   {
    "duration": 12,
    "start_time": "2022-11-25T22:34:20.805Z"
   },
   {
    "duration": 17,
    "start_time": "2022-11-25T22:34:20.819Z"
   },
   {
    "duration": 26,
    "start_time": "2022-11-25T22:34:20.845Z"
   },
   {
    "duration": 26,
    "start_time": "2022-11-25T22:34:20.873Z"
   },
   {
    "duration": 22,
    "start_time": "2022-11-25T22:34:20.902Z"
   },
   {
    "duration": 25,
    "start_time": "2022-11-25T22:34:20.927Z"
   },
   {
    "duration": 22,
    "start_time": "2022-11-25T22:34:20.954Z"
   },
   {
    "duration": 21,
    "start_time": "2022-11-25T22:34:20.978Z"
   },
   {
    "duration": 25,
    "start_time": "2022-11-25T22:34:21.001Z"
   },
   {
    "duration": 14,
    "start_time": "2022-11-25T22:34:21.028Z"
   },
   {
    "duration": 26,
    "start_time": "2022-11-25T22:34:21.043Z"
   },
   {
    "duration": 29,
    "start_time": "2022-11-25T22:34:21.070Z"
   },
   {
    "duration": 26,
    "start_time": "2022-11-25T22:34:21.101Z"
   },
   {
    "duration": 39,
    "start_time": "2022-11-25T22:34:21.129Z"
   },
   {
    "duration": 0,
    "start_time": "2022-11-25T22:34:21.170Z"
   },
   {
    "duration": 0,
    "start_time": "2022-11-25T22:34:21.172Z"
   },
   {
    "duration": 0,
    "start_time": "2022-11-25T22:34:21.173Z"
   },
   {
    "duration": 0,
    "start_time": "2022-11-25T22:34:21.174Z"
   },
   {
    "duration": 0,
    "start_time": "2022-11-25T22:34:21.175Z"
   },
   {
    "duration": 0,
    "start_time": "2022-11-25T22:34:21.176Z"
   },
   {
    "duration": 0,
    "start_time": "2022-11-25T22:34:21.177Z"
   },
   {
    "duration": 0,
    "start_time": "2022-11-25T22:34:21.178Z"
   },
   {
    "duration": 0,
    "start_time": "2022-11-25T22:34:21.179Z"
   },
   {
    "duration": 0,
    "start_time": "2022-11-25T22:34:21.180Z"
   },
   {
    "duration": 0,
    "start_time": "2022-11-25T22:34:21.181Z"
   },
   {
    "duration": 0,
    "start_time": "2022-11-25T22:34:21.183Z"
   },
   {
    "duration": 0,
    "start_time": "2022-11-25T22:34:21.184Z"
   },
   {
    "duration": 0,
    "start_time": "2022-11-25T22:34:21.185Z"
   },
   {
    "duration": 0,
    "start_time": "2022-11-25T22:34:21.186Z"
   },
   {
    "duration": 0,
    "start_time": "2022-11-25T22:34:21.187Z"
   },
   {
    "duration": 0,
    "start_time": "2022-11-25T22:34:21.188Z"
   },
   {
    "duration": 0,
    "start_time": "2022-11-25T22:34:21.189Z"
   },
   {
    "duration": 0,
    "start_time": "2022-11-25T22:34:21.191Z"
   },
   {
    "duration": 0,
    "start_time": "2022-11-25T22:34:21.191Z"
   },
   {
    "duration": 0,
    "start_time": "2022-11-25T22:34:21.193Z"
   },
   {
    "duration": 0,
    "start_time": "2022-11-25T22:34:21.194Z"
   },
   {
    "duration": 0,
    "start_time": "2022-11-25T22:34:21.195Z"
   },
   {
    "duration": 0,
    "start_time": "2022-11-25T22:34:21.196Z"
   },
   {
    "duration": 0,
    "start_time": "2022-11-25T22:34:21.197Z"
   },
   {
    "duration": 0,
    "start_time": "2022-11-25T22:34:21.198Z"
   },
   {
    "duration": 0,
    "start_time": "2022-11-25T22:34:21.199Z"
   },
   {
    "duration": 0,
    "start_time": "2022-11-25T22:34:21.200Z"
   },
   {
    "duration": 0,
    "start_time": "2022-11-25T22:34:21.202Z"
   },
   {
    "duration": 29,
    "start_time": "2022-11-25T22:34:38.859Z"
   },
   {
    "duration": 1116,
    "start_time": "2022-11-25T22:34:55.081Z"
   },
   {
    "duration": 81,
    "start_time": "2022-11-25T22:34:56.199Z"
   },
   {
    "duration": 13,
    "start_time": "2022-11-25T22:34:56.282Z"
   },
   {
    "duration": 12,
    "start_time": "2022-11-25T22:34:56.297Z"
   },
   {
    "duration": 10,
    "start_time": "2022-11-25T22:34:56.311Z"
   },
   {
    "duration": 13,
    "start_time": "2022-11-25T22:34:56.323Z"
   },
   {
    "duration": 16,
    "start_time": "2022-11-25T22:34:56.344Z"
   },
   {
    "duration": 10,
    "start_time": "2022-11-25T22:34:56.362Z"
   },
   {
    "duration": 8,
    "start_time": "2022-11-25T22:34:56.373Z"
   },
   {
    "duration": 16,
    "start_time": "2022-11-25T22:34:56.383Z"
   },
   {
    "duration": 11,
    "start_time": "2022-11-25T22:34:56.401Z"
   },
   {
    "duration": 28,
    "start_time": "2022-11-25T22:34:56.415Z"
   },
   {
    "duration": 20,
    "start_time": "2022-11-25T22:34:56.444Z"
   },
   {
    "duration": 7,
    "start_time": "2022-11-25T22:34:56.467Z"
   },
   {
    "duration": 6,
    "start_time": "2022-11-25T22:34:56.475Z"
   },
   {
    "duration": 22,
    "start_time": "2022-11-25T22:34:56.482Z"
   },
   {
    "duration": 42,
    "start_time": "2022-11-25T22:34:56.506Z"
   },
   {
    "duration": 9,
    "start_time": "2022-11-25T22:34:56.551Z"
   },
   {
    "duration": 12,
    "start_time": "2022-11-25T22:34:56.561Z"
   },
   {
    "duration": 11,
    "start_time": "2022-11-25T22:34:56.574Z"
   },
   {
    "duration": 7,
    "start_time": "2022-11-25T22:34:56.587Z"
   },
   {
    "duration": 183,
    "start_time": "2022-11-25T22:34:56.596Z"
   },
   {
    "duration": 118,
    "start_time": "2022-11-25T22:34:56.781Z"
   },
   {
    "duration": 12,
    "start_time": "2022-11-25T22:34:56.901Z"
   },
   {
    "duration": 283,
    "start_time": "2022-11-25T22:34:56.915Z"
   },
   {
    "duration": 198,
    "start_time": "2022-11-25T22:34:57.200Z"
   },
   {
    "duration": 324,
    "start_time": "2022-11-25T22:34:57.399Z"
   },
   {
    "duration": 217,
    "start_time": "2022-11-25T22:34:57.725Z"
   },
   {
    "duration": 284,
    "start_time": "2022-11-25T22:34:57.945Z"
   },
   {
    "duration": 17,
    "start_time": "2022-11-25T22:34:58.237Z"
   },
   {
    "duration": 118,
    "start_time": "2022-11-25T22:34:58.256Z"
   },
   {
    "duration": 4,
    "start_time": "2022-11-25T22:34:58.376Z"
   },
   {
    "duration": 150,
    "start_time": "2022-11-25T22:34:58.381Z"
   },
   {
    "duration": 18,
    "start_time": "2022-11-25T22:34:58.532Z"
   },
   {
    "duration": 239,
    "start_time": "2022-11-25T22:34:58.553Z"
   },
   {
    "duration": 193,
    "start_time": "2022-11-25T22:34:58.794Z"
   },
   {
    "duration": 8,
    "start_time": "2022-11-25T22:34:58.989Z"
   },
   {
    "duration": 48,
    "start_time": "2022-11-25T22:34:58.999Z"
   },
   {
    "duration": 11,
    "start_time": "2022-11-25T22:34:59.049Z"
   },
   {
    "duration": 20,
    "start_time": "2022-11-25T22:34:59.062Z"
   },
   {
    "duration": 8,
    "start_time": "2022-11-25T22:34:59.086Z"
   },
   {
    "duration": 47,
    "start_time": "2022-11-25T22:34:59.096Z"
   },
   {
    "duration": 12,
    "start_time": "2022-11-25T22:34:59.144Z"
   },
   {
    "duration": 290,
    "start_time": "2022-11-25T22:34:59.158Z"
   },
   {
    "duration": 372,
    "start_time": "2022-11-25T22:34:59.450Z"
   },
   {
    "duration": 1134,
    "start_time": "2022-11-25T22:36:09.047Z"
   },
   {
    "duration": 83,
    "start_time": "2022-11-25T22:36:10.183Z"
   },
   {
    "duration": 12,
    "start_time": "2022-11-25T22:36:10.268Z"
   },
   {
    "duration": 10,
    "start_time": "2022-11-25T22:36:10.283Z"
   },
   {
    "duration": 11,
    "start_time": "2022-11-25T22:36:10.295Z"
   },
   {
    "duration": 11,
    "start_time": "2022-11-25T22:36:10.307Z"
   },
   {
    "duration": 38,
    "start_time": "2022-11-25T22:36:10.320Z"
   },
   {
    "duration": 12,
    "start_time": "2022-11-25T22:36:10.360Z"
   },
   {
    "duration": 6,
    "start_time": "2022-11-25T22:36:10.374Z"
   },
   {
    "duration": 13,
    "start_time": "2022-11-25T22:36:10.382Z"
   },
   {
    "duration": 8,
    "start_time": "2022-11-25T22:36:10.396Z"
   },
   {
    "duration": 15,
    "start_time": "2022-11-25T22:36:10.405Z"
   },
   {
    "duration": 30,
    "start_time": "2022-11-25T22:36:10.422Z"
   },
   {
    "duration": 11,
    "start_time": "2022-11-25T22:36:10.454Z"
   },
   {
    "duration": 10,
    "start_time": "2022-11-25T22:36:10.466Z"
   },
   {
    "duration": 20,
    "start_time": "2022-11-25T22:36:10.477Z"
   },
   {
    "duration": 6,
    "start_time": "2022-11-25T22:36:10.499Z"
   },
   {
    "duration": 39,
    "start_time": "2022-11-25T22:36:10.506Z"
   },
   {
    "duration": 8,
    "start_time": "2022-11-25T22:36:10.549Z"
   },
   {
    "duration": 12,
    "start_time": "2022-11-25T22:36:10.558Z"
   },
   {
    "duration": 8,
    "start_time": "2022-11-25T22:36:10.571Z"
   },
   {
    "duration": 175,
    "start_time": "2022-11-25T22:36:10.581Z"
   },
   {
    "duration": 133,
    "start_time": "2022-11-25T22:36:10.758Z"
   },
   {
    "duration": 13,
    "start_time": "2022-11-25T22:36:10.892Z"
   },
   {
    "duration": 279,
    "start_time": "2022-11-25T22:36:10.906Z"
   },
   {
    "duration": 190,
    "start_time": "2022-11-25T22:36:11.186Z"
   },
   {
    "duration": 283,
    "start_time": "2022-11-25T22:36:11.378Z"
   },
   {
    "duration": 202,
    "start_time": "2022-11-25T22:36:11.664Z"
   },
   {
    "duration": 281,
    "start_time": "2022-11-25T22:36:11.868Z"
   },
   {
    "duration": 11,
    "start_time": "2022-11-25T22:36:12.151Z"
   },
   {
    "duration": 119,
    "start_time": "2022-11-25T22:36:12.164Z"
   },
   {
    "duration": 3,
    "start_time": "2022-11-25T22:36:12.285Z"
   },
   {
    "duration": 149,
    "start_time": "2022-11-25T22:36:12.290Z"
   },
   {
    "duration": 8,
    "start_time": "2022-11-25T22:36:12.443Z"
   },
   {
    "duration": 235,
    "start_time": "2022-11-25T22:36:12.453Z"
   },
   {
    "duration": 143,
    "start_time": "2022-11-25T22:36:12.690Z"
   },
   {
    "duration": 8,
    "start_time": "2022-11-25T22:36:12.836Z"
   },
   {
    "duration": 46,
    "start_time": "2022-11-25T22:36:12.850Z"
   },
   {
    "duration": 9,
    "start_time": "2022-11-25T22:36:12.898Z"
   },
   {
    "duration": 8,
    "start_time": "2022-11-25T22:36:12.908Z"
   },
   {
    "duration": 7,
    "start_time": "2022-11-25T22:36:12.918Z"
   },
   {
    "duration": 39,
    "start_time": "2022-11-25T22:36:12.926Z"
   },
   {
    "duration": 10,
    "start_time": "2022-11-25T22:36:12.967Z"
   },
   {
    "duration": 279,
    "start_time": "2022-11-25T22:36:12.978Z"
   },
   {
    "duration": 372,
    "start_time": "2022-11-25T22:36:13.259Z"
   },
   {
    "duration": 1103,
    "start_time": "2022-11-25T22:36:47.590Z"
   },
   {
    "duration": 82,
    "start_time": "2022-11-25T22:36:48.695Z"
   },
   {
    "duration": 11,
    "start_time": "2022-11-25T22:36:48.779Z"
   },
   {
    "duration": 16,
    "start_time": "2022-11-25T22:36:48.791Z"
   },
   {
    "duration": 20,
    "start_time": "2022-11-25T22:36:48.810Z"
   },
   {
    "duration": 34,
    "start_time": "2022-11-25T22:36:48.832Z"
   },
   {
    "duration": 12,
    "start_time": "2022-11-25T22:36:48.868Z"
   },
   {
    "duration": 22,
    "start_time": "2022-11-25T22:36:48.883Z"
   },
   {
    "duration": 19,
    "start_time": "2022-11-25T22:36:48.907Z"
   },
   {
    "duration": 28,
    "start_time": "2022-11-25T22:36:48.928Z"
   },
   {
    "duration": 15,
    "start_time": "2022-11-25T22:36:48.958Z"
   },
   {
    "duration": 11,
    "start_time": "2022-11-25T22:36:48.974Z"
   },
   {
    "duration": 22,
    "start_time": "2022-11-25T22:36:48.986Z"
   },
   {
    "duration": 8,
    "start_time": "2022-11-25T22:36:49.012Z"
   },
   {
    "duration": 26,
    "start_time": "2022-11-25T22:36:49.023Z"
   },
   {
    "duration": 38,
    "start_time": "2022-11-25T22:36:49.051Z"
   },
   {
    "duration": 7,
    "start_time": "2022-11-25T22:36:49.091Z"
   },
   {
    "duration": 10,
    "start_time": "2022-11-25T22:36:49.100Z"
   },
   {
    "duration": 40,
    "start_time": "2022-11-25T22:36:49.112Z"
   },
   {
    "duration": 17,
    "start_time": "2022-11-25T22:36:49.157Z"
   },
   {
    "duration": 11,
    "start_time": "2022-11-25T22:36:49.177Z"
   },
   {
    "duration": 175,
    "start_time": "2022-11-25T22:36:49.190Z"
   },
   {
    "duration": 133,
    "start_time": "2022-11-25T22:36:49.366Z"
   },
   {
    "duration": 13,
    "start_time": "2022-11-25T22:36:49.501Z"
   },
   {
    "duration": 288,
    "start_time": "2022-11-25T22:36:49.515Z"
   },
   {
    "duration": 208,
    "start_time": "2022-11-25T22:36:49.806Z"
   },
   {
    "duration": 313,
    "start_time": "2022-11-25T22:36:50.016Z"
   },
   {
    "duration": 196,
    "start_time": "2022-11-25T22:36:50.330Z"
   },
   {
    "duration": 301,
    "start_time": "2022-11-25T22:36:50.527Z"
   },
   {
    "duration": 16,
    "start_time": "2022-11-25T22:36:50.830Z"
   },
   {
    "duration": 128,
    "start_time": "2022-11-25T22:36:50.847Z"
   },
   {
    "duration": 5,
    "start_time": "2022-11-25T22:36:50.977Z"
   },
   {
    "duration": 144,
    "start_time": "2022-11-25T22:36:50.984Z"
   },
   {
    "duration": 10,
    "start_time": "2022-11-25T22:36:51.130Z"
   },
   {
    "duration": 221,
    "start_time": "2022-11-25T22:36:51.142Z"
   },
   {
    "duration": 155,
    "start_time": "2022-11-25T22:36:51.364Z"
   },
   {
    "duration": 6,
    "start_time": "2022-11-25T22:36:51.521Z"
   },
   {
    "duration": 43,
    "start_time": "2022-11-25T22:36:51.528Z"
   },
   {
    "duration": 8,
    "start_time": "2022-11-25T22:36:51.572Z"
   },
   {
    "duration": 10,
    "start_time": "2022-11-25T22:36:51.582Z"
   },
   {
    "duration": 13,
    "start_time": "2022-11-25T22:36:51.596Z"
   },
   {
    "duration": 49,
    "start_time": "2022-11-25T22:36:51.611Z"
   },
   {
    "duration": 10,
    "start_time": "2022-11-25T22:36:51.661Z"
   },
   {
    "duration": 288,
    "start_time": "2022-11-25T22:36:51.673Z"
   },
   {
    "duration": 385,
    "start_time": "2022-11-25T22:36:51.963Z"
   },
   {
    "duration": 6,
    "start_time": "2022-11-25T22:46:09.169Z"
   },
   {
    "duration": 1339,
    "start_time": "2022-11-25T22:46:19.152Z"
   },
   {
    "duration": 8,
    "start_time": "2022-11-25T22:46:43.431Z"
   },
   {
    "duration": 52,
    "start_time": "2022-11-25T22:46:47.810Z"
   },
   {
    "duration": 1080,
    "start_time": "2022-11-25T22:52:01.109Z"
   },
   {
    "duration": 89,
    "start_time": "2022-11-25T22:52:02.191Z"
   },
   {
    "duration": 13,
    "start_time": "2022-11-25T22:52:02.281Z"
   },
   {
    "duration": 10,
    "start_time": "2022-11-25T22:52:02.296Z"
   },
   {
    "duration": 12,
    "start_time": "2022-11-25T22:52:02.308Z"
   },
   {
    "duration": 12,
    "start_time": "2022-11-25T22:52:02.322Z"
   },
   {
    "duration": 30,
    "start_time": "2022-11-25T22:52:02.335Z"
   },
   {
    "duration": 15,
    "start_time": "2022-11-25T22:52:02.366Z"
   },
   {
    "duration": 11,
    "start_time": "2022-11-25T22:52:02.383Z"
   },
   {
    "duration": 15,
    "start_time": "2022-11-25T22:52:02.396Z"
   },
   {
    "duration": 10,
    "start_time": "2022-11-25T22:52:02.412Z"
   },
   {
    "duration": 18,
    "start_time": "2022-11-25T22:52:02.424Z"
   },
   {
    "duration": 20,
    "start_time": "2022-11-25T22:52:02.444Z"
   },
   {
    "duration": 8,
    "start_time": "2022-11-25T22:52:02.466Z"
   },
   {
    "duration": 19,
    "start_time": "2022-11-25T22:52:02.475Z"
   },
   {
    "duration": 1321,
    "start_time": "2022-11-25T22:52:02.495Z"
   },
   {
    "duration": 0,
    "start_time": "2022-11-25T22:52:03.818Z"
   },
   {
    "duration": 0,
    "start_time": "2022-11-25T22:52:03.820Z"
   },
   {
    "duration": 0,
    "start_time": "2022-11-25T22:52:03.822Z"
   },
   {
    "duration": 0,
    "start_time": "2022-11-25T22:52:03.822Z"
   },
   {
    "duration": 0,
    "start_time": "2022-11-25T22:52:03.824Z"
   },
   {
    "duration": 0,
    "start_time": "2022-11-25T22:52:03.825Z"
   },
   {
    "duration": 0,
    "start_time": "2022-11-25T22:52:03.826Z"
   },
   {
    "duration": 0,
    "start_time": "2022-11-25T22:52:03.827Z"
   },
   {
    "duration": 0,
    "start_time": "2022-11-25T22:52:03.829Z"
   },
   {
    "duration": 0,
    "start_time": "2022-11-25T22:52:03.830Z"
   },
   {
    "duration": 0,
    "start_time": "2022-11-25T22:52:03.831Z"
   },
   {
    "duration": 0,
    "start_time": "2022-11-25T22:52:03.832Z"
   },
   {
    "duration": 0,
    "start_time": "2022-11-25T22:52:03.833Z"
   },
   {
    "duration": 0,
    "start_time": "2022-11-25T22:52:03.835Z"
   },
   {
    "duration": 0,
    "start_time": "2022-11-25T22:52:03.836Z"
   },
   {
    "duration": 0,
    "start_time": "2022-11-25T22:52:03.839Z"
   },
   {
    "duration": 0,
    "start_time": "2022-11-25T22:52:03.840Z"
   },
   {
    "duration": 0,
    "start_time": "2022-11-25T22:52:03.848Z"
   },
   {
    "duration": 0,
    "start_time": "2022-11-25T22:52:03.850Z"
   },
   {
    "duration": 0,
    "start_time": "2022-11-25T22:52:03.851Z"
   },
   {
    "duration": 0,
    "start_time": "2022-11-25T22:52:03.852Z"
   },
   {
    "duration": 0,
    "start_time": "2022-11-25T22:52:03.853Z"
   },
   {
    "duration": 0,
    "start_time": "2022-11-25T22:52:03.854Z"
   },
   {
    "duration": 0,
    "start_time": "2022-11-25T22:52:03.855Z"
   },
   {
    "duration": 0,
    "start_time": "2022-11-25T22:52:03.856Z"
   },
   {
    "duration": 0,
    "start_time": "2022-11-25T22:52:03.860Z"
   },
   {
    "duration": 0,
    "start_time": "2022-11-25T22:52:03.861Z"
   },
   {
    "duration": 0,
    "start_time": "2022-11-25T22:52:03.863Z"
   },
   {
    "duration": 0,
    "start_time": "2022-11-25T22:52:03.864Z"
   },
   {
    "duration": 4,
    "start_time": "2022-11-25T22:53:11.927Z"
   },
   {
    "duration": 1207,
    "start_time": "2022-11-25T22:55:17.030Z"
   },
   {
    "duration": 1140,
    "start_time": "2022-11-25T23:00:04.610Z"
   },
   {
    "duration": 98,
    "start_time": "2022-11-25T23:00:05.755Z"
   },
   {
    "duration": 16,
    "start_time": "2022-11-25T23:00:05.856Z"
   },
   {
    "duration": 10,
    "start_time": "2022-11-25T23:00:05.874Z"
   },
   {
    "duration": 13,
    "start_time": "2022-11-25T23:00:05.887Z"
   },
   {
    "duration": 13,
    "start_time": "2022-11-25T23:00:05.901Z"
   },
   {
    "duration": 24,
    "start_time": "2022-11-25T23:00:05.916Z"
   },
   {
    "duration": 27,
    "start_time": "2022-11-25T23:00:05.945Z"
   },
   {
    "duration": 5,
    "start_time": "2022-11-25T23:00:05.974Z"
   },
   {
    "duration": 12,
    "start_time": "2022-11-25T23:00:05.981Z"
   },
   {
    "duration": 19,
    "start_time": "2022-11-25T23:00:05.995Z"
   },
   {
    "duration": 24,
    "start_time": "2022-11-25T23:00:06.016Z"
   },
   {
    "duration": 26,
    "start_time": "2022-11-25T23:00:06.042Z"
   },
   {
    "duration": 9,
    "start_time": "2022-11-25T23:00:06.073Z"
   },
   {
    "duration": 9,
    "start_time": "2022-11-25T23:00:06.084Z"
   },
   {
    "duration": 133,
    "start_time": "2022-11-25T23:00:06.095Z"
   },
   {
    "duration": 0,
    "start_time": "2022-11-25T23:00:06.242Z"
   },
   {
    "duration": 0,
    "start_time": "2022-11-25T23:00:06.245Z"
   },
   {
    "duration": 0,
    "start_time": "2022-11-25T23:00:06.246Z"
   },
   {
    "duration": 0,
    "start_time": "2022-11-25T23:00:06.247Z"
   },
   {
    "duration": 0,
    "start_time": "2022-11-25T23:00:06.248Z"
   },
   {
    "duration": 0,
    "start_time": "2022-11-25T23:00:06.248Z"
   },
   {
    "duration": 0,
    "start_time": "2022-11-25T23:00:06.249Z"
   },
   {
    "duration": 0,
    "start_time": "2022-11-25T23:00:06.250Z"
   },
   {
    "duration": 0,
    "start_time": "2022-11-25T23:00:06.251Z"
   },
   {
    "duration": 0,
    "start_time": "2022-11-25T23:00:06.252Z"
   },
   {
    "duration": 0,
    "start_time": "2022-11-25T23:00:06.253Z"
   },
   {
    "duration": 0,
    "start_time": "2022-11-25T23:00:06.255Z"
   },
   {
    "duration": 0,
    "start_time": "2022-11-25T23:00:06.256Z"
   },
   {
    "duration": 0,
    "start_time": "2022-11-25T23:00:06.257Z"
   },
   {
    "duration": 0,
    "start_time": "2022-11-25T23:00:06.258Z"
   },
   {
    "duration": 0,
    "start_time": "2022-11-25T23:00:06.259Z"
   },
   {
    "duration": 0,
    "start_time": "2022-11-25T23:00:06.261Z"
   },
   {
    "duration": 0,
    "start_time": "2022-11-25T23:00:06.262Z"
   },
   {
    "duration": 0,
    "start_time": "2022-11-25T23:00:06.262Z"
   },
   {
    "duration": 0,
    "start_time": "2022-11-25T23:00:06.265Z"
   },
   {
    "duration": 0,
    "start_time": "2022-11-25T23:00:06.266Z"
   },
   {
    "duration": 0,
    "start_time": "2022-11-25T23:00:06.267Z"
   },
   {
    "duration": 0,
    "start_time": "2022-11-25T23:00:06.268Z"
   },
   {
    "duration": 0,
    "start_time": "2022-11-25T23:00:06.270Z"
   },
   {
    "duration": 0,
    "start_time": "2022-11-25T23:00:06.271Z"
   },
   {
    "duration": 0,
    "start_time": "2022-11-25T23:00:06.273Z"
   },
   {
    "duration": 0,
    "start_time": "2022-11-25T23:00:06.273Z"
   },
   {
    "duration": 0,
    "start_time": "2022-11-25T23:00:06.275Z"
   },
   {
    "duration": 0,
    "start_time": "2022-11-25T23:00:06.276Z"
   },
   {
    "duration": 0,
    "start_time": "2022-11-25T23:00:06.277Z"
   },
   {
    "duration": 81,
    "start_time": "2022-11-25T23:00:24.101Z"
   },
   {
    "duration": 1296,
    "start_time": "2022-11-25T23:00:33.521Z"
   },
   {
    "duration": 1351,
    "start_time": "2022-11-25T23:02:16.443Z"
   },
   {
    "duration": 1172,
    "start_time": "2022-11-25T23:02:43.613Z"
   },
   {
    "duration": 1318,
    "start_time": "2022-11-25T23:03:36.852Z"
   },
   {
    "duration": 8,
    "start_time": "2022-11-25T23:04:34.002Z"
   },
   {
    "duration": 4,
    "start_time": "2022-11-25T23:05:19.990Z"
   },
   {
    "duration": 45,
    "start_time": "2022-11-25T23:05:45.421Z"
   },
   {
    "duration": 1271,
    "start_time": "2022-11-25T23:06:09.391Z"
   },
   {
    "duration": 1361,
    "start_time": "2022-11-25T23:06:24.502Z"
   },
   {
    "duration": 1150,
    "start_time": "2022-11-25T23:06:52.641Z"
   },
   {
    "duration": 1217,
    "start_time": "2022-11-25T23:06:58.870Z"
   },
   {
    "duration": 61,
    "start_time": "2022-11-25T23:08:38.512Z"
   },
   {
    "duration": 64,
    "start_time": "2022-11-25T23:08:53.410Z"
   },
   {
    "duration": 56,
    "start_time": "2022-11-25T23:09:02.939Z"
   },
   {
    "duration": 50,
    "start_time": "2022-11-25T23:09:10.360Z"
   },
   {
    "duration": 52,
    "start_time": "2022-11-25T23:10:26.691Z"
   },
   {
    "duration": 90,
    "start_time": "2022-11-25T23:13:07.917Z"
   },
   {
    "duration": 62,
    "start_time": "2022-11-25T23:13:45.502Z"
   },
   {
    "duration": 66,
    "start_time": "2022-11-25T23:17:31.492Z"
   },
   {
    "duration": 56,
    "start_time": "2022-11-25T23:18:48.579Z"
   },
   {
    "duration": 73,
    "start_time": "2022-11-25T23:19:08.418Z"
   },
   {
    "duration": 59,
    "start_time": "2022-11-25T23:21:56.937Z"
   },
   {
    "duration": 51,
    "start_time": "2022-11-25T23:22:40.667Z"
   },
   {
    "duration": 65,
    "start_time": "2022-11-25T23:22:46.131Z"
   },
   {
    "duration": 66,
    "start_time": "2022-11-25T23:22:52.183Z"
   },
   {
    "duration": 60,
    "start_time": "2022-11-25T23:23:26.423Z"
   },
   {
    "duration": 65,
    "start_time": "2022-11-25T23:23:30.613Z"
   },
   {
    "duration": 86,
    "start_time": "2022-11-25T23:23:38.954Z"
   },
   {
    "duration": 89,
    "start_time": "2022-11-25T23:24:35.230Z"
   },
   {
    "duration": 63,
    "start_time": "2022-11-25T23:24:37.612Z"
   },
   {
    "duration": 6,
    "start_time": "2022-11-25T23:25:04.812Z"
   },
   {
    "duration": 72,
    "start_time": "2022-11-25T23:25:47.810Z"
   },
   {
    "duration": 9,
    "start_time": "2022-11-25T23:25:49.452Z"
   },
   {
    "duration": 52,
    "start_time": "2022-11-25T23:28:21.058Z"
   },
   {
    "duration": 6,
    "start_time": "2022-11-25T23:28:25.000Z"
   },
   {
    "duration": 1037,
    "start_time": "2022-11-25T23:28:52.762Z"
   },
   {
    "duration": 83,
    "start_time": "2022-11-25T23:28:53.801Z"
   },
   {
    "duration": 11,
    "start_time": "2022-11-25T23:28:53.885Z"
   },
   {
    "duration": 11,
    "start_time": "2022-11-25T23:28:53.898Z"
   },
   {
    "duration": 9,
    "start_time": "2022-11-25T23:28:53.911Z"
   },
   {
    "duration": 10,
    "start_time": "2022-11-25T23:28:53.922Z"
   },
   {
    "duration": 19,
    "start_time": "2022-11-25T23:28:53.934Z"
   },
   {
    "duration": 11,
    "start_time": "2022-11-25T23:28:53.954Z"
   },
   {
    "duration": 8,
    "start_time": "2022-11-25T23:28:53.966Z"
   },
   {
    "duration": 10,
    "start_time": "2022-11-25T23:28:53.975Z"
   },
   {
    "duration": 7,
    "start_time": "2022-11-25T23:28:53.987Z"
   },
   {
    "duration": 6,
    "start_time": "2022-11-25T23:28:53.996Z"
   },
   {
    "duration": 36,
    "start_time": "2022-11-25T23:28:54.004Z"
   },
   {
    "duration": 9,
    "start_time": "2022-11-25T23:28:54.044Z"
   },
   {
    "duration": 7,
    "start_time": "2022-11-25T23:28:54.055Z"
   },
   {
    "duration": 88,
    "start_time": "2022-11-25T23:28:54.064Z"
   },
   {
    "duration": 6,
    "start_time": "2022-11-25T23:28:54.154Z"
   },
   {
    "duration": 15,
    "start_time": "2022-11-25T23:28:54.161Z"
   },
   {
    "duration": 7,
    "start_time": "2022-11-25T23:28:54.178Z"
   },
   {
    "duration": 10,
    "start_time": "2022-11-25T23:28:54.186Z"
   },
   {
    "duration": 18,
    "start_time": "2022-11-25T23:28:54.197Z"
   },
   {
    "duration": 22,
    "start_time": "2022-11-25T23:28:54.217Z"
   },
   {
    "duration": 174,
    "start_time": "2022-11-25T23:28:54.241Z"
   },
   {
    "duration": 134,
    "start_time": "2022-11-25T23:28:54.417Z"
   },
   {
    "duration": 11,
    "start_time": "2022-11-25T23:28:54.553Z"
   },
   {
    "duration": 285,
    "start_time": "2022-11-25T23:28:54.566Z"
   },
   {
    "duration": 202,
    "start_time": "2022-11-25T23:28:54.853Z"
   },
   {
    "duration": 294,
    "start_time": "2022-11-25T23:28:55.056Z"
   },
   {
    "duration": 178,
    "start_time": "2022-11-25T23:28:55.353Z"
   },
   {
    "duration": 312,
    "start_time": "2022-11-25T23:28:55.533Z"
   },
   {
    "duration": 16,
    "start_time": "2022-11-25T23:28:55.847Z"
   },
   {
    "duration": 125,
    "start_time": "2022-11-25T23:28:55.865Z"
   },
   {
    "duration": 4,
    "start_time": "2022-11-25T23:28:55.992Z"
   },
   {
    "duration": 138,
    "start_time": "2022-11-25T23:28:55.997Z"
   },
   {
    "duration": 10,
    "start_time": "2022-11-25T23:28:56.141Z"
   },
   {
    "duration": 224,
    "start_time": "2022-11-25T23:28:56.153Z"
   },
   {
    "duration": 140,
    "start_time": "2022-11-25T23:28:56.379Z"
   },
   {
    "duration": 7,
    "start_time": "2022-11-25T23:28:56.520Z"
   },
   {
    "duration": 33,
    "start_time": "2022-11-25T23:28:56.528Z"
   },
   {
    "duration": 8,
    "start_time": "2022-11-25T23:28:56.563Z"
   },
   {
    "duration": 11,
    "start_time": "2022-11-25T23:28:56.574Z"
   },
   {
    "duration": 15,
    "start_time": "2022-11-25T23:28:56.586Z"
   },
   {
    "duration": 60,
    "start_time": "2022-11-25T23:28:56.603Z"
   },
   {
    "duration": 10,
    "start_time": "2022-11-25T23:28:56.664Z"
   },
   {
    "duration": 269,
    "start_time": "2022-11-25T23:28:56.676Z"
   },
   {
    "duration": 365,
    "start_time": "2022-11-25T23:28:56.950Z"
   },
   {
    "duration": 2988,
    "start_time": "2022-11-25T23:31:04.871Z"
   },
   {
    "duration": 198,
    "start_time": "2022-11-25T23:32:24.389Z"
   },
   {
    "duration": 198,
    "start_time": "2022-11-25T23:32:33.377Z"
   },
   {
    "duration": 1117,
    "start_time": "2022-11-25T23:35:55.282Z"
   },
   {
    "duration": 87,
    "start_time": "2022-11-25T23:35:56.401Z"
   },
   {
    "duration": 11,
    "start_time": "2022-11-25T23:35:56.490Z"
   },
   {
    "duration": 11,
    "start_time": "2022-11-25T23:35:56.502Z"
   },
   {
    "duration": 13,
    "start_time": "2022-11-25T23:35:56.515Z"
   },
   {
    "duration": 28,
    "start_time": "2022-11-25T23:35:56.530Z"
   },
   {
    "duration": 18,
    "start_time": "2022-11-25T23:35:56.559Z"
   },
   {
    "duration": 13,
    "start_time": "2022-11-25T23:35:56.579Z"
   },
   {
    "duration": 19,
    "start_time": "2022-11-25T23:35:56.593Z"
   },
   {
    "duration": 13,
    "start_time": "2022-11-25T23:35:56.613Z"
   },
   {
    "duration": 17,
    "start_time": "2022-11-25T23:35:56.627Z"
   },
   {
    "duration": 11,
    "start_time": "2022-11-25T23:35:56.650Z"
   },
   {
    "duration": 20,
    "start_time": "2022-11-25T23:35:56.663Z"
   },
   {
    "duration": 16,
    "start_time": "2022-11-25T23:35:56.686Z"
   },
   {
    "duration": 13,
    "start_time": "2022-11-25T23:35:56.703Z"
   },
   {
    "duration": 67,
    "start_time": "2022-11-25T23:35:56.717Z"
   },
   {
    "duration": 6,
    "start_time": "2022-11-25T23:35:56.785Z"
   },
   {
    "duration": 9,
    "start_time": "2022-11-25T23:35:56.792Z"
   },
   {
    "duration": 23,
    "start_time": "2022-11-25T23:35:56.803Z"
   },
   {
    "duration": 26,
    "start_time": "2022-11-25T23:35:56.827Z"
   },
   {
    "duration": 26,
    "start_time": "2022-11-25T23:35:56.855Z"
   },
   {
    "duration": 16,
    "start_time": "2022-11-25T23:35:56.882Z"
   },
   {
    "duration": 193,
    "start_time": "2022-11-25T23:35:56.900Z"
   },
   {
    "duration": 131,
    "start_time": "2022-11-25T23:35:57.095Z"
   },
   {
    "duration": 26,
    "start_time": "2022-11-25T23:35:57.228Z"
   },
   {
    "duration": 268,
    "start_time": "2022-11-25T23:35:57.256Z"
   },
   {
    "duration": 204,
    "start_time": "2022-11-25T23:35:57.526Z"
   },
   {
    "duration": 330,
    "start_time": "2022-11-25T23:35:57.731Z"
   },
   {
    "duration": 208,
    "start_time": "2022-11-25T23:35:58.063Z"
   },
   {
    "duration": 282,
    "start_time": "2022-11-25T23:35:58.273Z"
   },
   {
    "duration": 12,
    "start_time": "2022-11-25T23:35:58.557Z"
   },
   {
    "duration": 129,
    "start_time": "2022-11-25T23:35:58.571Z"
   },
   {
    "duration": 4,
    "start_time": "2022-11-25T23:35:58.702Z"
   },
   {
    "duration": 161,
    "start_time": "2022-11-25T23:35:58.707Z"
   },
   {
    "duration": 6,
    "start_time": "2022-11-25T23:35:58.870Z"
   },
   {
    "duration": 275,
    "start_time": "2022-11-25T23:35:58.879Z"
   },
   {
    "duration": 141,
    "start_time": "2022-11-25T23:35:59.156Z"
   },
   {
    "duration": 7,
    "start_time": "2022-11-25T23:35:59.299Z"
   },
   {
    "duration": 46,
    "start_time": "2022-11-25T23:35:59.308Z"
   },
   {
    "duration": 8,
    "start_time": "2022-11-25T23:35:59.356Z"
   },
   {
    "duration": 9,
    "start_time": "2022-11-25T23:35:59.368Z"
   },
   {
    "duration": 12,
    "start_time": "2022-11-25T23:35:59.378Z"
   },
   {
    "duration": 51,
    "start_time": "2022-11-25T23:35:59.391Z"
   },
   {
    "duration": 12,
    "start_time": "2022-11-25T23:35:59.448Z"
   },
   {
    "duration": 271,
    "start_time": "2022-11-25T23:35:59.462Z"
   },
   {
    "duration": 392,
    "start_time": "2022-11-25T23:35:59.739Z"
   },
   {
    "duration": 285,
    "start_time": "2022-11-25T23:39:24.971Z"
   },
   {
    "duration": 1136,
    "start_time": "2022-11-25T23:39:36.352Z"
   },
   {
    "duration": 81,
    "start_time": "2022-11-25T23:39:37.490Z"
   },
   {
    "duration": 12,
    "start_time": "2022-11-25T23:39:37.573Z"
   },
   {
    "duration": 15,
    "start_time": "2022-11-25T23:39:37.587Z"
   },
   {
    "duration": 19,
    "start_time": "2022-11-25T23:39:37.604Z"
   },
   {
    "duration": 22,
    "start_time": "2022-11-25T23:39:37.625Z"
   },
   {
    "duration": 17,
    "start_time": "2022-11-25T23:39:37.649Z"
   },
   {
    "duration": 13,
    "start_time": "2022-11-25T23:39:37.668Z"
   },
   {
    "duration": 9,
    "start_time": "2022-11-25T23:39:37.682Z"
   },
   {
    "duration": 10,
    "start_time": "2022-11-25T23:39:37.693Z"
   },
   {
    "duration": 38,
    "start_time": "2022-11-25T23:39:37.704Z"
   },
   {
    "duration": 22,
    "start_time": "2022-11-25T23:39:37.745Z"
   },
   {
    "duration": 31,
    "start_time": "2022-11-25T23:39:37.768Z"
   },
   {
    "duration": 13,
    "start_time": "2022-11-25T23:39:37.801Z"
   },
   {
    "duration": 22,
    "start_time": "2022-11-25T23:39:37.816Z"
   },
   {
    "duration": 96,
    "start_time": "2022-11-25T23:39:37.840Z"
   },
   {
    "duration": 13,
    "start_time": "2022-11-25T23:39:37.941Z"
   },
   {
    "duration": 12,
    "start_time": "2022-11-25T23:39:37.957Z"
   },
   {
    "duration": 13,
    "start_time": "2022-11-25T23:39:37.971Z"
   },
   {
    "duration": 10,
    "start_time": "2022-11-25T23:39:37.985Z"
   },
   {
    "duration": 10,
    "start_time": "2022-11-25T23:39:37.997Z"
   },
   {
    "duration": 10,
    "start_time": "2022-11-25T23:39:38.008Z"
   },
   {
    "duration": 189,
    "start_time": "2022-11-25T23:39:38.020Z"
   },
   {
    "duration": 140,
    "start_time": "2022-11-25T23:39:38.211Z"
   },
   {
    "duration": 18,
    "start_time": "2022-11-25T23:39:38.353Z"
   },
   {
    "duration": 296,
    "start_time": "2022-11-25T23:39:38.373Z"
   },
   {
    "duration": 231,
    "start_time": "2022-11-25T23:39:38.671Z"
   },
   {
    "duration": 349,
    "start_time": "2022-11-25T23:39:38.905Z"
   },
   {
    "duration": 200,
    "start_time": "2022-11-25T23:39:39.256Z"
   },
   {
    "duration": 297,
    "start_time": "2022-11-25T23:39:39.458Z"
   },
   {
    "duration": 11,
    "start_time": "2022-11-25T23:39:39.757Z"
   },
   {
    "duration": 119,
    "start_time": "2022-11-25T23:39:39.769Z"
   },
   {
    "duration": 4,
    "start_time": "2022-11-25T23:39:39.890Z"
   },
   {
    "duration": 158,
    "start_time": "2022-11-25T23:39:39.896Z"
   },
   {
    "duration": 5,
    "start_time": "2022-11-25T23:39:40.057Z"
   },
   {
    "duration": 238,
    "start_time": "2022-11-25T23:39:40.064Z"
   },
   {
    "duration": 140,
    "start_time": "2022-11-25T23:39:40.303Z"
   },
   {
    "duration": 10,
    "start_time": "2022-11-25T23:39:40.447Z"
   },
   {
    "duration": 25,
    "start_time": "2022-11-25T23:39:40.459Z"
   },
   {
    "duration": 9,
    "start_time": "2022-11-25T23:39:40.486Z"
   },
   {
    "duration": 13,
    "start_time": "2022-11-25T23:39:40.497Z"
   },
   {
    "duration": 31,
    "start_time": "2022-11-25T23:39:40.511Z"
   },
   {
    "duration": 28,
    "start_time": "2022-11-25T23:39:40.544Z"
   },
   {
    "duration": 10,
    "start_time": "2022-11-25T23:39:40.574Z"
   },
   {
    "duration": 348,
    "start_time": "2022-11-25T23:39:40.586Z"
   },
   {
    "duration": 383,
    "start_time": "2022-11-25T23:39:40.935Z"
   },
   {
    "duration": 79,
    "start_time": "2022-11-25T23:42:36.114Z"
   },
   {
    "duration": 62,
    "start_time": "2022-11-26T12:41:29.548Z"
   },
   {
    "duration": 1225,
    "start_time": "2022-11-26T12:42:02.470Z"
   },
   {
    "duration": 198,
    "start_time": "2022-11-26T12:42:03.697Z"
   },
   {
    "duration": 11,
    "start_time": "2022-11-26T12:42:03.897Z"
   },
   {
    "duration": 11,
    "start_time": "2022-11-26T12:42:03.910Z"
   },
   {
    "duration": 27,
    "start_time": "2022-11-26T12:42:03.923Z"
   },
   {
    "duration": 16,
    "start_time": "2022-11-26T12:42:03.952Z"
   },
   {
    "duration": 12,
    "start_time": "2022-11-26T12:42:03.969Z"
   },
   {
    "duration": 22,
    "start_time": "2022-11-26T12:42:03.983Z"
   },
   {
    "duration": 9,
    "start_time": "2022-11-26T12:42:04.006Z"
   },
   {
    "duration": 10,
    "start_time": "2022-11-26T12:42:04.018Z"
   },
   {
    "duration": 11,
    "start_time": "2022-11-26T12:42:04.029Z"
   },
   {
    "duration": 6,
    "start_time": "2022-11-26T12:42:04.041Z"
   },
   {
    "duration": 54,
    "start_time": "2022-11-26T12:42:04.048Z"
   },
   {
    "duration": 6,
    "start_time": "2022-11-26T12:42:04.104Z"
   },
   {
    "duration": 8,
    "start_time": "2022-11-26T12:42:04.111Z"
   },
   {
    "duration": 83,
    "start_time": "2022-11-26T12:42:04.120Z"
   },
   {
    "duration": 5,
    "start_time": "2022-11-26T12:42:04.205Z"
   },
   {
    "duration": 6,
    "start_time": "2022-11-26T12:42:04.211Z"
   },
   {
    "duration": 9,
    "start_time": "2022-11-26T12:42:04.219Z"
   },
   {
    "duration": 11,
    "start_time": "2022-11-26T12:42:04.229Z"
   },
   {
    "duration": 19,
    "start_time": "2022-11-26T12:42:04.242Z"
   },
   {
    "duration": 48,
    "start_time": "2022-11-26T12:42:04.262Z"
   },
   {
    "duration": 152,
    "start_time": "2022-11-26T12:42:04.312Z"
   },
   {
    "duration": 111,
    "start_time": "2022-11-26T12:42:04.466Z"
   },
   {
    "duration": 20,
    "start_time": "2022-11-26T12:42:04.578Z"
   },
   {
    "duration": 316,
    "start_time": "2022-11-26T12:42:04.599Z"
   },
   {
    "duration": 180,
    "start_time": "2022-11-26T12:42:04.916Z"
   },
   {
    "duration": 307,
    "start_time": "2022-11-26T12:42:05.099Z"
   },
   {
    "duration": 178,
    "start_time": "2022-11-26T12:42:05.407Z"
   },
   {
    "duration": 297,
    "start_time": "2022-11-26T12:42:05.587Z"
   },
   {
    "duration": 10,
    "start_time": "2022-11-26T12:42:05.896Z"
   },
   {
    "duration": 121,
    "start_time": "2022-11-26T12:42:05.908Z"
   },
   {
    "duration": 4,
    "start_time": "2022-11-26T12:42:06.031Z"
   },
   {
    "duration": 129,
    "start_time": "2022-11-26T12:42:06.037Z"
   },
   {
    "duration": 5,
    "start_time": "2022-11-26T12:42:06.168Z"
   },
   {
    "duration": 224,
    "start_time": "2022-11-26T12:42:06.175Z"
   },
   {
    "duration": 129,
    "start_time": "2022-11-26T12:42:06.401Z"
   },
   {
    "duration": 6,
    "start_time": "2022-11-26T12:42:06.532Z"
   },
   {
    "duration": 24,
    "start_time": "2022-11-26T12:42:06.539Z"
   },
   {
    "duration": 7,
    "start_time": "2022-11-26T12:42:06.564Z"
   },
   {
    "duration": 30,
    "start_time": "2022-11-26T12:42:06.573Z"
   },
   {
    "duration": 10,
    "start_time": "2022-11-26T12:42:06.605Z"
   },
   {
    "duration": 21,
    "start_time": "2022-11-26T12:42:06.616Z"
   },
   {
    "duration": 8,
    "start_time": "2022-11-26T12:42:06.639Z"
   },
   {
    "duration": 313,
    "start_time": "2022-11-26T12:42:06.649Z"
   },
   {
    "duration": 324,
    "start_time": "2022-11-26T12:42:06.964Z"
   },
   {
    "duration": 182,
    "start_time": "2022-11-26T12:56:06.117Z"
   },
   {
    "duration": 177,
    "start_time": "2022-11-26T12:56:38.272Z"
   },
   {
    "duration": 181,
    "start_time": "2022-11-26T12:56:44.280Z"
   },
   {
    "duration": 261,
    "start_time": "2022-11-26T12:57:54.221Z"
   },
   {
    "duration": 196,
    "start_time": "2022-11-26T12:58:48.005Z"
   },
   {
    "duration": 274,
    "start_time": "2022-11-26T12:59:33.568Z"
   },
   {
    "duration": 262,
    "start_time": "2022-11-26T12:59:39.754Z"
   },
   {
    "duration": 255,
    "start_time": "2022-11-26T12:59:48.342Z"
   },
   {
    "duration": 152,
    "start_time": "2022-11-26T13:00:45.326Z"
   },
   {
    "duration": 130,
    "start_time": "2022-11-26T13:00:48.441Z"
   },
   {
    "duration": 191,
    "start_time": "2022-11-26T13:01:41.402Z"
   },
   {
    "duration": 37,
    "start_time": "2022-11-26T13:12:46.124Z"
   },
   {
    "duration": 989,
    "start_time": "2022-11-26T13:14:28.050Z"
   },
   {
    "duration": 79,
    "start_time": "2022-11-26T13:14:29.041Z"
   },
   {
    "duration": 16,
    "start_time": "2022-11-26T13:14:29.121Z"
   },
   {
    "duration": 13,
    "start_time": "2022-11-26T13:14:29.140Z"
   },
   {
    "duration": 16,
    "start_time": "2022-11-26T13:14:29.155Z"
   },
   {
    "duration": 12,
    "start_time": "2022-11-26T13:14:29.173Z"
   },
   {
    "duration": 25,
    "start_time": "2022-11-26T13:14:29.187Z"
   },
   {
    "duration": 16,
    "start_time": "2022-11-26T13:14:29.214Z"
   },
   {
    "duration": 13,
    "start_time": "2022-11-26T13:14:29.231Z"
   },
   {
    "duration": 11,
    "start_time": "2022-11-26T13:14:29.246Z"
   },
   {
    "duration": 10,
    "start_time": "2022-11-26T13:14:29.258Z"
   },
   {
    "duration": 8,
    "start_time": "2022-11-26T13:14:29.269Z"
   },
   {
    "duration": 24,
    "start_time": "2022-11-26T13:14:29.279Z"
   },
   {
    "duration": 10,
    "start_time": "2022-11-26T13:14:29.305Z"
   },
   {
    "duration": 8,
    "start_time": "2022-11-26T13:14:29.316Z"
   },
   {
    "duration": 77,
    "start_time": "2022-11-26T13:14:29.325Z"
   },
   {
    "duration": 6,
    "start_time": "2022-11-26T13:14:29.404Z"
   },
   {
    "duration": 21,
    "start_time": "2022-11-26T13:14:29.411Z"
   },
   {
    "duration": 31,
    "start_time": "2022-11-26T13:14:29.433Z"
   },
   {
    "duration": 23,
    "start_time": "2022-11-26T13:14:29.465Z"
   },
   {
    "duration": 34,
    "start_time": "2022-11-26T13:14:29.490Z"
   },
   {
    "duration": 30,
    "start_time": "2022-11-26T13:14:29.526Z"
   },
   {
    "duration": 169,
    "start_time": "2022-11-26T13:14:29.558Z"
   },
   {
    "duration": 135,
    "start_time": "2022-11-26T13:14:29.728Z"
   },
   {
    "duration": 25,
    "start_time": "2022-11-26T13:14:29.864Z"
   },
   {
    "duration": 310,
    "start_time": "2022-11-26T13:14:29.898Z"
   },
   {
    "duration": 182,
    "start_time": "2022-11-26T13:14:30.210Z"
   },
   {
    "duration": 288,
    "start_time": "2022-11-26T13:14:30.396Z"
   },
   {
    "duration": 213,
    "start_time": "2022-11-26T13:14:30.697Z"
   },
   {
    "duration": 290,
    "start_time": "2022-11-26T13:14:30.912Z"
   },
   {
    "duration": 11,
    "start_time": "2022-11-26T13:14:31.204Z"
   },
   {
    "duration": 148,
    "start_time": "2022-11-26T13:14:31.216Z"
   },
   {
    "duration": 4,
    "start_time": "2022-11-26T13:14:31.366Z"
   },
   {
    "duration": 161,
    "start_time": "2022-11-26T13:14:31.372Z"
   },
   {
    "duration": 5,
    "start_time": "2022-11-26T13:14:31.534Z"
   },
   {
    "duration": 249,
    "start_time": "2022-11-26T13:14:31.541Z"
   },
   {
    "duration": 164,
    "start_time": "2022-11-26T13:14:31.798Z"
   },
   {
    "duration": 8,
    "start_time": "2022-11-26T13:14:31.964Z"
   },
   {
    "duration": 58,
    "start_time": "2022-11-26T13:14:31.973Z"
   },
   {
    "duration": 9,
    "start_time": "2022-11-26T13:14:32.033Z"
   },
   {
    "duration": 29,
    "start_time": "2022-11-26T13:14:32.044Z"
   },
   {
    "duration": 14,
    "start_time": "2022-11-26T13:14:32.075Z"
   },
   {
    "duration": 46,
    "start_time": "2022-11-26T13:14:32.091Z"
   },
   {
    "duration": 10,
    "start_time": "2022-11-26T13:14:32.138Z"
   },
   {
    "duration": 334,
    "start_time": "2022-11-26T13:14:32.149Z"
   },
   {
    "duration": 403,
    "start_time": "2022-11-26T13:14:32.485Z"
   },
   {
    "duration": 11,
    "start_time": "2022-11-26T13:17:44.693Z"
   },
   {
    "duration": 8,
    "start_time": "2022-11-26T13:21:46.622Z"
   },
   {
    "duration": 9,
    "start_time": "2022-11-26T13:21:59.049Z"
   },
   {
    "duration": 9,
    "start_time": "2022-11-26T13:22:10.042Z"
   },
   {
    "duration": 251,
    "start_time": "2022-11-26T13:25:26.056Z"
   },
   {
    "duration": 268,
    "start_time": "2022-11-26T13:26:10.651Z"
   },
   {
    "duration": 310,
    "start_time": "2022-11-26T13:26:25.882Z"
   },
   {
    "duration": 5,
    "start_time": "2022-11-26T13:31:54.415Z"
   },
   {
    "duration": 999,
    "start_time": "2022-11-26T15:46:32.948Z"
   },
   {
    "duration": 72,
    "start_time": "2022-11-26T15:46:33.949Z"
   },
   {
    "duration": 10,
    "start_time": "2022-11-26T15:46:34.022Z"
   },
   {
    "duration": 9,
    "start_time": "2022-11-26T15:46:34.034Z"
   },
   {
    "duration": 9,
    "start_time": "2022-11-26T15:46:34.046Z"
   },
   {
    "duration": 11,
    "start_time": "2022-11-26T15:46:34.056Z"
   },
   {
    "duration": 12,
    "start_time": "2022-11-26T15:46:34.068Z"
   },
   {
    "duration": 11,
    "start_time": "2022-11-26T15:46:34.082Z"
   },
   {
    "duration": 30,
    "start_time": "2022-11-26T15:46:34.094Z"
   },
   {
    "duration": 15,
    "start_time": "2022-11-26T15:46:34.125Z"
   },
   {
    "duration": 10,
    "start_time": "2022-11-26T15:46:34.141Z"
   },
   {
    "duration": 9,
    "start_time": "2022-11-26T15:46:34.152Z"
   },
   {
    "duration": 11,
    "start_time": "2022-11-26T15:46:34.162Z"
   },
   {
    "duration": 7,
    "start_time": "2022-11-26T15:46:34.176Z"
   },
   {
    "duration": 6,
    "start_time": "2022-11-26T15:46:34.185Z"
   },
   {
    "duration": 80,
    "start_time": "2022-11-26T15:46:34.192Z"
   },
   {
    "duration": 7,
    "start_time": "2022-11-26T15:46:34.273Z"
   },
   {
    "duration": 11,
    "start_time": "2022-11-26T15:46:34.281Z"
   },
   {
    "duration": 10,
    "start_time": "2022-11-26T15:46:34.293Z"
   },
   {
    "duration": 21,
    "start_time": "2022-11-26T15:46:34.305Z"
   },
   {
    "duration": 10,
    "start_time": "2022-11-26T15:46:34.328Z"
   },
   {
    "duration": 9,
    "start_time": "2022-11-26T15:46:34.339Z"
   },
   {
    "duration": 157,
    "start_time": "2022-11-26T15:46:34.350Z"
   },
   {
    "duration": 127,
    "start_time": "2022-11-26T15:46:34.508Z"
   },
   {
    "duration": 12,
    "start_time": "2022-11-26T15:46:34.636Z"
   },
   {
    "duration": 267,
    "start_time": "2022-11-26T15:46:34.650Z"
   },
   {
    "duration": 168,
    "start_time": "2022-11-26T15:46:34.919Z"
   },
   {
    "duration": 308,
    "start_time": "2022-11-26T15:46:35.089Z"
   },
   {
    "duration": 226,
    "start_time": "2022-11-26T15:46:35.399Z"
   },
   {
    "duration": 311,
    "start_time": "2022-11-26T15:46:35.627Z"
   },
   {
    "duration": 10,
    "start_time": "2022-11-26T15:46:35.940Z"
   },
   {
    "duration": 138,
    "start_time": "2022-11-26T15:46:35.952Z"
   },
   {
    "duration": 4,
    "start_time": "2022-11-26T15:46:36.092Z"
   },
   {
    "duration": 130,
    "start_time": "2022-11-26T15:46:36.098Z"
   },
   {
    "duration": 4,
    "start_time": "2022-11-26T15:46:36.230Z"
   },
   {
    "duration": 208,
    "start_time": "2022-11-26T15:46:36.235Z"
   },
   {
    "duration": 121,
    "start_time": "2022-11-26T15:46:36.445Z"
   },
   {
    "duration": 7,
    "start_time": "2022-11-26T15:46:36.567Z"
   },
   {
    "duration": 28,
    "start_time": "2022-11-26T15:46:36.575Z"
   },
   {
    "duration": 20,
    "start_time": "2022-11-26T15:46:36.604Z"
   },
   {
    "duration": 8,
    "start_time": "2022-11-26T15:46:36.627Z"
   },
   {
    "duration": 8,
    "start_time": "2022-11-26T15:46:36.636Z"
   },
   {
    "duration": 24,
    "start_time": "2022-11-26T15:46:36.646Z"
   },
   {
    "duration": 8,
    "start_time": "2022-11-26T15:46:36.672Z"
   },
   {
    "duration": 320,
    "start_time": "2022-11-26T15:46:36.681Z"
   },
   {
    "duration": 321,
    "start_time": "2022-11-26T15:46:37.003Z"
   },
   {
    "duration": 3,
    "start_time": "2022-11-26T15:55:41.688Z"
   },
   {
    "duration": 10,
    "start_time": "2022-11-26T15:55:56.776Z"
   },
   {
    "duration": 3,
    "start_time": "2022-11-26T15:56:56.896Z"
   },
   {
    "duration": 10,
    "start_time": "2022-11-26T15:56:58.208Z"
   },
   {
    "duration": 2,
    "start_time": "2022-11-26T15:58:45.177Z"
   },
   {
    "duration": 12,
    "start_time": "2022-11-26T15:58:45.712Z"
   },
   {
    "duration": 3,
    "start_time": "2022-11-26T15:59:32.568Z"
   },
   {
    "duration": 11,
    "start_time": "2022-11-26T15:59:33.040Z"
   },
   {
    "duration": 4,
    "start_time": "2022-11-26T16:00:42.136Z"
   },
   {
    "duration": 107,
    "start_time": "2022-11-26T16:00:42.615Z"
   },
   {
    "duration": 3,
    "start_time": "2022-11-26T16:01:08.735Z"
   },
   {
    "duration": 21,
    "start_time": "2022-11-26T16:01:09.247Z"
   },
   {
    "duration": 4,
    "start_time": "2022-11-26T16:01:25.686Z"
   },
   {
    "duration": 3,
    "start_time": "2022-11-26T16:01:34.783Z"
   },
   {
    "duration": 22,
    "start_time": "2022-11-26T16:01:35.743Z"
   },
   {
    "duration": 3,
    "start_time": "2022-11-26T16:01:56.343Z"
   },
   {
    "duration": 12,
    "start_time": "2022-11-26T16:01:56.942Z"
   },
   {
    "duration": 3,
    "start_time": "2022-11-26T16:02:03.646Z"
   },
   {
    "duration": 12,
    "start_time": "2022-11-26T16:02:04.134Z"
   },
   {
    "duration": 4,
    "start_time": "2022-11-26T16:02:38.480Z"
   },
   {
    "duration": 13,
    "start_time": "2022-11-26T16:02:39.439Z"
   },
   {
    "duration": 1030,
    "start_time": "2022-11-26T16:06:35.635Z"
   },
   {
    "duration": 71,
    "start_time": "2022-11-26T16:06:36.667Z"
   },
   {
    "duration": 10,
    "start_time": "2022-11-26T16:06:36.739Z"
   },
   {
    "duration": 19,
    "start_time": "2022-11-26T16:06:36.751Z"
   },
   {
    "duration": 15,
    "start_time": "2022-11-26T16:06:36.772Z"
   },
   {
    "duration": 12,
    "start_time": "2022-11-26T16:06:36.789Z"
   },
   {
    "duration": 7,
    "start_time": "2022-11-26T16:06:36.803Z"
   },
   {
    "duration": 10,
    "start_time": "2022-11-26T16:06:36.812Z"
   },
   {
    "duration": 6,
    "start_time": "2022-11-26T16:06:36.823Z"
   },
   {
    "duration": 10,
    "start_time": "2022-11-26T16:06:36.831Z"
   },
   {
    "duration": 11,
    "start_time": "2022-11-26T16:06:36.842Z"
   },
   {
    "duration": 9,
    "start_time": "2022-11-26T16:06:36.855Z"
   },
   {
    "duration": 13,
    "start_time": "2022-11-26T16:06:36.865Z"
   },
   {
    "duration": 6,
    "start_time": "2022-11-26T16:06:36.880Z"
   },
   {
    "duration": 8,
    "start_time": "2022-11-26T16:06:36.887Z"
   },
   {
    "duration": 60,
    "start_time": "2022-11-26T16:06:36.896Z"
   },
   {
    "duration": 5,
    "start_time": "2022-11-26T16:06:36.957Z"
   },
   {
    "duration": 11,
    "start_time": "2022-11-26T16:06:36.964Z"
   },
   {
    "duration": 12,
    "start_time": "2022-11-26T16:06:36.977Z"
   },
   {
    "duration": 14,
    "start_time": "2022-11-26T16:06:36.990Z"
   },
   {
    "duration": 17,
    "start_time": "2022-11-26T16:06:37.005Z"
   },
   {
    "duration": 11,
    "start_time": "2022-11-26T16:06:37.023Z"
   },
   {
    "duration": 13,
    "start_time": "2022-11-26T16:06:37.035Z"
   },
   {
    "duration": 151,
    "start_time": "2022-11-26T16:06:37.049Z"
   },
   {
    "duration": 109,
    "start_time": "2022-11-26T16:06:37.202Z"
   },
   {
    "duration": 17,
    "start_time": "2022-11-26T16:06:37.313Z"
   },
   {
    "duration": 269,
    "start_time": "2022-11-26T16:06:37.332Z"
   },
   {
    "duration": 185,
    "start_time": "2022-11-26T16:06:37.603Z"
   },
   {
    "duration": 299,
    "start_time": "2022-11-26T16:06:37.790Z"
   },
   {
    "duration": 203,
    "start_time": "2022-11-26T16:06:38.091Z"
   },
   {
    "duration": 308,
    "start_time": "2022-11-26T16:06:38.296Z"
   },
   {
    "duration": 17,
    "start_time": "2022-11-26T16:06:38.605Z"
   },
   {
    "duration": 137,
    "start_time": "2022-11-26T16:06:38.623Z"
   },
   {
    "duration": 4,
    "start_time": "2022-11-26T16:06:38.762Z"
   },
   {
    "duration": 144,
    "start_time": "2022-11-26T16:06:38.767Z"
   },
   {
    "duration": 4,
    "start_time": "2022-11-26T16:06:38.912Z"
   },
   {
    "duration": 216,
    "start_time": "2022-11-26T16:06:38.921Z"
   },
   {
    "duration": 146,
    "start_time": "2022-11-26T16:06:39.139Z"
   },
   {
    "duration": 7,
    "start_time": "2022-11-26T16:06:39.287Z"
   },
   {
    "duration": 36,
    "start_time": "2022-11-26T16:06:39.296Z"
   },
   {
    "duration": 11,
    "start_time": "2022-11-26T16:06:39.336Z"
   },
   {
    "duration": 10,
    "start_time": "2022-11-26T16:06:39.349Z"
   },
   {
    "duration": 9,
    "start_time": "2022-11-26T16:06:39.361Z"
   },
   {
    "duration": 54,
    "start_time": "2022-11-26T16:06:39.371Z"
   },
   {
    "duration": 9,
    "start_time": "2022-11-26T16:06:39.426Z"
   },
   {
    "duration": 272,
    "start_time": "2022-11-26T16:06:39.437Z"
   },
   {
    "duration": 344,
    "start_time": "2022-11-26T16:06:39.711Z"
   },
   {
    "duration": 1012,
    "start_time": "2022-11-26T16:10:08.185Z"
   },
   {
    "duration": 71,
    "start_time": "2022-11-26T16:10:09.199Z"
   },
   {
    "duration": 10,
    "start_time": "2022-11-26T16:10:09.272Z"
   },
   {
    "duration": 9,
    "start_time": "2022-11-26T16:10:09.284Z"
   },
   {
    "duration": 13,
    "start_time": "2022-11-26T16:10:09.295Z"
   },
   {
    "duration": 17,
    "start_time": "2022-11-26T16:10:09.309Z"
   },
   {
    "duration": 6,
    "start_time": "2022-11-26T16:10:09.327Z"
   },
   {
    "duration": 18,
    "start_time": "2022-11-26T16:10:09.334Z"
   },
   {
    "duration": 7,
    "start_time": "2022-11-26T16:10:09.353Z"
   },
   {
    "duration": 14,
    "start_time": "2022-11-26T16:10:09.362Z"
   },
   {
    "duration": 8,
    "start_time": "2022-11-26T16:10:09.377Z"
   },
   {
    "duration": 6,
    "start_time": "2022-11-26T16:10:09.386Z"
   },
   {
    "duration": 30,
    "start_time": "2022-11-26T16:10:09.393Z"
   },
   {
    "duration": 7,
    "start_time": "2022-11-26T16:10:09.424Z"
   },
   {
    "duration": 8,
    "start_time": "2022-11-26T16:10:09.432Z"
   },
   {
    "duration": 6,
    "start_time": "2022-11-26T16:10:09.442Z"
   },
   {
    "duration": 5,
    "start_time": "2022-11-26T16:10:09.450Z"
   },
   {
    "duration": 5,
    "start_time": "2022-11-26T16:10:09.457Z"
   },
   {
    "duration": 11,
    "start_time": "2022-11-26T16:10:09.463Z"
   },
   {
    "duration": 10,
    "start_time": "2022-11-26T16:10:09.475Z"
   },
   {
    "duration": 35,
    "start_time": "2022-11-26T16:10:09.486Z"
   },
   {
    "duration": 159,
    "start_time": "2022-11-26T16:10:09.523Z"
   },
   {
    "duration": 119,
    "start_time": "2022-11-26T16:10:09.684Z"
   },
   {
    "duration": 22,
    "start_time": "2022-11-26T16:10:09.804Z"
   },
   {
    "duration": 274,
    "start_time": "2022-11-26T16:10:09.827Z"
   },
   {
    "duration": 172,
    "start_time": "2022-11-26T16:10:10.103Z"
   },
   {
    "duration": 302,
    "start_time": "2022-11-26T16:10:10.277Z"
   },
   {
    "duration": 230,
    "start_time": "2022-11-26T16:10:10.583Z"
   },
   {
    "duration": 303,
    "start_time": "2022-11-26T16:10:10.820Z"
   },
   {
    "duration": 10,
    "start_time": "2022-11-26T16:10:11.124Z"
   },
   {
    "duration": 129,
    "start_time": "2022-11-26T16:10:11.135Z"
   },
   {
    "duration": 4,
    "start_time": "2022-11-26T16:10:11.266Z"
   },
   {
    "duration": 150,
    "start_time": "2022-11-26T16:10:11.271Z"
   },
   {
    "duration": 3,
    "start_time": "2022-11-26T16:10:11.423Z"
   },
   {
    "duration": 225,
    "start_time": "2022-11-26T16:10:11.428Z"
   },
   {
    "duration": 128,
    "start_time": "2022-11-26T16:10:11.655Z"
   },
   {
    "duration": 5,
    "start_time": "2022-11-26T16:10:11.785Z"
   },
   {
    "duration": 45,
    "start_time": "2022-11-26T16:10:11.792Z"
   },
   {
    "duration": 10,
    "start_time": "2022-11-26T16:10:11.839Z"
   },
   {
    "duration": 16,
    "start_time": "2022-11-26T16:10:11.851Z"
   },
   {
    "duration": 27,
    "start_time": "2022-11-26T16:10:11.869Z"
   },
   {
    "duration": 27,
    "start_time": "2022-11-26T16:10:11.897Z"
   },
   {
    "duration": 10,
    "start_time": "2022-11-26T16:10:11.925Z"
   },
   {
    "duration": 360,
    "start_time": "2022-11-26T16:10:11.936Z"
   },
   {
    "duration": 350,
    "start_time": "2022-11-26T16:10:12.298Z"
   },
   {
    "duration": 1046,
    "start_time": "2022-11-26T16:11:45.209Z"
   },
   {
    "duration": 72,
    "start_time": "2022-11-26T16:11:46.257Z"
   },
   {
    "duration": 9,
    "start_time": "2022-11-26T16:11:46.331Z"
   },
   {
    "duration": 11,
    "start_time": "2022-11-26T16:11:46.342Z"
   },
   {
    "duration": 19,
    "start_time": "2022-11-26T16:11:46.354Z"
   },
   {
    "duration": 18,
    "start_time": "2022-11-26T16:11:46.375Z"
   },
   {
    "duration": 11,
    "start_time": "2022-11-26T16:11:46.394Z"
   },
   {
    "duration": 17,
    "start_time": "2022-11-26T16:11:46.407Z"
   },
   {
    "duration": 10,
    "start_time": "2022-11-26T16:11:46.425Z"
   },
   {
    "duration": 10,
    "start_time": "2022-11-26T16:11:46.437Z"
   },
   {
    "duration": 12,
    "start_time": "2022-11-26T16:11:46.448Z"
   },
   {
    "duration": 13,
    "start_time": "2022-11-26T16:11:46.461Z"
   },
   {
    "duration": 16,
    "start_time": "2022-11-26T16:11:46.476Z"
   },
   {
    "duration": 6,
    "start_time": "2022-11-26T16:11:46.493Z"
   },
   {
    "duration": 6,
    "start_time": "2022-11-26T16:11:46.501Z"
   },
   {
    "duration": 60,
    "start_time": "2022-11-26T16:11:46.508Z"
   },
   {
    "duration": 5,
    "start_time": "2022-11-26T16:11:46.570Z"
   },
   {
    "duration": 6,
    "start_time": "2022-11-26T16:11:46.576Z"
   },
   {
    "duration": 10,
    "start_time": "2022-11-26T16:11:46.584Z"
   },
   {
    "duration": 11,
    "start_time": "2022-11-26T16:11:46.595Z"
   },
   {
    "duration": 10,
    "start_time": "2022-11-26T16:11:46.621Z"
   },
   {
    "duration": 8,
    "start_time": "2022-11-26T16:11:46.632Z"
   },
   {
    "duration": 161,
    "start_time": "2022-11-26T16:11:46.641Z"
   },
   {
    "duration": 129,
    "start_time": "2022-11-26T16:11:46.803Z"
   },
   {
    "duration": 10,
    "start_time": "2022-11-26T16:11:46.933Z"
   },
   {
    "duration": 276,
    "start_time": "2022-11-26T16:11:46.945Z"
   },
   {
    "duration": 183,
    "start_time": "2022-11-26T16:11:47.223Z"
   },
   {
    "duration": 318,
    "start_time": "2022-11-26T16:11:47.410Z"
   },
   {
    "duration": 197,
    "start_time": "2022-11-26T16:11:47.730Z"
   },
   {
    "duration": 295,
    "start_time": "2022-11-26T16:11:47.928Z"
   },
   {
    "duration": 10,
    "start_time": "2022-11-26T16:11:48.225Z"
   },
   {
    "duration": 137,
    "start_time": "2022-11-26T16:11:48.236Z"
   },
   {
    "duration": 4,
    "start_time": "2022-11-26T16:11:48.374Z"
   },
   {
    "duration": 137,
    "start_time": "2022-11-26T16:11:48.380Z"
   },
   {
    "duration": 4,
    "start_time": "2022-11-26T16:11:48.520Z"
   },
   {
    "duration": 223,
    "start_time": "2022-11-26T16:11:48.526Z"
   },
   {
    "duration": 138,
    "start_time": "2022-11-26T16:11:48.750Z"
   },
   {
    "duration": 6,
    "start_time": "2022-11-26T16:11:48.889Z"
   },
   {
    "duration": 37,
    "start_time": "2022-11-26T16:11:48.896Z"
   },
   {
    "duration": 10,
    "start_time": "2022-11-26T16:11:48.934Z"
   },
   {
    "duration": 8,
    "start_time": "2022-11-26T16:11:48.945Z"
   },
   {
    "duration": 8,
    "start_time": "2022-11-26T16:11:48.955Z"
   },
   {
    "duration": 23,
    "start_time": "2022-11-26T16:11:48.964Z"
   },
   {
    "duration": 33,
    "start_time": "2022-11-26T16:11:48.988Z"
   },
   {
    "duration": 299,
    "start_time": "2022-11-26T16:11:49.023Z"
   },
   {
    "duration": 342,
    "start_time": "2022-11-26T16:11:49.324Z"
   },
   {
    "duration": 983,
    "start_time": "2022-11-26T16:12:34.074Z"
   },
   {
    "duration": 76,
    "start_time": "2022-11-26T16:12:35.059Z"
   },
   {
    "duration": 11,
    "start_time": "2022-11-26T16:12:35.136Z"
   },
   {
    "duration": 10,
    "start_time": "2022-11-26T16:12:35.149Z"
   },
   {
    "duration": 9,
    "start_time": "2022-11-26T16:12:35.160Z"
   },
   {
    "duration": 15,
    "start_time": "2022-11-26T16:12:35.170Z"
   },
   {
    "duration": 8,
    "start_time": "2022-11-26T16:12:35.187Z"
   },
   {
    "duration": 12,
    "start_time": "2022-11-26T16:12:35.196Z"
   },
   {
    "duration": 13,
    "start_time": "2022-11-26T16:12:35.210Z"
   },
   {
    "duration": 15,
    "start_time": "2022-11-26T16:12:35.225Z"
   },
   {
    "duration": 9,
    "start_time": "2022-11-26T16:12:35.241Z"
   },
   {
    "duration": 7,
    "start_time": "2022-11-26T16:12:35.251Z"
   },
   {
    "duration": 10,
    "start_time": "2022-11-26T16:12:35.260Z"
   },
   {
    "duration": 7,
    "start_time": "2022-11-26T16:12:35.272Z"
   },
   {
    "duration": 8,
    "start_time": "2022-11-26T16:12:35.280Z"
   },
   {
    "duration": 8,
    "start_time": "2022-11-26T16:12:35.289Z"
   },
   {
    "duration": 64,
    "start_time": "2022-11-26T16:12:35.321Z"
   },
   {
    "duration": 7,
    "start_time": "2022-11-26T16:12:35.387Z"
   },
   {
    "duration": 29,
    "start_time": "2022-11-26T16:12:35.396Z"
   },
   {
    "duration": 9,
    "start_time": "2022-11-26T16:12:35.427Z"
   },
   {
    "duration": 11,
    "start_time": "2022-11-26T16:12:35.438Z"
   },
   {
    "duration": 19,
    "start_time": "2022-11-26T16:12:35.451Z"
   },
   {
    "duration": 19,
    "start_time": "2022-11-26T16:12:35.472Z"
   },
   {
    "duration": 11,
    "start_time": "2022-11-26T16:12:35.493Z"
   },
   {
    "duration": 162,
    "start_time": "2022-11-26T16:12:35.506Z"
   },
   {
    "duration": 115,
    "start_time": "2022-11-26T16:12:35.669Z"
   },
   {
    "duration": 10,
    "start_time": "2022-11-26T16:12:35.786Z"
   },
   {
    "duration": 268,
    "start_time": "2022-11-26T16:12:35.799Z"
   },
   {
    "duration": 181,
    "start_time": "2022-11-26T16:12:36.069Z"
   },
   {
    "duration": 280,
    "start_time": "2022-11-26T16:12:36.252Z"
   },
   {
    "duration": 205,
    "start_time": "2022-11-26T16:12:36.533Z"
   },
   {
    "duration": 283,
    "start_time": "2022-11-26T16:12:36.740Z"
   },
   {
    "duration": 11,
    "start_time": "2022-11-26T16:12:37.024Z"
   },
   {
    "duration": 133,
    "start_time": "2022-11-26T16:12:37.037Z"
   },
   {
    "duration": 4,
    "start_time": "2022-11-26T16:12:37.172Z"
   },
   {
    "duration": 135,
    "start_time": "2022-11-26T16:12:37.177Z"
   },
   {
    "duration": 10,
    "start_time": "2022-11-26T16:12:37.313Z"
   },
   {
    "duration": 218,
    "start_time": "2022-11-26T16:12:37.324Z"
   },
   {
    "duration": 134,
    "start_time": "2022-11-26T16:12:37.543Z"
   },
   {
    "duration": 6,
    "start_time": "2022-11-26T16:12:37.678Z"
   },
   {
    "duration": 37,
    "start_time": "2022-11-26T16:12:37.686Z"
   },
   {
    "duration": 9,
    "start_time": "2022-11-26T16:12:37.725Z"
   },
   {
    "duration": 9,
    "start_time": "2022-11-26T16:12:37.736Z"
   },
   {
    "duration": 8,
    "start_time": "2022-11-26T16:12:37.746Z"
   },
   {
    "duration": 26,
    "start_time": "2022-11-26T16:12:37.755Z"
   },
   {
    "duration": 9,
    "start_time": "2022-11-26T16:12:37.782Z"
   },
   {
    "duration": 314,
    "start_time": "2022-11-26T16:12:37.792Z"
   },
   {
    "duration": 355,
    "start_time": "2022-11-26T16:12:38.108Z"
   },
   {
    "duration": 1087,
    "start_time": "2022-11-26T16:24:07.400Z"
   },
   {
    "duration": 72,
    "start_time": "2022-11-26T16:24:08.489Z"
   },
   {
    "duration": 16,
    "start_time": "2022-11-26T16:24:08.562Z"
   },
   {
    "duration": 12,
    "start_time": "2022-11-26T16:24:08.579Z"
   },
   {
    "duration": 16,
    "start_time": "2022-11-26T16:24:08.594Z"
   },
   {
    "duration": 16,
    "start_time": "2022-11-26T16:24:08.612Z"
   },
   {
    "duration": 8,
    "start_time": "2022-11-26T16:24:08.630Z"
   },
   {
    "duration": 11,
    "start_time": "2022-11-26T16:24:08.640Z"
   },
   {
    "duration": 7,
    "start_time": "2022-11-26T16:24:08.652Z"
   },
   {
    "duration": 10,
    "start_time": "2022-11-26T16:24:08.660Z"
   },
   {
    "duration": 14,
    "start_time": "2022-11-26T16:24:08.671Z"
   },
   {
    "duration": 9,
    "start_time": "2022-11-26T16:24:08.686Z"
   },
   {
    "duration": 29,
    "start_time": "2022-11-26T16:24:08.696Z"
   },
   {
    "duration": 7,
    "start_time": "2022-11-26T16:24:08.728Z"
   },
   {
    "duration": 9,
    "start_time": "2022-11-26T16:24:08.737Z"
   },
   {
    "duration": 73,
    "start_time": "2022-11-26T16:24:08.748Z"
   },
   {
    "duration": 6,
    "start_time": "2022-11-26T16:24:08.823Z"
   },
   {
    "duration": 7,
    "start_time": "2022-11-26T16:24:08.831Z"
   },
   {
    "duration": 13,
    "start_time": "2022-11-26T16:24:08.839Z"
   },
   {
    "duration": 19,
    "start_time": "2022-11-26T16:24:08.853Z"
   },
   {
    "duration": 9,
    "start_time": "2022-11-26T16:24:08.874Z"
   },
   {
    "duration": 7,
    "start_time": "2022-11-26T16:24:08.885Z"
   },
   {
    "duration": 174,
    "start_time": "2022-11-26T16:24:08.894Z"
   },
   {
    "duration": 114,
    "start_time": "2022-11-26T16:24:09.069Z"
   },
   {
    "duration": 11,
    "start_time": "2022-11-26T16:24:09.185Z"
   },
   {
    "duration": 281,
    "start_time": "2022-11-26T16:24:09.198Z"
   },
   {
    "duration": 179,
    "start_time": "2022-11-26T16:24:09.480Z"
   },
   {
    "duration": 283,
    "start_time": "2022-11-26T16:24:09.661Z"
   },
   {
    "duration": 212,
    "start_time": "2022-11-26T16:24:09.945Z"
   },
   {
    "duration": 283,
    "start_time": "2022-11-26T16:24:10.159Z"
   },
   {
    "duration": 16,
    "start_time": "2022-11-26T16:24:10.444Z"
   },
   {
    "duration": 146,
    "start_time": "2022-11-26T16:24:10.462Z"
   },
   {
    "duration": 14,
    "start_time": "2022-11-26T16:24:10.609Z"
   },
   {
    "duration": 135,
    "start_time": "2022-11-26T16:24:10.625Z"
   },
   {
    "duration": 5,
    "start_time": "2022-11-26T16:24:10.761Z"
   },
   {
    "duration": 223,
    "start_time": "2022-11-26T16:24:10.768Z"
   },
   {
    "duration": 135,
    "start_time": "2022-11-26T16:24:10.993Z"
   },
   {
    "duration": 7,
    "start_time": "2022-11-26T16:24:11.130Z"
   },
   {
    "duration": 48,
    "start_time": "2022-11-26T16:24:11.138Z"
   },
   {
    "duration": 9,
    "start_time": "2022-11-26T16:24:11.188Z"
   },
   {
    "duration": 11,
    "start_time": "2022-11-26T16:24:11.201Z"
   },
   {
    "duration": 11,
    "start_time": "2022-11-26T16:24:11.213Z"
   },
   {
    "duration": 55,
    "start_time": "2022-11-26T16:24:11.225Z"
   },
   {
    "duration": 8,
    "start_time": "2022-11-26T16:24:11.282Z"
   },
   {
    "duration": 330,
    "start_time": "2022-11-26T16:24:11.292Z"
   },
   {
    "duration": 384,
    "start_time": "2022-11-26T16:24:11.624Z"
   },
   {
    "duration": 86,
    "start_time": "2022-11-26T16:57:41.142Z"
   },
   {
    "duration": 3,
    "start_time": "2022-11-26T16:57:47.899Z"
   },
   {
    "duration": 13,
    "start_time": "2022-11-26T16:57:49.028Z"
   },
   {
    "duration": 1104,
    "start_time": "2022-11-26T16:59:29.611Z"
   },
   {
    "duration": 83,
    "start_time": "2022-11-26T16:59:30.717Z"
   },
   {
    "duration": 11,
    "start_time": "2022-11-26T16:59:30.802Z"
   },
   {
    "duration": 40,
    "start_time": "2022-11-26T16:59:30.815Z"
   },
   {
    "duration": 13,
    "start_time": "2022-11-26T16:59:30.857Z"
   },
   {
    "duration": 22,
    "start_time": "2022-11-26T16:59:30.872Z"
   },
   {
    "duration": 14,
    "start_time": "2022-11-26T16:59:30.895Z"
   },
   {
    "duration": 20,
    "start_time": "2022-11-26T16:59:30.911Z"
   },
   {
    "duration": 16,
    "start_time": "2022-11-26T16:59:30.933Z"
   },
   {
    "duration": 19,
    "start_time": "2022-11-26T16:59:30.951Z"
   },
   {
    "duration": 11,
    "start_time": "2022-11-26T16:59:30.971Z"
   },
   {
    "duration": 18,
    "start_time": "2022-11-26T16:59:30.983Z"
   },
   {
    "duration": 20,
    "start_time": "2022-11-26T16:59:31.003Z"
   },
   {
    "duration": 31,
    "start_time": "2022-11-26T16:59:31.024Z"
   },
   {
    "duration": 19,
    "start_time": "2022-11-26T16:59:31.057Z"
   },
   {
    "duration": 59,
    "start_time": "2022-11-26T16:59:31.078Z"
   },
   {
    "duration": 5,
    "start_time": "2022-11-26T16:59:31.139Z"
   },
   {
    "duration": 18,
    "start_time": "2022-11-26T16:59:31.145Z"
   },
   {
    "duration": 11,
    "start_time": "2022-11-26T16:59:31.165Z"
   },
   {
    "duration": 28,
    "start_time": "2022-11-26T16:59:31.177Z"
   },
   {
    "duration": 30,
    "start_time": "2022-11-26T16:59:31.207Z"
   },
   {
    "duration": 39,
    "start_time": "2022-11-26T16:59:31.239Z"
   },
   {
    "duration": 149,
    "start_time": "2022-11-26T16:59:31.279Z"
   },
   {
    "duration": 107,
    "start_time": "2022-11-26T16:59:31.430Z"
   },
   {
    "duration": 11,
    "start_time": "2022-11-26T16:59:31.538Z"
   },
   {
    "duration": 257,
    "start_time": "2022-11-26T16:59:31.550Z"
   },
   {
    "duration": 175,
    "start_time": "2022-11-26T16:59:31.808Z"
   },
   {
    "duration": 284,
    "start_time": "2022-11-26T16:59:31.986Z"
   },
   {
    "duration": 197,
    "start_time": "2022-11-26T16:59:32.271Z"
   },
   {
    "duration": 296,
    "start_time": "2022-11-26T16:59:32.470Z"
   },
   {
    "duration": 17,
    "start_time": "2022-11-26T16:59:32.768Z"
   },
   {
    "duration": 142,
    "start_time": "2022-11-26T16:59:32.787Z"
   },
   {
    "duration": 4,
    "start_time": "2022-11-26T16:59:32.931Z"
   },
   {
    "duration": 138,
    "start_time": "2022-11-26T16:59:32.936Z"
   },
   {
    "duration": 4,
    "start_time": "2022-11-26T16:59:33.075Z"
   },
   {
    "duration": 236,
    "start_time": "2022-11-26T16:59:33.080Z"
   },
   {
    "duration": 134,
    "start_time": "2022-11-26T16:59:33.319Z"
   },
   {
    "duration": 6,
    "start_time": "2022-11-26T16:59:33.454Z"
   },
   {
    "duration": 39,
    "start_time": "2022-11-26T16:59:33.462Z"
   },
   {
    "duration": 9,
    "start_time": "2022-11-26T16:59:33.503Z"
   },
   {
    "duration": 8,
    "start_time": "2022-11-26T16:59:33.513Z"
   },
   {
    "duration": 8,
    "start_time": "2022-11-26T16:59:33.523Z"
   },
   {
    "duration": 22,
    "start_time": "2022-11-26T16:59:33.533Z"
   },
   {
    "duration": 41,
    "start_time": "2022-11-26T16:59:33.556Z"
   },
   {
    "duration": 273,
    "start_time": "2022-11-26T16:59:33.599Z"
   },
   {
    "duration": 340,
    "start_time": "2022-11-26T16:59:33.874Z"
   },
   {
    "duration": 1161,
    "start_time": "2022-11-27T03:58:20.350Z"
   },
   {
    "duration": 76,
    "start_time": "2022-11-27T03:58:21.513Z"
   },
   {
    "duration": 11,
    "start_time": "2022-11-27T03:58:21.591Z"
   },
   {
    "duration": 12,
    "start_time": "2022-11-27T03:58:21.603Z"
   },
   {
    "duration": 9,
    "start_time": "2022-11-27T03:58:21.618Z"
   },
   {
    "duration": 11,
    "start_time": "2022-11-27T03:58:21.629Z"
   },
   {
    "duration": 9,
    "start_time": "2022-11-27T03:58:21.642Z"
   },
   {
    "duration": 13,
    "start_time": "2022-11-27T03:58:21.653Z"
   },
   {
    "duration": 5,
    "start_time": "2022-11-27T03:58:21.667Z"
   },
   {
    "duration": 10,
    "start_time": "2022-11-27T03:58:21.674Z"
   },
   {
    "duration": 8,
    "start_time": "2022-11-27T03:58:21.686Z"
   },
   {
    "duration": 7,
    "start_time": "2022-11-27T03:58:21.696Z"
   },
   {
    "duration": 47,
    "start_time": "2022-11-27T03:58:21.704Z"
   },
   {
    "duration": 7,
    "start_time": "2022-11-27T03:58:21.755Z"
   },
   {
    "duration": 8,
    "start_time": "2022-11-27T03:58:21.763Z"
   },
   {
    "duration": 78,
    "start_time": "2022-11-27T03:58:21.773Z"
   },
   {
    "duration": 6,
    "start_time": "2022-11-27T03:58:21.853Z"
   },
   {
    "duration": 9,
    "start_time": "2022-11-27T03:58:21.861Z"
   },
   {
    "duration": 9,
    "start_time": "2022-11-27T03:58:21.871Z"
   },
   {
    "duration": 10,
    "start_time": "2022-11-27T03:58:21.882Z"
   },
   {
    "duration": 9,
    "start_time": "2022-11-27T03:58:21.894Z"
   },
   {
    "duration": 13,
    "start_time": "2022-11-27T03:58:21.905Z"
   },
   {
    "duration": 192,
    "start_time": "2022-11-27T03:58:21.919Z"
   },
   {
    "duration": 146,
    "start_time": "2022-11-27T03:58:22.113Z"
   },
   {
    "duration": 12,
    "start_time": "2022-11-27T03:58:22.261Z"
   },
   {
    "duration": 314,
    "start_time": "2022-11-27T03:58:22.276Z"
   },
   {
    "duration": 232,
    "start_time": "2022-11-27T03:58:22.592Z"
   },
   {
    "duration": 335,
    "start_time": "2022-11-27T03:58:22.827Z"
   },
   {
    "duration": 232,
    "start_time": "2022-11-27T03:58:23.164Z"
   },
   {
    "duration": 284,
    "start_time": "2022-11-27T03:58:23.397Z"
   },
   {
    "duration": 13,
    "start_time": "2022-11-27T03:58:23.683Z"
   },
   {
    "duration": 165,
    "start_time": "2022-11-27T03:58:23.698Z"
   },
   {
    "duration": 4,
    "start_time": "2022-11-27T03:58:23.865Z"
   },
   {
    "duration": 157,
    "start_time": "2022-11-27T03:58:23.871Z"
   },
   {
    "duration": 4,
    "start_time": "2022-11-27T03:58:24.030Z"
   },
   {
    "duration": 234,
    "start_time": "2022-11-27T03:58:24.050Z"
   },
   {
    "duration": 137,
    "start_time": "2022-11-27T03:58:24.285Z"
   },
   {
    "duration": 6,
    "start_time": "2022-11-27T03:58:24.424Z"
   },
   {
    "duration": 40,
    "start_time": "2022-11-27T03:58:24.432Z"
   },
   {
    "duration": 11,
    "start_time": "2022-11-27T03:58:24.474Z"
   },
   {
    "duration": 10,
    "start_time": "2022-11-27T03:58:24.489Z"
   },
   {
    "duration": 17,
    "start_time": "2022-11-27T03:58:24.501Z"
   },
   {
    "duration": 47,
    "start_time": "2022-11-27T03:58:24.520Z"
   },
   {
    "duration": 10,
    "start_time": "2022-11-27T03:58:24.569Z"
   },
   {
    "duration": 285,
    "start_time": "2022-11-27T03:58:24.581Z"
   },
   {
    "duration": 389,
    "start_time": "2022-11-27T03:58:24.868Z"
   },
   {
    "duration": 1184,
    "start_time": "2022-11-27T04:14:02.336Z"
   },
   {
    "duration": 75,
    "start_time": "2022-11-27T04:14:03.523Z"
   },
   {
    "duration": 12,
    "start_time": "2022-11-27T04:14:03.601Z"
   },
   {
    "duration": 11,
    "start_time": "2022-11-27T04:14:03.614Z"
   },
   {
    "duration": 9,
    "start_time": "2022-11-27T04:14:03.628Z"
   },
   {
    "duration": 13,
    "start_time": "2022-11-27T04:14:03.639Z"
   },
   {
    "duration": 9,
    "start_time": "2022-11-27T04:14:03.654Z"
   },
   {
    "duration": 12,
    "start_time": "2022-11-27T04:14:03.665Z"
   },
   {
    "duration": 6,
    "start_time": "2022-11-27T04:14:03.679Z"
   },
   {
    "duration": 10,
    "start_time": "2022-11-27T04:14:03.687Z"
   },
   {
    "duration": 11,
    "start_time": "2022-11-27T04:14:03.699Z"
   },
   {
    "duration": 38,
    "start_time": "2022-11-27T04:14:03.713Z"
   },
   {
    "duration": 15,
    "start_time": "2022-11-27T04:14:03.754Z"
   },
   {
    "duration": 10,
    "start_time": "2022-11-27T04:14:03.774Z"
   },
   {
    "duration": 11,
    "start_time": "2022-11-27T04:14:03.786Z"
   },
   {
    "duration": 88,
    "start_time": "2022-11-27T04:14:03.800Z"
   },
   {
    "duration": 8,
    "start_time": "2022-11-27T04:14:03.890Z"
   },
   {
    "duration": 7,
    "start_time": "2022-11-27T04:14:03.900Z"
   },
   {
    "duration": 12,
    "start_time": "2022-11-27T04:14:03.909Z"
   },
   {
    "duration": 29,
    "start_time": "2022-11-27T04:14:03.923Z"
   },
   {
    "duration": 11,
    "start_time": "2022-11-27T04:14:03.954Z"
   },
   {
    "duration": 8,
    "start_time": "2022-11-27T04:14:03.967Z"
   },
   {
    "duration": 189,
    "start_time": "2022-11-27T04:14:03.977Z"
   },
   {
    "duration": 133,
    "start_time": "2022-11-27T04:14:04.169Z"
   },
   {
    "duration": 14,
    "start_time": "2022-11-27T04:14:04.304Z"
   },
   {
    "duration": 320,
    "start_time": "2022-11-27T04:14:04.320Z"
   },
   {
    "duration": 231,
    "start_time": "2022-11-27T04:14:04.641Z"
   },
   {
    "duration": 312,
    "start_time": "2022-11-27T04:14:04.874Z"
   },
   {
    "duration": 249,
    "start_time": "2022-11-27T04:14:05.189Z"
   },
   {
    "duration": 338,
    "start_time": "2022-11-27T04:14:05.439Z"
   },
   {
    "duration": 12,
    "start_time": "2022-11-27T04:14:05.779Z"
   },
   {
    "duration": 169,
    "start_time": "2022-11-27T04:14:05.792Z"
   },
   {
    "duration": 4,
    "start_time": "2022-11-27T04:14:05.963Z"
   },
   {
    "duration": 156,
    "start_time": "2022-11-27T04:14:05.969Z"
   },
   {
    "duration": 4,
    "start_time": "2022-11-27T04:14:06.127Z"
   },
   {
    "duration": 259,
    "start_time": "2022-11-27T04:14:06.133Z"
   },
   {
    "duration": 138,
    "start_time": "2022-11-27T04:14:06.394Z"
   },
   {
    "duration": 22,
    "start_time": "2022-11-27T04:14:06.534Z"
   },
   {
    "duration": 29,
    "start_time": "2022-11-27T04:14:06.558Z"
   },
   {
    "duration": 12,
    "start_time": "2022-11-27T04:14:06.589Z"
   },
   {
    "duration": 10,
    "start_time": "2022-11-27T04:14:06.605Z"
   },
   {
    "duration": 37,
    "start_time": "2022-11-27T04:14:06.617Z"
   },
   {
    "duration": 29,
    "start_time": "2022-11-27T04:14:06.656Z"
   },
   {
    "duration": 11,
    "start_time": "2022-11-27T04:14:06.687Z"
   },
   {
    "duration": 365,
    "start_time": "2022-11-27T04:14:06.700Z"
   },
   {
    "duration": 399,
    "start_time": "2022-11-27T04:14:07.067Z"
   }
  ],
  "kernelspec": {
   "display_name": "Python 3 (ipykernel)",
   "language": "python",
   "name": "python3"
  },
  "language_info": {
   "codemirror_mode": {
    "name": "ipython",
    "version": 3
   },
   "file_extension": ".py",
   "mimetype": "text/x-python",
   "name": "python",
   "nbconvert_exporter": "python",
   "pygments_lexer": "ipython3",
   "version": "3.9.12"
  },
  "toc": {
   "base_numbering": 1,
   "nav_menu": {},
   "number_sections": true,
   "sideBar": true,
   "skip_h1_title": true,
   "title_cell": "Table of Contents",
   "title_sidebar": "Contents",
   "toc_cell": false,
   "toc_position": {},
   "toc_section_display": true,
   "toc_window_display": false
  }
 },
 "nbformat": 4,
 "nbformat_minor": 2
}
