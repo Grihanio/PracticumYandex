{
 "cells": [
  {
   "cell_type": "markdown",
   "metadata": {},
   "source": [
    "# Проект по SQL"
   ]
  },
  {
   "cell_type": "markdown",
   "metadata": {},
   "source": [
    "Ваша компания решила быть на волне и купила крупный сервис для чтения книг по подписке. Ваша первая задача как аналитика — проанализировать базу данных.\n",
    "В ней — информация о книгах, издательствах, авторах, а также пользовательские обзоры книг. Эти данные помогут сформулировать ценностное предложение для нового продукта.\n",
    "\n",
    "**Цель** - проанализировать базу данных для составления ценностного предложения нового продукта. Для этого необходимо решить несколько нижепредставленных задач.\n",
    "\n",
    "**Задачи:**\n",
    "- Посчитайте, сколько книг вышло после 1 января 2000 года;\n",
    "- Для каждой книги посчитайте количество обзоров и среднюю оценку;\n",
    "- Определите издательство, которое выпустило наибольшее число книг толще 50 страниц — так вы исключите из анализа брошюры;\n",
    "- Определите автора с самой высокой средней оценкой книг — учитывайте только книги с 50 и более оценками;\n",
    "- Посчитайте среднее количество обзоров от пользователей, которые поставили больше 50 оценок."
   ]
  },
  {
   "cell_type": "markdown",
   "metadata": {},
   "source": [
    "## Подключение к базе данных"
   ]
  },
  {
   "cell_type": "code",
   "execution_count": 1,
   "metadata": {},
   "outputs": [],
   "source": [
    "import pandas as pd\n",
    "from sqlalchemy import create_engine "
   ]
  },
  {
   "cell_type": "code",
   "execution_count": 2,
   "metadata": {},
   "outputs": [],
   "source": [
    "db_config = {'user': 'praktikum_student', # имя пользователя\n",
    "'pwd': 'Sdf4$2;d-d30pp', # пароль\n",
    "'host': 'rc1b-wcoijxj3yxfsf3fs.mdb.yandexcloud.net',\n",
    "'port': 6432, # порт подключения\n",
    "'db': 'data-analyst-final-project-db'} # название базы данных\n",
    "connection_string = 'postgresql://{}:{}@{}:{}/{}'.format(db_config['user'],\n",
    " db_config['pwd'],\n",
    " db_config['host'],\n",
    " db_config['port'],\n",
    " db_config['db']) "
   ]
  },
  {
   "cell_type": "code",
   "execution_count": 3,
   "metadata": {},
   "outputs": [],
   "source": [
    "engine = create_engine(connection_string, connect_args={'sslmode':'require'}) "
   ]
  },
  {
   "cell_type": "markdown",
   "metadata": {},
   "source": [
    "## Исследование таблиц"
   ]
  },
  {
   "cell_type": "markdown",
   "metadata": {},
   "source": [
    "Выведем первые 5 строк каждой таблицы из нашей базы данных."
   ]
  },
  {
   "cell_type": "markdown",
   "metadata": {},
   "source": [
    "**Books**"
   ]
  },
  {
   "cell_type": "code",
   "execution_count": 4,
   "metadata": {},
   "outputs": [
    {
     "data": {
      "text/html": [
       "<div>\n",
       "<style scoped>\n",
       "    .dataframe tbody tr th:only-of-type {\n",
       "        vertical-align: middle;\n",
       "    }\n",
       "\n",
       "    .dataframe tbody tr th {\n",
       "        vertical-align: top;\n",
       "    }\n",
       "\n",
       "    .dataframe thead th {\n",
       "        text-align: right;\n",
       "    }\n",
       "</style>\n",
       "<table border=\"1\" class=\"dataframe\">\n",
       "  <thead>\n",
       "    <tr style=\"text-align: right;\">\n",
       "      <th></th>\n",
       "      <th>book_id</th>\n",
       "      <th>author_id</th>\n",
       "      <th>title</th>\n",
       "      <th>num_pages</th>\n",
       "      <th>publication_date</th>\n",
       "      <th>publisher_id</th>\n",
       "    </tr>\n",
       "  </thead>\n",
       "  <tbody>\n",
       "    <tr>\n",
       "      <th>0</th>\n",
       "      <td>1</td>\n",
       "      <td>546</td>\n",
       "      <td>'Salem's Lot</td>\n",
       "      <td>594</td>\n",
       "      <td>2005-11-01</td>\n",
       "      <td>93</td>\n",
       "    </tr>\n",
       "    <tr>\n",
       "      <th>1</th>\n",
       "      <td>2</td>\n",
       "      <td>465</td>\n",
       "      <td>1 000 Places to See Before You Die</td>\n",
       "      <td>992</td>\n",
       "      <td>2003-05-22</td>\n",
       "      <td>336</td>\n",
       "    </tr>\n",
       "    <tr>\n",
       "      <th>2</th>\n",
       "      <td>3</td>\n",
       "      <td>407</td>\n",
       "      <td>13 Little Blue Envelopes (Little Blue Envelope...</td>\n",
       "      <td>322</td>\n",
       "      <td>2010-12-21</td>\n",
       "      <td>135</td>\n",
       "    </tr>\n",
       "    <tr>\n",
       "      <th>3</th>\n",
       "      <td>4</td>\n",
       "      <td>82</td>\n",
       "      <td>1491: New Revelations of the Americas Before C...</td>\n",
       "      <td>541</td>\n",
       "      <td>2006-10-10</td>\n",
       "      <td>309</td>\n",
       "    </tr>\n",
       "    <tr>\n",
       "      <th>4</th>\n",
       "      <td>5</td>\n",
       "      <td>125</td>\n",
       "      <td>1776</td>\n",
       "      <td>386</td>\n",
       "      <td>2006-07-04</td>\n",
       "      <td>268</td>\n",
       "    </tr>\n",
       "  </tbody>\n",
       "</table>\n",
       "</div>"
      ],
      "text/plain": [
       "   book_id  author_id                                              title  \\\n",
       "0        1        546                                       'Salem's Lot   \n",
       "1        2        465                 1 000 Places to See Before You Die   \n",
       "2        3        407  13 Little Blue Envelopes (Little Blue Envelope...   \n",
       "3        4         82  1491: New Revelations of the Americas Before C...   \n",
       "4        5        125                                               1776   \n",
       "\n",
       "   num_pages publication_date  publisher_id  \n",
       "0        594       2005-11-01            93  \n",
       "1        992       2003-05-22           336  \n",
       "2        322       2010-12-21           135  \n",
       "3        541       2006-10-10           309  \n",
       "4        386       2006-07-04           268  "
      ]
     },
     "execution_count": 4,
     "metadata": {},
     "output_type": "execute_result"
    }
   ],
   "source": [
    "query = '''\n",
    "SELECT *\n",
    "FROM books\n",
    "LIMIT 5\n",
    "'''\n",
    "pd.io.sql.read_sql(query, con = engine) "
   ]
  },
  {
   "cell_type": "markdown",
   "metadata": {},
   "source": [
    "**Authors**"
   ]
  },
  {
   "cell_type": "code",
   "execution_count": 5,
   "metadata": {},
   "outputs": [
    {
     "data": {
      "text/html": [
       "<div>\n",
       "<style scoped>\n",
       "    .dataframe tbody tr th:only-of-type {\n",
       "        vertical-align: middle;\n",
       "    }\n",
       "\n",
       "    .dataframe tbody tr th {\n",
       "        vertical-align: top;\n",
       "    }\n",
       "\n",
       "    .dataframe thead th {\n",
       "        text-align: right;\n",
       "    }\n",
       "</style>\n",
       "<table border=\"1\" class=\"dataframe\">\n",
       "  <thead>\n",
       "    <tr style=\"text-align: right;\">\n",
       "      <th></th>\n",
       "      <th>author_id</th>\n",
       "      <th>author</th>\n",
       "    </tr>\n",
       "  </thead>\n",
       "  <tbody>\n",
       "    <tr>\n",
       "      <th>0</th>\n",
       "      <td>1</td>\n",
       "      <td>A.S. Byatt</td>\n",
       "    </tr>\n",
       "    <tr>\n",
       "      <th>1</th>\n",
       "      <td>2</td>\n",
       "      <td>Aesop/Laura Harris/Laura Gibbs</td>\n",
       "    </tr>\n",
       "    <tr>\n",
       "      <th>2</th>\n",
       "      <td>3</td>\n",
       "      <td>Agatha Christie</td>\n",
       "    </tr>\n",
       "    <tr>\n",
       "      <th>3</th>\n",
       "      <td>4</td>\n",
       "      <td>Alan Brennert</td>\n",
       "    </tr>\n",
       "    <tr>\n",
       "      <th>4</th>\n",
       "      <td>5</td>\n",
       "      <td>Alan Moore/David   Lloyd</td>\n",
       "    </tr>\n",
       "  </tbody>\n",
       "</table>\n",
       "</div>"
      ],
      "text/plain": [
       "   author_id                          author\n",
       "0          1                      A.S. Byatt\n",
       "1          2  Aesop/Laura Harris/Laura Gibbs\n",
       "2          3                 Agatha Christie\n",
       "3          4                   Alan Brennert\n",
       "4          5        Alan Moore/David   Lloyd"
      ]
     },
     "execution_count": 5,
     "metadata": {},
     "output_type": "execute_result"
    }
   ],
   "source": [
    "query = '''\n",
    "SELECT *\n",
    "FROM authors\n",
    "LIMIT 5\n",
    "'''\n",
    "pd.io.sql.read_sql(query, con = engine) "
   ]
  },
  {
   "cell_type": "markdown",
   "metadata": {},
   "source": [
    "**Ratings**"
   ]
  },
  {
   "cell_type": "code",
   "execution_count": 6,
   "metadata": {},
   "outputs": [
    {
     "data": {
      "text/html": [
       "<div>\n",
       "<style scoped>\n",
       "    .dataframe tbody tr th:only-of-type {\n",
       "        vertical-align: middle;\n",
       "    }\n",
       "\n",
       "    .dataframe tbody tr th {\n",
       "        vertical-align: top;\n",
       "    }\n",
       "\n",
       "    .dataframe thead th {\n",
       "        text-align: right;\n",
       "    }\n",
       "</style>\n",
       "<table border=\"1\" class=\"dataframe\">\n",
       "  <thead>\n",
       "    <tr style=\"text-align: right;\">\n",
       "      <th></th>\n",
       "      <th>rating_id</th>\n",
       "      <th>book_id</th>\n",
       "      <th>username</th>\n",
       "      <th>rating</th>\n",
       "    </tr>\n",
       "  </thead>\n",
       "  <tbody>\n",
       "    <tr>\n",
       "      <th>0</th>\n",
       "      <td>1</td>\n",
       "      <td>1</td>\n",
       "      <td>ryanfranco</td>\n",
       "      <td>4</td>\n",
       "    </tr>\n",
       "    <tr>\n",
       "      <th>1</th>\n",
       "      <td>2</td>\n",
       "      <td>1</td>\n",
       "      <td>grantpatricia</td>\n",
       "      <td>2</td>\n",
       "    </tr>\n",
       "    <tr>\n",
       "      <th>2</th>\n",
       "      <td>3</td>\n",
       "      <td>1</td>\n",
       "      <td>brandtandrea</td>\n",
       "      <td>5</td>\n",
       "    </tr>\n",
       "    <tr>\n",
       "      <th>3</th>\n",
       "      <td>4</td>\n",
       "      <td>2</td>\n",
       "      <td>lorichen</td>\n",
       "      <td>3</td>\n",
       "    </tr>\n",
       "    <tr>\n",
       "      <th>4</th>\n",
       "      <td>5</td>\n",
       "      <td>2</td>\n",
       "      <td>mariokeller</td>\n",
       "      <td>2</td>\n",
       "    </tr>\n",
       "  </tbody>\n",
       "</table>\n",
       "</div>"
      ],
      "text/plain": [
       "   rating_id  book_id       username  rating\n",
       "0          1        1     ryanfranco       4\n",
       "1          2        1  grantpatricia       2\n",
       "2          3        1   brandtandrea       5\n",
       "3          4        2       lorichen       3\n",
       "4          5        2    mariokeller       2"
      ]
     },
     "execution_count": 6,
     "metadata": {},
     "output_type": "execute_result"
    }
   ],
   "source": [
    "query = '''\n",
    "SELECT *\n",
    "FROM ratings\n",
    "LIMIT 5\n",
    "'''\n",
    "pd.io.sql.read_sql(query, con = engine) "
   ]
  },
  {
   "cell_type": "markdown",
   "metadata": {},
   "source": [
    "**Reviews**"
   ]
  },
  {
   "cell_type": "code",
   "execution_count": 7,
   "metadata": {
    "scrolled": true
   },
   "outputs": [
    {
     "data": {
      "text/html": [
       "<div>\n",
       "<style scoped>\n",
       "    .dataframe tbody tr th:only-of-type {\n",
       "        vertical-align: middle;\n",
       "    }\n",
       "\n",
       "    .dataframe tbody tr th {\n",
       "        vertical-align: top;\n",
       "    }\n",
       "\n",
       "    .dataframe thead th {\n",
       "        text-align: right;\n",
       "    }\n",
       "</style>\n",
       "<table border=\"1\" class=\"dataframe\">\n",
       "  <thead>\n",
       "    <tr style=\"text-align: right;\">\n",
       "      <th></th>\n",
       "      <th>review_id</th>\n",
       "      <th>book_id</th>\n",
       "      <th>username</th>\n",
       "      <th>text</th>\n",
       "    </tr>\n",
       "  </thead>\n",
       "  <tbody>\n",
       "    <tr>\n",
       "      <th>0</th>\n",
       "      <td>1</td>\n",
       "      <td>1</td>\n",
       "      <td>brandtandrea</td>\n",
       "      <td>Mention society tell send professor analysis. ...</td>\n",
       "    </tr>\n",
       "    <tr>\n",
       "      <th>1</th>\n",
       "      <td>2</td>\n",
       "      <td>1</td>\n",
       "      <td>ryanfranco</td>\n",
       "      <td>Foot glass pretty audience hit themselves. Amo...</td>\n",
       "    </tr>\n",
       "    <tr>\n",
       "      <th>2</th>\n",
       "      <td>3</td>\n",
       "      <td>2</td>\n",
       "      <td>lorichen</td>\n",
       "      <td>Listen treat keep worry. Miss husband tax but ...</td>\n",
       "    </tr>\n",
       "    <tr>\n",
       "      <th>3</th>\n",
       "      <td>4</td>\n",
       "      <td>3</td>\n",
       "      <td>johnsonamanda</td>\n",
       "      <td>Finally month interesting blue could nature cu...</td>\n",
       "    </tr>\n",
       "    <tr>\n",
       "      <th>4</th>\n",
       "      <td>5</td>\n",
       "      <td>3</td>\n",
       "      <td>scotttamara</td>\n",
       "      <td>Nation purpose heavy give wait song will. List...</td>\n",
       "    </tr>\n",
       "  </tbody>\n",
       "</table>\n",
       "</div>"
      ],
      "text/plain": [
       "   review_id  book_id       username  \\\n",
       "0          1        1   brandtandrea   \n",
       "1          2        1     ryanfranco   \n",
       "2          3        2       lorichen   \n",
       "3          4        3  johnsonamanda   \n",
       "4          5        3    scotttamara   \n",
       "\n",
       "                                                text  \n",
       "0  Mention society tell send professor analysis. ...  \n",
       "1  Foot glass pretty audience hit themselves. Amo...  \n",
       "2  Listen treat keep worry. Miss husband tax but ...  \n",
       "3  Finally month interesting blue could nature cu...  \n",
       "4  Nation purpose heavy give wait song will. List...  "
      ]
     },
     "execution_count": 7,
     "metadata": {},
     "output_type": "execute_result"
    }
   ],
   "source": [
    "query = '''\n",
    "SELECT *\n",
    "FROM reviews\n",
    "LIMIT 5\n",
    "'''\n",
    "pd.io.sql.read_sql(query, con = engine) "
   ]
  },
  {
   "cell_type": "markdown",
   "metadata": {},
   "source": [
    "**Publishers**"
   ]
  },
  {
   "cell_type": "code",
   "execution_count": 8,
   "metadata": {
    "scrolled": true
   },
   "outputs": [
    {
     "data": {
      "text/html": [
       "<div>\n",
       "<style scoped>\n",
       "    .dataframe tbody tr th:only-of-type {\n",
       "        vertical-align: middle;\n",
       "    }\n",
       "\n",
       "    .dataframe tbody tr th {\n",
       "        vertical-align: top;\n",
       "    }\n",
       "\n",
       "    .dataframe thead th {\n",
       "        text-align: right;\n",
       "    }\n",
       "</style>\n",
       "<table border=\"1\" class=\"dataframe\">\n",
       "  <thead>\n",
       "    <tr style=\"text-align: right;\">\n",
       "      <th></th>\n",
       "      <th>publisher_id</th>\n",
       "      <th>publisher</th>\n",
       "    </tr>\n",
       "  </thead>\n",
       "  <tbody>\n",
       "    <tr>\n",
       "      <th>0</th>\n",
       "      <td>1</td>\n",
       "      <td>Ace</td>\n",
       "    </tr>\n",
       "    <tr>\n",
       "      <th>1</th>\n",
       "      <td>2</td>\n",
       "      <td>Ace Book</td>\n",
       "    </tr>\n",
       "    <tr>\n",
       "      <th>2</th>\n",
       "      <td>3</td>\n",
       "      <td>Ace Books</td>\n",
       "    </tr>\n",
       "    <tr>\n",
       "      <th>3</th>\n",
       "      <td>4</td>\n",
       "      <td>Ace Hardcover</td>\n",
       "    </tr>\n",
       "    <tr>\n",
       "      <th>4</th>\n",
       "      <td>5</td>\n",
       "      <td>Addison Wesley Publishing Company</td>\n",
       "    </tr>\n",
       "  </tbody>\n",
       "</table>\n",
       "</div>"
      ],
      "text/plain": [
       "   publisher_id                          publisher\n",
       "0             1                                Ace\n",
       "1             2                           Ace Book\n",
       "2             3                          Ace Books\n",
       "3             4                      Ace Hardcover\n",
       "4             5  Addison Wesley Publishing Company"
      ]
     },
     "execution_count": 8,
     "metadata": {},
     "output_type": "execute_result"
    }
   ],
   "source": [
    "query = '''\n",
    "SELECT *\n",
    "FROM publishers\n",
    "LIMIT 5\n",
    "'''\n",
    "pd.io.sql.read_sql(query, con = engine) "
   ]
  },
  {
   "cell_type": "markdown",
   "metadata": {},
   "source": [
    "## Задание №1"
   ]
  },
  {
   "cell_type": "markdown",
   "metadata": {},
   "source": [
    "**Посчитайте, сколько книг вышло после 1 января 2000 года**"
   ]
  },
  {
   "cell_type": "code",
   "execution_count": 9,
   "metadata": {},
   "outputs": [],
   "source": [
    "query = '''\n",
    "SELECT COUNT(*)\n",
    "FROM books\n",
    "WHERE publication_date > '2000-01-01'\n",
    "'''"
   ]
  },
  {
   "cell_type": "code",
   "execution_count": 10,
   "metadata": {},
   "outputs": [
    {
     "data": {
      "text/html": [
       "<div>\n",
       "<style scoped>\n",
       "    .dataframe tbody tr th:only-of-type {\n",
       "        vertical-align: middle;\n",
       "    }\n",
       "\n",
       "    .dataframe tbody tr th {\n",
       "        vertical-align: top;\n",
       "    }\n",
       "\n",
       "    .dataframe thead th {\n",
       "        text-align: right;\n",
       "    }\n",
       "</style>\n",
       "<table border=\"1\" class=\"dataframe\">\n",
       "  <thead>\n",
       "    <tr style=\"text-align: right;\">\n",
       "      <th></th>\n",
       "      <th>count</th>\n",
       "    </tr>\n",
       "  </thead>\n",
       "  <tbody>\n",
       "    <tr>\n",
       "      <th>0</th>\n",
       "      <td>819</td>\n",
       "    </tr>\n",
       "  </tbody>\n",
       "</table>\n",
       "</div>"
      ],
      "text/plain": [
       "   count\n",
       "0    819"
      ]
     },
     "execution_count": 10,
     "metadata": {},
     "output_type": "execute_result"
    }
   ],
   "source": [
    "pd.io.sql.read_sql(query, con = engine) "
   ]
  },
  {
   "cell_type": "markdown",
   "metadata": {},
   "source": [
    "**Вывод:** 819 книг вышло после 1-го января."
   ]
  },
  {
   "cell_type": "markdown",
   "metadata": {},
   "source": [
    "## Задание №2"
   ]
  },
  {
   "cell_type": "markdown",
   "metadata": {},
   "source": [
    "**Для каждой книги посчитайте количество обзоров и среднюю оценку.**"
   ]
  },
  {
   "cell_type": "code",
   "execution_count": 11,
   "metadata": {},
   "outputs": [],
   "source": [
    "query = '''\n",
    "SELECT *\n",
    "FROM\n",
    "    (SELECT *\n",
    "     FROM\n",
    "        (SELECT bs.book_id, bs.title, ROUND(AVG(rg.rating) OVER (PARTITION BY bs.book_id), 2) AS avg_rating, COUNT(DISTINCT(rv.review_id))  AS count_review\n",
    "        FROM books as bs\n",
    "        LEFT OUTER JOIN reviews AS rv ON bs.book_id = rv.book_id\n",
    "        LEFT OUTER JOIN ratings AS rg ON bs.book_id = rg.book_id\n",
    "        GROUP BY bs.book_id, rg.rating) as bh \n",
    "        ) as y\n",
    "GROUP BY y.book_id, y.title, y.avg_rating, y.count_review\n",
    "\n",
    "'''"
   ]
  },
  {
   "cell_type": "code",
   "execution_count": 12,
   "metadata": {},
   "outputs": [
    {
     "data": {
      "text/html": [
       "<div>\n",
       "<style scoped>\n",
       "    .dataframe tbody tr th:only-of-type {\n",
       "        vertical-align: middle;\n",
       "    }\n",
       "\n",
       "    .dataframe tbody tr th {\n",
       "        vertical-align: top;\n",
       "    }\n",
       "\n",
       "    .dataframe thead th {\n",
       "        text-align: right;\n",
       "    }\n",
       "</style>\n",
       "<table border=\"1\" class=\"dataframe\">\n",
       "  <thead>\n",
       "    <tr style=\"text-align: right;\">\n",
       "      <th></th>\n",
       "      <th>book_id</th>\n",
       "      <th>title</th>\n",
       "      <th>avg_rating</th>\n",
       "      <th>count_review</th>\n",
       "    </tr>\n",
       "  </thead>\n",
       "  <tbody>\n",
       "    <tr>\n",
       "      <th>0</th>\n",
       "      <td>849</td>\n",
       "      <td>The Rescue</td>\n",
       "      <td>4.00</td>\n",
       "      <td>3</td>\n",
       "    </tr>\n",
       "    <tr>\n",
       "      <th>1</th>\n",
       "      <td>197</td>\n",
       "      <td>Dragonsinger (Harper Hall  #2)</td>\n",
       "      <td>3.00</td>\n",
       "      <td>2</td>\n",
       "    </tr>\n",
       "    <tr>\n",
       "      <th>2</th>\n",
       "      <td>595</td>\n",
       "      <td>Starship Troopers</td>\n",
       "      <td>4.50</td>\n",
       "      <td>3</td>\n",
       "    </tr>\n",
       "    <tr>\n",
       "      <th>3</th>\n",
       "      <td>165</td>\n",
       "      <td>Creepshow</td>\n",
       "      <td>4.50</td>\n",
       "      <td>1</td>\n",
       "    </tr>\n",
       "    <tr>\n",
       "      <th>4</th>\n",
       "      <td>882</td>\n",
       "      <td>The Terror</td>\n",
       "      <td>4.50</td>\n",
       "      <td>2</td>\n",
       "    </tr>\n",
       "    <tr>\n",
       "      <th>...</th>\n",
       "      <td>...</td>\n",
       "      <td>...</td>\n",
       "      <td>...</td>\n",
       "      <td>...</td>\n",
       "    </tr>\n",
       "    <tr>\n",
       "      <th>995</th>\n",
       "      <td>496</td>\n",
       "      <td>Out of the Silent Planet (The Space Trilogy  #1)</td>\n",
       "      <td>3.50</td>\n",
       "      <td>3</td>\n",
       "    </tr>\n",
       "    <tr>\n",
       "      <th>996</th>\n",
       "      <td>939</td>\n",
       "      <td>Tropic of Cancer</td>\n",
       "      <td>2.50</td>\n",
       "      <td>2</td>\n",
       "    </tr>\n",
       "    <tr>\n",
       "      <th>997</th>\n",
       "      <td>88</td>\n",
       "      <td>Assassin's Quest (Farseer Trilogy  #3)</td>\n",
       "      <td>3.67</td>\n",
       "      <td>3</td>\n",
       "    </tr>\n",
       "    <tr>\n",
       "      <th>998</th>\n",
       "      <td>975</td>\n",
       "      <td>White Noise</td>\n",
       "      <td>4.00</td>\n",
       "      <td>2</td>\n",
       "    </tr>\n",
       "    <tr>\n",
       "      <th>999</th>\n",
       "      <td>486</td>\n",
       "      <td>Of Human Bondage</td>\n",
       "      <td>4.00</td>\n",
       "      <td>2</td>\n",
       "    </tr>\n",
       "  </tbody>\n",
       "</table>\n",
       "<p>1000 rows × 4 columns</p>\n",
       "</div>"
      ],
      "text/plain": [
       "     book_id                                             title  avg_rating  \\\n",
       "0        849                                        The Rescue        4.00   \n",
       "1        197                    Dragonsinger (Harper Hall  #2)        3.00   \n",
       "2        595                                 Starship Troopers        4.50   \n",
       "3        165                                         Creepshow        4.50   \n",
       "4        882                                        The Terror        4.50   \n",
       "..       ...                                               ...         ...   \n",
       "995      496  Out of the Silent Planet (The Space Trilogy  #1)        3.50   \n",
       "996      939                                  Tropic of Cancer        2.50   \n",
       "997       88            Assassin's Quest (Farseer Trilogy  #3)        3.67   \n",
       "998      975                                       White Noise        4.00   \n",
       "999      486                                  Of Human Bondage        4.00   \n",
       "\n",
       "     count_review  \n",
       "0               3  \n",
       "1               2  \n",
       "2               3  \n",
       "3               1  \n",
       "4               2  \n",
       "..            ...  \n",
       "995             3  \n",
       "996             2  \n",
       "997             3  \n",
       "998             2  \n",
       "999             2  \n",
       "\n",
       "[1000 rows x 4 columns]"
      ]
     },
     "execution_count": 12,
     "metadata": {},
     "output_type": "execute_result"
    }
   ],
   "source": [
    "pd.io.sql.read_sql(query, con = engine) "
   ]
  },
  {
   "cell_type": "markdown",
   "metadata": {},
   "source": [
    "**Вывод:** получено количество обзоров и средняя оценка для каждой из книг."
   ]
  },
  {
   "cell_type": "markdown",
   "metadata": {},
   "source": [
    "## Задание №3"
   ]
  },
  {
   "cell_type": "markdown",
   "metadata": {},
   "source": [
    "**Определите издательство, которое выпустило наибольшее число книг толще 50 страниц — так вы исключите из анализа брошюры**"
   ]
  },
  {
   "cell_type": "code",
   "execution_count": 13,
   "metadata": {},
   "outputs": [],
   "source": [
    "query = '''\n",
    "SELECT publisher, COUNT(*) as count\n",
    "FROM \n",
    "    (SELECT *\n",
    "     FROM books\n",
    "     WHERE num_pages > 50) as bs_50\n",
    "     \n",
    "LEFT OUTER JOIN publishers AS pb ON bs_50.publisher_id = pb.publisher_id\n",
    "GROUP BY pb.publisher\n",
    "ORDER BY count DESC\n",
    "LIMIT 1\n",
    "'''"
   ]
  },
  {
   "cell_type": "code",
   "execution_count": 14,
   "metadata": {},
   "outputs": [
    {
     "data": {
      "text/html": [
       "<div>\n",
       "<style scoped>\n",
       "    .dataframe tbody tr th:only-of-type {\n",
       "        vertical-align: middle;\n",
       "    }\n",
       "\n",
       "    .dataframe tbody tr th {\n",
       "        vertical-align: top;\n",
       "    }\n",
       "\n",
       "    .dataframe thead th {\n",
       "        text-align: right;\n",
       "    }\n",
       "</style>\n",
       "<table border=\"1\" class=\"dataframe\">\n",
       "  <thead>\n",
       "    <tr style=\"text-align: right;\">\n",
       "      <th></th>\n",
       "      <th>publisher</th>\n",
       "      <th>count</th>\n",
       "    </tr>\n",
       "  </thead>\n",
       "  <tbody>\n",
       "    <tr>\n",
       "      <th>0</th>\n",
       "      <td>Penguin Books</td>\n",
       "      <td>42</td>\n",
       "    </tr>\n",
       "  </tbody>\n",
       "</table>\n",
       "</div>"
      ],
      "text/plain": [
       "       publisher  count\n",
       "0  Penguin Books     42"
      ]
     },
     "execution_count": 14,
     "metadata": {},
     "output_type": "execute_result"
    }
   ],
   "source": [
    "pd.io.sql.read_sql(query, con = engine) "
   ]
  },
  {
   "cell_type": "markdown",
   "metadata": {},
   "source": [
    "**Вывод:** издательство, выпустившее наибольшее количество книг - Penguin Books."
   ]
  },
  {
   "cell_type": "markdown",
   "metadata": {},
   "source": [
    "## Задание №4"
   ]
  },
  {
   "cell_type": "markdown",
   "metadata": {},
   "source": [
    "**Определите автора с самой высокой средней оценкой книг — учитывайте только книги с 50 и более оценками**"
   ]
  },
  {
   "cell_type": "code",
   "execution_count": 15,
   "metadata": {},
   "outputs": [],
   "source": [
    "query = '''\n",
    "SELECT i.author, ROUND(AVG(i.rating_avg) OVER (PARTITION BY i.author), 2) AS avg_author_rating\n",
    "FROM\n",
    "    (SELECT u.bok_id, u.author, u.rating_avg\n",
    "        FROM\n",
    "            (SELECT bs.book_id as bok_id, *, ROUND(AVG(rg.rating) OVER (PARTITION BY au.author), 2) AS rating_avg\n",
    "            FROM books as bs\n",
    "            LEFT OUTER JOIN authors AS au ON bs.author_id = au.author_id\n",
    "            LEFT OUTER JOIN ratings AS rg ON bs.book_id = rg.book_id\n",
    "            WHERE bs.book_id IN\n",
    "\n",
    "                -- Находим книги, количество отзывов которых больше 49 и группируем по book_id\n",
    "                (SELECT bk.book_id\n",
    "                FROM\n",
    "                    -- Создаём таблицу с id книг и количеством оценок для каждой книги\n",
    "                    (SELECT bs.book_id, COUNT(rg.rating) OVER (PARTITION BY bs.book_id) as count_rating\n",
    "                    FROM books as bs\n",
    "                    LEFT OUTER JOIN ratings AS rg ON bs.book_id = rg.book_id) as bk\n",
    "            WHERE bk.count_rating > 49\n",
    "            GROUP BY bk.book_id)) AS u\n",
    "    GROUP BY u.bok_id, u.author, u.rating_avg) AS i\n",
    "GROUP BY i.author, i.rating_avg\n",
    "ORDER BY i.rating_avg DESC\n",
    "LIMIT 1\n",
    "'''"
   ]
  },
  {
   "cell_type": "code",
   "execution_count": 16,
   "metadata": {},
   "outputs": [
    {
     "data": {
      "text/html": [
       "<div>\n",
       "<style scoped>\n",
       "    .dataframe tbody tr th:only-of-type {\n",
       "        vertical-align: middle;\n",
       "    }\n",
       "\n",
       "    .dataframe tbody tr th {\n",
       "        vertical-align: top;\n",
       "    }\n",
       "\n",
       "    .dataframe thead th {\n",
       "        text-align: right;\n",
       "    }\n",
       "</style>\n",
       "<table border=\"1\" class=\"dataframe\">\n",
       "  <thead>\n",
       "    <tr style=\"text-align: right;\">\n",
       "      <th></th>\n",
       "      <th>author</th>\n",
       "      <th>avg_author_rating</th>\n",
       "    </tr>\n",
       "  </thead>\n",
       "  <tbody>\n",
       "    <tr>\n",
       "      <th>0</th>\n",
       "      <td>J.K. Rowling/Mary GrandPré</td>\n",
       "      <td>4.29</td>\n",
       "    </tr>\n",
       "  </tbody>\n",
       "</table>\n",
       "</div>"
      ],
      "text/plain": [
       "                       author  avg_author_rating\n",
       "0  J.K. Rowling/Mary GrandPré               4.29"
      ]
     },
     "execution_count": 16,
     "metadata": {},
     "output_type": "execute_result"
    }
   ],
   "source": [
    "pd.io.sql.read_sql(query, con = engine) "
   ]
  },
  {
   "cell_type": "markdown",
   "metadata": {},
   "source": [
    "**Вывод:** самый высоко оценённый автор - J.K. Rowling/Mary GrandPré."
   ]
  },
  {
   "cell_type": "markdown",
   "metadata": {},
   "source": [
    "## Задание №5"
   ]
  },
  {
   "cell_type": "markdown",
   "metadata": {},
   "source": [
    "**Посчитайте среднее количество обзоров от пользователей, которые поставили больше 50 оценок**"
   ]
  },
  {
   "cell_type": "code",
   "execution_count": 17,
   "metadata": {},
   "outputs": [],
   "source": [
    "query = '''\n",
    "SELECT ROUNd(AVG(cr.count_reviews), 0) as avg_count_reviews\n",
    "FROM\n",
    "    (SELECT username, COUNT(*) as count_reviews\n",
    "    FROM reviews AS rv\n",
    "    WHERE rv.username IN\n",
    "        (SELECT us.username\n",
    "            FROM\n",
    "\n",
    "                (SELECT username, COUNT(*) as count_rating\n",
    "                 FROM ratings\n",
    "                 GROUP BY username) as us\n",
    "\n",
    "            WHERE us.count_rating > 50\n",
    "        )\n",
    "    GROUP BY username) as cr\n",
    "'''"
   ]
  },
  {
   "cell_type": "code",
   "execution_count": 18,
   "metadata": {
    "scrolled": true
   },
   "outputs": [
    {
     "data": {
      "text/html": [
       "<div>\n",
       "<style scoped>\n",
       "    .dataframe tbody tr th:only-of-type {\n",
       "        vertical-align: middle;\n",
       "    }\n",
       "\n",
       "    .dataframe tbody tr th {\n",
       "        vertical-align: top;\n",
       "    }\n",
       "\n",
       "    .dataframe thead th {\n",
       "        text-align: right;\n",
       "    }\n",
       "</style>\n",
       "<table border=\"1\" class=\"dataframe\">\n",
       "  <thead>\n",
       "    <tr style=\"text-align: right;\">\n",
       "      <th></th>\n",
       "      <th>avg_count_reviews</th>\n",
       "    </tr>\n",
       "  </thead>\n",
       "  <tbody>\n",
       "    <tr>\n",
       "      <th>0</th>\n",
       "      <td>24.0</td>\n",
       "    </tr>\n",
       "  </tbody>\n",
       "</table>\n",
       "</div>"
      ],
      "text/plain": [
       "   avg_count_reviews\n",
       "0               24.0"
      ]
     },
     "execution_count": 18,
     "metadata": {},
     "output_type": "execute_result"
    }
   ],
   "source": [
    "pd.io.sql.read_sql(query, con = engine) "
   ]
  },
  {
   "cell_type": "markdown",
   "metadata": {},
   "source": [
    "**Вывод:** среднее количество обзоров от самых активных пользователей - 24."
   ]
  },
  {
   "cell_type": "markdown",
   "metadata": {},
   "source": [
    "# Общий вывод"
   ]
  },
  {
   "cell_type": "markdown",
   "metadata": {},
   "source": [
    "После проведения анализа было полученно:\n",
    "- что 819 книг вышло после 1-го января;\n",
    "- количество обзоров и средняя оценка для каждой из книг;\n",
    "- что издательство, выпустившее наибольшее количество книг - Penguin Books;\n",
    "- что самый высоко оценённый автор - J.K. Rowling/Mary GrandPré;\n",
    "- что среднее количество обзоров от самых активных пользователей - 24."
   ]
  },
  {
   "cell_type": "markdown",
   "metadata": {},
   "source": []
  }
 ],
 "metadata": {
  "ExecuteTimeLog": [
   {
    "duration": 466,
    "start_time": "2023-02-19T15:53:53.544Z"
   },
   {
    "duration": 3,
    "start_time": "2023-02-19T15:54:12.704Z"
   },
   {
    "duration": 7602,
    "start_time": "2023-02-19T15:54:33.099Z"
   },
   {
    "duration": 2,
    "start_time": "2023-02-19T15:55:42.503Z"
   },
   {
    "duration": 97,
    "start_time": "2023-02-19T15:55:43.251Z"
   },
   {
    "duration": 10,
    "start_time": "2023-02-19T15:56:01.213Z"
   },
   {
    "duration": 11,
    "start_time": "2023-02-19T15:56:03.237Z"
   },
   {
    "duration": 3,
    "start_time": "2023-02-19T16:00:40.513Z"
   },
   {
    "duration": 19,
    "start_time": "2023-02-19T16:00:40.892Z"
   },
   {
    "duration": 2,
    "start_time": "2023-02-19T16:01:05.367Z"
   },
   {
    "duration": 166,
    "start_time": "2023-02-19T16:01:05.935Z"
   },
   {
    "duration": 2,
    "start_time": "2023-02-19T16:01:11.309Z"
   },
   {
    "duration": 86,
    "start_time": "2023-02-19T16:01:13.309Z"
   },
   {
    "duration": 2,
    "start_time": "2023-02-19T16:01:30.712Z"
   },
   {
    "duration": 89,
    "start_time": "2023-02-19T16:01:31.278Z"
   },
   {
    "duration": 2,
    "start_time": "2023-02-19T16:01:38.448Z"
   },
   {
    "duration": 83,
    "start_time": "2023-02-19T16:01:39.101Z"
   },
   {
    "duration": 3,
    "start_time": "2023-02-19T16:03:30.827Z"
   },
   {
    "duration": 21,
    "start_time": "2023-02-19T16:03:31.171Z"
   },
   {
    "duration": 2,
    "start_time": "2023-02-19T16:03:43.767Z"
   },
   {
    "duration": 9,
    "start_time": "2023-02-19T16:03:44.033Z"
   },
   {
    "duration": 2,
    "start_time": "2023-02-19T16:04:15.632Z"
   },
   {
    "duration": 11,
    "start_time": "2023-02-19T16:04:15.928Z"
   },
   {
    "duration": 2,
    "start_time": "2023-02-19T16:04:19.242Z"
   },
   {
    "duration": 10,
    "start_time": "2023-02-19T16:04:19.538Z"
   },
   {
    "duration": 3,
    "start_time": "2023-02-19T16:06:14.353Z"
   },
   {
    "duration": 12,
    "start_time": "2023-02-19T16:06:19.231Z"
   },
   {
    "duration": 547,
    "start_time": "2023-02-20T07:11:54.809Z"
   },
   {
    "duration": 3,
    "start_time": "2023-02-20T07:11:55.358Z"
   },
   {
    "duration": 9570,
    "start_time": "2023-02-20T07:11:55.363Z"
   },
   {
    "duration": 7,
    "start_time": "2023-02-20T07:12:04.936Z"
   },
   {
    "duration": 86,
    "start_time": "2023-02-20T07:12:04.946Z"
   },
   {
    "duration": 4,
    "start_time": "2023-02-20T07:12:05.035Z"
   },
   {
    "duration": 205,
    "start_time": "2023-02-20T07:12:05.041Z"
   },
   {
    "duration": 4,
    "start_time": "2023-02-20T07:12:30.697Z"
   },
   {
    "duration": 44,
    "start_time": "2023-02-20T07:12:31.068Z"
   },
   {
    "duration": 4,
    "start_time": "2023-02-20T07:13:54.513Z"
   },
   {
    "duration": 240,
    "start_time": "2023-02-20T07:13:54.940Z"
   },
   {
    "duration": 3,
    "start_time": "2023-02-20T07:15:54.554Z"
   },
   {
    "duration": 145,
    "start_time": "2023-02-20T07:15:54.824Z"
   },
   {
    "duration": 3,
    "start_time": "2023-02-20T07:17:17.602Z"
   },
   {
    "duration": 118,
    "start_time": "2023-02-20T07:17:18.498Z"
   },
   {
    "duration": 7,
    "start_time": "2023-02-20T07:17:32.642Z"
   },
   {
    "duration": 107,
    "start_time": "2023-02-20T07:17:33.556Z"
   },
   {
    "duration": 4,
    "start_time": "2023-02-20T07:18:11.204Z"
   },
   {
    "duration": 109,
    "start_time": "2023-02-20T07:18:11.603Z"
   },
   {
    "duration": 4,
    "start_time": "2023-02-20T07:19:17.795Z"
   },
   {
    "duration": 137,
    "start_time": "2023-02-20T07:19:18.064Z"
   },
   {
    "duration": 3,
    "start_time": "2023-02-20T07:19:37.773Z"
   },
   {
    "duration": 32,
    "start_time": "2023-02-20T07:19:38.204Z"
   },
   {
    "duration": 4,
    "start_time": "2023-02-20T07:19:53.692Z"
   },
   {
    "duration": 26,
    "start_time": "2023-02-20T07:19:53.997Z"
   },
   {
    "duration": 3,
    "start_time": "2023-02-20T07:20:02.661Z"
   },
   {
    "duration": 41,
    "start_time": "2023-02-20T07:20:02.913Z"
   },
   {
    "duration": 7,
    "start_time": "2023-02-20T07:20:47.651Z"
   },
   {
    "duration": 29,
    "start_time": "2023-02-20T07:20:47.987Z"
   },
   {
    "duration": 3,
    "start_time": "2023-02-20T07:20:55.459Z"
   },
   {
    "duration": 129,
    "start_time": "2023-02-20T07:20:55.769Z"
   },
   {
    "duration": 3,
    "start_time": "2023-02-20T07:21:22.779Z"
   },
   {
    "duration": 301,
    "start_time": "2023-02-20T07:21:24.753Z"
   },
   {
    "duration": 4,
    "start_time": "2023-02-20T07:21:52.949Z"
   },
   {
    "duration": 33,
    "start_time": "2023-02-20T07:21:53.398Z"
   },
   {
    "duration": 3,
    "start_time": "2023-02-20T07:22:25.288Z"
   },
   {
    "duration": 45,
    "start_time": "2023-02-20T07:22:25.658Z"
   },
   {
    "duration": 3,
    "start_time": "2023-02-20T07:22:49.902Z"
   },
   {
    "duration": 28,
    "start_time": "2023-02-20T07:22:51.261Z"
   },
   {
    "duration": 4,
    "start_time": "2023-02-20T07:23:52.320Z"
   },
   {
    "duration": 108,
    "start_time": "2023-02-20T07:23:52.766Z"
   },
   {
    "duration": 3,
    "start_time": "2023-02-20T07:24:28.473Z"
   },
   {
    "duration": 119,
    "start_time": "2023-02-20T07:24:28.821Z"
   },
   {
    "duration": 3,
    "start_time": "2023-02-20T07:28:45.405Z"
   },
   {
    "duration": 132,
    "start_time": "2023-02-20T07:28:45.678Z"
   },
   {
    "duration": 5,
    "start_time": "2023-02-20T07:29:36.839Z"
   },
   {
    "duration": 148,
    "start_time": "2023-02-20T07:29:37.302Z"
   },
   {
    "duration": 5,
    "start_time": "2023-02-20T07:29:45.952Z"
   },
   {
    "duration": 133,
    "start_time": "2023-02-20T07:29:46.253Z"
   },
   {
    "duration": 3,
    "start_time": "2023-02-20T07:30:01.965Z"
   },
   {
    "duration": 272,
    "start_time": "2023-02-20T07:30:02.412Z"
   },
   {
    "duration": 4,
    "start_time": "2023-02-20T07:30:30.562Z"
   },
   {
    "duration": 1991,
    "start_time": "2023-02-20T07:30:30.827Z"
   },
   {
    "duration": 3,
    "start_time": "2023-02-20T07:31:09.155Z"
   },
   {
    "duration": 125,
    "start_time": "2023-02-20T07:31:09.502Z"
   },
   {
    "duration": 4,
    "start_time": "2023-02-20T07:31:43.877Z"
   },
   {
    "duration": 142,
    "start_time": "2023-02-20T07:31:44.127Z"
   },
   {
    "duration": 3,
    "start_time": "2023-02-20T07:31:59.561Z"
   },
   {
    "duration": 58,
    "start_time": "2023-02-20T07:31:59.884Z"
   },
   {
    "duration": 3,
    "start_time": "2023-02-20T07:32:16.055Z"
   },
   {
    "duration": 62,
    "start_time": "2023-02-20T07:32:16.448Z"
   },
   {
    "duration": 9,
    "start_time": "2023-02-20T07:32:38.525Z"
   },
   {
    "duration": 120,
    "start_time": "2023-02-20T07:32:39.603Z"
   },
   {
    "duration": 3,
    "start_time": "2023-02-20T07:32:49.358Z"
   },
   {
    "duration": 129,
    "start_time": "2023-02-20T07:32:49.673Z"
   },
   {
    "duration": 3,
    "start_time": "2023-02-20T07:32:57.479Z"
   },
   {
    "duration": 169,
    "start_time": "2023-02-20T07:32:57.817Z"
   },
   {
    "duration": 2,
    "start_time": "2023-02-20T07:33:21.606Z"
   },
   {
    "duration": 122,
    "start_time": "2023-02-20T07:33:22.102Z"
   },
   {
    "duration": 3,
    "start_time": "2023-02-20T07:33:34.793Z"
   },
   {
    "duration": 112,
    "start_time": "2023-02-20T07:33:35.060Z"
   },
   {
    "duration": 3,
    "start_time": "2023-02-20T07:33:46.275Z"
   },
   {
    "duration": 127,
    "start_time": "2023-02-20T07:33:46.666Z"
   },
   {
    "duration": 3,
    "start_time": "2023-02-20T07:36:54.496Z"
   },
   {
    "duration": 88,
    "start_time": "2023-02-20T07:36:57.417Z"
   },
   {
    "duration": 2,
    "start_time": "2023-02-20T07:37:40.892Z"
   },
   {
    "duration": 36,
    "start_time": "2023-02-20T07:37:42.829Z"
   },
   {
    "duration": 3,
    "start_time": "2023-02-20T07:37:55.453Z"
   },
   {
    "duration": 191,
    "start_time": "2023-02-20T07:37:57.071Z"
   },
   {
    "duration": 3,
    "start_time": "2023-02-20T07:38:03.812Z"
   },
   {
    "duration": 152,
    "start_time": "2023-02-20T07:38:06.720Z"
   },
   {
    "duration": 5,
    "start_time": "2023-02-20T07:38:22.718Z"
   },
   {
    "duration": 117,
    "start_time": "2023-02-20T07:38:24.356Z"
   },
   {
    "duration": 3,
    "start_time": "2023-02-20T07:38:46.204Z"
   },
   {
    "duration": 129,
    "start_time": "2023-02-20T07:38:47.308Z"
   },
   {
    "duration": 4,
    "start_time": "2023-02-20T07:38:54.682Z"
   },
   {
    "duration": 16,
    "start_time": "2023-02-20T07:38:55.772Z"
   },
   {
    "duration": 3,
    "start_time": "2023-02-20T07:39:13.012Z"
   },
   {
    "duration": 123,
    "start_time": "2023-02-20T07:39:15.055Z"
   },
   {
    "duration": 3,
    "start_time": "2023-02-20T07:39:28.885Z"
   },
   {
    "duration": 22,
    "start_time": "2023-02-20T07:39:30.178Z"
   },
   {
    "duration": 3,
    "start_time": "2023-02-20T07:40:25.013Z"
   },
   {
    "duration": 127,
    "start_time": "2023-02-20T07:40:25.318Z"
   },
   {
    "duration": 3,
    "start_time": "2023-02-20T07:40:41.993Z"
   },
   {
    "duration": 55,
    "start_time": "2023-02-20T07:40:42.315Z"
   },
   {
    "duration": 3,
    "start_time": "2023-02-20T07:42:07.014Z"
   },
   {
    "duration": 45,
    "start_time": "2023-02-20T07:42:07.357Z"
   },
   {
    "duration": 3,
    "start_time": "2023-02-20T07:45:30.383Z"
   },
   {
    "duration": 220,
    "start_time": "2023-02-20T07:45:30.805Z"
   },
   {
    "duration": 6,
    "start_time": "2023-02-20T07:45:38.725Z"
   },
   {
    "duration": 48,
    "start_time": "2023-02-20T07:45:39.110Z"
   },
   {
    "duration": 2,
    "start_time": "2023-02-20T07:59:32.208Z"
   },
   {
    "duration": 34,
    "start_time": "2023-02-20T07:59:32.798Z"
   },
   {
    "duration": 3,
    "start_time": "2023-02-20T08:00:30.204Z"
   },
   {
    "duration": 26,
    "start_time": "2023-02-20T08:00:30.696Z"
   },
   {
    "duration": 3,
    "start_time": "2023-02-20T08:17:42.227Z"
   },
   {
    "duration": 13,
    "start_time": "2023-02-20T08:17:42.550Z"
   },
   {
    "duration": 2,
    "start_time": "2023-02-20T08:18:16.304Z"
   },
   {
    "duration": 133,
    "start_time": "2023-02-20T08:18:16.658Z"
   },
   {
    "duration": 5,
    "start_time": "2023-02-20T08:18:28.641Z"
   },
   {
    "duration": 12,
    "start_time": "2023-02-20T08:18:28.871Z"
   },
   {
    "duration": 3,
    "start_time": "2023-02-20T08:23:23.565Z"
   },
   {
    "duration": 21,
    "start_time": "2023-02-20T08:23:23.800Z"
   },
   {
    "duration": 2,
    "start_time": "2023-02-20T08:23:55.969Z"
   },
   {
    "duration": 171,
    "start_time": "2023-02-20T08:23:56.416Z"
   },
   {
    "duration": 3,
    "start_time": "2023-02-20T08:24:03.214Z"
   },
   {
    "duration": 45,
    "start_time": "2023-02-20T08:24:03.625Z"
   },
   {
    "duration": 8,
    "start_time": "2023-02-20T08:24:52.655Z"
   },
   {
    "duration": 13,
    "start_time": "2023-02-20T08:24:52.907Z"
   },
   {
    "duration": 3,
    "start_time": "2023-02-20T08:24:57.109Z"
   },
   {
    "duration": 15,
    "start_time": "2023-02-20T08:24:57.393Z"
   },
   {
    "duration": 2,
    "start_time": "2023-02-20T08:25:16.119Z"
   },
   {
    "duration": 20,
    "start_time": "2023-02-20T08:25:16.468Z"
   },
   {
    "duration": 3,
    "start_time": "2023-02-20T08:27:53.607Z"
   },
   {
    "duration": 162,
    "start_time": "2023-02-20T08:27:54.681Z"
   },
   {
    "duration": 3,
    "start_time": "2023-02-20T08:29:22.718Z"
   },
   {
    "duration": 157,
    "start_time": "2023-02-20T08:29:24.220Z"
   },
   {
    "duration": 2,
    "start_time": "2023-02-20T08:29:36.367Z"
   },
   {
    "duration": 138,
    "start_time": "2023-02-20T08:29:37.305Z"
   },
   {
    "duration": 4,
    "start_time": "2023-02-20T08:30:06.925Z"
   },
   {
    "duration": 134,
    "start_time": "2023-02-20T08:30:07.973Z"
   },
   {
    "duration": 3,
    "start_time": "2023-02-20T08:31:10.071Z"
   },
   {
    "duration": 25,
    "start_time": "2023-02-20T08:31:11.260Z"
   },
   {
    "duration": 3,
    "start_time": "2023-02-20T08:31:50.716Z"
   },
   {
    "duration": 155,
    "start_time": "2023-02-20T08:31:51.791Z"
   },
   {
    "duration": 5,
    "start_time": "2023-02-20T08:32:07.964Z"
   },
   {
    "duration": 18,
    "start_time": "2023-02-20T08:32:08.986Z"
   },
   {
    "duration": 3,
    "start_time": "2023-02-20T08:34:35.904Z"
   },
   {
    "duration": 150,
    "start_time": "2023-02-20T08:34:37.071Z"
   },
   {
    "duration": 4,
    "start_time": "2023-02-20T08:34:45.402Z"
   },
   {
    "duration": 47,
    "start_time": "2023-02-20T08:34:47.016Z"
   },
   {
    "duration": 4,
    "start_time": "2023-02-20T08:36:56.685Z"
   },
   {
    "duration": 135,
    "start_time": "2023-02-20T08:36:57.565Z"
   },
   {
    "duration": 7,
    "start_time": "2023-02-20T08:37:16.555Z"
   },
   {
    "duration": 64,
    "start_time": "2023-02-20T08:37:17.524Z"
   },
   {
    "duration": 4,
    "start_time": "2023-02-20T08:37:36.962Z"
   },
   {
    "duration": 17,
    "start_time": "2023-02-20T08:37:37.767Z"
   },
   {
    "duration": 3,
    "start_time": "2023-02-20T08:37:42.869Z"
   },
   {
    "duration": 16,
    "start_time": "2023-02-20T08:37:43.903Z"
   },
   {
    "duration": 7,
    "start_time": "2023-02-20T08:45:27.346Z"
   },
   {
    "duration": 14,
    "start_time": "2023-02-20T08:45:29.202Z"
   },
   {
    "duration": 6,
    "start_time": "2023-02-20T08:46:46.830Z"
   },
   {
    "duration": 17,
    "start_time": "2023-02-20T08:46:47.104Z"
   },
   {
    "duration": 2,
    "start_time": "2023-02-20T08:46:52.982Z"
   },
   {
    "duration": 53,
    "start_time": "2023-02-20T08:46:53.425Z"
   },
   {
    "duration": 11,
    "start_time": "2023-02-20T08:47:32.451Z"
   },
   {
    "duration": 130,
    "start_time": "2023-02-20T08:47:33.210Z"
   },
   {
    "duration": 2,
    "start_time": "2023-02-20T08:47:57.471Z"
   },
   {
    "duration": 37,
    "start_time": "2023-02-20T08:47:57.998Z"
   },
   {
    "duration": 3,
    "start_time": "2023-02-20T08:52:56.618Z"
   },
   {
    "duration": 24,
    "start_time": "2023-02-20T08:52:57.002Z"
   },
   {
    "duration": 4,
    "start_time": "2023-02-20T08:54:52.991Z"
   },
   {
    "duration": 313,
    "start_time": "2023-02-20T08:54:53.272Z"
   },
   {
    "duration": 3,
    "start_time": "2023-02-20T08:56:17.616Z"
   },
   {
    "duration": 126,
    "start_time": "2023-02-20T08:56:17.920Z"
   },
   {
    "duration": 4,
    "start_time": "2023-02-20T08:56:27.357Z"
   },
   {
    "duration": 114,
    "start_time": "2023-02-20T08:56:27.655Z"
   },
   {
    "duration": 3,
    "start_time": "2023-02-20T08:57:13.068Z"
   },
   {
    "duration": 24,
    "start_time": "2023-02-20T08:57:13.390Z"
   },
   {
    "duration": 3,
    "start_time": "2023-02-20T08:57:43.035Z"
   },
   {
    "duration": 126,
    "start_time": "2023-02-20T08:57:43.427Z"
   },
   {
    "duration": 3,
    "start_time": "2023-02-20T08:58:51.778Z"
   },
   {
    "duration": 114,
    "start_time": "2023-02-20T08:58:52.087Z"
   },
   {
    "duration": 2,
    "start_time": "2023-02-20T08:59:33.885Z"
   },
   {
    "duration": 115,
    "start_time": "2023-02-20T08:59:34.276Z"
   },
   {
    "duration": 7,
    "start_time": "2023-02-20T09:00:00.647Z"
   },
   {
    "duration": 136,
    "start_time": "2023-02-20T09:00:01.908Z"
   },
   {
    "duration": 3,
    "start_time": "2023-02-20T09:00:28.797Z"
   },
   {
    "duration": 106,
    "start_time": "2023-02-20T09:00:28.967Z"
   },
   {
    "duration": 3,
    "start_time": "2023-02-20T09:00:43.948Z"
   },
   {
    "duration": 34,
    "start_time": "2023-02-20T09:00:44.337Z"
   },
   {
    "duration": 2,
    "start_time": "2023-02-20T09:01:08.980Z"
   },
   {
    "duration": 21,
    "start_time": "2023-02-20T09:01:09.304Z"
   },
   {
    "duration": 3,
    "start_time": "2023-02-20T09:01:24.319Z"
   },
   {
    "duration": 23,
    "start_time": "2023-02-20T09:01:25.066Z"
   },
   {
    "duration": 11,
    "start_time": "2023-02-20T09:01:44.031Z"
   },
   {
    "duration": 18,
    "start_time": "2023-02-20T09:01:44.475Z"
   },
   {
    "duration": 3,
    "start_time": "2023-02-20T09:07:26.702Z"
   },
   {
    "duration": 32,
    "start_time": "2023-02-20T09:07:28.612Z"
   },
   {
    "duration": 3,
    "start_time": "2023-02-20T09:08:35.562Z"
   },
   {
    "duration": 16,
    "start_time": "2023-02-20T09:08:37.372Z"
   },
   {
    "duration": 3,
    "start_time": "2023-02-20T09:11:05.816Z"
   },
   {
    "duration": 14,
    "start_time": "2023-02-20T09:11:06.202Z"
   },
   {
    "duration": 2,
    "start_time": "2023-02-20T09:11:29.919Z"
   },
   {
    "duration": 132,
    "start_time": "2023-02-20T09:11:30.268Z"
   },
   {
    "duration": 3,
    "start_time": "2023-02-20T09:11:47.996Z"
   },
   {
    "duration": 14,
    "start_time": "2023-02-20T09:11:48.770Z"
   },
   {
    "duration": 2,
    "start_time": "2023-02-20T09:11:56.791Z"
   },
   {
    "duration": 15,
    "start_time": "2023-02-20T09:11:57.208Z"
   },
   {
    "duration": 3,
    "start_time": "2023-02-20T09:12:02.782Z"
   },
   {
    "duration": 13,
    "start_time": "2023-02-20T09:12:03.043Z"
   },
   {
    "duration": 2,
    "start_time": "2023-02-20T09:15:58.408Z"
   },
   {
    "duration": 104,
    "start_time": "2023-02-20T09:15:58.860Z"
   },
   {
    "duration": 2,
    "start_time": "2023-02-20T09:16:28.479Z"
   },
   {
    "duration": 116,
    "start_time": "2023-02-20T09:16:28.780Z"
   },
   {
    "duration": 3,
    "start_time": "2023-02-20T09:17:00.812Z"
   },
   {
    "duration": 41,
    "start_time": "2023-02-20T09:17:01.306Z"
   },
   {
    "duration": 2,
    "start_time": "2023-02-20T09:23:18.205Z"
   },
   {
    "duration": 23,
    "start_time": "2023-02-20T09:23:18.635Z"
   },
   {
    "duration": 3,
    "start_time": "2023-02-20T09:24:02.117Z"
   },
   {
    "duration": 15,
    "start_time": "2023-02-20T09:24:02.510Z"
   },
   {
    "duration": 3,
    "start_time": "2023-02-20T09:24:38.910Z"
   },
   {
    "duration": 100,
    "start_time": "2023-02-20T09:24:39.172Z"
   },
   {
    "duration": 5,
    "start_time": "2023-02-20T09:24:45.923Z"
   },
   {
    "duration": 17,
    "start_time": "2023-02-20T09:24:47.773Z"
   },
   {
    "duration": 8,
    "start_time": "2023-02-20T09:25:43.826Z"
   },
   {
    "duration": 95,
    "start_time": "2023-02-20T09:25:44.175Z"
   },
   {
    "duration": 3,
    "start_time": "2023-02-20T09:27:28.969Z"
   },
   {
    "duration": 14,
    "start_time": "2023-02-20T09:27:29.359Z"
   },
   {
    "duration": 2,
    "start_time": "2023-02-20T09:27:47.374Z"
   },
   {
    "duration": 96,
    "start_time": "2023-02-20T09:27:47.677Z"
   },
   {
    "duration": 3,
    "start_time": "2023-02-20T09:28:04.185Z"
   },
   {
    "duration": 15,
    "start_time": "2023-02-20T09:28:04.610Z"
   },
   {
    "duration": 3,
    "start_time": "2023-02-20T09:29:11.889Z"
   },
   {
    "duration": 15,
    "start_time": "2023-02-20T09:29:12.198Z"
   },
   {
    "duration": 3,
    "start_time": "2023-02-20T09:29:32.568Z"
   },
   {
    "duration": 145,
    "start_time": "2023-02-20T09:29:33.108Z"
   },
   {
    "duration": 2,
    "start_time": "2023-02-20T09:29:50.762Z"
   },
   {
    "duration": 13,
    "start_time": "2023-02-20T09:29:51.032Z"
   },
   {
    "duration": 3,
    "start_time": "2023-02-20T09:29:54.180Z"
   },
   {
    "duration": 91,
    "start_time": "2023-02-20T09:29:54.516Z"
   },
   {
    "duration": 3,
    "start_time": "2023-02-20T09:29:56.771Z"
   },
   {
    "duration": 14,
    "start_time": "2023-02-20T09:29:57.057Z"
   },
   {
    "duration": 2,
    "start_time": "2023-02-20T11:10:05.563Z"
   },
   {
    "duration": 14,
    "start_time": "2023-02-20T11:10:05.853Z"
   },
   {
    "duration": 14,
    "start_time": "2023-02-20T11:10:30.205Z"
   },
   {
    "duration": 11,
    "start_time": "2023-02-20T11:11:14.263Z"
   },
   {
    "duration": 17,
    "start_time": "2023-02-20T11:11:31.005Z"
   },
   {
    "duration": 11,
    "start_time": "2023-02-20T11:11:50.901Z"
   },
   {
    "duration": 11,
    "start_time": "2023-02-20T11:12:13.888Z"
   },
   {
    "duration": 2,
    "start_time": "2023-02-20T11:26:40.156Z"
   },
   {
    "duration": 119,
    "start_time": "2023-02-20T11:26:41.155Z"
   },
   {
    "duration": 3,
    "start_time": "2023-02-20T11:27:31.188Z"
   },
   {
    "duration": 31,
    "start_time": "2023-02-20T11:27:31.440Z"
   },
   {
    "duration": 2,
    "start_time": "2023-02-20T11:28:13.015Z"
   },
   {
    "duration": 108,
    "start_time": "2023-02-20T11:28:13.759Z"
   },
   {
    "duration": 3,
    "start_time": "2023-02-20T11:28:51.277Z"
   },
   {
    "duration": 110,
    "start_time": "2023-02-20T11:28:51.579Z"
   },
   {
    "duration": 3,
    "start_time": "2023-02-20T11:29:15.403Z"
   },
   {
    "duration": 57,
    "start_time": "2023-02-20T11:29:15.682Z"
   },
   {
    "duration": 3,
    "start_time": "2023-02-20T11:30:08.885Z"
   },
   {
    "duration": 118,
    "start_time": "2023-02-20T11:30:09.222Z"
   },
   {
    "duration": 3,
    "start_time": "2023-02-20T11:30:18.698Z"
   },
   {
    "duration": 23,
    "start_time": "2023-02-20T11:30:18.955Z"
   },
   {
    "duration": 2,
    "start_time": "2023-02-20T11:30:32.450Z"
   },
   {
    "duration": 144,
    "start_time": "2023-02-20T11:30:32.756Z"
   },
   {
    "duration": 2,
    "start_time": "2023-02-20T11:30:37.681Z"
   },
   {
    "duration": 99,
    "start_time": "2023-02-20T11:30:38.054Z"
   },
   {
    "duration": 3,
    "start_time": "2023-02-20T11:30:54.102Z"
   },
   {
    "duration": 43,
    "start_time": "2023-02-20T11:30:54.307Z"
   },
   {
    "duration": 3,
    "start_time": "2023-02-20T11:31:21.449Z"
   },
   {
    "duration": 35,
    "start_time": "2023-02-20T11:31:22.557Z"
   },
   {
    "duration": 3,
    "start_time": "2023-02-20T11:31:30.920Z"
   },
   {
    "duration": 109,
    "start_time": "2023-02-20T11:31:31.240Z"
   },
   {
    "duration": 2,
    "start_time": "2023-02-20T11:31:43.811Z"
   },
   {
    "duration": 47,
    "start_time": "2023-02-20T11:31:44.097Z"
   },
   {
    "duration": 2,
    "start_time": "2023-02-20T11:33:44.455Z"
   },
   {
    "duration": 103,
    "start_time": "2023-02-20T11:33:46.870Z"
   },
   {
    "duration": 2,
    "start_time": "2023-02-20T11:33:59.004Z"
   },
   {
    "duration": 31,
    "start_time": "2023-02-20T11:34:00.654Z"
   },
   {
    "duration": 3,
    "start_time": "2023-02-20T11:34:07.982Z"
   },
   {
    "duration": 40,
    "start_time": "2023-02-20T11:34:08.455Z"
   },
   {
    "duration": 3,
    "start_time": "2023-02-20T11:34:21.461Z"
   },
   {
    "duration": 28,
    "start_time": "2023-02-20T11:34:22.655Z"
   },
   {
    "duration": 4,
    "start_time": "2023-02-20T11:34:43.024Z"
   },
   {
    "duration": 25,
    "start_time": "2023-02-20T11:34:43.951Z"
   },
   {
    "duration": 568,
    "start_time": "2023-02-20T15:49:01.095Z"
   },
   {
    "duration": 3,
    "start_time": "2023-02-20T15:49:01.665Z"
   },
   {
    "duration": 7852,
    "start_time": "2023-02-20T15:49:01.670Z"
   },
   {
    "duration": 72,
    "start_time": "2023-02-20T15:49:09.524Z"
   },
   {
    "duration": 12,
    "start_time": "2023-02-20T15:49:09.598Z"
   },
   {
    "duration": 14,
    "start_time": "2023-02-20T15:49:09.612Z"
   },
   {
    "duration": 14,
    "start_time": "2023-02-20T15:49:09.628Z"
   },
   {
    "duration": 12,
    "start_time": "2023-02-20T15:49:09.644Z"
   },
   {
    "duration": 3,
    "start_time": "2023-02-20T15:49:09.658Z"
   },
   {
    "duration": 35,
    "start_time": "2023-02-20T15:49:09.665Z"
   },
   {
    "duration": 3,
    "start_time": "2023-02-20T15:49:09.702Z"
   },
   {
    "duration": 35,
    "start_time": "2023-02-20T15:49:09.707Z"
   },
   {
    "duration": 3,
    "start_time": "2023-02-20T15:49:09.743Z"
   },
   {
    "duration": 18,
    "start_time": "2023-02-20T15:49:09.748Z"
   },
   {
    "duration": 3,
    "start_time": "2023-02-20T15:49:09.768Z"
   },
   {
    "duration": 29,
    "start_time": "2023-02-20T15:49:09.772Z"
   },
   {
    "duration": 3,
    "start_time": "2023-02-20T15:49:09.802Z"
   },
   {
    "duration": 17,
    "start_time": "2023-02-20T15:49:09.807Z"
   },
   {
    "duration": 58,
    "start_time": "2023-02-20T18:46:40.467Z"
   },
   {
    "duration": 520,
    "start_time": "2023-02-20T18:46:47.055Z"
   },
   {
    "duration": 4,
    "start_time": "2023-02-20T18:46:47.577Z"
   },
   {
    "duration": 7809,
    "start_time": "2023-02-20T18:46:47.582Z"
   },
   {
    "duration": 64,
    "start_time": "2023-02-20T18:46:55.393Z"
   },
   {
    "duration": 11,
    "start_time": "2023-02-20T18:46:55.459Z"
   },
   {
    "duration": 11,
    "start_time": "2023-02-20T18:46:55.472Z"
   },
   {
    "duration": 12,
    "start_time": "2023-02-20T18:46:55.485Z"
   },
   {
    "duration": 11,
    "start_time": "2023-02-20T18:46:55.499Z"
   },
   {
    "duration": 16,
    "start_time": "2023-02-20T18:46:55.511Z"
   },
   {
    "duration": 11,
    "start_time": "2023-02-20T18:46:55.529Z"
   },
   {
    "duration": 3,
    "start_time": "2023-02-20T18:46:55.541Z"
   },
   {
    "duration": 36,
    "start_time": "2023-02-20T18:46:55.545Z"
   },
   {
    "duration": 3,
    "start_time": "2023-02-20T18:46:55.582Z"
   },
   {
    "duration": 16,
    "start_time": "2023-02-20T18:46:55.586Z"
   },
   {
    "duration": 3,
    "start_time": "2023-02-20T18:46:55.603Z"
   },
   {
    "duration": 24,
    "start_time": "2023-02-20T18:46:55.608Z"
   },
   {
    "duration": 2,
    "start_time": "2023-02-20T18:46:55.634Z"
   },
   {
    "duration": 28,
    "start_time": "2023-02-20T18:46:55.638Z"
   },
   {
    "duration": 13,
    "start_time": "2023-02-20T18:47:10.028Z"
   },
   {
    "duration": 32,
    "start_time": "2023-02-20T18:47:17.819Z"
   },
   {
    "duration": 14,
    "start_time": "2023-02-20T18:47:25.255Z"
   },
   {
    "duration": 2,
    "start_time": "2023-02-20T18:48:49.795Z"
   },
   {
    "duration": 152,
    "start_time": "2023-02-20T18:48:51.992Z"
   },
   {
    "duration": 3,
    "start_time": "2023-02-20T18:50:29.703Z"
   },
   {
    "duration": 259,
    "start_time": "2023-02-20T18:50:30.212Z"
   },
   {
    "duration": 3,
    "start_time": "2023-02-20T18:55:11.777Z"
   },
   {
    "duration": 162,
    "start_time": "2023-02-20T18:55:12.230Z"
   },
   {
    "duration": 3,
    "start_time": "2023-02-20T18:56:29.420Z"
   },
   {
    "duration": 93,
    "start_time": "2023-02-20T18:56:29.852Z"
   },
   {
    "duration": 3,
    "start_time": "2023-02-20T18:56:51.424Z"
   },
   {
    "duration": 35,
    "start_time": "2023-02-20T18:56:51.963Z"
   },
   {
    "duration": 2,
    "start_time": "2023-02-20T18:57:17.904Z"
   },
   {
    "duration": 38,
    "start_time": "2023-02-20T18:57:19.857Z"
   },
   {
    "duration": 3,
    "start_time": "2023-02-20T18:58:07.491Z"
   },
   {
    "duration": 92,
    "start_time": "2023-02-20T18:58:07.995Z"
   },
   {
    "duration": 3,
    "start_time": "2023-02-20T18:58:13.153Z"
   },
   {
    "duration": 33,
    "start_time": "2023-02-20T18:58:13.563Z"
   },
   {
    "duration": 2,
    "start_time": "2023-02-20T18:58:53.964Z"
   },
   {
    "duration": 105,
    "start_time": "2023-02-20T18:58:55.130Z"
   },
   {
    "duration": 3,
    "start_time": "2023-02-20T18:59:15.020Z"
   },
   {
    "duration": 19,
    "start_time": "2023-02-20T18:59:16.101Z"
   },
   {
    "duration": 3,
    "start_time": "2023-02-20T18:59:23.745Z"
   },
   {
    "duration": 32,
    "start_time": "2023-02-20T18:59:24.093Z"
   },
   {
    "duration": 3,
    "start_time": "2023-02-20T18:59:58.276Z"
   },
   {
    "duration": 32,
    "start_time": "2023-02-20T18:59:58.745Z"
   },
   {
    "duration": 3,
    "start_time": "2023-02-20T19:01:19.991Z"
   },
   {
    "duration": 95,
    "start_time": "2023-02-20T19:01:20.288Z"
   },
   {
    "duration": 3,
    "start_time": "2023-02-20T19:01:56.348Z"
   },
   {
    "duration": 107,
    "start_time": "2023-02-20T19:01:56.884Z"
   },
   {
    "duration": 3,
    "start_time": "2023-02-20T19:02:16.923Z"
   },
   {
    "duration": 94,
    "start_time": "2023-02-20T19:02:17.227Z"
   },
   {
    "duration": 3,
    "start_time": "2023-02-20T19:02:50.843Z"
   },
   {
    "duration": 97,
    "start_time": "2023-02-20T19:02:51.236Z"
   },
   {
    "duration": 3,
    "start_time": "2023-02-20T19:03:11.180Z"
   },
   {
    "duration": 99,
    "start_time": "2023-02-20T19:03:11.548Z"
   },
   {
    "duration": 3,
    "start_time": "2023-02-20T19:03:30.146Z"
   },
   {
    "duration": 97,
    "start_time": "2023-02-20T19:03:30.474Z"
   },
   {
    "duration": 3,
    "start_time": "2023-02-20T19:03:41.555Z"
   },
   {
    "duration": 88,
    "start_time": "2023-02-20T19:03:41.884Z"
   },
   {
    "duration": 2,
    "start_time": "2023-02-20T19:03:48.471Z"
   },
   {
    "duration": 26,
    "start_time": "2023-02-20T19:03:48.732Z"
   },
   {
    "duration": 3,
    "start_time": "2023-02-20T19:04:05.253Z"
   },
   {
    "duration": 106,
    "start_time": "2023-02-20T19:04:05.523Z"
   },
   {
    "duration": 3,
    "start_time": "2023-02-20T19:04:13.628Z"
   },
   {
    "duration": 37,
    "start_time": "2023-02-20T19:04:13.893Z"
   },
   {
    "duration": 2,
    "start_time": "2023-02-20T19:04:47.740Z"
   },
   {
    "duration": 90,
    "start_time": "2023-02-20T19:04:47.830Z"
   },
   {
    "duration": 3,
    "start_time": "2023-02-20T19:05:37.157Z"
   },
   {
    "duration": 98,
    "start_time": "2023-02-20T19:05:37.530Z"
   },
   {
    "duration": 2,
    "start_time": "2023-02-20T19:05:46.563Z"
   },
   {
    "duration": 116,
    "start_time": "2023-02-20T19:05:46.860Z"
   },
   {
    "duration": 3,
    "start_time": "2023-02-20T19:06:00.548Z"
   },
   {
    "duration": 99,
    "start_time": "2023-02-20T19:06:00.845Z"
   },
   {
    "duration": 2,
    "start_time": "2023-02-20T19:06:07.558Z"
   },
   {
    "duration": 222,
    "start_time": "2023-02-20T19:06:08.199Z"
   },
   {
    "duration": 3,
    "start_time": "2023-02-20T19:08:52.527Z"
   },
   {
    "duration": 93,
    "start_time": "2023-02-20T19:08:53.550Z"
   },
   {
    "duration": 2,
    "start_time": "2023-02-20T19:09:01.719Z"
   },
   {
    "duration": 378,
    "start_time": "2023-02-20T19:09:02.542Z"
   },
   {
    "duration": 2,
    "start_time": "2023-02-20T19:09:35.915Z"
   },
   {
    "duration": 44,
    "start_time": "2023-02-20T19:09:36.251Z"
   },
   {
    "duration": 3,
    "start_time": "2023-02-20T19:10:38.496Z"
   },
   {
    "duration": 105,
    "start_time": "2023-02-20T19:10:38.887Z"
   },
   {
    "duration": 2,
    "start_time": "2023-02-20T19:10:42.640Z"
   },
   {
    "duration": 20,
    "start_time": "2023-02-20T19:10:42.946Z"
   },
   {
    "duration": 2,
    "start_time": "2023-02-20T19:10:50.008Z"
   },
   {
    "duration": 92,
    "start_time": "2023-02-20T19:10:50.417Z"
   },
   {
    "duration": 3,
    "start_time": "2023-02-20T19:10:55.668Z"
   },
   {
    "duration": 65,
    "start_time": "2023-02-20T19:10:56.145Z"
   },
   {
    "duration": 3,
    "start_time": "2023-02-20T19:11:51.853Z"
   },
   {
    "duration": 95,
    "start_time": "2023-02-20T19:11:52.229Z"
   },
   {
    "duration": 2,
    "start_time": "2023-02-20T19:12:03.926Z"
   },
   {
    "duration": 90,
    "start_time": "2023-02-20T19:12:04.374Z"
   },
   {
    "duration": 2,
    "start_time": "2023-02-20T19:12:26.616Z"
   },
   {
    "duration": 22,
    "start_time": "2023-02-20T19:12:27.091Z"
   },
   {
    "duration": 2,
    "start_time": "2023-02-20T19:13:47.882Z"
   },
   {
    "duration": 91,
    "start_time": "2023-02-20T19:13:48.289Z"
   },
   {
    "duration": 2,
    "start_time": "2023-02-20T19:14:08.091Z"
   },
   {
    "duration": 89,
    "start_time": "2023-02-20T19:14:08.364Z"
   },
   {
    "duration": 3,
    "start_time": "2023-02-20T19:14:29.645Z"
   },
   {
    "duration": 100,
    "start_time": "2023-02-20T19:14:29.912Z"
   },
   {
    "duration": 3,
    "start_time": "2023-02-20T19:14:40.314Z"
   },
   {
    "duration": 24,
    "start_time": "2023-02-20T19:14:40.657Z"
   },
   {
    "duration": 3,
    "start_time": "2023-02-20T19:14:55.048Z"
   },
   {
    "duration": 98,
    "start_time": "2023-02-20T19:14:55.375Z"
   },
   {
    "duration": 3,
    "start_time": "2023-02-20T19:15:17.047Z"
   },
   {
    "duration": 86,
    "start_time": "2023-02-20T19:15:17.366Z"
   },
   {
    "duration": 3,
    "start_time": "2023-02-20T19:15:25.134Z"
   },
   {
    "duration": 87,
    "start_time": "2023-02-20T19:15:25.545Z"
   },
   {
    "duration": 3,
    "start_time": "2023-02-20T19:19:31.477Z"
   },
   {
    "duration": 20,
    "start_time": "2023-02-20T19:19:31.981Z"
   },
   {
    "duration": 3,
    "start_time": "2023-02-20T19:20:06.768Z"
   },
   {
    "duration": 20,
    "start_time": "2023-02-20T19:20:07.118Z"
   },
   {
    "duration": 3,
    "start_time": "2023-02-20T19:20:50.276Z"
   },
   {
    "duration": 16,
    "start_time": "2023-02-20T19:20:50.775Z"
   },
   {
    "duration": 4,
    "start_time": "2023-02-20T19:22:53.395Z"
   },
   {
    "duration": 34,
    "start_time": "2023-02-20T19:22:53.715Z"
   },
   {
    "duration": 4,
    "start_time": "2023-02-20T19:23:46.911Z"
   },
   {
    "duration": 22,
    "start_time": "2023-02-20T19:23:47.235Z"
   },
   {
    "duration": 2,
    "start_time": "2023-02-20T19:24:11.096Z"
   },
   {
    "duration": 90,
    "start_time": "2023-02-20T19:24:11.418Z"
   },
   {
    "duration": 3,
    "start_time": "2023-02-20T19:24:25.790Z"
   },
   {
    "duration": 92,
    "start_time": "2023-02-20T19:24:26.173Z"
   },
   {
    "duration": 3,
    "start_time": "2023-02-20T19:24:31.157Z"
   },
   {
    "duration": 92,
    "start_time": "2023-02-20T19:24:31.482Z"
   },
   {
    "duration": 3,
    "start_time": "2023-02-20T19:24:53.620Z"
   },
   {
    "duration": 100,
    "start_time": "2023-02-20T19:24:53.955Z"
   },
   {
    "duration": 3,
    "start_time": "2023-02-20T19:25:01.115Z"
   },
   {
    "duration": 106,
    "start_time": "2023-02-20T19:25:01.424Z"
   },
   {
    "duration": 3,
    "start_time": "2023-02-20T19:25:19.120Z"
   },
   {
    "duration": 90,
    "start_time": "2023-02-20T19:25:19.615Z"
   },
   {
    "duration": 3,
    "start_time": "2023-02-20T19:25:34.010Z"
   },
   {
    "duration": 26,
    "start_time": "2023-02-20T19:25:34.358Z"
   },
   {
    "duration": 3,
    "start_time": "2023-02-20T19:32:42.224Z"
   },
   {
    "duration": 39,
    "start_time": "2023-02-20T19:32:42.553Z"
   },
   {
    "duration": 3,
    "start_time": "2023-02-20T19:33:48.877Z"
   },
   {
    "duration": 38,
    "start_time": "2023-02-20T19:33:49.225Z"
   },
   {
    "duration": 3,
    "start_time": "2023-02-20T19:36:27.512Z"
   },
   {
    "duration": 94,
    "start_time": "2023-02-20T19:36:27.951Z"
   },
   {
    "duration": 3,
    "start_time": "2023-02-20T19:36:44.871Z"
   },
   {
    "duration": 97,
    "start_time": "2023-02-20T19:36:45.555Z"
   },
   {
    "duration": 3,
    "start_time": "2023-02-20T19:37:51.232Z"
   },
   {
    "duration": 38,
    "start_time": "2023-02-20T19:37:51.503Z"
   },
   {
    "duration": 4,
    "start_time": "2023-02-20T19:39:15.267Z"
   },
   {
    "duration": 87,
    "start_time": "2023-02-20T19:39:15.514Z"
   },
   {
    "duration": 3,
    "start_time": "2023-02-20T19:40:03.513Z"
   },
   {
    "duration": 822,
    "start_time": "2023-02-20T19:40:03.863Z"
   },
   {
    "duration": 3,
    "start_time": "2023-02-20T19:40:10.431Z"
   },
   {
    "duration": 50,
    "start_time": "2023-02-20T19:40:10.703Z"
   },
   {
    "duration": 4,
    "start_time": "2023-02-20T19:40:41.491Z"
   },
   {
    "duration": 98,
    "start_time": "2023-02-20T19:40:42.037Z"
   },
   {
    "duration": 3,
    "start_time": "2023-02-20T19:41:18.833Z"
   },
   {
    "duration": 96,
    "start_time": "2023-02-20T19:41:19.147Z"
   },
   {
    "duration": 4,
    "start_time": "2023-02-20T19:41:28.656Z"
   },
   {
    "duration": 93,
    "start_time": "2023-02-20T19:41:28.926Z"
   },
   {
    "duration": 3,
    "start_time": "2023-02-20T19:41:33.912Z"
   },
   {
    "duration": 93,
    "start_time": "2023-02-20T19:41:34.204Z"
   },
   {
    "duration": 3,
    "start_time": "2023-02-20T19:41:39.161Z"
   },
   {
    "duration": 40,
    "start_time": "2023-02-20T19:41:39.451Z"
   },
   {
    "duration": 3,
    "start_time": "2023-02-20T19:44:42.904Z"
   },
   {
    "duration": 39,
    "start_time": "2023-02-20T19:44:43.110Z"
   },
   {
    "duration": 3,
    "start_time": "2023-02-20T19:45:17.343Z"
   },
   {
    "duration": 20,
    "start_time": "2023-02-20T19:45:17.705Z"
   },
   {
    "duration": 3,
    "start_time": "2023-02-20T19:45:48.281Z"
   },
   {
    "duration": 99,
    "start_time": "2023-02-20T19:45:48.590Z"
   },
   {
    "duration": 3,
    "start_time": "2023-02-20T19:45:59.200Z"
   },
   {
    "duration": 23,
    "start_time": "2023-02-20T19:45:59.512Z"
   },
   {
    "duration": 4,
    "start_time": "2023-02-20T19:46:37.167Z"
   },
   {
    "duration": 24,
    "start_time": "2023-02-20T19:46:37.586Z"
   },
   {
    "duration": 3,
    "start_time": "2023-02-20T19:48:00.414Z"
   },
   {
    "duration": 108,
    "start_time": "2023-02-20T19:48:00.754Z"
   },
   {
    "duration": 3,
    "start_time": "2023-02-20T19:48:33.140Z"
   },
   {
    "duration": 121,
    "start_time": "2023-02-20T19:48:33.149Z"
   },
   {
    "duration": 3,
    "start_time": "2023-02-20T19:48:39.506Z"
   },
   {
    "duration": 95,
    "start_time": "2023-02-20T19:48:39.874Z"
   },
   {
    "duration": 3,
    "start_time": "2023-02-20T19:48:54.924Z"
   },
   {
    "duration": 97,
    "start_time": "2023-02-20T19:48:54.933Z"
   },
   {
    "duration": 4,
    "start_time": "2023-02-20T19:49:23.931Z"
   },
   {
    "duration": 117,
    "start_time": "2023-02-20T19:49:23.937Z"
   },
   {
    "duration": 3,
    "start_time": "2023-02-20T19:49:36.798Z"
   },
   {
    "duration": 23,
    "start_time": "2023-02-20T19:49:37.047Z"
   },
   {
    "duration": 3,
    "start_time": "2023-02-20T19:49:52.480Z"
   },
   {
    "duration": 21,
    "start_time": "2023-02-20T19:49:52.863Z"
   },
   {
    "duration": 3,
    "start_time": "2023-02-20T19:50:08.768Z"
   },
   {
    "duration": 101,
    "start_time": "2023-02-20T19:50:10.397Z"
   },
   {
    "duration": 3,
    "start_time": "2023-02-20T19:50:17.010Z"
   },
   {
    "duration": 23,
    "start_time": "2023-02-20T19:50:17.257Z"
   },
   {
    "duration": 4,
    "start_time": "2023-02-20T19:50:45.168Z"
   },
   {
    "duration": 129,
    "start_time": "2023-02-20T19:50:45.464Z"
   },
   {
    "duration": 3,
    "start_time": "2023-02-20T19:50:58.293Z"
   },
   {
    "duration": 21,
    "start_time": "2023-02-20T19:50:58.637Z"
   },
   {
    "duration": 3,
    "start_time": "2023-02-20T19:51:21.560Z"
   },
   {
    "duration": 21,
    "start_time": "2023-02-20T19:51:21.917Z"
   },
   {
    "duration": 3,
    "start_time": "2023-02-20T19:51:26.452Z"
   },
   {
    "duration": 22,
    "start_time": "2023-02-20T19:51:26.899Z"
   },
   {
    "duration": 3,
    "start_time": "2023-02-20T19:51:31.988Z"
   },
   {
    "duration": 19,
    "start_time": "2023-02-20T19:51:32.360Z"
   },
   {
    "duration": 3,
    "start_time": "2023-02-20T19:51:57.475Z"
   },
   {
    "duration": 20,
    "start_time": "2023-02-20T19:51:57.764Z"
   },
   {
    "duration": 470,
    "start_time": "2023-02-20T20:44:04.579Z"
   },
   {
    "duration": 4,
    "start_time": "2023-02-20T20:44:05.052Z"
   },
   {
    "duration": 7840,
    "start_time": "2023-02-20T20:44:05.058Z"
   },
   {
    "duration": 61,
    "start_time": "2023-02-20T20:44:12.900Z"
   },
   {
    "duration": 10,
    "start_time": "2023-02-20T20:44:12.963Z"
   },
   {
    "duration": 12,
    "start_time": "2023-02-20T20:44:12.975Z"
   },
   {
    "duration": 10,
    "start_time": "2023-02-20T20:44:12.989Z"
   },
   {
    "duration": 15,
    "start_time": "2023-02-20T20:44:13.001Z"
   },
   {
    "duration": 2,
    "start_time": "2023-02-20T20:44:13.017Z"
   },
   {
    "duration": 12,
    "start_time": "2023-02-20T20:44:13.020Z"
   },
   {
    "duration": 3,
    "start_time": "2023-02-20T20:44:13.033Z"
   },
   {
    "duration": 153,
    "start_time": "2023-02-20T20:44:13.037Z"
   },
   {
    "duration": 0,
    "start_time": "2023-02-20T20:44:13.192Z"
   },
   {
    "duration": 0,
    "start_time": "2023-02-20T20:44:13.193Z"
   },
   {
    "duration": 0,
    "start_time": "2023-02-20T20:44:13.194Z"
   },
   {
    "duration": 0,
    "start_time": "2023-02-20T20:44:13.195Z"
   },
   {
    "duration": 0,
    "start_time": "2023-02-20T20:44:13.196Z"
   },
   {
    "duration": 0,
    "start_time": "2023-02-20T20:44:13.197Z"
   },
   {
    "duration": 2,
    "start_time": "2023-02-20T20:44:46.782Z"
   },
   {
    "duration": 41,
    "start_time": "2023-02-20T20:44:47.084Z"
   },
   {
    "duration": 539,
    "start_time": "2023-02-20T20:45:19.213Z"
   },
   {
    "duration": 4,
    "start_time": "2023-02-20T20:45:19.754Z"
   },
   {
    "duration": 7448,
    "start_time": "2023-02-20T20:45:19.760Z"
   },
   {
    "duration": 43,
    "start_time": "2023-02-20T20:45:27.210Z"
   },
   {
    "duration": 10,
    "start_time": "2023-02-20T20:45:27.255Z"
   },
   {
    "duration": 10,
    "start_time": "2023-02-20T20:45:27.267Z"
   },
   {
    "duration": 11,
    "start_time": "2023-02-20T20:45:27.278Z"
   },
   {
    "duration": 10,
    "start_time": "2023-02-20T20:45:27.291Z"
   },
   {
    "duration": 2,
    "start_time": "2023-02-20T20:45:27.303Z"
   },
   {
    "duration": 28,
    "start_time": "2023-02-20T20:45:27.306Z"
   },
   {
    "duration": 3,
    "start_time": "2023-02-20T20:45:27.336Z"
   },
   {
    "duration": 40,
    "start_time": "2023-02-20T20:45:27.340Z"
   },
   {
    "duration": 3,
    "start_time": "2023-02-20T20:45:27.381Z"
   },
   {
    "duration": 16,
    "start_time": "2023-02-20T20:45:27.386Z"
   },
   {
    "duration": 4,
    "start_time": "2023-02-20T20:45:27.404Z"
   },
   {
    "duration": 27,
    "start_time": "2023-02-20T20:45:27.409Z"
   },
   {
    "duration": 2,
    "start_time": "2023-02-20T20:45:27.438Z"
   },
   {
    "duration": 16,
    "start_time": "2023-02-20T20:45:27.442Z"
   },
   {
    "duration": 541,
    "start_time": "2023-03-01T18:35:27.731Z"
   },
   {
    "duration": 4,
    "start_time": "2023-03-01T18:35:28.274Z"
   },
   {
    "duration": 7980,
    "start_time": "2023-03-01T18:35:28.279Z"
   },
   {
    "duration": 61,
    "start_time": "2023-03-01T18:35:36.261Z"
   },
   {
    "duration": 28,
    "start_time": "2023-03-01T18:35:36.324Z"
   },
   {
    "duration": 15,
    "start_time": "2023-03-01T18:35:36.354Z"
   },
   {
    "duration": 20,
    "start_time": "2023-03-01T18:35:36.371Z"
   },
   {
    "duration": 14,
    "start_time": "2023-03-01T18:35:36.393Z"
   },
   {
    "duration": 13,
    "start_time": "2023-03-01T18:35:36.410Z"
   },
   {
    "duration": 25,
    "start_time": "2023-03-01T18:35:36.427Z"
   },
   {
    "duration": 4,
    "start_time": "2023-03-01T18:35:36.454Z"
   },
   {
    "duration": 50,
    "start_time": "2023-03-01T18:35:36.460Z"
   },
   {
    "duration": 3,
    "start_time": "2023-03-01T18:35:36.512Z"
   },
   {
    "duration": 20,
    "start_time": "2023-03-01T18:35:36.517Z"
   },
   {
    "duration": 3,
    "start_time": "2023-03-01T18:35:36.539Z"
   },
   {
    "duration": 28,
    "start_time": "2023-03-01T18:35:36.544Z"
   },
   {
    "duration": 3,
    "start_time": "2023-03-01T18:35:36.574Z"
   },
   {
    "duration": 34,
    "start_time": "2023-03-01T18:35:36.578Z"
   }
  ],
  "kernelspec": {
   "display_name": "Python 3 (ipykernel)",
   "language": "python",
   "name": "python3"
  },
  "language_info": {
   "codemirror_mode": {
    "name": "ipython",
    "version": 3
   },
   "file_extension": ".py",
   "mimetype": "text/x-python",
   "name": "python",
   "nbconvert_exporter": "python",
   "pygments_lexer": "ipython3",
   "version": "3.9.5"
  },
  "toc": {
   "base_numbering": 1,
   "nav_menu": {},
   "number_sections": true,
   "sideBar": true,
   "skip_h1_title": true,
   "title_cell": "Table of Contents",
   "title_sidebar": "Contents",
   "toc_cell": false,
   "toc_position": {
    "height": "calc(100% - 180px)",
    "left": "10px",
    "top": "150px",
    "width": "165px"
   },
   "toc_section_display": true,
   "toc_window_display": true
  }
 },
 "nbformat": 4,
 "nbformat_minor": 2
}
